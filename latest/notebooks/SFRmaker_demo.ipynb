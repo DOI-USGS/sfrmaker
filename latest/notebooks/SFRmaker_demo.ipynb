{
 "cells": [
  {
   "cell_type": "markdown",
   "metadata": {},
   "source": [
    "# Basic usage of SFRmaker in a scripting context\n",
    "This example illustrates basic usage of SFRmaker in a scripting context. For examples of using SFRmaker with a configuration file, see the MERAS and Tyler Forks examples."
   ]
  },
  {
   "cell_type": "code",
   "execution_count": 1,
   "metadata": {
    "execution": {
     "iopub.execute_input": "2025-07-11T20:17:09.484150Z",
     "iopub.status.busy": "2025-07-11T20:17:09.483978Z",
     "iopub.status.idle": "2025-07-11T20:17:10.568216Z",
     "shell.execute_reply": "2025-07-11T20:17:10.567707Z"
    }
   },
   "outputs": [],
   "source": [
    "import numpy as np\n",
    "import matplotlib.pyplot as plt\n",
    "import flopy\n",
    "import sfrmaker"
   ]
  },
  {
   "cell_type": "markdown",
   "metadata": {},
   "source": [
    "### Input requirements\n",
    "The most basic input requirements of SFRmaker are hydrography and a model grid. Optionally, a model and a DEM can be input, as demonstrated below. See the [documentation](https://aleaf.github.io/sfrmaker/inputs.html) for a more detailed description of inputs.\n",
    "\n",
    "#### Hydrography\n",
    "In this example, we will use data that has been downloaded from [NHDPlus](https://nhdplus.com/NHDPlus/NHDPlusV2_data.php). The original file structure in the download has been maintained, allowing us to simply supply SFRmaker with a path to the NHDPlus files:"
   ]
  },
  {
   "cell_type": "code",
   "execution_count": 2,
   "metadata": {
    "execution": {
     "iopub.execute_input": "2025-07-11T20:17:10.570427Z",
     "iopub.status.busy": "2025-07-11T20:17:10.569931Z",
     "iopub.status.idle": "2025-07-11T20:17:10.572461Z",
     "shell.execute_reply": "2025-07-11T20:17:10.572074Z"
    }
   },
   "outputs": [],
   "source": [
    "NHDPlus_paths = '../tylerforks/NHDPlus/'"
   ]
  },
  {
   "cell_type": "markdown",
   "metadata": {},
   "source": [
    "If we were dealing with more than one drainage basin, the NHDPlus file paths could be included in a list:"
   ]
  },
  {
   "cell_type": "code",
   "execution_count": 3,
   "metadata": {
    "execution": {
     "iopub.execute_input": "2025-07-11T20:17:10.574056Z",
     "iopub.status.busy": "2025-07-11T20:17:10.573874Z",
     "iopub.status.idle": "2025-07-11T20:17:10.576199Z",
     "shell.execute_reply": "2025-07-11T20:17:10.575809Z"
    }
   },
   "outputs": [],
   "source": [
    "NHDPlus_paths_list = ['/NHDPlusGL/NHDPlus04/',\n",
    "                      '/NHDPlusMS/NHDPlus07/']"
   ]
  },
  {
   "cell_type": "markdown",
   "metadata": {},
   "source": [
    "### Creating a ``Lines`` instance from NHDPlus\n",
    "The ``sfrmaker.Lines`` class includes functionality for reading and processing hydrography flowlines. This example shows how to create a ``Lines`` instance from NHDPlus data.\n",
    "\n",
    "For large hydrography datasets, it is advantageous to filter the data when it is read in. The ``filter`` argument to ``sfrmaker.Lines`` accepts a shapefile path or tuple of bounding box coordinates. In either case, a bounding box tuple is created and passed to the ``filter`` method in the [``fiona`` package](https://fiona.readthedocs.io/en/latest/manual.html), which is fast."
   ]
  },
  {
   "cell_type": "code",
   "execution_count": 4,
   "metadata": {
    "execution": {
     "iopub.execute_input": "2025-07-11T20:17:10.577956Z",
     "iopub.status.busy": "2025-07-11T20:17:10.577615Z",
     "iopub.status.idle": "2025-07-11T20:17:10.705667Z",
     "shell.execute_reply": "2025-07-11T20:17:10.705163Z"
    }
   },
   "outputs": [
    {
     "name": "stdout",
     "output_type": "stream",
     "text": [
      "\n",
      "loading NHDPlus v2 hydrography data...\n",
      "for basins:\n",
      "../tylerforks/NHDPlus/\n",
      "\n",
      "load finished in 0.09s\n",
      "\n",
      "Getting routing information from NHDPlus Plusflow table...\n",
      "finished in 0.03s\n",
      "\n"
     ]
    }
   ],
   "source": [
    "lns = sfrmaker.Lines.from_nhdplus_v2(NHDPlus_paths='../tylerforks/NHDPlus/',\n",
    "                            bbox_filter='../tylerforks/grid.shp')"
   ]
  },
  {
   "cell_type": "markdown",
   "metadata": {},
   "source": [
    "Alternatively, ``sfrmaker.Lines`` can be instantiated with separate arguments for each NHDPlus file used:"
   ]
  },
  {
   "cell_type": "code",
   "execution_count": 5,
   "metadata": {
    "execution": {
     "iopub.execute_input": "2025-07-11T20:17:10.735028Z",
     "iopub.status.busy": "2025-07-11T20:17:10.734324Z",
     "iopub.status.idle": "2025-07-11T20:17:10.807192Z",
     "shell.execute_reply": "2025-07-11T20:17:10.806630Z"
    }
   },
   "outputs": [
    {
     "name": "stdout",
     "output_type": "stream",
     "text": [
      "\n",
      "loading NHDPlus v2 hydrography data...\n",
      "\n",
      "load finished in 0.03s\n",
      "\n",
      "Getting routing information from NHDPlus Plusflow table...\n",
      "finished in 0.03s\n",
      "\n"
     ]
    }
   ],
   "source": [
    "lines = sfrmaker.Lines.from_nhdplus_v2(NHDFlowlines='../tylerforks/NHDPlus/NHDSnapshot/Hydrography/NHDFlowline.shp',\n",
    "                                       PlusFlowlineVAA='../tylerforks/NHDPlus/NHDPlusAttributes/PlusFlowlineVAA.dbf',\n",
    "                                       PlusFlow='../tylerforks/NHDPlus/NHDPlusAttributes/PlusFlow.dbf',\n",
    "                                       elevslope='../tylerforks/NHDPlus/NHDPlusAttributes/elevslope.dbf',\n",
    "                                       bbox_filter=(-90.625, 46.3788, -90.4634, 46.4586))"
   ]
  },
  {
   "cell_type": "markdown",
   "metadata": {},
   "source": [
    "### Creating a ``Lines`` instance from custom hydrography\n",
    "Alternatively, a ``Lines`` instance can be created from any hydrography that includes the pertinent attribute fields, which must be specified:"
   ]
  },
  {
   "cell_type": "code",
   "execution_count": 6,
   "metadata": {
    "execution": {
     "iopub.execute_input": "2025-07-11T20:17:10.809300Z",
     "iopub.status.busy": "2025-07-11T20:17:10.808853Z",
     "iopub.status.idle": "2025-07-11T20:17:11.714314Z",
     "shell.execute_reply": "2025-07-11T20:17:11.713778Z"
    }
   },
   "outputs": [],
   "source": [
    "custom_lines = sfrmaker.Lines.from_shapefile(shapefile='../meras/flowlines.shp',\n",
    "                                             id_column='COMID',  # arguments to sfrmaker.Lines.from_shapefile\n",
    "                                             routing_column='tocomid',\n",
    "                                             width1_column='width1',\n",
    "                                             width2_column='width2',\n",
    "                                             up_elevation_column='elevupsmo',\n",
    "                                             dn_elevation_column='elevdnsmo',\n",
    "                                             name_column='GNIS_NAME',\n",
    "                                             attr_length_units='feet',  # units of source data\n",
    "                                             attr_height_units='feet',  # units of source data\n",
    "                                             )"
   ]
  },
  {
   "cell_type": "markdown",
   "metadata": {},
   "source": [
    "### Specifying a model grid from a flopy `StructuredGrid` instance\n",
    "The next step is to specify a model grid. One option is to specify a flopy `StructuredGrid` instance. SFRmaker will then use this internally to create an instance of its own `StructuredGrid` class. In this case, the row and column spacing must be provided in the units of the projected coordinate reference system (CRS) that the model is in, which is typically meters. In this case, our model grid spacing is 250 feet, so we have to convert. \n",
    "\n",
    "Specifying a CRS (via the ``crs`` argument) is also important, as it allows SFRmaker to automatically reproject any input data to the same CRS as the model grid. [The best way to do this is with an EPSG code](https://proj.org/faq.html#what-is-the-best-format-for-describing-coordinate-reference-systems), as shown below.\n",
    "\n",
    "See the flopy documentation for more details about `StructuredGrid`."
   ]
  },
  {
   "cell_type": "code",
   "execution_count": 7,
   "metadata": {
    "execution": {
     "iopub.execute_input": "2025-07-11T20:17:11.716317Z",
     "iopub.status.busy": "2025-07-11T20:17:11.716034Z",
     "iopub.status.idle": "2025-07-11T20:17:11.719422Z",
     "shell.execute_reply": "2025-07-11T20:17:11.718954Z"
    }
   },
   "outputs": [],
   "source": [
    "delr = np.array([250 * 0.3048] * 160)  # cell spacing along a row\n",
    "delc = np.array([250 * 0.3048] * 111)  # cell spacing along a column\n",
    "\n",
    "flopy_grid = flopy.discretization.StructuredGrid(delr=delr, delc=delc,\n",
    "                                                 xoff=682688, yoff=5139052,  # lower left corner of model grid\n",
    "                                                 angrot=0,  # grid is unrotated\n",
    "                                                 # projected coordinate system of model (UTM NAD27 zone 15 North)\n",
    "                                                 crs=26715\n",
    "                                                 )"
   ]
  },
  {
   "cell_type": "markdown",
   "metadata": {},
   "source": [
    "### Specifying a model grid from a shapefile\n",
    "Another option is to create an SFRmaker `StructuredGrid` directly using a shapefile. While the basic underpinings are in place for SFRmaker to support unstructured grids, this option hasn't been fully implemented yet.\n",
    "\n",
    "Attribute fields with row and column information must be specified. An polygon defining the area where the SFR network will be created can optionally be specified here, or later in the creation of ``SFRData`` (see below)."
   ]
  },
  {
   "cell_type": "code",
   "execution_count": 8,
   "metadata": {
    "execution": {
     "iopub.execute_input": "2025-07-11T20:17:11.721129Z",
     "iopub.status.busy": "2025-07-11T20:17:11.720744Z",
     "iopub.status.idle": "2025-07-11T20:17:12.733935Z",
     "shell.execute_reply": "2025-07-11T20:17:12.733337Z"
    }
   },
   "outputs": [
    {
     "name": "stdout",
     "output_type": "stream",
     "text": [
      "\n",
      "reading ../tylerforks/grid.shp...\n"
     ]
    },
    {
     "name": "stdout",
     "output_type": "stream",
     "text": [
      "--> building dataframe... (may take a while for large shapefiles)\n"
     ]
    },
    {
     "name": "stdout",
     "output_type": "stream",
     "text": [
      "\n",
      "reading ../tylerforks/active_area.shp...\n",
      "--> building dataframe... (may take a while for large shapefiles)\n"
     ]
    }
   ],
   "source": [
    "grid = sfrmaker.StructuredGrid.from_shapefile(shapefile='../tylerforks/grid.shp',\n",
    "                                              icol='i',  # attribute field with row information\n",
    "                                              jcol='j',  # attribute field with column information\n",
    "                                              active_area='../tylerforks/active_area.shp'\n",
    "                                              )"
   ]
  },
  {
   "cell_type": "markdown",
   "metadata": {},
   "source": [
    "With specification of ``active_area``, the grid created above has an **``isfr``** array attribute designating which cells can have SFR:"
   ]
  },
  {
   "cell_type": "code",
   "execution_count": 9,
   "metadata": {
    "execution": {
     "iopub.execute_input": "2025-07-11T20:17:12.735693Z",
     "iopub.status.busy": "2025-07-11T20:17:12.735357Z",
     "iopub.status.idle": "2025-07-11T20:17:12.837029Z",
     "shell.execute_reply": "2025-07-11T20:17:12.836465Z"
    }
   },
   "outputs": [
    {
     "data": {
      "text/plain": [
       "<matplotlib.image.AxesImage at 0x7f975e0806e0>"
      ]
     },
     "execution_count": 9,
     "metadata": {},
     "output_type": "execute_result"
    },
    {
     "data": {
      "image/png": "[encoded data removed]",
      "text/plain": [
       "<Figure size 640x480 with 1 Axes>"
      ]
     },
     "metadata": {},
     "output_type": "display_data"
    }
   ],
   "source": [
    "plt.imshow(grid.isfr, interpolation='nearest')"
   ]
  },
  {
   "cell_type": "markdown",
   "metadata": {},
   "source": [
    "### Using the ``modelgrid`` attached to a flopy model\n",
    "If no grid is supplied as input, SFRmaker will try to use ``modelgrid`` attribute attached to a supplied flopy model instance. This only works if ``modelgrid`` is valid. Loading a flopy model with a valid model grid requires the grid information to be specified in the namefile header, and that the model be in the same units as the projected CRS. See the flopy documentation for more details"
   ]
  },
  {
   "cell_type": "markdown",
   "metadata": {},
   "source": [
    "### Specifying a model\n",
    "While a model is not required to run SFRmaker, specifying a model is advantageous in that it allows SFRmaker to assign valid model layers for reaches. Models are specified as flopy model instances, which can be loaded or created from scratch (see the flopy documentation). In this case, we are loading a model:"
   ]
  },
  {
   "cell_type": "code",
   "execution_count": 10,
   "metadata": {
    "execution": {
     "iopub.execute_input": "2025-07-11T20:17:12.838717Z",
     "iopub.status.busy": "2025-07-11T20:17:12.838541Z",
     "iopub.status.idle": "2025-07-11T20:17:12.921919Z",
     "shell.execute_reply": "2025-07-11T20:17:12.921403Z"
    }
   },
   "outputs": [
    {
     "data": {
      "text/plain": [
       "MODFLOW 5 layer(s) 111 row(s) 160 column(s) 1 stress period(s)"
      ]
     },
     "execution_count": 10,
     "metadata": {},
     "output_type": "execute_result"
    }
   ],
   "source": [
    "m = flopy.modflow.Modflow.load('tf.nam', model_ws='../tylerforks/tylerforks')\n",
    "m"
   ]
  },
  {
   "cell_type": "markdown",
   "metadata": {},
   "source": [
    "### Creating an SFRData instance\n",
    "The ``sfrmaker.SFRData`` class is the primary object for creating or modifying an SFR dataset. A ``SFRData`` instance can be created from the ``Lines`` class using the ``to_sfr()`` method.\n",
    "\n",
    "Either a flopy ``StructuredGrid`` or sfrmaker ``StructuredGrid`` can be supplied. While MODFLOW and flopy support specification of length units, these aren't always specified in the model input files, so it is good practice to specifiy the units explicitly to SFRmaker."
   ]
  },
  {
   "cell_type": "code",
   "execution_count": 11,
   "metadata": {
    "execution": {
     "iopub.execute_input": "2025-07-11T20:17:12.923568Z",
     "iopub.status.busy": "2025-07-11T20:17:12.923398Z",
     "iopub.status.idle": "2025-07-11T20:17:14.610776Z",
     "shell.execute_reply": "2025-07-11T20:17:14.610241Z"
    }
   },
   "outputs": [
    {
     "name": "stdout",
     "output_type": "stream",
     "text": [
      "\n",
      "SFRmaker version 0.12.1.post52.dev0+g4339462\n",
      "\n",
      "Creating sfr dataset...\n",
      "\n",
      "Creating grid class instance from flopy Grid instance...\n"
     ]
    },
    {
     "name": "stdout",
     "output_type": "stream",
     "text": [
      "grid class created in 0.40s\n",
      "\n",
      "Model grid information\n",
      "structured grid\n",
      "nnodes: 17,760\n",
      "nlay: 1\n",
      "nrow: 111\n",
      "ncol: 160\n",
      "model length units: undefined\n",
      "crs: EPSG:26715\n",
      "bounds: 682688.00, 5139052.00, 694880.00, 5147510.20\n",
      "active area defined by: all cells\n",
      "\n",
      "MODFLOW 5 layer(s) 111 row(s) 160 column(s) 1 stress period(s)\n",
      "\n",
      "reprojecting hydrography from\n",
      "EPSG:4269\n",
      "to\n",
      "EPSG:26715\n",
      "\n",
      "\n",
      "Culling hydrography to active area...\n",
      "starting lines: 45\n",
      "remaining lines: 42\n",
      "finished in 0.00s\n",
      "\n",
      "\n",
      "Intersecting 42 flowlines with 17,760 grid cells...\n",
      "\n",
      "Building spatial index...\n"
     ]
    },
    {
     "name": "stdout",
     "output_type": "stream",
     "text": [
      "finished in 0.70s\n",
      "\n",
      "Intersecting 42 features...\n",
      "\r",
      "1\r",
      "2\r",
      "3\r",
      "4\r",
      "5\r",
      "6\r",
      "7\r",
      "8\r",
      "9\r",
      "10\r",
      "11\r",
      "12\r",
      "13\r",
      "14\r",
      "15\r",
      "16\r",
      "17\r",
      "18\r",
      "19\r",
      "20\r",
      "21\r",
      "22\r",
      "23\r",
      "24\r",
      "25\r",
      "26\r",
      "27\r",
      "28\r",
      "29\r",
      "30\r",
      "31\r",
      "32\r",
      "33\r",
      "34\r",
      "35\r",
      "36\r",
      "37\r",
      "38\r",
      "39\r",
      "40\r",
      "41\r",
      "42\n",
      "finished in 0.08s\n",
      "\n",
      "Setting up reach data... (may take a few minutes for large grids)\n"
     ]
    },
    {
     "name": "stdout",
     "output_type": "stream",
     "text": [
      "finished in 0.27s\n",
      "\n",
      "Computing widths...\n",
      "\n",
      "Dropping 48 reaches with length < 12.50 feet...\n",
      "\n",
      "Repairing routing connections...\n",
      "enforcing best segment numbering...\n",
      "\n",
      "Setting up segment data...\n",
      "Model grid information\n",
      "structured grid\n",
      "nnodes: 17,760\n",
      "nlay: 1\n",
      "nrow: 111\n",
      "ncol: 160\n",
      "model length units: undefined\n",
      "crs: EPSG:26715\n",
      "bounds: 682688.00, 5139052.00, 694880.00, 5147510.20\n",
      "active area defined by: all cells\n",
      "\n",
      "\n",
      "Time to create sfr dataset: 1.68s\n",
      "\n"
     ]
    }
   ],
   "source": [
    "sfrdata = lines.to_sfr(grid=flopy_grid, model=m, model_length_units='feet')"
   ]
  },
  {
   "cell_type": "markdown",
   "metadata": {},
   "source": [
    "### The ``SFRData`` class\n",
    "Internally, the SFRData class mostly uses the data model for the MODFLOW-2005 style SFR2 package (which includes MODFLOW-NWT), which organizes the input into segments and reaches. Segment and reach data are stored in the ``reach_data`` and ``segment_data`` attribute DataFrames. In addition to the MODFLOW-2005 data, reach numbers and their routing connections (as needed for MODFLOW-6) are also stored. On writing of SFR package input, MODFLOW-6 style input can be created via the ``sfrmaker.mf5to6`` module."
   ]
  },
  {
   "cell_type": "code",
   "execution_count": 12,
   "metadata": {
    "execution": {
     "iopub.execute_input": "2025-07-11T20:17:14.612755Z",
     "iopub.status.busy": "2025-07-11T20:17:14.612422Z",
     "iopub.status.idle": "2025-07-11T20:17:14.615669Z",
     "shell.execute_reply": "2025-07-11T20:17:14.615269Z"
    }
   },
   "outputs": [],
   "source": [
    "sfrdata.reach_data.loc[sfrdata.reach_data['rno'] == 1, 'strhc1'] = 5"
   ]
  },
  {
   "cell_type": "code",
   "execution_count": 13,
   "metadata": {
    "execution": {
     "iopub.execute_input": "2025-07-11T20:17:14.617089Z",
     "iopub.status.busy": "2025-07-11T20:17:14.616934Z",
     "iopub.status.idle": "2025-07-11T20:17:14.630577Z",
     "shell.execute_reply": "2025-07-11T20:17:14.630206Z"
    }
   },
   "outputs": [
    {
     "data": {
      "text/html": [
       "<div>\n",
       "<style scoped>\n",
       "    .dataframe tbody tr th:only-of-type {\n",
       "        vertical-align: middle;\n",
       "    }\n",
       "\n",
       "    .dataframe tbody tr th {\n",
       "        vertical-align: top;\n",
       "    }\n",
       "\n",
       "    .dataframe thead th {\n",
       "        text-align: right;\n",
       "    }\n",
       "</style>\n",
       "<table border=\"1\" class=\"dataframe\">\n",
       "  <thead>\n",
       "    <tr style=\"text-align: right;\">\n",
       "      <th></th>\n",
       "      <th>rno</th>\n",
       "      <th>node</th>\n",
       "      <th>k</th>\n",
       "      <th>i</th>\n",
       "      <th>j</th>\n",
       "      <th>iseg</th>\n",
       "      <th>ireach</th>\n",
       "      <th>rchlen</th>\n",
       "      <th>width</th>\n",
       "      <th>slope</th>\n",
       "      <th>...</th>\n",
       "      <th>thts</th>\n",
       "      <th>thti</th>\n",
       "      <th>eps</th>\n",
       "      <th>uhc</th>\n",
       "      <th>outreach</th>\n",
       "      <th>outseg</th>\n",
       "      <th>asum</th>\n",
       "      <th>line_id</th>\n",
       "      <th>name</th>\n",
       "      <th>geometry</th>\n",
       "    </tr>\n",
       "  </thead>\n",
       "  <tbody>\n",
       "    <tr>\n",
       "      <th>511</th>\n",
       "      <td>1</td>\n",
       "      <td>17714</td>\n",
       "      <td>0</td>\n",
       "      <td>110</td>\n",
       "      <td>114</td>\n",
       "      <td>1</td>\n",
       "      <td>1</td>\n",
       "      <td>208.807938</td>\n",
       "      <td>1.000000</td>\n",
       "      <td>0.127779</td>\n",
       "      <td>...</td>\n",
       "      <td>0.0</td>\n",
       "      <td>0.0</td>\n",
       "      <td>0.0</td>\n",
       "      <td>0.0</td>\n",
       "      <td>2</td>\n",
       "      <td>4</td>\n",
       "      <td>31.822330</td>\n",
       "      <td>1815013</td>\n",
       "      <td>None</td>\n",
       "      <td>LINESTRING (691394.6396657812 5139052, 691410....</td>\n",
       "    </tr>\n",
       "    <tr>\n",
       "      <th>512</th>\n",
       "      <td>2</td>\n",
       "      <td>17715</td>\n",
       "      <td>0</td>\n",
       "      <td>110</td>\n",
       "      <td>115</td>\n",
       "      <td>1</td>\n",
       "      <td>2</td>\n",
       "      <td>294.098938</td>\n",
       "      <td>1.261243</td>\n",
       "      <td>0.060563</td>\n",
       "      <td>...</td>\n",
       "      <td>0.0</td>\n",
       "      <td>0.0</td>\n",
       "      <td>0.0</td>\n",
       "      <td>0.0</td>\n",
       "      <td>3</td>\n",
       "      <td>4</td>\n",
       "      <td>108.465340</td>\n",
       "      <td>1815013</td>\n",
       "      <td>None</td>\n",
       "      <td>LINESTRING (691451 5139079.028908214, 691471.0...</td>\n",
       "    </tr>\n",
       "    <tr>\n",
       "      <th>513</th>\n",
       "      <td>3</td>\n",
       "      <td>17716</td>\n",
       "      <td>0</td>\n",
       "      <td>110</td>\n",
       "      <td>116</td>\n",
       "      <td>1</td>\n",
       "      <td>3</td>\n",
       "      <td>41.622536</td>\n",
       "      <td>1.531957</td>\n",
       "      <td>0.333944</td>\n",
       "      <td>...</td>\n",
       "      <td>0.0</td>\n",
       "      <td>0.0</td>\n",
       "      <td>0.0</td>\n",
       "      <td>0.0</td>\n",
       "      <td>4</td>\n",
       "      <td>4</td>\n",
       "      <td>159.629288</td>\n",
       "      <td>1815013</td>\n",
       "      <td>None</td>\n",
       "      <td>LINESTRING (691527.2 5139123.064392628, 691538...</td>\n",
       "    </tr>\n",
       "    <tr>\n",
       "      <th>514</th>\n",
       "      <td>4</td>\n",
       "      <td>17556</td>\n",
       "      <td>0</td>\n",
       "      <td>109</td>\n",
       "      <td>116</td>\n",
       "      <td>1</td>\n",
       "      <td>4</td>\n",
       "      <td>220.366440</td>\n",
       "      <td>1.714090</td>\n",
       "      <td>0.092205</td>\n",
       "      <td>...</td>\n",
       "      <td>0.0</td>\n",
       "      <td>0.0</td>\n",
       "      <td>0.0</td>\n",
       "      <td>0.0</td>\n",
       "      <td>5</td>\n",
       "      <td>4</td>\n",
       "      <td>199.556412</td>\n",
       "      <td>1815013</td>\n",
       "      <td>None</td>\n",
       "      <td>LINESTRING (691538.8006061709 5139128.2, 69156...</td>\n",
       "    </tr>\n",
       "    <tr>\n",
       "      <th>515</th>\n",
       "      <td>5</td>\n",
       "      <td>17557</td>\n",
       "      <td>0</td>\n",
       "      <td>109</td>\n",
       "      <td>117</td>\n",
       "      <td>1</td>\n",
       "      <td>5</td>\n",
       "      <td>162.617325</td>\n",
       "      <td>1.950304</td>\n",
       "      <td>0.097331</td>\n",
       "      <td>...</td>\n",
       "      <td>0.0</td>\n",
       "      <td>0.0</td>\n",
       "      <td>0.0</td>\n",
       "      <td>0.0</td>\n",
       "      <td>6</td>\n",
       "      <td>4</td>\n",
       "      <td>257.923126</td>\n",
       "      <td>1815013</td>\n",
       "      <td>None</td>\n",
       "      <td>LINESTRING (691603.4 5139143.66283342, 691624....</td>\n",
       "    </tr>\n",
       "  </tbody>\n",
       "</table>\n",
       "<p>5 rows × 23 columns</p>\n",
       "</div>"
      ],
      "text/plain": [
       "     rno   node  k    i    j  iseg  ireach      rchlen     width     slope  \\\n",
       "511    1  17714  0  110  114     1       1  208.807938  1.000000  0.127779   \n",
       "512    2  17715  0  110  115     1       2  294.098938  1.261243  0.060563   \n",
       "513    3  17716  0  110  116     1       3   41.622536  1.531957  0.333944   \n",
       "514    4  17556  0  109  116     1       4  220.366440  1.714090  0.092205   \n",
       "515    5  17557  0  109  117     1       5  162.617325  1.950304  0.097331   \n",
       "\n",
       "     ...  thts  thti  eps  uhc  outreach  outseg        asum  line_id  name  \\\n",
       "511  ...   0.0   0.0  0.0  0.0         2       4   31.822330  1815013  None   \n",
       "512  ...   0.0   0.0  0.0  0.0         3       4  108.465340  1815013  None   \n",
       "513  ...   0.0   0.0  0.0  0.0         4       4  159.629288  1815013  None   \n",
       "514  ...   0.0   0.0  0.0  0.0         5       4  199.556412  1815013  None   \n",
       "515  ...   0.0   0.0  0.0  0.0         6       4  257.923126  1815013  None   \n",
       "\n",
       "                                              geometry  \n",
       "511  LINESTRING (691394.6396657812 5139052, 691410....  \n",
       "512  LINESTRING (691451 5139079.028908214, 691471.0...  \n",
       "513  LINESTRING (691527.2 5139123.064392628, 691538...  \n",
       "514  LINESTRING (691538.8006061709 5139128.2, 69156...  \n",
       "515  LINESTRING (691603.4 5139143.66283342, 691624....  \n",
       "\n",
       "[5 rows x 23 columns]"
      ]
     },
     "execution_count": 13,
     "metadata": {},
     "output_type": "execute_result"
    }
   ],
   "source": [
    "sfrdata.reach_data.head()"
   ]
  },
  {
   "cell_type": "code",
   "execution_count": 14,
   "metadata": {
    "execution": {
     "iopub.execute_input": "2025-07-11T20:17:14.632149Z",
     "iopub.status.busy": "2025-07-11T20:17:14.631814Z",
     "iopub.status.idle": "2025-07-11T20:17:14.644759Z",
     "shell.execute_reply": "2025-07-11T20:17:14.644382Z"
    }
   },
   "outputs": [
    {
     "data": {
      "text/html": [
       "<div>\n",
       "<style scoped>\n",
       "    .dataframe tbody tr th:only-of-type {\n",
       "        vertical-align: middle;\n",
       "    }\n",
       "\n",
       "    .dataframe tbody tr th {\n",
       "        vertical-align: top;\n",
       "    }\n",
       "\n",
       "    .dataframe thead th {\n",
       "        text-align: right;\n",
       "    }\n",
       "</style>\n",
       "<table border=\"1\" class=\"dataframe\">\n",
       "  <thead>\n",
       "    <tr style=\"text-align: right;\">\n",
       "      <th></th>\n",
       "      <th>per</th>\n",
       "      <th>nseg</th>\n",
       "      <th>icalc</th>\n",
       "      <th>outseg</th>\n",
       "      <th>iupseg</th>\n",
       "      <th>iprior</th>\n",
       "      <th>nstrpts</th>\n",
       "      <th>flow</th>\n",
       "      <th>runoff</th>\n",
       "      <th>etsw</th>\n",
       "      <th>...</th>\n",
       "      <th>uhc1</th>\n",
       "      <th>hcond2</th>\n",
       "      <th>thickm2</th>\n",
       "      <th>elevdn</th>\n",
       "      <th>width2</th>\n",
       "      <th>depth2</th>\n",
       "      <th>thts2</th>\n",
       "      <th>thti2</th>\n",
       "      <th>eps2</th>\n",
       "      <th>uhc2</th>\n",
       "    </tr>\n",
       "  </thead>\n",
       "  <tbody>\n",
       "    <tr>\n",
       "      <th>0</th>\n",
       "      <td>0</td>\n",
       "      <td>1</td>\n",
       "      <td>1</td>\n",
       "      <td>4</td>\n",
       "      <td>0</td>\n",
       "      <td>0</td>\n",
       "      <td>0</td>\n",
       "      <td>0.0</td>\n",
       "      <td>0.0</td>\n",
       "      <td>0.0</td>\n",
       "      <td>...</td>\n",
       "      <td>0.0</td>\n",
       "      <td>0.0</td>\n",
       "      <td>0.0</td>\n",
       "      <td>1297.867432</td>\n",
       "      <td>5.638623</td>\n",
       "      <td>0.0</td>\n",
       "      <td>0.0</td>\n",
       "      <td>0.0</td>\n",
       "      <td>0.0</td>\n",
       "      <td>0.0</td>\n",
       "    </tr>\n",
       "    <tr>\n",
       "      <th>1</th>\n",
       "      <td>0</td>\n",
       "      <td>2</td>\n",
       "      <td>1</td>\n",
       "      <td>4</td>\n",
       "      <td>0</td>\n",
       "      <td>0</td>\n",
       "      <td>0</td>\n",
       "      <td>0.0</td>\n",
       "      <td>0.0</td>\n",
       "      <td>0.0</td>\n",
       "      <td>...</td>\n",
       "      <td>0.0</td>\n",
       "      <td>0.0</td>\n",
       "      <td>0.0</td>\n",
       "      <td>1297.867432</td>\n",
       "      <td>37.791649</td>\n",
       "      <td>0.0</td>\n",
       "      <td>0.0</td>\n",
       "      <td>0.0</td>\n",
       "      <td>0.0</td>\n",
       "      <td>0.0</td>\n",
       "    </tr>\n",
       "    <tr>\n",
       "      <th>2</th>\n",
       "      <td>0</td>\n",
       "      <td>3</td>\n",
       "      <td>1</td>\n",
       "      <td>6</td>\n",
       "      <td>0</td>\n",
       "      <td>0</td>\n",
       "      <td>0</td>\n",
       "      <td>0.0</td>\n",
       "      <td>0.0</td>\n",
       "      <td>0.0</td>\n",
       "      <td>...</td>\n",
       "      <td>0.0</td>\n",
       "      <td>0.0</td>\n",
       "      <td>0.0</td>\n",
       "      <td>1278.149658</td>\n",
       "      <td>7.069631</td>\n",
       "      <td>0.0</td>\n",
       "      <td>0.0</td>\n",
       "      <td>0.0</td>\n",
       "      <td>0.0</td>\n",
       "      <td>0.0</td>\n",
       "    </tr>\n",
       "    <tr>\n",
       "      <th>3</th>\n",
       "      <td>0</td>\n",
       "      <td>4</td>\n",
       "      <td>1</td>\n",
       "      <td>6</td>\n",
       "      <td>0</td>\n",
       "      <td>0</td>\n",
       "      <td>0</td>\n",
       "      <td>0.0</td>\n",
       "      <td>0.0</td>\n",
       "      <td>0.0</td>\n",
       "      <td>...</td>\n",
       "      <td>0.0</td>\n",
       "      <td>0.0</td>\n",
       "      <td>0.0</td>\n",
       "      <td>1278.149658</td>\n",
       "      <td>38.638088</td>\n",
       "      <td>0.0</td>\n",
       "      <td>0.0</td>\n",
       "      <td>0.0</td>\n",
       "      <td>0.0</td>\n",
       "      <td>0.0</td>\n",
       "    </tr>\n",
       "    <tr>\n",
       "      <th>4</th>\n",
       "      <td>0</td>\n",
       "      <td>5</td>\n",
       "      <td>1</td>\n",
       "      <td>10</td>\n",
       "      <td>0</td>\n",
       "      <td>0</td>\n",
       "      <td>0</td>\n",
       "      <td>0.0</td>\n",
       "      <td>0.0</td>\n",
       "      <td>0.0</td>\n",
       "      <td>...</td>\n",
       "      <td>0.0</td>\n",
       "      <td>0.0</td>\n",
       "      <td>0.0</td>\n",
       "      <td>1211.286133</td>\n",
       "      <td>6.470501</td>\n",
       "      <td>0.0</td>\n",
       "      <td>0.0</td>\n",
       "      <td>0.0</td>\n",
       "      <td>0.0</td>\n",
       "      <td>0.0</td>\n",
       "    </tr>\n",
       "  </tbody>\n",
       "</table>\n",
       "<p>5 rows × 35 columns</p>\n",
       "</div>"
      ],
      "text/plain": [
       "   per  nseg  icalc  outseg  iupseg  iprior  nstrpts  flow  runoff  etsw  ...  \\\n",
       "0    0     1      1       4       0       0        0   0.0     0.0   0.0  ...   \n",
       "1    0     2      1       4       0       0        0   0.0     0.0   0.0  ...   \n",
       "2    0     3      1       6       0       0        0   0.0     0.0   0.0  ...   \n",
       "3    0     4      1       6       0       0        0   0.0     0.0   0.0  ...   \n",
       "4    0     5      1      10       0       0        0   0.0     0.0   0.0  ...   \n",
       "\n",
       "   uhc1  hcond2  thickm2       elevdn     width2  depth2  thts2  thti2  eps2  \\\n",
       "0   0.0     0.0      0.0  1297.867432   5.638623     0.0    0.0    0.0   0.0   \n",
       "1   0.0     0.0      0.0  1297.867432  37.791649     0.0    0.0    0.0   0.0   \n",
       "2   0.0     0.0      0.0  1278.149658   7.069631     0.0    0.0    0.0   0.0   \n",
       "3   0.0     0.0      0.0  1278.149658  38.638088     0.0    0.0    0.0   0.0   \n",
       "4   0.0     0.0      0.0  1211.286133   6.470501     0.0    0.0    0.0   0.0   \n",
       "\n",
       "   uhc2  \n",
       "0   0.0  \n",
       "1   0.0  \n",
       "2   0.0  \n",
       "3   0.0  \n",
       "4   0.0  \n",
       "\n",
       "[5 rows x 35 columns]"
      ]
     },
     "execution_count": 14,
     "metadata": {},
     "output_type": "execute_result"
    }
   ],
   "source": [
    "sfrdata.segment_data.head()"
   ]
  },
  {
   "cell_type": "markdown",
   "metadata": {},
   "source": [
    "### Sampling streambed top elevations from a DEM\n",
    "While the above dataset contains streambed top elevations read from NHDPlus, a DEM can be sampled to obtain more accurate elevations. If the DEM elevation units are specified, SFRmaker will convert the elevations to model units if needed. See the Streambed_elevation_demo notebook for more information on how this works."
   ]
  },
  {
   "cell_type": "code",
   "execution_count": 15,
   "metadata": {
    "execution": {
     "iopub.execute_input": "2025-07-11T20:17:14.646440Z",
     "iopub.status.busy": "2025-07-11T20:17:14.646118Z",
     "iopub.status.idle": "2025-07-11T20:17:18.625200Z",
     "shell.execute_reply": "2025-07-11T20:17:18.624656Z"
    }
   },
   "outputs": [
    {
     "name": "stdout",
     "output_type": "stream",
     "text": [
      "running rasterstats.zonal_stats on buffered LineStrings...\n"
     ]
    },
    {
     "name": "stdout",
     "output_type": "stream",
     "text": [
      "finished in 3.81s\n",
      "\n",
      "\n",
      "Smoothing elevations...\n",
      "finished in 0.10s\n"
     ]
    }
   ],
   "source": [
    "sfrdata.set_streambed_top_elevations_from_dem('../tylerforks/dem_26715.tif', \n",
    "                                              elevation_units='meters')"
   ]
  },
  {
   "cell_type": "markdown",
   "metadata": {},
   "source": [
    "### Assigning layers to the reaches\n",
    "Once we have a valid set of streambed elevations, the reaches can be assigned to model layers."
   ]
  },
  {
   "cell_type": "code",
   "execution_count": 16,
   "metadata": {
    "execution": {
     "iopub.execute_input": "2025-07-11T20:17:18.627102Z",
     "iopub.status.busy": "2025-07-11T20:17:18.626756Z",
     "iopub.status.idle": "2025-07-11T20:17:18.631216Z",
     "shell.execute_reply": "2025-07-11T20:17:18.630836Z"
    }
   },
   "outputs": [],
   "source": [
    "sfrdata.assign_layers()"
   ]
  },
  {
   "cell_type": "code",
   "execution_count": 17,
   "metadata": {
    "execution": {
     "iopub.execute_input": "2025-07-11T20:17:18.632847Z",
     "iopub.status.busy": "2025-07-11T20:17:18.632535Z",
     "iopub.status.idle": "2025-07-11T20:17:18.645668Z",
     "shell.execute_reply": "2025-07-11T20:17:18.645278Z"
    }
   },
   "outputs": [
    {
     "data": {
      "text/html": [
       "<div>\n",
       "<style scoped>\n",
       "    .dataframe tbody tr th:only-of-type {\n",
       "        vertical-align: middle;\n",
       "    }\n",
       "\n",
       "    .dataframe tbody tr th {\n",
       "        vertical-align: top;\n",
       "    }\n",
       "\n",
       "    .dataframe thead th {\n",
       "        text-align: right;\n",
       "    }\n",
       "</style>\n",
       "<table border=\"1\" class=\"dataframe\">\n",
       "  <thead>\n",
       "    <tr style=\"text-align: right;\">\n",
       "      <th></th>\n",
       "      <th>rno</th>\n",
       "      <th>node</th>\n",
       "      <th>k</th>\n",
       "      <th>i</th>\n",
       "      <th>j</th>\n",
       "      <th>iseg</th>\n",
       "      <th>ireach</th>\n",
       "      <th>rchlen</th>\n",
       "      <th>width</th>\n",
       "      <th>slope</th>\n",
       "      <th>...</th>\n",
       "      <th>thts</th>\n",
       "      <th>thti</th>\n",
       "      <th>eps</th>\n",
       "      <th>uhc</th>\n",
       "      <th>outreach</th>\n",
       "      <th>outseg</th>\n",
       "      <th>asum</th>\n",
       "      <th>line_id</th>\n",
       "      <th>name</th>\n",
       "      <th>geometry</th>\n",
       "    </tr>\n",
       "  </thead>\n",
       "  <tbody>\n",
       "    <tr>\n",
       "      <th>511</th>\n",
       "      <td>1</td>\n",
       "      <td>17714</td>\n",
       "      <td>2</td>\n",
       "      <td>110</td>\n",
       "      <td>114</td>\n",
       "      <td>1</td>\n",
       "      <td>1</td>\n",
       "      <td>208.807938</td>\n",
       "      <td>1.000000</td>\n",
       "      <td>0.034189</td>\n",
       "      <td>...</td>\n",
       "      <td>0.0</td>\n",
       "      <td>0.0</td>\n",
       "      <td>0.0</td>\n",
       "      <td>0.0</td>\n",
       "      <td>2</td>\n",
       "      <td>4</td>\n",
       "      <td>31.822330</td>\n",
       "      <td>1815013</td>\n",
       "      <td>None</td>\n",
       "      <td>LINESTRING (691394.6396657812 5139052, 691410....</td>\n",
       "    </tr>\n",
       "    <tr>\n",
       "      <th>512</th>\n",
       "      <td>2</td>\n",
       "      <td>17715</td>\n",
       "      <td>2</td>\n",
       "      <td>110</td>\n",
       "      <td>115</td>\n",
       "      <td>1</td>\n",
       "      <td>2</td>\n",
       "      <td>294.098938</td>\n",
       "      <td>1.261243</td>\n",
       "      <td>0.000750</td>\n",
       "      <td>...</td>\n",
       "      <td>0.0</td>\n",
       "      <td>0.0</td>\n",
       "      <td>0.0</td>\n",
       "      <td>0.0</td>\n",
       "      <td>3</td>\n",
       "      <td>4</td>\n",
       "      <td>108.465340</td>\n",
       "      <td>1815013</td>\n",
       "      <td>None</td>\n",
       "      <td>LINESTRING (691451 5139079.028908214, 691471.0...</td>\n",
       "    </tr>\n",
       "    <tr>\n",
       "      <th>513</th>\n",
       "      <td>3</td>\n",
       "      <td>17716</td>\n",
       "      <td>1</td>\n",
       "      <td>110</td>\n",
       "      <td>116</td>\n",
       "      <td>1</td>\n",
       "      <td>3</td>\n",
       "      <td>41.622536</td>\n",
       "      <td>1.531957</td>\n",
       "      <td>0.165061</td>\n",
       "      <td>...</td>\n",
       "      <td>0.0</td>\n",
       "      <td>0.0</td>\n",
       "      <td>0.0</td>\n",
       "      <td>0.0</td>\n",
       "      <td>4</td>\n",
       "      <td>4</td>\n",
       "      <td>159.629288</td>\n",
       "      <td>1815013</td>\n",
       "      <td>None</td>\n",
       "      <td>LINESTRING (691527.2 5139123.064392628, 691538...</td>\n",
       "    </tr>\n",
       "    <tr>\n",
       "      <th>514</th>\n",
       "      <td>4</td>\n",
       "      <td>17556</td>\n",
       "      <td>2</td>\n",
       "      <td>109</td>\n",
       "      <td>116</td>\n",
       "      <td>1</td>\n",
       "      <td>4</td>\n",
       "      <td>220.366440</td>\n",
       "      <td>1.714090</td>\n",
       "      <td>0.027078</td>\n",
       "      <td>...</td>\n",
       "      <td>0.0</td>\n",
       "      <td>0.0</td>\n",
       "      <td>0.0</td>\n",
       "      <td>0.0</td>\n",
       "      <td>5</td>\n",
       "      <td>4</td>\n",
       "      <td>199.556412</td>\n",
       "      <td>1815013</td>\n",
       "      <td>None</td>\n",
       "      <td>LINESTRING (691538.8006061709 5139128.2, 69156...</td>\n",
       "    </tr>\n",
       "    <tr>\n",
       "      <th>515</th>\n",
       "      <td>5</td>\n",
       "      <td>17557</td>\n",
       "      <td>2</td>\n",
       "      <td>109</td>\n",
       "      <td>117</td>\n",
       "      <td>1</td>\n",
       "      <td>5</td>\n",
       "      <td>162.617325</td>\n",
       "      <td>1.950304</td>\n",
       "      <td>0.023848</td>\n",
       "      <td>...</td>\n",
       "      <td>0.0</td>\n",
       "      <td>0.0</td>\n",
       "      <td>0.0</td>\n",
       "      <td>0.0</td>\n",
       "      <td>6</td>\n",
       "      <td>4</td>\n",
       "      <td>257.923126</td>\n",
       "      <td>1815013</td>\n",
       "      <td>None</td>\n",
       "      <td>LINESTRING (691603.4 5139143.66283342, 691624....</td>\n",
       "    </tr>\n",
       "  </tbody>\n",
       "</table>\n",
       "<p>5 rows × 23 columns</p>\n",
       "</div>"
      ],
      "text/plain": [
       "     rno   node  k    i    j  iseg  ireach      rchlen     width     slope  \\\n",
       "511    1  17714  2  110  114     1       1  208.807938  1.000000  0.034189   \n",
       "512    2  17715  2  110  115     1       2  294.098938  1.261243  0.000750   \n",
       "513    3  17716  1  110  116     1       3   41.622536  1.531957  0.165061   \n",
       "514    4  17556  2  109  116     1       4  220.366440  1.714090  0.027078   \n",
       "515    5  17557  2  109  117     1       5  162.617325  1.950304  0.023848   \n",
       "\n",
       "     ...  thts  thti  eps  uhc  outreach  outseg        asum  line_id  name  \\\n",
       "511  ...   0.0   0.0  0.0  0.0         2       4   31.822330  1815013  None   \n",
       "512  ...   0.0   0.0  0.0  0.0         3       4  108.465340  1815013  None   \n",
       "513  ...   0.0   0.0  0.0  0.0         4       4  159.629288  1815013  None   \n",
       "514  ...   0.0   0.0  0.0  0.0         5       4  199.556412  1815013  None   \n",
       "515  ...   0.0   0.0  0.0  0.0         6       4  257.923126  1815013  None   \n",
       "\n",
       "                                              geometry  \n",
       "511  LINESTRING (691394.6396657812 5139052, 691410....  \n",
       "512  LINESTRING (691451 5139079.028908214, 691471.0...  \n",
       "513  LINESTRING (691527.2 5139123.064392628, 691538...  \n",
       "514  LINESTRING (691538.8006061709 5139128.2, 69156...  \n",
       "515  LINESTRING (691603.4 5139143.66283342, 691624....  \n",
       "\n",
       "[5 rows x 23 columns]"
      ]
     },
     "execution_count": 17,
     "metadata": {},
     "output_type": "execute_result"
    }
   ],
   "source": [
    "sfrdata.reach_data.head()"
   ]
  },
  {
   "cell_type": "markdown",
   "metadata": {},
   "source": [
    "### Running diagnostics\n",
    "`SFRData` includes a `run_diagnostics()` method that executes the Flopy checker on the SFR package input. While the Flopy checks are only implemented for MODFLOW-2005 style SFR packages, `run_diagnostics()` works on MODFLOW-6 packages as well, by working of an attached MODFLOW-2005 representation of the MODFLOW-6 SFR input. The following checks are executed:\n",
    "* **NaNs** (not a number values, which will cause MODFLOW to crash)\n",
    "* **consecutive segment and reach numbering**\n",
    "* **segment numbering that only increases** in the downstream direction\n",
    "* **circular routing sequences** (reaches or segments routing back to themselves)\n",
    "* **routing connection proximity:** The length of routing connections, as determined by the distance between their cell centers, is compared to 1.25 times the diagonal distance across the cell containing the upstream reach. This benchmark length is equivalent to a diagonal connection between two square cells, where one cell had a spacing of 1.5 times the other cell (the maximum recommended increase in spacing between two adjacent cells; see Anderson and others, 2015). While this routing proximity check can be helpful for identifying egregious routing issues, in practice, it may not be uncommon for valid routing connections to violate this rule. For example, if the ``one_reach_per_cell`` option is used in constructing the SFR package with a large grid size, there may be numerous routing connections that extend across several cells. When non-adjacent routing connections are identified, the user can check the shapefile of routing connections to verify the results.\n",
    "* **overlapping conductances:** This check identifies instances of collocated reaches, where more than one reach has a connection to the groundwater flow solution in that cell. Collocated reaches may or may not present an issue for a particular model solution, but can potentially promote instability or spurious circulation of flow between the collocated reaches.\n",
    "* **spurious streambed top elevations:** Values < -10 or > 15,000 are flagged\n",
    "* **downstream rises in streambed elevation**\n",
    "* **inconsistencies between streambed elevation and the model grid:** This check looks for streambed bottoms below their respective cell bottoms, which will cause MODFLOW to halt execution, and streambed tops that are above the model top. The latter issue will not prevent MODFLOW from running, but may indicate problems with the input if the differences are large. For coarse grids in areas of high stream density (where there are often multiple streams in a cell), it may be impossible to ensure that all streambed top elevations are at or below the model top. Oftentimes, these reaches are dry anyways (for example, and ephemeral gully that runs off a bluff into a perennial stream, where the cell elevation is based on the elevation of the perennial stream). In any case, it is good practice to check the largest violations by comparing the SFRmaker shapefile output to a DEM and other data in a GIS environment.\n",
    "* **suprious slopes:** slopes of less than 0.0001 (which can lead to excessive stages with the SFR package's Manning approximation) and greater than 1.0 are flagged."
   ]
  },
  {
   "cell_type": "code",
   "execution_count": 18,
   "metadata": {
    "execution": {
     "iopub.execute_input": "2025-07-11T20:17:18.647272Z",
     "iopub.status.busy": "2025-07-11T20:17:18.647100Z",
     "iopub.status.idle": "2025-07-11T20:17:18.718872Z",
     "shell.execute_reply": "2025-07-11T20:17:18.718386Z"
    }
   },
   "outputs": [
    {
     "name": "stdout",
     "output_type": "stream",
     "text": [
      "\n",
      "Running Flopy v. 3.10.0.dev3 diagnostics...\n",
      "wrote tf_SFR.chk\n"
     ]
    }
   ],
   "source": [
    "sfrdata.run_diagnostics(verbose=False)"
   ]
  },
  {
   "cell_type": "markdown",
   "metadata": {},
   "source": [
    "### Writing an SFR package\n",
    "Now we can write the package. By default, a MODFLOW-2005 style package is written to the current working directory or the model workspace of the attached model instance."
   ]
  },
  {
   "cell_type": "code",
   "execution_count": 19,
   "metadata": {
    "execution": {
     "iopub.execute_input": "2025-07-11T20:17:18.720672Z",
     "iopub.status.busy": "2025-07-11T20:17:18.720287Z",
     "iopub.status.idle": "2025-07-11T20:17:18.827248Z",
     "shell.execute_reply": "2025-07-11T20:17:18.826731Z"
    }
   },
   "outputs": [
    {
     "name": "stdout",
     "output_type": "stream",
     "text": [
      "SFRmaker v. 0.12.1.post52.dev0+g4339462\n",
      "\n",
      "Running Flopy v. 3.10.0.dev3 diagnostics...\n",
      "passed.\n",
      "\n",
      "Checking for continuity in segment and reach numbering...\n",
      "passed.\n",
      "\n",
      "Checking for increasing segment numbers in downstream direction...\n",
      "passed.\n",
      "\n",
      "Checking for circular routing...\n",
      "passed.\n",
      "\n",
      "Checking reach connections for proximity...\n",
      "5 segments with non-adjacent reaches found.\n",
      "At segments:\n",
      "41 20 21 22 23\n",
      "\n",
      "5 segments with non-adjacent reaches found.\n",
      "At segments:\n",
      "41 20 21 22 23\n",
      "\n",
      "\n",
      "Checking for model cells with multiple non-zero SFR conductances...\n",
      "24 model cells with multiple non-zero SFR conductances found.\n",
      "This may lead to circular routing between collocated reaches.\n",
      "Nodes with overlapping conductances:\n",
      "k\ti\tj\tiseg\tireach\trchlen\tstrthick\tstrhc1\n",
      "2\t110\t119\t1\t8\t268.5836486816406\t1.0\t1.0\n",
      "1\t110\t119\t2\t1\t72.61438751220703\t1.0\t1.0\n",
      "0\t87\t122\t3\t54\t35.35249328613281\t1.0\t1.0\n",
      "0\t87\t122\t4\t33\t231.09567260742188\t1.0\t1.0\n",
      "0\t76\t110\t5\t47\t204.88766479492188\t1.0\t1.0\n",
      "0\t87\t122\t6\t1\t30.414600372314453\t1.0\t1.0\n",
      "2\t84\t119\t6\t7\t271.24835205078125\t1.0\t1.0\n",
      "2\t84\t119\t6\t9\t26.37481117248535\t1.0\t1.0\n",
      "0\t76\t110\t6\t27\t75.33216094970703\t1.0\t1.0\n",
      "2\t25\t24\t7\t42\t95.27275085449219\t1.0\t1.0\n",
      "2\t25\t24\t8\t47\t230.57635498046875\t1.0\t1.0\n",
      "1\t58\t132\t9\t25\t48.14010238647461\t1.0\t1.0\n",
      "1\t58\t132\t9\t27\t92.92947387695312\t1.0\t1.0\n",
      "0\t48\t109\t9\t64\t251.07447814941406\t1.0\t1.0\n",
      "0\t76\t110\t10\t1\t69.20076751708984\t1.0\t1.0\n",
      "0\t48\t108\t10\t40\t19.56378746032715\t1.0\t1.0\n",
      "0\t48\t109\t10\t41\t122.84815216064453\t1.0\t1.0\n",
      "0\t48\t108\t10\t42\t28.33331871032715\t1.0\t1.0\n",
      "2\t25\t24\t11\t1\t21.51937484741211\t1.0\t1.0\n",
      "2\t18\t17\t11\t15\t148.96444702148438\t1.0\t1.0\n",
      "2\t18\t17\t12\t57\t76.79739379882812\t1.0\t1.0\n",
      "1\t80\t49\t13\t70\t159.26600646972656\t1.0\t1.0\n",
      "0\t48\t108\t14\t1\t125.24523162841797\t1.0\t1.0\n",
      "0\t47\t98\t14\t22\t67.60189056396484\t1.0\t1.0\n",
      "0\t47\t98\t14\t24\t103.03018188476562\t1.0\t1.0\n",
      "0\t54\t89\t14\t39\t34.45417785644531\t1.0\t1.0\n",
      "0\t54\t89\t14\t41\t60.66257095336914\t1.0\t1.0\n",
      "0\t53\t78\t14\t57\t61.411861419677734\t1.0\t1.0\n",
      "0\t53\t78\t14\t59\t28.438196182250977\t1.0\t1.0\n",
      "0\t52\t76\t14\t62\t63.360740661621094\t1.0\t1.0\n",
      "0\t52\t76\t14\t64\t294.8589782714844\t1.0\t1.0\n",
      "1\t54\t73\t14\t69\t341.6566162109375\t1.0\t1.0\n",
      "1\t54\t73\t14\t71\t27.671581268310547\t1.0\t1.0\n",
      "1\t80\t49\t14\t125\t39.762516021728516\t1.0\t1.0\n",
      "2\t18\t17\t16\t1\t185.54652404785156\t1.0\t1.0\n",
      "2\t15\t3\t16\t21\t32.64251708984375\t1.0\t1.0\n",
      "1\t36\t11\t17\t38\t57.836700439453125\t1.0\t1.0\n",
      "2\t110\t159\t19\t2\t201.63583374023438\t1.0\t1.0\n",
      "0\t38\t85\t21\t8\t72.7103042602539\t1.0\t1.0\n",
      "0\t38\t85\t21\t9\t54.39541244506836\t1.0\t1.0\n",
      "2\t108\t57\t24\t8\t237.04415893554688\t1.0\t1.0\n",
      "2\t108\t57\t24\t9\t46.142940521240234\t1.0\t1.0\n",
      "0\t94\t35\t24\t45\t96.94855499267578\t1.0\t1.0\n",
      "0\t94\t35\t24\t47\t91.54985046386719\t1.0\t1.0\n",
      "2\t91\t35\t24\t50\t60.89990997314453\t1.0\t1.0\n",
      "2\t91\t34\t24\t51\t61.16813278198242\t1.0\t1.0\n",
      "1\t80\t49\t25\t1\t146.93106079101562\t1.0\t1.0\n",
      "2\t91\t35\t25\t26\t308.2864685058594\t1.0\t1.0\n",
      "2\t91\t34\t25\t27\t75.82389068603516\t1.0\t1.0\n",
      "2\t15\t3\t31\t1\t273.603271484375\t1.0\t1.0\n",
      "2\t36\t11\t36\t1\t263.1260681152344\t1.0\t1.0\n",
      "2\t110\t159\t38\t1\t24.2677001953125\t1.0\t1.0\n",
      "2\t91\t34\t42\t1\t130.52822875976562\t1.0\t1.0\n",
      "1\t92\t30\t42\t6\t66.65867614746094\t1.0\t1.0\n",
      "1\t92\t30\t42\t8\t252.91909790039062\t1.0\t1.0\n",
      "\n",
      "Checking for streambed tops of less than -10...\n",
      "passed.\n",
      "\n",
      "Checking for streambed tops of greater than 15000...\n",
      "passed.\n",
      "\n",
      "Checking segment_data for downstream rises in streambed elevation...\n",
      "Segment elevup and elevdn not specified for nstrm=-1439 and isfropt=1\n",
      "passed.\n",
      "\n",
      "Checking reach_data for downstream rises in streambed elevation...\n"
     ]
    },
    {
     "name": "stdout",
     "output_type": "stream",
     "text": [
      "passed.\n",
      "\n",
      "Checking reach_data for inconsistencies between streambed elevations and the model grid...\n",
      "186 reaches encountered with streambed above model top.\n",
      "Model top violations:\n",
      "i j iseg ireach strtop modeltop strhc1 reachID diff\n",
      "44 51 8 2 1096.0574951171875 1084.9100341796875 1.0 214 -11.1474609375\n",
      "31 53 23 10 1008.349853515625 998.0900268554688 1.0 931 -10.25982666015625\n",
      "34 50 12 5 1016.0361328125 1006.780029296875 1.0 385 -9.256103515625\n",
      "42 49 8 6 1066.8226318359375 1057.7900390625 1.0 218 -9.0325927734375\n",
      "3 76 27 3 1009.2495727539062 1002.1099853515625 1.0 1082 -7.13958740234375\n",
      "94 3 37 21 1073.4644775390625 1066.4599609375 1.0 1360 -7.0045166015625\n",
      "61 22 18 2 1029.281982421875 1022.3200073242188 1.0 769 -6.96197509765625\n",
      "84 111 5 34 1261.253662109375 1254.3699951171875 1.0 130 -6.8836669921875\n",
      "47 29 15 21 965.2784423828125 958.4199829101562 1.0 653 -6.85845947265625\n",
      "61 18 33 3 996.3890991210938 989.6300048828125 1.0 1246 -6.75909423828125\n",
      "71 5 35 9 990.4193725585938 983.8200073242188 1.0 1310 -6.599365234375\n",
      "43 50 8 4 1078.9158935546875 1072.3599853515625 1.0 216 -6.555908203125\n",
      "84 9 34 2 1085.3753662109375 1079.010009765625 1.0 1287 -6.3653564453125\n",
      "35 51 12 3 1028.656494140625 1022.8200073242188 1.0 383 -5.83648681640625\n",
      "108 54 24 12 1228.1346435546875 1222.3299560546875 1.0 1010 -5.8046875\n",
      "33 4 36 10 834.1530151367188 828.52001953125 1.0 1334 -5.63299560546875\n",
      "0 100 40 1 1027.534423828125 1022.1199951171875 1.0 1384 -5.4144287109375\n",
      "5 25 28 45 817.1793823242188 811.8099975585938 1.0 1135 -5.369384765625\n",
      "22 12 15 62 824.2842407226562 819.0800170898438 1.0 694 -5.2042236328125\n",
      "52 37 15 9 1054.0181884765625 1048.8399658203125 1.0 641 -5.17822265625\n",
      "65 1 35 19 944.7957153320312 939.6599731445312 1.0 1320 -5.1357421875\n",
      "49 15 18 19 925.3494262695312 920.3099975585938 1.0 786 -5.0394287109375\n",
      "51 24 17 11 963.3839721679688 958.3800048828125 1.0 740 -5.00396728515625\n",
      "26 47 23 21 942.5027465820312 937.5900268554688 1.0 942 -4.9127197265625\n",
      "1 23 28 51 778.961669921875 774.219970703125 1.0 1141 -4.74169921875\n",
      "73 5 35 7 1003.2875366210938 998.5999755859375 1.0 1308 -4.68756103515625\n",
      "45 28 15 24 947.1143188476562 942.72998046875 1.0 656 -4.38433837890625\n",
      "80 116 6 18 1229.7757568359375 1225.4599609375 1.0 161 -4.3157958984375\n",
      "27 18 15 51 863.89599609375 859.6300048828125 1.0 683 -4.2659912109375\n",
      "82 112 5 39 1242.8052978515625 1238.5400390625 1.0 135 -4.2652587890625\n",
      "35 31 7 25 922.0911254882812 918.2000122070312 1.0 195 -3.89111328125\n",
      "30 52 23 12 991.4169921875 987.5700073242188 1.0 933 -3.84698486328125\n",
      "71 4 35 10 981.303466796875 977.6799926757812 1.0 1311 -3.62347412109375\n",
      "58 19 18 6 986.8626708984375 983.260009765625 1.0 773 -3.6026611328125\n",
      "87 110 5 30 1283.4881591796875 1279.989990234375 1.0 126 -3.4981689453125\n",
      "59 17 33 5 976.4671630859375 973.0399780273438 1.0 1248 -3.42718505859375\n",
      "85 111 5 33 1264.7679443359375 1261.3499755859375 1.0 129 -3.41796875\n",
      "41 12 18 31 892.8302001953125 889.469970703125 1.0 798 -3.3602294921875\n",
      "54 12 33 15 932.0604248046875 928.719970703125 1.0 1258 -3.3404541015625\n",
      "16 32 23 46 867.0645751953125 863.75 1.0 967 -3.3145751953125\n",
      "28 40 12 21 934.5240478515625 931.27001953125 1.0 401 -3.2540283203125\n",
      "1 138 26 1 1154.71630859375 1151.489990234375 1.0 1077 -3.226318359375\n",
      "10 25 23 59 824.5831909179688 821.3699951171875 1.0 980 -3.21319580078125\n",
      "36 32 7 23 927.737060546875 924.5399780273438 1.0 193 -3.19708251953125\n",
      "51 15 18 17 930.7290649414062 927.5700073242188 1.0 784 -3.1590576171875\n",
      "67 2 35 16 953.3693237304688 950.25 1.0 1317 -3.11932373046875\n",
      "82 140 3 27 1305.33447265625 1302.239990234375 1.0 36 -3.094482421875\n",
      "58 4 32 22 912.39599609375 909.3099975585938 1.0 1234 -3.08599853515625\n",
      "31 28 7 32 902.4729614257812 899.4500122070312 1.0 202 -3.02294921875\n",
      "18 0 30 40 762.85107421875 759.8400268554688 1.0 1204 -3.01104736328125\n",
      "88 110 5 29 1288.3612060546875 1285.3800048828125 1.0 125 -2.981201171875\n",
      "34 30 7 27 917.8261108398438 914.8599853515625 1.0 197 -2.96612548828125\n",
      "33 13 30 13 879.4591674804688 876.5599975585938 1.0 1177 -2.899169921875\n",
      "1 137 26 2 1149.9388427734375 1147.0799560546875 1.0 1078 -2.85888671875\n",
      "109 58 24 6 1244.657470703125 1241.8199462890625 1.0 1004 -2.8375244140625\n",
      "6 22 23 66 783.7332153320312 780.9299926757812 1.0 987 -2.80322265625\n",
      "28 7 30 24 838.6741943359375 835.8900146484375 1.0 1188 -2.7841796875\n",
      "83 51 13 65 1143.177490234375 1140.4300537109375 1.0 502 -2.7474365234375\n",
      "20 9 15 67 797.5311279296875 794.7999877929688 1.0 699 -2.73114013671875\n",
      "83 145 3 21 1313.221923828125 1310.52001953125 1.0 30 -2.701904296875\n",
      "34 43 8 20 971.7984619140625 969.0999755859375 1.0 232 -2.698486328125\n",
      "43 39 7 10 1002.135009765625 999.4600219726562 1.0 180 -2.67498779296875\n",
      "18 16 16 2 816.8546142578125 814.1799926757812 1.0 710 -2.67462158203125\n",
      "80 2 34 13 1005.6331176757812 1002.989990234375 1.0 1298 -2.64312744140625\n",
      "57 27 17 2 1030.468994140625 1027.8399658203125 1.0 731 -2.6290283203125\n",
      "98 6 37 14 1130.2991943359375 1127.739990234375 1.0 1353 -2.5592041015625\n",
      "96 6 37 16 1109.81494140625 1107.27001953125 1.0 1355 -2.544921875\n",
      "41 27 15 29 922.3822631835938 919.8499755859375 1.0 661 -2.53228759765625\n",
      "93 35 24 48 1133.5345458984375 1131.030029296875 1.0 1046 -2.5045166015625\n",
      "11 26 23 57 835.0635986328125 832.5999755859375 1.0 978 -2.463623046875\n",
      "57 18 18 8 976.854248046875 974.4600219726562 1.0 775 -2.39422607421875\n",
      "43 27 15 27 935.5574951171875 933.1699829101562 1.0 659 -2.38751220703125\n",
      "29 19 15 48 875.1234130859375 872.77001953125 1.0 680 -2.3533935546875\n",
      "97 6 37 15 1122.60205078125 1120.280029296875 1.0 1354 -2.322021484375\n",
      "76 110 6 27 1202.379638671875 1200.0799560546875 1.0 170 -2.2996826171875\n",
      "13 29 23 52 853.8441162109375 851.5800170898438 1.0 973 -2.26409912109375\n",
      "28 50 23 16 969.1011352539062 966.8800048828125 1.0 937 -2.22113037109375\n",
      "41 0 33 40 858.0049438476562 855.7899780273438 1.0 1283 -2.2149658203125\n",
      "25 16 15 55 848.8750610351562 846.7100219726562 1.0 687 -2.1650390625\n",
      "3 24 28 48 797.5549926757812 795.4099731445312 1.0 1138 -2.14501953125\n",
      "65 10 32 9 973.0398559570312 970.9299926757812 1.0 1221 -2.10986328125\n",
      "98 100 5 9 1381.1871337890625 1379.1099853515625 1.0 105 -2.0771484375\n",
      "21 25 12 43 869.5907592773438 867.52001953125 1.0 423 -2.07073974609375\n",
      "78 111 5 44 1220.5587158203125 1218.530029296875 1.0 140 -2.0286865234375\n",
      "55 25 17 6 996.66845703125 994.6400146484375 1.0 735 -2.0284423828125\n",
      "51 36 15 11 1035.9466552734375 1033.9599609375 1.0 643 -1.9866943359375\n",
      "30 34 8 32 918.734375 916.7899780273438 1.0 244 -1.94439697265625\n",
      "32 21 15 44 887.8782348632812 885.9400024414062 1.0 676 -1.938232421875\n",
      "4 77 27 1 1019.9188232421875 1018.0 1.0 1080 -1.9188232421875\n",
      "51 9 33 21 916.0432739257812 914.1300048828125 1.0 1264 -1.91326904296875\n",
      "27 6 30 26 830.7896118164062 828.9600219726562 1.0 1190 -1.82958984375\n",
      "6 26 28 43 833.5056762695312 831.719970703125 1.0 1133 -1.78570556640625\n",
      "22 2 30 34 786.0257568359375 784.25 1.0 1198 -1.7757568359375\n",
      "7 26 28 42 844.1419677734375 842.3800048828125 1.0 1132 -1.761962890625\n",
      "48 6 33 27 898.0303955078125 896.2899780273438 1.0 1270 -1.74041748046875\n",
      "18 21 12 51 847.4663696289062 845.739990234375 1.0 431 -1.72637939453125\n",
      "89 64 13 41 1181.4326171875 1179.72998046875 1.0 478 -1.70263671875\n",
      "74 6 35 5 1011.9109497070312 1010.219970703125 1.0 1306 -1.69097900390625\n",
      "8 69 22 4 1005.525390625 1003.8599853515625 1.0 904 -1.6654052734375\n",
      "13 45 28 18 909.0931396484375 907.5 1.0 1108 -1.5931396484375\n",
      "43 13 18 28 900.6517333984375 899.0599975585938 1.0 795 -1.59173583984375\n",
      "46 14 18 24 910.212890625 908.7100219726562 1.0 791 -1.50286865234375\n",
      "15 6 16 16 769.787109375 768.2899780273438 1.0 724 -1.49713134765625\n",
      "3 39 29 12 893.4083862304688 891.9400024414062 1.0 1155 -1.4683837890625\n",
      "84 145 3 20 1316.32958984375 1314.9100341796875 1.0 29 -1.4195556640625\n",
      "12 28 23 54 846.7885131835938 845.3699951171875 1.0 975 -1.41851806640625\n",
      "20 1 30 37 775.9326171875 774.530029296875 1.0 1201 -1.402587890625\n",
      "47 5 33 29 893.9849243164062 892.5900268554688 1.0 1272 -1.3948974609375\n",
      "57 3 32 24 906.1943359375 904.8900146484375 1.0 1236 -1.3043212890625\n",
      "37 20 30 2 917.4218139648438 916.1199951171875 1.0 1166 -1.30181884765625\n",
      "76 110 5 47 1201.3443603515625 1200.0799560546875 1.0 143 -1.264404296875\n",
      "76 110 10 1 1201.3443603515625 1200.0799560546875 1.0 324 -1.264404296875\n",
      "68 3 35 14 962.5520629882812 961.3599853515625 1.0 1315 -1.19207763671875\n",
      "51 119 9 45 1191.214111328125 1190.050048828125 1.0 304 -1.1640625\n",
      "25 46 23 23 935.9991455078125 934.8499755859375 1.0 944 -1.149169921875\n",
      "39 26 15 32 915.0709838867188 913.97998046875 1.0 664 -1.09100341796875\n",
      "70 3 35 12 969.0398559570312 967.9500122070312 1.0 1313 -1.08984375\n",
      "6 158 39 3 1123.38037109375 1122.300048828125 1.0 1372 -1.080322265625\n",
      "37 25 15 35 908.1263427734375 907.0700073242188 1.0 667 -1.05633544921875\n",
      "26 25 7 40 879.2858276367188 878.239990234375 1.0 210 -1.04583740234375\n",
      "97 41 24 35 1150.635498046875 1149.6500244140625 1.0 1033 -0.9854736328125\n",
      "60 107 10 26 1175.4578857421875 1174.52001953125 1.0 349 -0.9378662109375\n",
      "46 21 17 19 923.8571166992188 922.9199829101562 1.0 748 -0.9371337890625\n",
      "25 158 20 3 1172.1849365234375 1171.27001953125 1.0 807 -0.9149169921875\n",
      "39 48 8 10 1029.3406982421875 1028.449951171875 1.0 222 -0.8907470703125\n",
      "14 99 21 61 1097.334716796875 1096.469970703125 1.0 879 -0.86474609375\n",
      "40 86 21 5 1143.69384765625 1142.8499755859375 1.0 823 -0.8438720703125\n",
      "85 52 13 62 1149.013427734375 1148.1700439453125 1.0 499 -0.8433837890625\n",
      "52 109 10 35 1164.787353515625 1163.969970703125 1.0 358 -0.8173828125\n",
      "38 12 17 36 880.8272094726562 880.030029296875 1.0 765 -0.79718017578125\n",
      "74 8 35 3 1025.747314453125 1024.9599609375 1.0 1304 -0.787353515625\n",
      "105 51 24 18 1209.4859619140625 1208.699951171875 1.0 1016 -0.7860107421875\n",
      "51 108 10 37 1162.79296875 1162.010009765625 1.0 360 -0.782958984375\n",
      "25 33 12 31 903.5383911132812 902.760009765625 1.0 411 -0.77838134765625\n",
      "28 25 7 38 886.2448120117188 885.5 1.0 208 -0.74481201171875\n",
      "0 71 27 11 967.5951538085938 966.8599853515625 1.0 1090 -0.73516845703125\n",
      "66 10 32 8 977.9095458984375 977.219970703125 1.0 1220 -0.6895751953125\n",
      "5 157 39 5 1121.365966796875 1120.6800537109375 1.0 1374 -0.6859130859375\n",
      "45 13 18 26 906.5974731445312 905.9299926757812 1.0 793 -0.66748046875\n",
      "26 158 20 2 1174.694580078125 1174.030029296875 1.0 806 -0.66455078125\n",
      "62 19 33 1 1005.5029296875 1004.8400268554688 1.0 1244 -0.66290283203125\n",
      "56 18 18 9 967.2000732421875 966.5399780273438 1.0 776 -0.66009521484375\n",
      "33 80 21 19 1128.41845703125 1127.780029296875 1.0 837 -0.638427734375\n",
      "101 41 24 31 1158.5797119140625 1157.969970703125 1.0 1029 -0.6097412109375\n",
      "74 109 10 4 1198.0435791015625 1197.43994140625 1.0 327 -0.6036376953125\n",
      "30 10 30 19 857.75048828125 857.1599731445312 1.0 1183 -0.59051513671875\n",
      "96 36 24 42 1141.318359375 1140.72998046875 1.0 1040 -0.58837890625\n",
      "33 22 15 42 892.9962768554688 892.4299926757812 1.0 674 -0.5662841796875\n",
      "6 104 21 74 1082.59326171875 1082.06005859375 1.0 892 -0.533203125\n",
      "104 44 24 26 1173.2772216796875 1172.8199462890625 1.0 1024 -0.457275390625\n",
      "42 27 15 28 927.3306884765625 926.8800048828125 1.0 660 -0.45068359375\n",
      "26 17 15 53 855.5484008789062 855.1099853515625 1.0 685 -0.43841552734375\n",
      "93 122 4 27 1282.7025146484375 1282.2900390625 1.0 90 -0.4124755859375\n",
      "20 89 21 45 1108.5118408203125 1108.0999755859375 1.0 863 -0.411865234375\n",
      "32 29 7 30 907.5672607421875 907.1599731445312 1.0 200 -0.40728759765625\n",
      "6 44 29 4 923.0087890625 922.6599731445312 1.0 1147 -0.34881591796875\n",
      "98 41 24 34 1152.4619140625 1152.1199951171875 1.0 1032 -0.3419189453125\n",
      "60 6 32 18 933.5938720703125 933.260009765625 1.0 1230 -0.3338623046875\n",
      "37 21 30 1 919.2725830078125 918.9400024414062 1.0 1165 -0.33258056640625\n",
      "89 122 4 31 1278.8204345703125 1278.5 1.0 94 -0.3204345703125\n",
      "57 108 10 30 1171.8583984375 1171.5400390625 1.0 353 -0.318359375\n",
      "34 81 21 17 1129.405517578125 1129.0899658203125 1.0 835 -0.3155517578125\n",
      "82 50 13 67 1139.371337890625 1139.06005859375 1.0 504 -0.311279296875\n",
      "53 108 10 34 1166.6656494140625 1166.4000244140625 1.0 357 -0.265625\n",
      "88 55 13 55 1161.44287109375 1161.199951171875 1.0 492 -0.242919921875\n",
      "47 105 14 7 1156.3297119140625 1156.0999755859375 1.0 514 -0.229736328125\n",
      "58 108 10 29 1172.513916015625 1172.2900390625 1.0 352 -0.223876953125\n",
      "99 123 4 18 1290.2703857421875 1290.0999755859375 1.0 81 -0.17041015625\n",
      "101 95 5 1 1400.4940185546875 1400.3399658203125 1.0 97 -0.154052734375\n",
      "36 19 30 4 910.9712524414062 910.8200073242188 1.0 1168 -0.1512451171875\n",
      "86 52 13 61 1151.74169921875 1151.5999755859375 1.0 498 -0.1417236328125\n",
      "23 2 30 33 790.0592651367188 789.9199829101562 1.0 1197 -0.1392822265625\n",
      "36 46 8 15 997.1134033203125 996.97998046875 1.0 227 -0.1334228515625\n",
      "15 31 23 48 859.490234375 859.3599853515625 1.0 969 -0.1302490234375\n",
      "16 3 15 76 757.1549682617188 757.0399780273438 1.0 708 -0.114990234375\n",
      "99 14 37 5 1152.94384765625 1152.8499755859375 1.0 1344 -0.0938720703125\n",
      "89 56 13 53 1164.082763671875 1163.989990234375 1.0 490 -0.0927734375\n",
      "91 122 4 29 1280.729736328125 1280.6400146484375 1.0 92 -0.0897216796875\n",
      "35 58 23 1 1069.680419921875 1069.5999755859375 1.0 922 -0.0804443359375\n",
      "52 81 14 51 1142.7772216796875 1142.699951171875 1.0 558 -0.0772705078125\n",
      "46 120 9 51 1181.7955322265625 1181.719970703125 1.0 310 -0.0755615234375\n",
      "40 48 8 9 1038.634765625 1038.56005859375 1.0 221 -0.07470703125\n",
      "99 41 24 33 1153.8238525390625 1153.75 1.0 1031 -0.0738525390625\n",
      "75 110 10 2 1199.30908203125 1199.25 1.0 325 -0.05908203125\n",
      "47 120 9 50 1182.4256591796875 1182.3699951171875 1.0 309 -0.0556640625\n",
      "98 123 4 19 1289.3104248046875 1289.2900390625 1.0 82 -0.0203857421875\n",
      "\n",
      "\n",
      "Checking segment_data for inconsistencies between segment end elevations and the model grid...\n",
      "Segment elevup and elevdn not specified for nstrm=-1439 and isfropt=1\n",
      "passed.\n",
      "\n",
      "Checking for streambed slopes of less than 0.0001...\n",
      "passed.\n",
      "\n",
      "Checking for streambed slopes of greater than 1.0...\n",
      "passed.\n",
      "\n",
      "wrote tf_SFR.chk\n",
      "wrote /home/runner/work/sfrmaker/sfrmaker/examples/Notebooks/../tylerforks/tylerforks/tf.sfr.\n"
     ]
    }
   ],
   "source": [
    "sfrdata.write_package()"
   ]
  },
  {
   "cell_type": "markdown",
   "metadata": {},
   "source": [
    "### Writing a MODFLOW-6 SFR package\n",
    "Alternatively, a MODFLOW-6 style SFR package can be written by specifying ``version='mf6'``"
   ]
  },
  {
   "cell_type": "code",
   "execution_count": 20,
   "metadata": {
    "execution": {
     "iopub.execute_input": "2025-07-11T20:17:18.829144Z",
     "iopub.status.busy": "2025-07-11T20:17:18.828708Z",
     "iopub.status.idle": "2025-07-11T20:17:19.119993Z",
     "shell.execute_reply": "2025-07-11T20:17:19.119525Z"
    }
   },
   "outputs": [
    {
     "name": "stdout",
     "output_type": "stream",
     "text": [
      "SFRmaker v. 0.12.1.post52.dev0+g4339462\n",
      "\n",
      "Running Flopy v. 3.10.0.dev3 diagnostics...\n",
      "passed.\n",
      "\n",
      "Checking for continuity in segment and reach numbering...\n",
      "passed.\n",
      "\n",
      "Checking for increasing segment numbers in downstream direction...\n",
      "passed.\n",
      "\n",
      "Checking for circular routing...\n",
      "passed.\n",
      "\n",
      "Checking reach connections for proximity...\n"
     ]
    },
    {
     "name": "stdout",
     "output_type": "stream",
     "text": [
      "5 segments with non-adjacent reaches found.\n",
      "At segments:\n",
      "41 20 21 22 23\n",
      "\n",
      "5 segments with non-adjacent reaches found.\n",
      "At segments:\n",
      "41 20 21 22 23\n",
      "\n",
      "\n",
      "Checking for model cells with multiple non-zero SFR conductances...\n",
      "24 model cells with multiple non-zero SFR conductances found.\n",
      "This may lead to circular routing between collocated reaches.\n",
      "Nodes with overlapping conductances:\n",
      "k\ti\tj\tiseg\tireach\trchlen\tstrthick\tstrhc1\n",
      "2\t110\t119\t1\t8\t268.5836486816406\t1.0\t1.0\n",
      "1\t110\t119\t2\t1\t72.61438751220703\t1.0\t1.0\n",
      "0\t87\t122\t3\t54\t35.35249328613281\t1.0\t1.0\n",
      "0\t87\t122\t4\t33\t231.09567260742188\t1.0\t1.0\n",
      "0\t76\t110\t5\t47\t204.88766479492188\t1.0\t1.0\n",
      "0\t87\t122\t6\t1\t30.414600372314453\t1.0\t1.0\n",
      "2\t84\t119\t6\t7\t271.24835205078125\t1.0\t1.0\n",
      "2\t84\t119\t6\t9\t26.37481117248535\t1.0\t1.0\n",
      "0\t76\t110\t6\t27\t75.33216094970703\t1.0\t1.0\n",
      "2\t25\t24\t7\t42\t95.27275085449219\t1.0\t1.0\n",
      "2\t25\t24\t8\t47\t230.57635498046875\t1.0\t1.0\n",
      "1\t58\t132\t9\t25\t48.14010238647461\t1.0\t1.0\n",
      "1\t58\t132\t9\t27\t92.92947387695312\t1.0\t1.0\n",
      "0\t48\t109\t9\t64\t251.07447814941406\t1.0\t1.0\n",
      "0\t76\t110\t10\t1\t69.20076751708984\t1.0\t1.0\n",
      "0\t48\t108\t10\t40\t19.56378746032715\t1.0\t1.0\n",
      "0\t48\t109\t10\t41\t122.84815216064453\t1.0\t1.0\n",
      "0\t48\t108\t10\t42\t28.33331871032715\t1.0\t1.0\n",
      "2\t25\t24\t11\t1\t21.51937484741211\t1.0\t1.0\n",
      "2\t18\t17\t11\t15\t148.96444702148438\t1.0\t1.0\n",
      "2\t18\t17\t12\t57\t76.79739379882812\t1.0\t1.0\n",
      "1\t80\t49\t13\t70\t159.26600646972656\t1.0\t1.0\n",
      "0\t48\t108\t14\t1\t125.24523162841797\t1.0\t1.0\n",
      "0\t47\t98\t14\t22\t67.60189056396484\t1.0\t1.0\n",
      "0\t47\t98\t14\t24\t103.03018188476562\t1.0\t1.0\n",
      "0\t54\t89\t14\t39\t34.45417785644531\t1.0\t1.0\n",
      "0\t54\t89\t14\t41\t60.66257095336914\t1.0\t1.0\n",
      "0\t53\t78\t14\t57\t61.411861419677734\t1.0\t1.0\n",
      "0\t53\t78\t14\t59\t28.438196182250977\t1.0\t1.0\n",
      "0\t52\t76\t14\t62\t63.360740661621094\t1.0\t1.0\n",
      "0\t52\t76\t14\t64\t294.8589782714844\t1.0\t1.0\n",
      "1\t54\t73\t14\t69\t341.6566162109375\t1.0\t1.0\n",
      "1\t54\t73\t14\t71\t27.671581268310547\t1.0\t1.0\n",
      "1\t80\t49\t14\t125\t39.762516021728516\t1.0\t1.0\n",
      "2\t18\t17\t16\t1\t185.54652404785156\t1.0\t1.0\n",
      "2\t15\t3\t16\t21\t32.64251708984375\t1.0\t1.0\n",
      "1\t36\t11\t17\t38\t57.836700439453125\t1.0\t1.0\n",
      "2\t110\t159\t19\t2\t201.63583374023438\t1.0\t1.0\n",
      "0\t38\t85\t21\t8\t72.7103042602539\t1.0\t1.0\n",
      "0\t38\t85\t21\t9\t54.39541244506836\t1.0\t1.0\n",
      "2\t108\t57\t24\t8\t237.04415893554688\t1.0\t1.0\n",
      "2\t108\t57\t24\t9\t46.142940521240234\t1.0\t1.0\n",
      "0\t94\t35\t24\t45\t96.94855499267578\t1.0\t1.0\n",
      "0\t94\t35\t24\t47\t91.54985046386719\t1.0\t1.0\n",
      "2\t91\t35\t24\t50\t60.89990997314453\t1.0\t1.0\n",
      "2\t91\t34\t24\t51\t61.16813278198242\t1.0\t1.0\n",
      "1\t80\t49\t25\t1\t146.93106079101562\t1.0\t1.0\n",
      "2\t91\t35\t25\t26\t308.2864685058594\t1.0\t1.0\n",
      "2\t91\t34\t25\t27\t75.82389068603516\t1.0\t1.0\n",
      "2\t15\t3\t31\t1\t273.603271484375\t1.0\t1.0\n",
      "2\t36\t11\t36\t1\t263.1260681152344\t1.0\t1.0\n",
      "2\t110\t159\t38\t1\t24.2677001953125\t1.0\t1.0\n",
      "2\t91\t34\t42\t1\t130.52822875976562\t1.0\t1.0\n",
      "1\t92\t30\t42\t6\t66.65867614746094\t1.0\t1.0\n",
      "1\t92\t30\t42\t8\t252.91909790039062\t1.0\t1.0\n",
      "\n",
      "Checking for streambed tops of less than -10...\n",
      "passed.\n",
      "\n",
      "Checking for streambed tops of greater than 15000...\n",
      "passed.\n",
      "\n",
      "Checking segment_data for downstream rises in streambed elevation...\n",
      "Segment elevup and elevdn not specified for nstrm=-1439 and isfropt=1\n",
      "passed.\n",
      "\n",
      "Checking reach_data for downstream rises in streambed elevation...\n",
      "passed.\n",
      "\n",
      "Checking reach_data for inconsistencies between streambed elevations and the model grid...\n",
      "186 reaches encountered with streambed above model top.\n",
      "Model top violations:\n",
      "i j iseg ireach strtop modeltop strhc1 reachID diff\n",
      "44 51 8 2 1096.0574951171875 1084.9100341796875 1.0 214 -11.1474609375\n",
      "31 53 23 10 1008.349853515625 998.0900268554688 1.0 931 -10.25982666015625\n",
      "34 50 12 5 1016.0361328125 1006.780029296875 1.0 385 -9.256103515625\n",
      "42 49 8 6 1066.8226318359375 1057.7900390625 1.0 218 -9.0325927734375\n",
      "3 76 27 3 1009.2495727539062 1002.1099853515625 1.0 1082 -7.13958740234375\n",
      "94 3 37 21 1073.4644775390625 1066.4599609375 1.0 1360 -7.0045166015625\n",
      "61 22 18 2 1029.281982421875 1022.3200073242188 1.0 769 -6.96197509765625\n",
      "84 111 5 34 1261.253662109375 1254.3699951171875 1.0 130 -6.8836669921875\n",
      "47 29 15 21 965.2784423828125 958.4199829101562 1.0 653 -6.85845947265625\n",
      "61 18 33 3 996.3890991210938 989.6300048828125 1.0 1246 -6.75909423828125\n",
      "71 5 35 9 990.4193725585938 983.8200073242188 1.0 1310 -6.599365234375\n",
      "43 50 8 4 1078.9158935546875 1072.3599853515625 1.0 216 -6.555908203125\n",
      "84 9 34 2 1085.3753662109375 1079.010009765625 1.0 1287 -6.3653564453125\n",
      "35 51 12 3 1028.656494140625 1022.8200073242188 1.0 383 -5.83648681640625\n",
      "108 54 24 12 1228.1346435546875 1222.3299560546875 1.0 1010 -5.8046875\n",
      "33 4 36 10 834.1530151367188 828.52001953125 1.0 1334 -5.63299560546875\n",
      "0 100 40 1 1027.534423828125 1022.1199951171875 1.0 1384 -5.4144287109375\n",
      "5 25 28 45 817.1793823242188 811.8099975585938 1.0 1135 -5.369384765625\n",
      "22 12 15 62 824.2842407226562 819.0800170898438 1.0 694 -5.2042236328125\n",
      "52 37 15 9 1054.0181884765625 1048.8399658203125 1.0 641 -5.17822265625\n",
      "65 1 35 19 944.7957153320312 939.6599731445312 1.0 1320 -5.1357421875\n",
      "49 15 18 19 925.3494262695312 920.3099975585938 1.0 786 -5.0394287109375\n",
      "51 24 17 11 963.3839721679688 958.3800048828125 1.0 740 -5.00396728515625\n",
      "26 47 23 21 942.5027465820312 937.5900268554688 1.0 942 -4.9127197265625\n",
      "1 23 28 51 778.961669921875 774.219970703125 1.0 1141 -4.74169921875\n",
      "73 5 35 7 1003.2875366210938 998.5999755859375 1.0 1308 -4.68756103515625\n",
      "45 28 15 24 947.1143188476562 942.72998046875 1.0 656 -4.38433837890625\n",
      "80 116 6 18 1229.7757568359375 1225.4599609375 1.0 161 -4.3157958984375\n",
      "27 18 15 51 863.89599609375 859.6300048828125 1.0 683 -4.2659912109375\n",
      "82 112 5 39 1242.8052978515625 1238.5400390625 1.0 135 -4.2652587890625\n",
      "35 31 7 25 922.0911254882812 918.2000122070312 1.0 195 -3.89111328125\n",
      "30 52 23 12 991.4169921875 987.5700073242188 1.0 933 -3.84698486328125\n",
      "71 4 35 10 981.303466796875 977.6799926757812 1.0 1311 -3.62347412109375\n",
      "58 19 18 6 986.8626708984375 983.260009765625 1.0 773 -3.6026611328125\n",
      "87 110 5 30 1283.4881591796875 1279.989990234375 1.0 126 -3.4981689453125\n",
      "59 17 33 5 976.4671630859375 973.0399780273438 1.0 1248 -3.42718505859375\n",
      "85 111 5 33 1264.7679443359375 1261.3499755859375 1.0 129 -3.41796875\n",
      "41 12 18 31 892.8302001953125 889.469970703125 1.0 798 -3.3602294921875\n",
      "54 12 33 15 932.0604248046875 928.719970703125 1.0 1258 -3.3404541015625\n",
      "16 32 23 46 867.0645751953125 863.75 1.0 967 -3.3145751953125\n",
      "28 40 12 21 934.5240478515625 931.27001953125 1.0 401 -3.2540283203125\n",
      "1 138 26 1 1154.71630859375 1151.489990234375 1.0 1077 -3.226318359375\n",
      "10 25 23 59 824.5831909179688 821.3699951171875 1.0 980 -3.21319580078125\n",
      "36 32 7 23 927.737060546875 924.5399780273438 1.0 193 -3.19708251953125\n",
      "51 15 18 17 930.7290649414062 927.5700073242188 1.0 784 -3.1590576171875\n",
      "67 2 35 16 953.3693237304688 950.25 1.0 1317 -3.11932373046875\n",
      "82 140 3 27 1305.33447265625 1302.239990234375 1.0 36 -3.094482421875\n",
      "58 4 32 22 912.39599609375 909.3099975585938 1.0 1234 -3.08599853515625\n",
      "31 28 7 32 902.4729614257812 899.4500122070312 1.0 202 -3.02294921875\n",
      "18 0 30 40 762.85107421875 759.8400268554688 1.0 1204 -3.01104736328125\n",
      "88 110 5 29 1288.3612060546875 1285.3800048828125 1.0 125 -2.981201171875\n",
      "34 30 7 27 917.8261108398438 914.8599853515625 1.0 197 -2.96612548828125\n",
      "33 13 30 13 879.4591674804688 876.5599975585938 1.0 1177 -2.899169921875\n",
      "1 137 26 2 1149.9388427734375 1147.0799560546875 1.0 1078 -2.85888671875\n",
      "109 58 24 6 1244.657470703125 1241.8199462890625 1.0 1004 -2.8375244140625\n",
      "6 22 23 66 783.7332153320312 780.9299926757812 1.0 987 -2.80322265625\n",
      "28 7 30 24 838.6741943359375 835.8900146484375 1.0 1188 -2.7841796875\n",
      "83 51 13 65 1143.177490234375 1140.4300537109375 1.0 502 -2.7474365234375\n",
      "20 9 15 67 797.5311279296875 794.7999877929688 1.0 699 -2.73114013671875\n",
      "83 145 3 21 1313.221923828125 1310.52001953125 1.0 30 -2.701904296875\n",
      "34 43 8 20 971.7984619140625 969.0999755859375 1.0 232 -2.698486328125\n",
      "43 39 7 10 1002.135009765625 999.4600219726562 1.0 180 -2.67498779296875\n",
      "18 16 16 2 816.8546142578125 814.1799926757812 1.0 710 -2.67462158203125\n",
      "80 2 34 13 1005.6331176757812 1002.989990234375 1.0 1298 -2.64312744140625\n",
      "57 27 17 2 1030.468994140625 1027.8399658203125 1.0 731 -2.6290283203125\n",
      "98 6 37 14 1130.2991943359375 1127.739990234375 1.0 1353 -2.5592041015625\n",
      "96 6 37 16 1109.81494140625 1107.27001953125 1.0 1355 -2.544921875\n",
      "41 27 15 29 922.3822631835938 919.8499755859375 1.0 661 -2.53228759765625\n",
      "93 35 24 48 1133.5345458984375 1131.030029296875 1.0 1046 -2.5045166015625\n",
      "11 26 23 57 835.0635986328125 832.5999755859375 1.0 978 -2.463623046875\n",
      "57 18 18 8 976.854248046875 974.4600219726562 1.0 775 -2.39422607421875\n",
      "43 27 15 27 935.5574951171875 933.1699829101562 1.0 659 -2.38751220703125\n",
      "29 19 15 48 875.1234130859375 872.77001953125 1.0 680 -2.3533935546875\n",
      "97 6 37 15 1122.60205078125 1120.280029296875 1.0 1354 -2.322021484375\n",
      "76 110 6 27 1202.379638671875 1200.0799560546875 1.0 170 -2.2996826171875\n",
      "13 29 23 52 853.8441162109375 851.5800170898438 1.0 973 -2.26409912109375\n",
      "28 50 23 16 969.1011352539062 966.8800048828125 1.0 937 -2.22113037109375\n",
      "41 0 33 40 858.0049438476562 855.7899780273438 1.0 1283 -2.2149658203125\n",
      "25 16 15 55 848.8750610351562 846.7100219726562 1.0 687 -2.1650390625\n",
      "3 24 28 48 797.5549926757812 795.4099731445312 1.0 1138 -2.14501953125\n",
      "65 10 32 9 973.0398559570312 970.9299926757812 1.0 1221 -2.10986328125\n",
      "98 100 5 9 1381.1871337890625 1379.1099853515625 1.0 105 -2.0771484375\n",
      "21 25 12 43 869.5907592773438 867.52001953125 1.0 423 -2.07073974609375\n",
      "78 111 5 44 1220.5587158203125 1218.530029296875 1.0 140 -2.0286865234375\n",
      "55 25 17 6 996.66845703125 994.6400146484375 1.0 735 -2.0284423828125\n",
      "51 36 15 11 1035.9466552734375 1033.9599609375 1.0 643 -1.9866943359375\n",
      "30 34 8 32 918.734375 916.7899780273438 1.0 244 -1.94439697265625\n",
      "32 21 15 44 887.8782348632812 885.9400024414062 1.0 676 -1.938232421875\n",
      "4 77 27 1 1019.9188232421875 1018.0 1.0 1080 -1.9188232421875\n",
      "51 9 33 21 916.0432739257812 914.1300048828125 1.0 1264 -1.91326904296875\n",
      "27 6 30 26 830.7896118164062 828.9600219726562 1.0 1190 -1.82958984375\n",
      "6 26 28 43 833.5056762695312 831.719970703125 1.0 1133 -1.78570556640625\n",
      "22 2 30 34 786.0257568359375 784.25 1.0 1198 -1.7757568359375\n",
      "7 26 28 42 844.1419677734375 842.3800048828125 1.0 1132 -1.761962890625\n",
      "48 6 33 27 898.0303955078125 896.2899780273438 1.0 1270 -1.74041748046875\n",
      "18 21 12 51 847.4663696289062 845.739990234375 1.0 431 -1.72637939453125\n",
      "89 64 13 41 1181.4326171875 1179.72998046875 1.0 478 -1.70263671875\n",
      "74 6 35 5 1011.9109497070312 1010.219970703125 1.0 1306 -1.69097900390625\n",
      "8 69 22 4 1005.525390625 1003.8599853515625 1.0 904 -1.6654052734375\n",
      "13 45 28 18 909.0931396484375 907.5 1.0 1108 -1.5931396484375\n",
      "43 13 18 28 900.6517333984375 899.0599975585938 1.0 795 -1.59173583984375\n",
      "46 14 18 24 910.212890625 908.7100219726562 1.0 791 -1.50286865234375\n",
      "15 6 16 16 769.787109375 768.2899780273438 1.0 724 -1.49713134765625\n",
      "3 39 29 12 893.4083862304688 891.9400024414062 1.0 1155 -1.4683837890625\n",
      "84 145 3 20 1316.32958984375 1314.9100341796875 1.0 29 -1.4195556640625\n",
      "12 28 23 54 846.7885131835938 845.3699951171875 1.0 975 -1.41851806640625\n",
      "20 1 30 37 775.9326171875 774.530029296875 1.0 1201 -1.402587890625\n",
      "47 5 33 29 893.9849243164062 892.5900268554688 1.0 1272 -1.3948974609375\n",
      "57 3 32 24 906.1943359375 904.8900146484375 1.0 1236 -1.3043212890625\n",
      "37 20 30 2 917.4218139648438 916.1199951171875 1.0 1166 -1.30181884765625\n",
      "76 110 5 47 1201.3443603515625 1200.0799560546875 1.0 143 -1.264404296875\n",
      "76 110 10 1 1201.3443603515625 1200.0799560546875 1.0 324 -1.264404296875\n",
      "68 3 35 14 962.5520629882812 961.3599853515625 1.0 1315 -1.19207763671875\n",
      "51 119 9 45 1191.214111328125 1190.050048828125 1.0 304 -1.1640625\n",
      "25 46 23 23 935.9991455078125 934.8499755859375 1.0 944 -1.149169921875\n",
      "39 26 15 32 915.0709838867188 913.97998046875 1.0 664 -1.09100341796875\n",
      "70 3 35 12 969.0398559570312 967.9500122070312 1.0 1313 -1.08984375\n",
      "6 158 39 3 1123.38037109375 1122.300048828125 1.0 1372 -1.080322265625\n",
      "37 25 15 35 908.1263427734375 907.0700073242188 1.0 667 -1.05633544921875\n",
      "26 25 7 40 879.2858276367188 878.239990234375 1.0 210 -1.04583740234375\n",
      "97 41 24 35 1150.635498046875 1149.6500244140625 1.0 1033 -0.9854736328125\n",
      "60 107 10 26 1175.4578857421875 1174.52001953125 1.0 349 -0.9378662109375\n",
      "46 21 17 19 923.8571166992188 922.9199829101562 1.0 748 -0.9371337890625\n",
      "25 158 20 3 1172.1849365234375 1171.27001953125 1.0 807 -0.9149169921875\n",
      "39 48 8 10 1029.3406982421875 1028.449951171875 1.0 222 -0.8907470703125\n",
      "14 99 21 61 1097.334716796875 1096.469970703125 1.0 879 -0.86474609375\n",
      "40 86 21 5 1143.69384765625 1142.8499755859375 1.0 823 -0.8438720703125\n",
      "85 52 13 62 1149.013427734375 1148.1700439453125 1.0 499 -0.8433837890625\n",
      "52 109 10 35 1164.787353515625 1163.969970703125 1.0 358 -0.8173828125\n",
      "38 12 17 36 880.8272094726562 880.030029296875 1.0 765 -0.79718017578125\n",
      "74 8 35 3 1025.747314453125 1024.9599609375 1.0 1304 -0.787353515625\n",
      "105 51 24 18 1209.4859619140625 1208.699951171875 1.0 1016 -0.7860107421875\n",
      "51 108 10 37 1162.79296875 1162.010009765625 1.0 360 -0.782958984375\n",
      "25 33 12 31 903.5383911132812 902.760009765625 1.0 411 -0.77838134765625\n",
      "28 25 7 38 886.2448120117188 885.5 1.0 208 -0.74481201171875\n",
      "0 71 27 11 967.5951538085938 966.8599853515625 1.0 1090 -0.73516845703125\n",
      "66 10 32 8 977.9095458984375 977.219970703125 1.0 1220 -0.6895751953125\n",
      "5 157 39 5 1121.365966796875 1120.6800537109375 1.0 1374 -0.6859130859375\n",
      "45 13 18 26 906.5974731445312 905.9299926757812 1.0 793 -0.66748046875\n",
      "26 158 20 2 1174.694580078125 1174.030029296875 1.0 806 -0.66455078125\n",
      "62 19 33 1 1005.5029296875 1004.8400268554688 1.0 1244 -0.66290283203125\n",
      "56 18 18 9 967.2000732421875 966.5399780273438 1.0 776 -0.66009521484375\n",
      "33 80 21 19 1128.41845703125 1127.780029296875 1.0 837 -0.638427734375\n",
      "101 41 24 31 1158.5797119140625 1157.969970703125 1.0 1029 -0.6097412109375\n",
      "74 109 10 4 1198.0435791015625 1197.43994140625 1.0 327 -0.6036376953125\n",
      "30 10 30 19 857.75048828125 857.1599731445312 1.0 1183 -0.59051513671875\n",
      "96 36 24 42 1141.318359375 1140.72998046875 1.0 1040 -0.58837890625\n",
      "33 22 15 42 892.9962768554688 892.4299926757812 1.0 674 -0.5662841796875\n",
      "6 104 21 74 1082.59326171875 1082.06005859375 1.0 892 -0.533203125\n",
      "104 44 24 26 1173.2772216796875 1172.8199462890625 1.0 1024 -0.457275390625\n",
      "42 27 15 28 927.3306884765625 926.8800048828125 1.0 660 -0.45068359375\n",
      "26 17 15 53 855.5484008789062 855.1099853515625 1.0 685 -0.43841552734375\n",
      "93 122 4 27 1282.7025146484375 1282.2900390625 1.0 90 -0.4124755859375\n",
      "20 89 21 45 1108.5118408203125 1108.0999755859375 1.0 863 -0.411865234375\n",
      "32 29 7 30 907.5672607421875 907.1599731445312 1.0 200 -0.40728759765625\n",
      "6 44 29 4 923.0087890625 922.6599731445312 1.0 1147 -0.34881591796875\n",
      "98 41 24 34 1152.4619140625 1152.1199951171875 1.0 1032 -0.3419189453125\n",
      "60 6 32 18 933.5938720703125 933.260009765625 1.0 1230 -0.3338623046875\n",
      "37 21 30 1 919.2725830078125 918.9400024414062 1.0 1165 -0.33258056640625\n",
      "89 122 4 31 1278.8204345703125 1278.5 1.0 94 -0.3204345703125\n",
      "57 108 10 30 1171.8583984375 1171.5400390625 1.0 353 -0.318359375\n",
      "34 81 21 17 1129.405517578125 1129.0899658203125 1.0 835 -0.3155517578125\n",
      "82 50 13 67 1139.371337890625 1139.06005859375 1.0 504 -0.311279296875\n",
      "53 108 10 34 1166.6656494140625 1166.4000244140625 1.0 357 -0.265625\n",
      "88 55 13 55 1161.44287109375 1161.199951171875 1.0 492 -0.242919921875\n",
      "47 105 14 7 1156.3297119140625 1156.0999755859375 1.0 514 -0.229736328125\n",
      "58 108 10 29 1172.513916015625 1172.2900390625 1.0 352 -0.223876953125\n",
      "99 123 4 18 1290.2703857421875 1290.0999755859375 1.0 81 -0.17041015625\n",
      "101 95 5 1 1400.4940185546875 1400.3399658203125 1.0 97 -0.154052734375\n",
      "36 19 30 4 910.9712524414062 910.8200073242188 1.0 1168 -0.1512451171875\n",
      "86 52 13 61 1151.74169921875 1151.5999755859375 1.0 498 -0.1417236328125\n",
      "23 2 30 33 790.0592651367188 789.9199829101562 1.0 1197 -0.1392822265625\n",
      "36 46 8 15 997.1134033203125 996.97998046875 1.0 227 -0.1334228515625\n",
      "15 31 23 48 859.490234375 859.3599853515625 1.0 969 -0.1302490234375\n",
      "16 3 15 76 757.1549682617188 757.0399780273438 1.0 708 -0.114990234375\n",
      "99 14 37 5 1152.94384765625 1152.8499755859375 1.0 1344 -0.0938720703125\n",
      "89 56 13 53 1164.082763671875 1163.989990234375 1.0 490 -0.0927734375\n",
      "91 122 4 29 1280.729736328125 1280.6400146484375 1.0 92 -0.0897216796875\n",
      "35 58 23 1 1069.680419921875 1069.5999755859375 1.0 922 -0.0804443359375\n",
      "52 81 14 51 1142.7772216796875 1142.699951171875 1.0 558 -0.0772705078125\n",
      "46 120 9 51 1181.7955322265625 1181.719970703125 1.0 310 -0.0755615234375\n",
      "40 48 8 9 1038.634765625 1038.56005859375 1.0 221 -0.07470703125\n",
      "99 41 24 33 1153.8238525390625 1153.75 1.0 1031 -0.0738525390625\n",
      "75 110 10 2 1199.30908203125 1199.25 1.0 325 -0.05908203125\n",
      "47 120 9 50 1182.4256591796875 1182.3699951171875 1.0 309 -0.0556640625\n",
      "98 123 4 19 1289.3104248046875 1289.2900390625 1.0 82 -0.0203857421875\n",
      "\n",
      "\n",
      "Checking segment_data for inconsistencies between segment end elevations and the model grid...\n",
      "Segment elevup and elevdn not specified for nstrm=-1439 and isfropt=1\n",
      "passed.\n",
      "\n",
      "Checking for streambed slopes of less than 0.0001...\n",
      "passed.\n",
      "\n",
      "Checking for streambed slopes of greater than 1.0...\n",
      "passed.\n",
      "\n",
      "wrote tf_SFR.chk\n",
      "converting segment data to period data...\n",
      "converting reach and segment data to package data...\n"
     ]
    },
    {
     "name": "stdout",
     "output_type": "stream",
     "text": [
      "wrote tf_mf6.sfr\n"
     ]
    }
   ],
   "source": [
    "sfrdata.write_package('tf_mf6.sfr', version='mf6')"
   ]
  },
  {
   "cell_type": "markdown",
   "metadata": {},
   "source": [
    "### Writing tables\n",
    "The ``reach_data`` and ``segment_data`` tables can be written out to csv files for further processing:"
   ]
  },
  {
   "cell_type": "code",
   "execution_count": 21,
   "metadata": {
    "execution": {
     "iopub.execute_input": "2025-07-11T20:17:19.121844Z",
     "iopub.status.busy": "2025-07-11T20:17:19.121484Z",
     "iopub.status.idle": "2025-07-11T20:17:19.139275Z",
     "shell.execute_reply": "2025-07-11T20:17:19.138851Z"
    }
   },
   "outputs": [
    {
     "name": "stdout",
     "output_type": "stream",
     "text": [
      "wrote tables/tf_sfr_reach_data.csv\n",
      "wrote tables/tf_sfr_segment_data.csv\n"
     ]
    }
   ],
   "source": [
    "sfrdata.write_tables()"
   ]
  },
  {
   "cell_type": "markdown",
   "metadata": {},
   "source": [
    "and then read back in to create an ``SFRData`` instance"
   ]
  },
  {
   "cell_type": "code",
   "execution_count": 22,
   "metadata": {
    "execution": {
     "iopub.execute_input": "2025-07-11T20:17:19.141128Z",
     "iopub.status.busy": "2025-07-11T20:17:19.140772Z",
     "iopub.status.idle": "2025-07-11T20:17:19.194079Z",
     "shell.execute_reply": "2025-07-11T20:17:19.193543Z"
    }
   },
   "outputs": [
    {
     "name": "stdout",
     "output_type": "stream",
     "text": [
      "Model grid information\n",
      "structured grid\n",
      "nnodes: 17,760\n",
      "nlay: 1\n",
      "nrow: 111\n",
      "ncol: 160\n",
      "model length units: undefined\n",
      "crs: EPSG:26715\n",
      "bounds: 682688.00, 5139052.00, 694880.00, 5147510.20\n",
      "active area defined by: isfr array\n",
      "\n"
     ]
    }
   ],
   "source": [
    "sfrdata2 = sfrmaker.SFRData.from_tables('tables/tf_sfr_reach_data.csv', 'tables/tf_sfr_segment_data.csv',\n",
    "                                        grid=grid)"
   ]
  },
  {
   "cell_type": "markdown",
   "metadata": {},
   "source": [
    "### Writing shapefiles\n",
    "Shapefiles can also be written to visualize the SFR package. These include:\n",
    "* hydrography linestrings associated with each reach\n",
    "* model cell polygons associated with each reach\n",
    "* outlet locations where water is leaving the model\n",
    "* routing connections (as lines drawn between cell centers)\n",
    "* the locations of specified inflows or any other period data\n",
    "* observation locations (if observations were supplied as input)"
   ]
  },
  {
   "cell_type": "code",
   "execution_count": 23,
   "metadata": {
    "execution": {
     "iopub.execute_input": "2025-07-11T20:17:19.195753Z",
     "iopub.status.busy": "2025-07-11T20:17:19.195586Z",
     "iopub.status.idle": "2025-07-11T20:17:19.687581Z",
     "shell.execute_reply": "2025-07-11T20:17:19.687081Z"
    }
   },
   "outputs": [
    {
     "name": "stdout",
     "output_type": "stream",
     "text": [
      "writing shps/tf_sfr_cells.shp..."
     ]
    },
    {
     "name": "stdout",
     "output_type": "stream",
     "text": [
      " Done\n",
      "writing shps/tf_sfr_outlets.shp... Done\n",
      "writing shps/tf_sfr_lines.shp..."
     ]
    },
    {
     "name": "stdout",
     "output_type": "stream",
     "text": [
      " Done\n"
     ]
    },
    {
     "name": "stdout",
     "output_type": "stream",
     "text": [
      "writing shps/tf_sfr_routing.shp... Done\n",
      "No period data to export!\n",
      "No observations to export!\n",
      "No non-zero values of flow to export!\n"
     ]
    }
   ],
   "source": [
    "sfrdata.write_shapefiles()"
   ]
  },
  {
   "cell_type": "code",
   "execution_count": null,
   "metadata": {},
   "outputs": [],
   "source": []
  }
 ],
 "metadata": {
  "kernelspec": {
   "display_name": "sfrmaker_ci",
   "language": "python",
   "name": "python3"
  },
  "language_info": {
   "codemirror_mode": {
    "name": "ipython",
    "version": 3
   },
   "file_extension": ".py",
   "mimetype": "text/x-python",
   "name": "python",
   "nbconvert_exporter": "python",
   "pygments_lexer": "ipython3",
   "version": "3.13.5"
  }
 },
 "nbformat": 4,
 "nbformat_minor": 4
}
