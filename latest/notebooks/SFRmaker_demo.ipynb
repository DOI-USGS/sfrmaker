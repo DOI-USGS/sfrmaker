{
 "cells": [
  {
   "cell_type": "markdown",
   "metadata": {},
   "source": [
    "# Basic usage of SFRmaker in a scripting context\n",
    "This example illustrates basic usage of SFRmaker in a scripting context. For examples of using SFRmaker with a configuration file, see the MERAS and Tyler Forks examples."
   ]
  },
  {
   "cell_type": "code",
   "execution_count": 1,
   "metadata": {
    "execution": {
     "iopub.execute_input": "2024-10-19T18:30:09.209311Z",
     "iopub.status.busy": "2024-10-19T18:30:09.208943Z",
     "iopub.status.idle": "2024-10-19T18:30:10.261866Z",
     "shell.execute_reply": "2024-10-19T18:30:10.261333Z"
    }
   },
   "outputs": [],
   "source": [
    "import numpy as np\n",
    "import matplotlib.pyplot as plt\n",
    "import flopy\n",
    "import sfrmaker"
   ]
  },
  {
   "cell_type": "markdown",
   "metadata": {},
   "source": [
    "### Input requirements\n",
    "The most basic input requirements of SFRmaker are hydrography and a model grid. Optionally, a model and a DEM can be input, as demonstrated below. See the [documentation](https://aleaf.github.io/sfrmaker/inputs.html) for a more detailed description of inputs.\n",
    "\n",
    "#### Hydrography\n",
    "In this example, we will use data that has been downloaded from [NHDPlus](https://nhdplus.com/NHDPlus/NHDPlusV2_data.php). The original file structure in the download has been maintained, allowing us to simply supply SFRmaker with a path to the NHDPlus files:"
   ]
  },
  {
   "cell_type": "code",
   "execution_count": 2,
   "metadata": {
    "execution": {
     "iopub.execute_input": "2024-10-19T18:30:10.264236Z",
     "iopub.status.busy": "2024-10-19T18:30:10.263688Z",
     "iopub.status.idle": "2024-10-19T18:30:10.266284Z",
     "shell.execute_reply": "2024-10-19T18:30:10.265909Z"
    }
   },
   "outputs": [],
   "source": [
    "NHDPlus_paths = '../tylerforks/NHDPlus/'"
   ]
  },
  {
   "cell_type": "markdown",
   "metadata": {},
   "source": [
    "If we were dealing with more than one drainage basin, the NHDPlus file paths could be included in a list:"
   ]
  },
  {
   "cell_type": "code",
   "execution_count": 3,
   "metadata": {
    "execution": {
     "iopub.execute_input": "2024-10-19T18:30:10.267859Z",
     "iopub.status.busy": "2024-10-19T18:30:10.267581Z",
     "iopub.status.idle": "2024-10-19T18:30:10.269859Z",
     "shell.execute_reply": "2024-10-19T18:30:10.269414Z"
    }
   },
   "outputs": [],
   "source": [
    "NHDPlus_paths_list = ['/NHDPlusGL/NHDPlus04/',\n",
    "                      '/NHDPlusMS/NHDPlus07/']"
   ]
  },
  {
   "cell_type": "markdown",
   "metadata": {},
   "source": [
    "### Creating a ``Lines`` instance from NHDPlus\n",
    "The ``sfrmaker.Lines`` class includes functionality for reading and processing hydrography flowlines. This example shows how to create a ``Lines`` instance from NHDPlus data.\n",
    "\n",
    "For large hydrography datasets, it is advantageous to filter the data when it is read in. The ``filter`` argument to ``sfrmaker.Lines`` accepts a shapefile path or tuple of bounding box coordinates. In either case, a bounding box tuple is created and passed to the ``filter`` method in the [``fiona`` package](https://fiona.readthedocs.io/en/latest/manual.html), which is fast."
   ]
  },
  {
   "cell_type": "code",
   "execution_count": 4,
   "metadata": {
    "execution": {
     "iopub.execute_input": "2024-10-19T18:30:10.271454Z",
     "iopub.status.busy": "2024-10-19T18:30:10.271071Z",
     "iopub.status.idle": "2024-10-19T18:30:10.380985Z",
     "shell.execute_reply": "2024-10-19T18:30:10.380493Z"
    }
   },
   "outputs": [
    {
     "name": "stdout",
     "output_type": "stream",
     "text": [
      "\n",
      "loading NHDPlus v2 hydrography data...\n",
      "for basins:\n",
      "../tylerforks/NHDPlus/\n",
      "\n",
      "reading ../tylerforks/NHDPlus/NHDPlusAttributes/PlusFlow.dbf...\n",
      "--> building dataframe... (may take a while for large shapefiles)\n",
      "\n",
      "load finished in 0.07s\n",
      "\n",
      "Getting routing information from NHDPlus Plusflow table...\n",
      "finished in 0.03s\n",
      "\n"
     ]
    }
   ],
   "source": [
    "lns = sfrmaker.Lines.from_nhdplus_v2(NHDPlus_paths='../tylerforks/NHDPlus/',\n",
    "                            bbox_filter='../tylerforks/grid.shp')"
   ]
  },
  {
   "cell_type": "markdown",
   "metadata": {},
   "source": [
    "Alternatively, ``sfrmaker.Lines`` can be instantiated with separate arguments for each NHDPlus file used:"
   ]
  },
  {
   "cell_type": "code",
   "execution_count": 5,
   "metadata": {
    "execution": {
     "iopub.execute_input": "2024-10-19T18:30:10.409060Z",
     "iopub.status.busy": "2024-10-19T18:30:10.408535Z",
     "iopub.status.idle": "2024-10-19T18:30:10.472197Z",
     "shell.execute_reply": "2024-10-19T18:30:10.471747Z"
    }
   },
   "outputs": [
    {
     "name": "stdout",
     "output_type": "stream",
     "text": [
      "\n",
      "loading NHDPlus v2 hydrography data...\n",
      "\n",
      "reading ../tylerforks/NHDPlus/NHDPlusAttributes/PlusFlow.dbf...\n",
      "--> building dataframe... (may take a while for large shapefiles)\n",
      "\n",
      "load finished in 0.02s\n",
      "\n",
      "Getting routing information from NHDPlus Plusflow table...\n",
      "finished in 0.03s\n",
      "\n"
     ]
    }
   ],
   "source": [
    "lines = sfrmaker.Lines.from_nhdplus_v2(NHDFlowlines='../tylerforks/NHDPlus/NHDSnapshot/Hydrography/NHDFlowline.shp',\n",
    "                                       PlusFlowlineVAA='../tylerforks/NHDPlus/NHDPlusAttributes/PlusFlowlineVAA.dbf',\n",
    "                                       PlusFlow='../tylerforks/NHDPlus/NHDPlusAttributes/PlusFlow.dbf',\n",
    "                                       elevslope='../tylerforks/NHDPlus/NHDPlusAttributes/elevslope.dbf',\n",
    "                                       bbox_filter=(-90.625, 46.3788, -90.4634, 46.4586))"
   ]
  },
  {
   "cell_type": "markdown",
   "metadata": {},
   "source": [
    "### Creating a ``Lines`` instance from custom hydrography\n",
    "Alternatively, a ``Lines`` instance can be created from any hydrography that includes the pertinent attribute fields, which must be specified:"
   ]
  },
  {
   "cell_type": "code",
   "execution_count": 6,
   "metadata": {
    "execution": {
     "iopub.execute_input": "2024-10-19T18:30:10.473759Z",
     "iopub.status.busy": "2024-10-19T18:30:10.473600Z",
     "iopub.status.idle": "2024-10-19T18:30:11.329439Z",
     "shell.execute_reply": "2024-10-19T18:30:11.328925Z"
    }
   },
   "outputs": [],
   "source": [
    "custom_lines = sfrmaker.Lines.from_shapefile(shapefile='../meras/flowlines.shp',\n",
    "                                             id_column='COMID',  # arguments to sfrmaker.Lines.from_shapefile\n",
    "                                             routing_column='tocomid',\n",
    "                                             width1_column='width1',\n",
    "                                             width2_column='width2',\n",
    "                                             up_elevation_column='elevupsmo',\n",
    "                                             dn_elevation_column='elevdnsmo',\n",
    "                                             name_column='GNIS_NAME',\n",
    "                                             attr_length_units='feet',  # units of source data\n",
    "                                             attr_height_units='feet',  # units of source data\n",
    "                                             )"
   ]
  },
  {
   "cell_type": "markdown",
   "metadata": {},
   "source": [
    "### Specifying a model grid from a flopy `StructuredGrid` instance\n",
    "The next step is to specify a model grid. One option is to specify a flopy `StructuredGrid` instance. SFRmaker will then use this internally to create an instance of its own `StructuredGrid` class. In this case, the row and column spacing must be provided in the units of the projected coordinate reference system (CRS) that the model is in, which is typically meters. In this case, our model grid spacing is 250 feet, so we have to convert. \n",
    "\n",
    "Specifying a CRS (via the ``crs`` argument) is also important, as it allows SFRmaker to automatically reproject any input data to the same CRS as the model grid. [The best way to do this is with an EPSG code](https://proj.org/faq.html#what-is-the-best-format-for-describing-coordinate-reference-systems), as shown below.\n",
    "\n",
    "See the flopy documentation for more details about `StructuredGrid`."
   ]
  },
  {
   "cell_type": "code",
   "execution_count": 7,
   "metadata": {
    "execution": {
     "iopub.execute_input": "2024-10-19T18:30:11.331392Z",
     "iopub.status.busy": "2024-10-19T18:30:11.331080Z",
     "iopub.status.idle": "2024-10-19T18:30:11.334296Z",
     "shell.execute_reply": "2024-10-19T18:30:11.333892Z"
    }
   },
   "outputs": [],
   "source": [
    "delr = np.array([250 * 0.3048] * 160)  # cell spacing along a row\n",
    "delc = np.array([250 * 0.3048] * 111)  # cell spacing along a column\n",
    "\n",
    "flopy_grid = flopy.discretization.StructuredGrid(delr=delr, delc=delc,\n",
    "                                                 xoff=682688, yoff=5139052,  # lower left corner of model grid\n",
    "                                                 angrot=0,  # grid is unrotated\n",
    "                                                 # projected coordinate system of model (UTM NAD27 zone 15 North)\n",
    "                                                 crs=26715\n",
    "                                                 )"
   ]
  },
  {
   "cell_type": "markdown",
   "metadata": {},
   "source": [
    "### Specifying a model grid from a shapefile\n",
    "Another option is to create an SFRmaker `StructuredGrid` directly using a shapefile. While the basic underpinings are in place for SFRmaker to support unstructured grids, this option hasn't been fully implemented yet.\n",
    "\n",
    "Attribute fields with row and column information must be specified. An polygon defining the area where the SFR network will be created can optionally be specified here, or later in the creation of ``SFRData`` (see below)."
   ]
  },
  {
   "cell_type": "code",
   "execution_count": 8,
   "metadata": {
    "execution": {
     "iopub.execute_input": "2024-10-19T18:30:11.335966Z",
     "iopub.status.busy": "2024-10-19T18:30:11.335565Z",
     "iopub.status.idle": "2024-10-19T18:30:12.405642Z",
     "shell.execute_reply": "2024-10-19T18:30:12.405169Z"
    }
   },
   "outputs": [
    {
     "name": "stdout",
     "output_type": "stream",
     "text": [
      "\n",
      "reading ../tylerforks/grid.shp...\n"
     ]
    },
    {
     "name": "stdout",
     "output_type": "stream",
     "text": [
      "--> building dataframe... (may take a while for large shapefiles)\n"
     ]
    },
    {
     "name": "stdout",
     "output_type": "stream",
     "text": [
      "\n",
      "reading ../tylerforks/active_area.shp...\n",
      "--> building dataframe... (may take a while for large shapefiles)\n"
     ]
    }
   ],
   "source": [
    "grid = sfrmaker.StructuredGrid.from_shapefile(shapefile='../tylerforks/grid.shp',\n",
    "                                              icol='i',  # attribute field with row information\n",
    "                                              jcol='j',  # attribute field with column information\n",
    "                                              active_area='../tylerforks/active_area.shp'\n",
    "                                              )"
   ]
  },
  {
   "cell_type": "markdown",
   "metadata": {},
   "source": [
    "With specification of ``active_area``, the grid created above has an **``isfr``** array attribute designating which cells can have SFR:"
   ]
  },
  {
   "cell_type": "code",
   "execution_count": 9,
   "metadata": {
    "execution": {
     "iopub.execute_input": "2024-10-19T18:30:12.407221Z",
     "iopub.status.busy": "2024-10-19T18:30:12.407057Z",
     "iopub.status.idle": "2024-10-19T18:30:12.507386Z",
     "shell.execute_reply": "2024-10-19T18:30:12.506853Z"
    }
   },
   "outputs": [
    {
     "data": {
      "text/plain": [
       "<matplotlib.image.AxesImage at 0x7f826c304aa0>"
      ]
     },
     "execution_count": 9,
     "metadata": {},
     "output_type": "execute_result"
    },
    {
     "data": {
      "image/png": "[encoded data removed]",
      "text/plain": [
       "<Figure size 640x480 with 1 Axes>"
      ]
     },
     "metadata": {},
     "output_type": "display_data"
    }
   ],
   "source": [
    "plt.imshow(grid.isfr, interpolation='nearest')"
   ]
  },
  {
   "cell_type": "markdown",
   "metadata": {},
   "source": [
    "### Using the ``modelgrid`` attached to a flopy model\n",
    "If no grid is supplied as input, SFRmaker will try to use ``modelgrid`` attribute attached to a supplied flopy model instance. This only works if ``modelgrid`` is valid. Loading a flopy model with a valid model grid requires the grid information to be specified in the namefile header, and that the model be in the same units as the projected CRS. See the flopy documentation for more details"
   ]
  },
  {
   "cell_type": "markdown",
   "metadata": {},
   "source": [
    "### Specifying a model\n",
    "While a model is not required to run SFRmaker, specifying a model is advantageous in that it allows SFRmaker to assign valid model layers for reaches. Models are specified as flopy model instances, which can be loaded or created from scratch (see the flopy documentation). In this case, we are loading a model:"
   ]
  },
  {
   "cell_type": "code",
   "execution_count": 10,
   "metadata": {
    "execution": {
     "iopub.execute_input": "2024-10-19T18:30:12.508978Z",
     "iopub.status.busy": "2024-10-19T18:30:12.508808Z",
     "iopub.status.idle": "2024-10-19T18:30:12.587252Z",
     "shell.execute_reply": "2024-10-19T18:30:12.586807Z"
    }
   },
   "outputs": [
    {
     "data": {
      "text/plain": [
       "MODFLOW 5 layer(s) 111 row(s) 160 column(s) 1 stress period(s)"
      ]
     },
     "execution_count": 10,
     "metadata": {},
     "output_type": "execute_result"
    }
   ],
   "source": [
    "m = flopy.modflow.Modflow.load('tf.nam', model_ws='../tylerforks/tylerforks')\n",
    "m"
   ]
  },
  {
   "cell_type": "markdown",
   "metadata": {},
   "source": [
    "### Creating an SFRData instance\n",
    "The ``sfrmaker.SFRData`` class is the primary object for creating or modifying an SFR dataset. A ``SFRData`` instance can be created from the ``Lines`` class using the ``to_sfr()`` method.\n",
    "\n",
    "Either a flopy ``StructuredGrid`` or sfrmaker ``StructuredGrid`` can be supplied. While MODFLOW and flopy support specification of length units, these aren't always specified in the model input files, so it is good practice to specifiy the units explicitly to SFRmaker."
   ]
  },
  {
   "cell_type": "code",
   "execution_count": 11,
   "metadata": {
    "execution": {
     "iopub.execute_input": "2024-10-19T18:30:12.589053Z",
     "iopub.status.busy": "2024-10-19T18:30:12.588665Z",
     "iopub.status.idle": "2024-10-19T18:30:14.608113Z",
     "shell.execute_reply": "2024-10-19T18:30:14.607647Z"
    }
   },
   "outputs": [
    {
     "name": "stdout",
     "output_type": "stream",
     "text": [
      "\n",
      "SFRmaker version 0.11.3.post0.dev0+g1f5a2f2\n",
      "\n",
      "Creating sfr dataset...\n",
      "\n",
      "Creating grid class instance from flopy Grid instance...\n"
     ]
    },
    {
     "name": "stdout",
     "output_type": "stream",
     "text": [
      "grid class created in 0.44s\n",
      "\n",
      "Model grid information\n",
      "structured grid\n",
      "nnodes: 17,760\n",
      "nlay: 1\n",
      "nrow: 111\n",
      "ncol: 160\n",
      "model length units: undefined\n",
      "crs: EPSG:26715\n",
      "bounds: 682688.00, 5139052.00, 694880.00, 5147510.20\n",
      "active area defined by: all cells\n",
      "\n",
      "MODFLOW 5 layer(s) 111 row(s) 160 column(s) 1 stress period(s)\n",
      "\n",
      "reprojecting hydrography from\n",
      "EPSG:4269\n",
      "to\n",
      "EPSG:26715\n",
      "\n",
      "\n",
      "Culling hydrography to active area...\n",
      "starting lines: 45\n",
      "remaining lines: 42\n",
      "finished in 0.00s\n",
      "\n",
      "\n",
      "Intersecting 42 flowlines with 17,760 grid cells...\n",
      "\n",
      "Building spatial index...\n"
     ]
    },
    {
     "name": "stdout",
     "output_type": "stream",
     "text": [
      "finished in 0.84s\n",
      "\n",
      "Intersecting 42 features...\n",
      "\r",
      "1\r",
      "2\r",
      "3\r",
      "4\r",
      "5\r",
      "6\r",
      "7\r",
      "8\r",
      "9\r",
      "10\r",
      "11\r",
      "12\r",
      "13\r",
      "14\r",
      "15\r",
      "16\r",
      "17\r",
      "18\r",
      "19\r",
      "20\r",
      "21\r",
      "22\r",
      "23\r",
      "24\r",
      "25\r",
      "26\r",
      "27\r",
      "28\r",
      "29\r",
      "30\r",
      "31\r",
      "32\r",
      "33\r",
      "34\r",
      "35\r",
      "36\r",
      "37\r",
      "38\r",
      "39\r",
      "40\r",
      "41\r",
      "42\n",
      "finished in 0.14s\n",
      "\n",
      "Setting up reach data... (may take a few minutes for large grids)\n"
     ]
    },
    {
     "name": "stdout",
     "output_type": "stream",
     "text": [
      "finished in 0.46s\n",
      "\n",
      "Computing widths...\n",
      "\n",
      "Dropping 48 reaches with length < 12.50 feet...\n",
      "\n",
      "Repairing routing connections...\n",
      "enforcing best segment numbering...\n",
      "\n",
      "Setting up segment data...\n",
      "Model grid information\n",
      "structured grid\n",
      "nnodes: 17,760\n",
      "nlay: 1\n",
      "nrow: 111\n",
      "ncol: 160\n",
      "model length units: undefined\n",
      "crs: EPSG:26715\n",
      "bounds: 682688.00, 5139052.00, 694880.00, 5147510.20\n",
      "active area defined by: all cells\n",
      "\n",
      "\n",
      "Time to create sfr dataset: 2.02s\n",
      "\n"
     ]
    }
   ],
   "source": [
    "sfrdata = lines.to_sfr(grid=flopy_grid, model=m, model_length_units='feet')"
   ]
  },
  {
   "cell_type": "markdown",
   "metadata": {},
   "source": [
    "### The ``SFRData`` class\n",
    "Internally, the SFRData class mostly uses the data model for the MODFLOW-2005 style SFR2 package (which includes MODFLOW-NWT), which organizes the input into segments and reaches. Segment and reach data are stored in the ``reach_data`` and ``segment_data`` attribute DataFrames. In addition to the MODFLOW-2005 data, reach numbers and their routing connections (as needed for MODFLOW-6) are also stored. On writing of SFR package input, MODFLOW-6 style input can be created via the ``sfrmaker.mf5to6`` module."
   ]
  },
  {
   "cell_type": "code",
   "execution_count": 12,
   "metadata": {
    "execution": {
     "iopub.execute_input": "2024-10-19T18:30:14.609977Z",
     "iopub.status.busy": "2024-10-19T18:30:14.609511Z",
     "iopub.status.idle": "2024-10-19T18:30:14.612566Z",
     "shell.execute_reply": "2024-10-19T18:30:14.612202Z"
    }
   },
   "outputs": [],
   "source": [
    "sfrdata.reach_data.loc[sfrdata.reach_data['rno'] == 1, 'strhc1'] = 5"
   ]
  },
  {
   "cell_type": "code",
   "execution_count": 13,
   "metadata": {
    "execution": {
     "iopub.execute_input": "2024-10-19T18:30:14.613911Z",
     "iopub.status.busy": "2024-10-19T18:30:14.613754Z",
     "iopub.status.idle": "2024-10-19T18:30:14.628296Z",
     "shell.execute_reply": "2024-10-19T18:30:14.627843Z"
    }
   },
   "outputs": [
    {
     "data": {
      "text/html": [
       "<div>\n",
       "<style scoped>\n",
       "    .dataframe tbody tr th:only-of-type {\n",
       "        vertical-align: middle;\n",
       "    }\n",
       "\n",
       "    .dataframe tbody tr th {\n",
       "        vertical-align: top;\n",
       "    }\n",
       "\n",
       "    .dataframe thead th {\n",
       "        text-align: right;\n",
       "    }\n",
       "</style>\n",
       "<table border=\"1\" class=\"dataframe\">\n",
       "  <thead>\n",
       "    <tr style=\"text-align: right;\">\n",
       "      <th></th>\n",
       "      <th>rno</th>\n",
       "      <th>node</th>\n",
       "      <th>k</th>\n",
       "      <th>i</th>\n",
       "      <th>j</th>\n",
       "      <th>iseg</th>\n",
       "      <th>ireach</th>\n",
       "      <th>rchlen</th>\n",
       "      <th>width</th>\n",
       "      <th>slope</th>\n",
       "      <th>...</th>\n",
       "      <th>thts</th>\n",
       "      <th>thti</th>\n",
       "      <th>eps</th>\n",
       "      <th>uhc</th>\n",
       "      <th>outreach</th>\n",
       "      <th>outseg</th>\n",
       "      <th>asum</th>\n",
       "      <th>line_id</th>\n",
       "      <th>name</th>\n",
       "      <th>geometry</th>\n",
       "    </tr>\n",
       "  </thead>\n",
       "  <tbody>\n",
       "    <tr>\n",
       "      <th>511</th>\n",
       "      <td>1</td>\n",
       "      <td>17714</td>\n",
       "      <td>0</td>\n",
       "      <td>110</td>\n",
       "      <td>114</td>\n",
       "      <td>1</td>\n",
       "      <td>1</td>\n",
       "      <td>208.807938</td>\n",
       "      <td>1.000000</td>\n",
       "      <td>0.127779</td>\n",
       "      <td>...</td>\n",
       "      <td>0.0</td>\n",
       "      <td>0.0</td>\n",
       "      <td>0.0</td>\n",
       "      <td>0.0</td>\n",
       "      <td>2</td>\n",
       "      <td>4</td>\n",
       "      <td>31.822330</td>\n",
       "      <td>1815013</td>\n",
       "      <td>None</td>\n",
       "      <td>LINESTRING (691394.6396657812 5139052, 691410....</td>\n",
       "    </tr>\n",
       "    <tr>\n",
       "      <th>512</th>\n",
       "      <td>2</td>\n",
       "      <td>17715</td>\n",
       "      <td>0</td>\n",
       "      <td>110</td>\n",
       "      <td>115</td>\n",
       "      <td>1</td>\n",
       "      <td>2</td>\n",
       "      <td>294.098938</td>\n",
       "      <td>1.261243</td>\n",
       "      <td>0.060563</td>\n",
       "      <td>...</td>\n",
       "      <td>0.0</td>\n",
       "      <td>0.0</td>\n",
       "      <td>0.0</td>\n",
       "      <td>0.0</td>\n",
       "      <td>3</td>\n",
       "      <td>4</td>\n",
       "      <td>108.465340</td>\n",
       "      <td>1815013</td>\n",
       "      <td>None</td>\n",
       "      <td>LINESTRING (691451 5139079.028908214, 691471.0...</td>\n",
       "    </tr>\n",
       "    <tr>\n",
       "      <th>513</th>\n",
       "      <td>3</td>\n",
       "      <td>17716</td>\n",
       "      <td>0</td>\n",
       "      <td>110</td>\n",
       "      <td>116</td>\n",
       "      <td>1</td>\n",
       "      <td>3</td>\n",
       "      <td>41.622536</td>\n",
       "      <td>1.531957</td>\n",
       "      <td>0.333944</td>\n",
       "      <td>...</td>\n",
       "      <td>0.0</td>\n",
       "      <td>0.0</td>\n",
       "      <td>0.0</td>\n",
       "      <td>0.0</td>\n",
       "      <td>4</td>\n",
       "      <td>4</td>\n",
       "      <td>159.629288</td>\n",
       "      <td>1815013</td>\n",
       "      <td>None</td>\n",
       "      <td>LINESTRING (691527.2 5139123.064392628, 691538...</td>\n",
       "    </tr>\n",
       "    <tr>\n",
       "      <th>514</th>\n",
       "      <td>4</td>\n",
       "      <td>17556</td>\n",
       "      <td>0</td>\n",
       "      <td>109</td>\n",
       "      <td>116</td>\n",
       "      <td>1</td>\n",
       "      <td>4</td>\n",
       "      <td>220.366440</td>\n",
       "      <td>1.714090</td>\n",
       "      <td>0.092205</td>\n",
       "      <td>...</td>\n",
       "      <td>0.0</td>\n",
       "      <td>0.0</td>\n",
       "      <td>0.0</td>\n",
       "      <td>0.0</td>\n",
       "      <td>5</td>\n",
       "      <td>4</td>\n",
       "      <td>199.556412</td>\n",
       "      <td>1815013</td>\n",
       "      <td>None</td>\n",
       "      <td>LINESTRING (691538.8006061709 5139128.2, 69156...</td>\n",
       "    </tr>\n",
       "    <tr>\n",
       "      <th>515</th>\n",
       "      <td>5</td>\n",
       "      <td>17557</td>\n",
       "      <td>0</td>\n",
       "      <td>109</td>\n",
       "      <td>117</td>\n",
       "      <td>1</td>\n",
       "      <td>5</td>\n",
       "      <td>162.617325</td>\n",
       "      <td>1.950304</td>\n",
       "      <td>0.097331</td>\n",
       "      <td>...</td>\n",
       "      <td>0.0</td>\n",
       "      <td>0.0</td>\n",
       "      <td>0.0</td>\n",
       "      <td>0.0</td>\n",
       "      <td>6</td>\n",
       "      <td>4</td>\n",
       "      <td>257.923126</td>\n",
       "      <td>1815013</td>\n",
       "      <td>None</td>\n",
       "      <td>LINESTRING (691603.4 5139143.66283342, 691624....</td>\n",
       "    </tr>\n",
       "  </tbody>\n",
       "</table>\n",
       "<p>5 rows × 23 columns</p>\n",
       "</div>"
      ],
      "text/plain": [
       "     rno   node  k    i    j  iseg  ireach      rchlen     width     slope  \\\n",
       "511    1  17714  0  110  114     1       1  208.807938  1.000000  0.127779   \n",
       "512    2  17715  0  110  115     1       2  294.098938  1.261243  0.060563   \n",
       "513    3  17716  0  110  116     1       3   41.622536  1.531957  0.333944   \n",
       "514    4  17556  0  109  116     1       4  220.366440  1.714090  0.092205   \n",
       "515    5  17557  0  109  117     1       5  162.617325  1.950304  0.097331   \n",
       "\n",
       "     ...  thts  thti  eps  uhc  outreach  outseg        asum  line_id  name  \\\n",
       "511  ...   0.0   0.0  0.0  0.0         2       4   31.822330  1815013  None   \n",
       "512  ...   0.0   0.0  0.0  0.0         3       4  108.465340  1815013  None   \n",
       "513  ...   0.0   0.0  0.0  0.0         4       4  159.629288  1815013  None   \n",
       "514  ...   0.0   0.0  0.0  0.0         5       4  199.556412  1815013  None   \n",
       "515  ...   0.0   0.0  0.0  0.0         6       4  257.923126  1815013  None   \n",
       "\n",
       "                                              geometry  \n",
       "511  LINESTRING (691394.6396657812 5139052, 691410....  \n",
       "512  LINESTRING (691451 5139079.028908214, 691471.0...  \n",
       "513  LINESTRING (691527.2 5139123.064392628, 691538...  \n",
       "514  LINESTRING (691538.8006061709 5139128.2, 69156...  \n",
       "515  LINESTRING (691603.4 5139143.66283342, 691624....  \n",
       "\n",
       "[5 rows x 23 columns]"
      ]
     },
     "execution_count": 13,
     "metadata": {},
     "output_type": "execute_result"
    }
   ],
   "source": [
    "sfrdata.reach_data.head()"
   ]
  },
  {
   "cell_type": "code",
   "execution_count": 14,
   "metadata": {
    "execution": {
     "iopub.execute_input": "2024-10-19T18:30:14.629901Z",
     "iopub.status.busy": "2024-10-19T18:30:14.629602Z",
     "iopub.status.idle": "2024-10-19T18:30:14.643400Z",
     "shell.execute_reply": "2024-10-19T18:30:14.643066Z"
    }
   },
   "outputs": [
    {
     "data": {
      "text/html": [
       "<div>\n",
       "<style scoped>\n",
       "    .dataframe tbody tr th:only-of-type {\n",
       "        vertical-align: middle;\n",
       "    }\n",
       "\n",
       "    .dataframe tbody tr th {\n",
       "        vertical-align: top;\n",
       "    }\n",
       "\n",
       "    .dataframe thead th {\n",
       "        text-align: right;\n",
       "    }\n",
       "</style>\n",
       "<table border=\"1\" class=\"dataframe\">\n",
       "  <thead>\n",
       "    <tr style=\"text-align: right;\">\n",
       "      <th></th>\n",
       "      <th>per</th>\n",
       "      <th>nseg</th>\n",
       "      <th>icalc</th>\n",
       "      <th>outseg</th>\n",
       "      <th>iupseg</th>\n",
       "      <th>iprior</th>\n",
       "      <th>nstrpts</th>\n",
       "      <th>flow</th>\n",
       "      <th>runoff</th>\n",
       "      <th>etsw</th>\n",
       "      <th>...</th>\n",
       "      <th>uhc1</th>\n",
       "      <th>hcond2</th>\n",
       "      <th>thickm2</th>\n",
       "      <th>elevdn</th>\n",
       "      <th>width2</th>\n",
       "      <th>depth2</th>\n",
       "      <th>thts2</th>\n",
       "      <th>thti2</th>\n",
       "      <th>eps2</th>\n",
       "      <th>uhc2</th>\n",
       "    </tr>\n",
       "  </thead>\n",
       "  <tbody>\n",
       "    <tr>\n",
       "      <th>0</th>\n",
       "      <td>0</td>\n",
       "      <td>1</td>\n",
       "      <td>1</td>\n",
       "      <td>4</td>\n",
       "      <td>0</td>\n",
       "      <td>0</td>\n",
       "      <td>0</td>\n",
       "      <td>0.0</td>\n",
       "      <td>0.0</td>\n",
       "      <td>0.0</td>\n",
       "      <td>...</td>\n",
       "      <td>0.0</td>\n",
       "      <td>0.0</td>\n",
       "      <td>0.0</td>\n",
       "      <td>1297.867432</td>\n",
       "      <td>5.638623</td>\n",
       "      <td>0.0</td>\n",
       "      <td>0.0</td>\n",
       "      <td>0.0</td>\n",
       "      <td>0.0</td>\n",
       "      <td>0.0</td>\n",
       "    </tr>\n",
       "    <tr>\n",
       "      <th>1</th>\n",
       "      <td>0</td>\n",
       "      <td>2</td>\n",
       "      <td>1</td>\n",
       "      <td>4</td>\n",
       "      <td>0</td>\n",
       "      <td>0</td>\n",
       "      <td>0</td>\n",
       "      <td>0.0</td>\n",
       "      <td>0.0</td>\n",
       "      <td>0.0</td>\n",
       "      <td>...</td>\n",
       "      <td>0.0</td>\n",
       "      <td>0.0</td>\n",
       "      <td>0.0</td>\n",
       "      <td>1297.867432</td>\n",
       "      <td>37.791649</td>\n",
       "      <td>0.0</td>\n",
       "      <td>0.0</td>\n",
       "      <td>0.0</td>\n",
       "      <td>0.0</td>\n",
       "      <td>0.0</td>\n",
       "    </tr>\n",
       "    <tr>\n",
       "      <th>2</th>\n",
       "      <td>0</td>\n",
       "      <td>3</td>\n",
       "      <td>1</td>\n",
       "      <td>6</td>\n",
       "      <td>0</td>\n",
       "      <td>0</td>\n",
       "      <td>0</td>\n",
       "      <td>0.0</td>\n",
       "      <td>0.0</td>\n",
       "      <td>0.0</td>\n",
       "      <td>...</td>\n",
       "      <td>0.0</td>\n",
       "      <td>0.0</td>\n",
       "      <td>0.0</td>\n",
       "      <td>1278.149658</td>\n",
       "      <td>7.069631</td>\n",
       "      <td>0.0</td>\n",
       "      <td>0.0</td>\n",
       "      <td>0.0</td>\n",
       "      <td>0.0</td>\n",
       "      <td>0.0</td>\n",
       "    </tr>\n",
       "    <tr>\n",
       "      <th>3</th>\n",
       "      <td>0</td>\n",
       "      <td>4</td>\n",
       "      <td>1</td>\n",
       "      <td>6</td>\n",
       "      <td>0</td>\n",
       "      <td>0</td>\n",
       "      <td>0</td>\n",
       "      <td>0.0</td>\n",
       "      <td>0.0</td>\n",
       "      <td>0.0</td>\n",
       "      <td>...</td>\n",
       "      <td>0.0</td>\n",
       "      <td>0.0</td>\n",
       "      <td>0.0</td>\n",
       "      <td>1278.149658</td>\n",
       "      <td>38.638088</td>\n",
       "      <td>0.0</td>\n",
       "      <td>0.0</td>\n",
       "      <td>0.0</td>\n",
       "      <td>0.0</td>\n",
       "      <td>0.0</td>\n",
       "    </tr>\n",
       "    <tr>\n",
       "      <th>4</th>\n",
       "      <td>0</td>\n",
       "      <td>5</td>\n",
       "      <td>1</td>\n",
       "      <td>10</td>\n",
       "      <td>0</td>\n",
       "      <td>0</td>\n",
       "      <td>0</td>\n",
       "      <td>0.0</td>\n",
       "      <td>0.0</td>\n",
       "      <td>0.0</td>\n",
       "      <td>...</td>\n",
       "      <td>0.0</td>\n",
       "      <td>0.0</td>\n",
       "      <td>0.0</td>\n",
       "      <td>1211.286133</td>\n",
       "      <td>6.470501</td>\n",
       "      <td>0.0</td>\n",
       "      <td>0.0</td>\n",
       "      <td>0.0</td>\n",
       "      <td>0.0</td>\n",
       "      <td>0.0</td>\n",
       "    </tr>\n",
       "  </tbody>\n",
       "</table>\n",
       "<p>5 rows × 35 columns</p>\n",
       "</div>"
      ],
      "text/plain": [
       "   per  nseg  icalc  outseg  iupseg  iprior  nstrpts  flow  runoff  etsw  ...  \\\n",
       "0    0     1      1       4       0       0        0   0.0     0.0   0.0  ...   \n",
       "1    0     2      1       4       0       0        0   0.0     0.0   0.0  ...   \n",
       "2    0     3      1       6       0       0        0   0.0     0.0   0.0  ...   \n",
       "3    0     4      1       6       0       0        0   0.0     0.0   0.0  ...   \n",
       "4    0     5      1      10       0       0        0   0.0     0.0   0.0  ...   \n",
       "\n",
       "   uhc1  hcond2  thickm2       elevdn     width2  depth2  thts2  thti2  eps2  \\\n",
       "0   0.0     0.0      0.0  1297.867432   5.638623     0.0    0.0    0.0   0.0   \n",
       "1   0.0     0.0      0.0  1297.867432  37.791649     0.0    0.0    0.0   0.0   \n",
       "2   0.0     0.0      0.0  1278.149658   7.069631     0.0    0.0    0.0   0.0   \n",
       "3   0.0     0.0      0.0  1278.149658  38.638088     0.0    0.0    0.0   0.0   \n",
       "4   0.0     0.0      0.0  1211.286133   6.470501     0.0    0.0    0.0   0.0   \n",
       "\n",
       "   uhc2  \n",
       "0   0.0  \n",
       "1   0.0  \n",
       "2   0.0  \n",
       "3   0.0  \n",
       "4   0.0  \n",
       "\n",
       "[5 rows x 35 columns]"
      ]
     },
     "execution_count": 14,
     "metadata": {},
     "output_type": "execute_result"
    }
   ],
   "source": [
    "sfrdata.segment_data.head()"
   ]
  },
  {
   "cell_type": "markdown",
   "metadata": {},
   "source": [
    "### Sampling streambed top elevations from a DEM\n",
    "While the above dataset contains streambed top elevations read from NHDPlus, a DEM can be sampled to obtain more accurate elevations. If the DEM elevation units are specified, SFRmaker will convert the elevations to model units if needed. See the Streambed_elevation_demo notebook for more information on how this works."
   ]
  },
  {
   "cell_type": "code",
   "execution_count": 15,
   "metadata": {
    "execution": {
     "iopub.execute_input": "2024-10-19T18:30:14.644822Z",
     "iopub.status.busy": "2024-10-19T18:30:14.644668Z",
     "iopub.status.idle": "2024-10-19T18:30:23.246020Z",
     "shell.execute_reply": "2024-10-19T18:30:23.245512Z"
    }
   },
   "outputs": [
    {
     "name": "stdout",
     "output_type": "stream",
     "text": [
      "running rasterstats.zonal_stats on buffered LineStrings...\n"
     ]
    },
    {
     "name": "stdout",
     "output_type": "stream",
     "text": [
      "finished in 8.43s\n",
      "\n",
      "\n",
      "Smoothing elevations...\n",
      "finished in 0.10s\n"
     ]
    }
   ],
   "source": [
    "sfrdata.set_streambed_top_elevations_from_dem('../tylerforks/dem_26715.tif', \n",
    "                                              elevation_units='meters')"
   ]
  },
  {
   "cell_type": "markdown",
   "metadata": {},
   "source": [
    "### Assigning layers to the reaches\n",
    "Once we have a valid set of streambed elevations, the reaches can be assigned to model layers."
   ]
  },
  {
   "cell_type": "code",
   "execution_count": 16,
   "metadata": {
    "execution": {
     "iopub.execute_input": "2024-10-19T18:30:23.247654Z",
     "iopub.status.busy": "2024-10-19T18:30:23.247489Z",
     "iopub.status.idle": "2024-10-19T18:30:23.251879Z",
     "shell.execute_reply": "2024-10-19T18:30:23.251398Z"
    }
   },
   "outputs": [],
   "source": [
    "sfrdata.assign_layers()"
   ]
  },
  {
   "cell_type": "code",
   "execution_count": 17,
   "metadata": {
    "execution": {
     "iopub.execute_input": "2024-10-19T18:30:23.253552Z",
     "iopub.status.busy": "2024-10-19T18:30:23.253191Z",
     "iopub.status.idle": "2024-10-19T18:30:23.266467Z",
     "shell.execute_reply": "2024-10-19T18:30:23.266018Z"
    }
   },
   "outputs": [
    {
     "data": {
      "text/html": [
       "<div>\n",
       "<style scoped>\n",
       "    .dataframe tbody tr th:only-of-type {\n",
       "        vertical-align: middle;\n",
       "    }\n",
       "\n",
       "    .dataframe tbody tr th {\n",
       "        vertical-align: top;\n",
       "    }\n",
       "\n",
       "    .dataframe thead th {\n",
       "        text-align: right;\n",
       "    }\n",
       "</style>\n",
       "<table border=\"1\" class=\"dataframe\">\n",
       "  <thead>\n",
       "    <tr style=\"text-align: right;\">\n",
       "      <th></th>\n",
       "      <th>rno</th>\n",
       "      <th>node</th>\n",
       "      <th>k</th>\n",
       "      <th>i</th>\n",
       "      <th>j</th>\n",
       "      <th>iseg</th>\n",
       "      <th>ireach</th>\n",
       "      <th>rchlen</th>\n",
       "      <th>width</th>\n",
       "      <th>slope</th>\n",
       "      <th>...</th>\n",
       "      <th>thts</th>\n",
       "      <th>thti</th>\n",
       "      <th>eps</th>\n",
       "      <th>uhc</th>\n",
       "      <th>outreach</th>\n",
       "      <th>outseg</th>\n",
       "      <th>asum</th>\n",
       "      <th>line_id</th>\n",
       "      <th>name</th>\n",
       "      <th>geometry</th>\n",
       "    </tr>\n",
       "  </thead>\n",
       "  <tbody>\n",
       "    <tr>\n",
       "      <th>511</th>\n",
       "      <td>1</td>\n",
       "      <td>17714</td>\n",
       "      <td>2</td>\n",
       "      <td>110</td>\n",
       "      <td>114</td>\n",
       "      <td>1</td>\n",
       "      <td>1</td>\n",
       "      <td>208.807938</td>\n",
       "      <td>1.000000</td>\n",
       "      <td>0.040094</td>\n",
       "      <td>...</td>\n",
       "      <td>0.0</td>\n",
       "      <td>0.0</td>\n",
       "      <td>0.0</td>\n",
       "      <td>0.0</td>\n",
       "      <td>2</td>\n",
       "      <td>4</td>\n",
       "      <td>31.822330</td>\n",
       "      <td>1815013</td>\n",
       "      <td>None</td>\n",
       "      <td>LINESTRING (691394.6396657812 5139052, 691410....</td>\n",
       "    </tr>\n",
       "    <tr>\n",
       "      <th>512</th>\n",
       "      <td>2</td>\n",
       "      <td>17715</td>\n",
       "      <td>2</td>\n",
       "      <td>110</td>\n",
       "      <td>115</td>\n",
       "      <td>1</td>\n",
       "      <td>2</td>\n",
       "      <td>294.098938</td>\n",
       "      <td>1.261243</td>\n",
       "      <td>0.003117</td>\n",
       "      <td>...</td>\n",
       "      <td>0.0</td>\n",
       "      <td>0.0</td>\n",
       "      <td>0.0</td>\n",
       "      <td>0.0</td>\n",
       "      <td>3</td>\n",
       "      <td>4</td>\n",
       "      <td>108.465340</td>\n",
       "      <td>1815013</td>\n",
       "      <td>None</td>\n",
       "      <td>LINESTRING (691451 5139079.028908214, 691471.0...</td>\n",
       "    </tr>\n",
       "    <tr>\n",
       "      <th>513</th>\n",
       "      <td>3</td>\n",
       "      <td>17716</td>\n",
       "      <td>2</td>\n",
       "      <td>110</td>\n",
       "      <td>116</td>\n",
       "      <td>1</td>\n",
       "      <td>3</td>\n",
       "      <td>41.622536</td>\n",
       "      <td>1.531957</td>\n",
       "      <td>0.207275</td>\n",
       "      <td>...</td>\n",
       "      <td>0.0</td>\n",
       "      <td>0.0</td>\n",
       "      <td>0.0</td>\n",
       "      <td>0.0</td>\n",
       "      <td>4</td>\n",
       "      <td>4</td>\n",
       "      <td>159.629288</td>\n",
       "      <td>1815013</td>\n",
       "      <td>None</td>\n",
       "      <td>LINESTRING (691527.2 5139123.064392628, 691538...</td>\n",
       "    </tr>\n",
       "    <tr>\n",
       "      <th>514</th>\n",
       "      <td>4</td>\n",
       "      <td>17556</td>\n",
       "      <td>2</td>\n",
       "      <td>109</td>\n",
       "      <td>116</td>\n",
       "      <td>1</td>\n",
       "      <td>4</td>\n",
       "      <td>220.366440</td>\n",
       "      <td>1.714090</td>\n",
       "      <td>0.028292</td>\n",
       "      <td>...</td>\n",
       "      <td>0.0</td>\n",
       "      <td>0.0</td>\n",
       "      <td>0.0</td>\n",
       "      <td>0.0</td>\n",
       "      <td>5</td>\n",
       "      <td>4</td>\n",
       "      <td>199.556412</td>\n",
       "      <td>1815013</td>\n",
       "      <td>None</td>\n",
       "      <td>LINESTRING (691538.8006061709 5139128.2, 69156...</td>\n",
       "    </tr>\n",
       "    <tr>\n",
       "      <th>515</th>\n",
       "      <td>5</td>\n",
       "      <td>17557</td>\n",
       "      <td>2</td>\n",
       "      <td>109</td>\n",
       "      <td>117</td>\n",
       "      <td>1</td>\n",
       "      <td>5</td>\n",
       "      <td>162.617325</td>\n",
       "      <td>1.950304</td>\n",
       "      <td>0.015271</td>\n",
       "      <td>...</td>\n",
       "      <td>0.0</td>\n",
       "      <td>0.0</td>\n",
       "      <td>0.0</td>\n",
       "      <td>0.0</td>\n",
       "      <td>6</td>\n",
       "      <td>4</td>\n",
       "      <td>257.923126</td>\n",
       "      <td>1815013</td>\n",
       "      <td>None</td>\n",
       "      <td>LINESTRING (691603.4 5139143.66283342, 691624....</td>\n",
       "    </tr>\n",
       "  </tbody>\n",
       "</table>\n",
       "<p>5 rows × 23 columns</p>\n",
       "</div>"
      ],
      "text/plain": [
       "     rno   node  k    i    j  iseg  ireach      rchlen     width     slope  \\\n",
       "511    1  17714  2  110  114     1       1  208.807938  1.000000  0.040094   \n",
       "512    2  17715  2  110  115     1       2  294.098938  1.261243  0.003117   \n",
       "513    3  17716  2  110  116     1       3   41.622536  1.531957  0.207275   \n",
       "514    4  17556  2  109  116     1       4  220.366440  1.714090  0.028292   \n",
       "515    5  17557  2  109  117     1       5  162.617325  1.950304  0.015271   \n",
       "\n",
       "     ...  thts  thti  eps  uhc  outreach  outseg        asum  line_id  name  \\\n",
       "511  ...   0.0   0.0  0.0  0.0         2       4   31.822330  1815013  None   \n",
       "512  ...   0.0   0.0  0.0  0.0         3       4  108.465340  1815013  None   \n",
       "513  ...   0.0   0.0  0.0  0.0         4       4  159.629288  1815013  None   \n",
       "514  ...   0.0   0.0  0.0  0.0         5       4  199.556412  1815013  None   \n",
       "515  ...   0.0   0.0  0.0  0.0         6       4  257.923126  1815013  None   \n",
       "\n",
       "                                              geometry  \n",
       "511  LINESTRING (691394.6396657812 5139052, 691410....  \n",
       "512  LINESTRING (691451 5139079.028908214, 691471.0...  \n",
       "513  LINESTRING (691527.2 5139123.064392628, 691538...  \n",
       "514  LINESTRING (691538.8006061709 5139128.2, 69156...  \n",
       "515  LINESTRING (691603.4 5139143.66283342, 691624....  \n",
       "\n",
       "[5 rows x 23 columns]"
      ]
     },
     "execution_count": 17,
     "metadata": {},
     "output_type": "execute_result"
    }
   ],
   "source": [
    "sfrdata.reach_data.head()"
   ]
  },
  {
   "cell_type": "markdown",
   "metadata": {},
   "source": [
    "### Running diagnostics\n",
    "`SFRData` includes a `run_diagnostics()` method that executes the Flopy checker on the SFR package input. While the Flopy checks are only implemented for MODFLOW-2005 style SFR packages, `run_diagnostics()` works on MODFLOW-6 packages as well, by working of an attached MODFLOW-2005 representation of the MODFLOW-6 SFR input. The following checks are executed:\n",
    "* **NaNs** (not a number values, which will cause MODFLOW to crash)\n",
    "* **consecutive segment and reach numbering**\n",
    "* **segment numbering that only increases** in the downstream direction\n",
    "* **circular routing sequences** (reaches or segments routing back to themselves)\n",
    "* **routing connection proximity:** The length of routing connections, as determined by the distance between their cell centers, is compared to 1.25 times the diagonal distance across the cell containing the upstream reach. This benchmark length is equivalent to a diagonal connection between two square cells, where one cell had a spacing of 1.5 times the other cell (the maximum recommended increase in spacing between two adjacent cells; see Anderson and others, 2015). While this routing proximity check can be helpful for identifying egregious routing issues, in practice, it may not be uncommon for valid routing connections to violate this rule. For example, if the ``one_reach_per_cell`` option is used in constructing the SFR package with a large grid size, there may be numerous routing connections that extend across several cells. When non-adjacent routing connections are identified, the user can check the shapefile of routing connections to verify the results.\n",
    "* **overlapping conductances:** This check identifies instances of collocated reaches, where more than one reach has a connection to the groundwater flow solution in that cell. Collocated reaches may or may not present an issue for a particular model solution, but can potentially promote instability or spurious circulation of flow between the collocated reaches.\n",
    "* **spurious streambed top elevations:** Values < -10 or > 15,000 are flagged\n",
    "* **downstream rises in streambed elevation**\n",
    "* **inconsistencies between streambed elevation and the model grid:** This check looks for streambed bottoms below their respective cell bottoms, which will cause MODFLOW to halt execution, and streambed tops that are above the model top. The latter issue will not prevent MODFLOW from running, but may indicate problems with the input if the differences are large. For coarse grids in areas of high stream density (where there are often multiple streams in a cell), it may be impossible to ensure that all streambed top elevations are at or below the model top. Oftentimes, these reaches are dry anyways (for example, and ephemeral gully that runs off a bluff into a perennial stream, where the cell elevation is based on the elevation of the perennial stream). In any case, it is good practice to check the largest violations by comparing the SFRmaker shapefile output to a DEM and other data in a GIS environment.\n",
    "* **suprious slopes:** slopes of less than 0.0001 (which can lead to excessive stages with the SFR package's Manning approximation) and greater than 1.0 are flagged."
   ]
  },
  {
   "cell_type": "code",
   "execution_count": 18,
   "metadata": {
    "execution": {
     "iopub.execute_input": "2024-10-19T18:30:23.268001Z",
     "iopub.status.busy": "2024-10-19T18:30:23.267632Z",
     "iopub.status.idle": "2024-10-19T18:30:23.341699Z",
     "shell.execute_reply": "2024-10-19T18:30:23.341226Z"
    }
   },
   "outputs": [
    {
     "name": "stdout",
     "output_type": "stream",
     "text": [
      "\n",
      "Running Flopy v. 3.9.0.dev2 diagnostics...\n",
      "wrote tf_SFR.chk\n"
     ]
    }
   ],
   "source": [
    "sfrdata.run_diagnostics(verbose=False)"
   ]
  },
  {
   "cell_type": "markdown",
   "metadata": {},
   "source": [
    "### Writing an SFR package\n",
    "Now we can write the package. By default, a MODFLOW-2005 style package is written to the current working directory or the model workspace of the attached model instance."
   ]
  },
  {
   "cell_type": "code",
   "execution_count": 19,
   "metadata": {
    "execution": {
     "iopub.execute_input": "2024-10-19T18:30:23.343363Z",
     "iopub.status.busy": "2024-10-19T18:30:23.343060Z",
     "iopub.status.idle": "2024-10-19T18:30:23.450181Z",
     "shell.execute_reply": "2024-10-19T18:30:23.449761Z"
    }
   },
   "outputs": [
    {
     "name": "stdout",
     "output_type": "stream",
     "text": [
      "SFRmaker v. 0.11.3.post0.dev0+g1f5a2f2\n",
      "\n",
      "Running Flopy v. 3.9.0.dev2 diagnostics...\n",
      "passed.\n",
      "\n",
      "Checking for continuity in segment and reach numbering...\n",
      "passed.\n",
      "\n",
      "Checking for increasing segment numbers in downstream direction...\n",
      "passed.\n",
      "\n",
      "Checking for circular routing...\n",
      "passed.\n",
      "\n",
      "Checking reach connections for proximity...\n",
      "5 segments with non-adjacent reaches found.\n",
      "At segments:\n",
      "41 20 21 22 23\n",
      "\n",
      "5 segments with non-adjacent reaches found.\n",
      "At segments:\n",
      "41 20 21 22 23\n",
      "\n",
      "\n",
      "Checking for model cells with multiple non-zero SFR conductances...\n",
      "24 model cells with multiple non-zero SFR conductances found.\n",
      "This may lead to circular routing between collocated reaches.\n",
      "Nodes with overlapping conductances:\n",
      "k\ti\tj\tiseg\tireach\trchlen\tstrthick\tstrhc1\n",
      "2\t110\t119\t1\t8\t268.5836486816406\t1.0\t1.0\n",
      "2\t110\t119\t2\t1\t72.61438751220703\t1.0\t1.0\n",
      "0\t87\t122\t3\t54\t35.35249328613281\t1.0\t1.0\n",
      "0\t87\t122\t4\t33\t231.09567260742188\t1.0\t1.0\n",
      "0\t76\t110\t5\t47\t204.88766479492188\t1.0\t1.0\n",
      "0\t87\t122\t6\t1\t30.414600372314453\t1.0\t1.0\n",
      "2\t84\t119\t6\t7\t271.24835205078125\t1.0\t1.0\n",
      "2\t84\t119\t6\t9\t26.37481117248535\t1.0\t1.0\n",
      "0\t76\t110\t6\t27\t75.33216094970703\t1.0\t1.0\n",
      "2\t25\t24\t7\t42\t95.27275085449219\t1.0\t1.0\n",
      "2\t25\t24\t8\t47\t230.57635498046875\t1.0\t1.0\n",
      "1\t58\t132\t9\t25\t48.14010238647461\t1.0\t1.0\n",
      "1\t58\t132\t9\t27\t92.92947387695312\t1.0\t1.0\n",
      "0\t48\t109\t9\t64\t251.07447814941406\t1.0\t1.0\n",
      "0\t76\t110\t10\t1\t69.20076751708984\t1.0\t1.0\n",
      "0\t48\t108\t10\t40\t19.56378746032715\t1.0\t1.0\n",
      "0\t48\t109\t10\t41\t122.84815216064453\t1.0\t1.0\n",
      "0\t48\t108\t10\t42\t28.33331871032715\t1.0\t1.0\n",
      "2\t25\t24\t11\t1\t21.51937484741211\t1.0\t1.0\n",
      "2\t18\t17\t11\t15\t148.96444702148438\t1.0\t1.0\n",
      "2\t18\t17\t12\t57\t76.79739379882812\t1.0\t1.0\n",
      "1\t80\t49\t13\t70\t159.26600646972656\t1.0\t1.0\n",
      "0\t48\t108\t14\t1\t125.24523162841797\t1.0\t1.0\n",
      "0\t47\t98\t14\t22\t67.60189056396484\t1.0\t1.0\n",
      "0\t47\t98\t14\t24\t103.03018188476562\t1.0\t1.0\n",
      "0\t54\t89\t14\t39\t34.45417785644531\t1.0\t1.0\n",
      "0\t54\t89\t14\t41\t60.66257095336914\t1.0\t1.0\n",
      "0\t53\t78\t14\t57\t61.411861419677734\t1.0\t1.0\n",
      "0\t53\t78\t14\t59\t28.438196182250977\t1.0\t1.0\n",
      "0\t52\t76\t14\t62\t63.360740661621094\t1.0\t1.0\n",
      "0\t52\t76\t14\t64\t294.8589782714844\t1.0\t1.0\n",
      "1\t54\t73\t14\t69\t341.6566162109375\t1.0\t1.0\n",
      "1\t54\t73\t14\t71\t27.671581268310547\t1.0\t1.0\n",
      "1\t80\t49\t14\t125\t39.762516021728516\t1.0\t1.0\n",
      "2\t18\t17\t16\t1\t185.54652404785156\t1.0\t1.0\n",
      "2\t15\t3\t16\t21\t32.64251708984375\t1.0\t1.0\n",
      "2\t36\t11\t17\t38\t57.836700439453125\t1.0\t1.0\n",
      "2\t110\t159\t19\t2\t201.63583374023438\t1.0\t1.0\n",
      "0\t38\t85\t21\t8\t72.7103042602539\t1.0\t1.0\n",
      "0\t38\t85\t21\t9\t54.39541244506836\t1.0\t1.0\n",
      "2\t108\t57\t24\t8\t237.04415893554688\t1.0\t1.0\n",
      "2\t108\t57\t24\t9\t46.142940521240234\t1.0\t1.0\n",
      "0\t94\t35\t24\t45\t96.94855499267578\t1.0\t1.0\n",
      "0\t94\t35\t24\t47\t91.54985046386719\t1.0\t1.0\n",
      "2\t91\t35\t24\t50\t60.89990997314453\t1.0\t1.0\n",
      "2\t91\t34\t24\t51\t61.16813278198242\t1.0\t1.0\n",
      "1\t80\t49\t25\t1\t146.93106079101562\t1.0\t1.0\n",
      "2\t91\t35\t25\t26\t308.2864685058594\t1.0\t1.0\n",
      "2\t91\t34\t25\t27\t75.82389068603516\t1.0\t1.0\n",
      "2\t15\t3\t31\t1\t273.603271484375\t1.0\t1.0\n",
      "2\t36\t11\t36\t1\t263.1260681152344\t1.0\t1.0\n",
      "2\t110\t159\t38\t1\t24.2677001953125\t1.0\t1.0\n",
      "2\t91\t34\t42\t1\t130.52822875976562\t1.0\t1.0\n",
      "1\t92\t30\t42\t6\t66.65867614746094\t1.0\t1.0\n",
      "1\t92\t30\t42\t8\t252.91909790039062\t1.0\t1.0\n",
      "\n",
      "Checking for streambed tops of less than -10...\n",
      "passed.\n",
      "\n",
      "Checking for streambed tops of greater than 15000...\n",
      "passed.\n",
      "\n",
      "Checking segment_data for downstream rises in streambed elevation...\n",
      "Segment elevup and elevdn not specified for nstrm=-1439 and isfropt=1\n",
      "passed.\n",
      "\n",
      "Checking reach_data for downstream rises in streambed elevation...\n"
     ]
    },
    {
     "name": "stdout",
     "output_type": "stream",
     "text": [
      "passed.\n",
      "\n",
      "Checking reach_data for inconsistencies between streambed elevations and the model grid...\n",
      "1 reaches encountered with streambed above model top.\n",
      "Model top violations:\n",
      "i j iseg ireach strtop modeltop strhc1 reachID diff\n",
      "49 15 18 19 922.1929321289062 920.3099975585938 1.0 786 -1.8829345703125\n",
      "\n",
      "\n",
      "Checking segment_data for inconsistencies between segment end elevations and the model grid...\n",
      "Segment elevup and elevdn not specified for nstrm=-1439 and isfropt=1\n",
      "passed.\n",
      "\n",
      "Checking for streambed slopes of less than 0.0001...\n",
      "passed.\n",
      "\n",
      "Checking for streambed slopes of greater than 1.0...\n",
      "passed.\n",
      "\n",
      "wrote tf_SFR.chk\n",
      "wrote /home/runner/work/sfrmaker/sfrmaker/examples/Notebooks/../tylerforks/tylerforks/tf.sfr.\n"
     ]
    }
   ],
   "source": [
    "sfrdata.write_package()"
   ]
  },
  {
   "cell_type": "markdown",
   "metadata": {},
   "source": [
    "### Writing a MODFLOW-6 SFR package\n",
    "Alternatively, a MODFLOW-6 style SFR package can be written by specifying ``version='mf6'``"
   ]
  },
  {
   "cell_type": "code",
   "execution_count": 20,
   "metadata": {
    "execution": {
     "iopub.execute_input": "2024-10-19T18:30:23.451750Z",
     "iopub.status.busy": "2024-10-19T18:30:23.451573Z",
     "iopub.status.idle": "2024-10-19T18:30:23.729558Z",
     "shell.execute_reply": "2024-10-19T18:30:23.729103Z"
    }
   },
   "outputs": [
    {
     "name": "stdout",
     "output_type": "stream",
     "text": [
      "SFRmaker v. 0.11.3.post0.dev0+g1f5a2f2\n",
      "\n",
      "Running Flopy v. 3.9.0.dev2 diagnostics...\n",
      "passed.\n",
      "\n",
      "Checking for continuity in segment and reach numbering...\n",
      "passed.\n",
      "\n",
      "Checking for increasing segment numbers in downstream direction...\n",
      "passed.\n",
      "\n",
      "Checking for circular routing...\n",
      "passed.\n",
      "\n"
     ]
    },
    {
     "name": "stdout",
     "output_type": "stream",
     "text": [
      "Checking reach connections for proximity...\n",
      "5 segments with non-adjacent reaches found.\n",
      "At segments:\n",
      "41 20 21 22 23\n",
      "\n",
      "5 segments with non-adjacent reaches found.\n",
      "At segments:\n",
      "41 20 21 22 23\n",
      "\n",
      "\n",
      "Checking for model cells with multiple non-zero SFR conductances...\n",
      "24 model cells with multiple non-zero SFR conductances found.\n",
      "This may lead to circular routing between collocated reaches.\n",
      "Nodes with overlapping conductances:\n",
      "k\ti\tj\tiseg\tireach\trchlen\tstrthick\tstrhc1\n",
      "2\t110\t119\t1\t8\t268.5836486816406\t1.0\t1.0\n",
      "2\t110\t119\t2\t1\t72.61438751220703\t1.0\t1.0\n",
      "0\t87\t122\t3\t54\t35.35249328613281\t1.0\t1.0\n",
      "0\t87\t122\t4\t33\t231.09567260742188\t1.0\t1.0\n",
      "0\t76\t110\t5\t47\t204.88766479492188\t1.0\t1.0\n",
      "0\t87\t122\t6\t1\t30.414600372314453\t1.0\t1.0\n",
      "2\t84\t119\t6\t7\t271.24835205078125\t1.0\t1.0\n",
      "2\t84\t119\t6\t9\t26.37481117248535\t1.0\t1.0\n",
      "0\t76\t110\t6\t27\t75.33216094970703\t1.0\t1.0\n",
      "2\t25\t24\t7\t42\t95.27275085449219\t1.0\t1.0\n",
      "2\t25\t24\t8\t47\t230.57635498046875\t1.0\t1.0\n",
      "1\t58\t132\t9\t25\t48.14010238647461\t1.0\t1.0\n",
      "1\t58\t132\t9\t27\t92.92947387695312\t1.0\t1.0\n",
      "0\t48\t109\t9\t64\t251.07447814941406\t1.0\t1.0\n",
      "0\t76\t110\t10\t1\t69.20076751708984\t1.0\t1.0\n",
      "0\t48\t108\t10\t40\t19.56378746032715\t1.0\t1.0\n",
      "0\t48\t109\t10\t41\t122.84815216064453\t1.0\t1.0\n",
      "0\t48\t108\t10\t42\t28.33331871032715\t1.0\t1.0\n",
      "2\t25\t24\t11\t1\t21.51937484741211\t1.0\t1.0\n",
      "2\t18\t17\t11\t15\t148.96444702148438\t1.0\t1.0\n",
      "2\t18\t17\t12\t57\t76.79739379882812\t1.0\t1.0\n",
      "1\t80\t49\t13\t70\t159.26600646972656\t1.0\t1.0\n",
      "0\t48\t108\t14\t1\t125.24523162841797\t1.0\t1.0\n",
      "0\t47\t98\t14\t22\t67.60189056396484\t1.0\t1.0\n",
      "0\t47\t98\t14\t24\t103.03018188476562\t1.0\t1.0\n",
      "0\t54\t89\t14\t39\t34.45417785644531\t1.0\t1.0\n",
      "0\t54\t89\t14\t41\t60.66257095336914\t1.0\t1.0\n",
      "0\t53\t78\t14\t57\t61.411861419677734\t1.0\t1.0\n",
      "0\t53\t78\t14\t59\t28.438196182250977\t1.0\t1.0\n",
      "0\t52\t76\t14\t62\t63.360740661621094\t1.0\t1.0\n",
      "0\t52\t76\t14\t64\t294.8589782714844\t1.0\t1.0\n",
      "1\t54\t73\t14\t69\t341.6566162109375\t1.0\t1.0\n",
      "1\t54\t73\t14\t71\t27.671581268310547\t1.0\t1.0\n",
      "1\t80\t49\t14\t125\t39.762516021728516\t1.0\t1.0\n",
      "2\t18\t17\t16\t1\t185.54652404785156\t1.0\t1.0\n",
      "2\t15\t3\t16\t21\t32.64251708984375\t1.0\t1.0\n",
      "2\t36\t11\t17\t38\t57.836700439453125\t1.0\t1.0\n",
      "2\t110\t159\t19\t2\t201.63583374023438\t1.0\t1.0\n",
      "0\t38\t85\t21\t8\t72.7103042602539\t1.0\t1.0\n",
      "0\t38\t85\t21\t9\t54.39541244506836\t1.0\t1.0\n",
      "2\t108\t57\t24\t8\t237.04415893554688\t1.0\t1.0\n",
      "2\t108\t57\t24\t9\t46.142940521240234\t1.0\t1.0\n",
      "0\t94\t35\t24\t45\t96.94855499267578\t1.0\t1.0\n",
      "0\t94\t35\t24\t47\t91.54985046386719\t1.0\t1.0\n",
      "2\t91\t35\t24\t50\t60.89990997314453\t1.0\t1.0\n",
      "2\t91\t34\t24\t51\t61.16813278198242\t1.0\t1.0\n",
      "1\t80\t49\t25\t1\t146.93106079101562\t1.0\t1.0\n",
      "2\t91\t35\t25\t26\t308.2864685058594\t1.0\t1.0\n",
      "2\t91\t34\t25\t27\t75.82389068603516\t1.0\t1.0\n",
      "2\t15\t3\t31\t1\t273.603271484375\t1.0\t1.0\n",
      "2\t36\t11\t36\t1\t263.1260681152344\t1.0\t1.0\n",
      "2\t110\t159\t38\t1\t24.2677001953125\t1.0\t1.0\n",
      "2\t91\t34\t42\t1\t130.52822875976562\t1.0\t1.0\n",
      "1\t92\t30\t42\t6\t66.65867614746094\t1.0\t1.0\n",
      "1\t92\t30\t42\t8\t252.91909790039062\t1.0\t1.0\n",
      "\n",
      "Checking for streambed tops of less than -10...\n",
      "passed.\n",
      "\n",
      "Checking for streambed tops of greater than 15000...\n",
      "passed.\n",
      "\n",
      "Checking segment_data for downstream rises in streambed elevation...\n",
      "Segment elevup and elevdn not specified for nstrm=-1439 and isfropt=1\n",
      "passed.\n",
      "\n",
      "Checking reach_data for downstream rises in streambed elevation...\n",
      "passed.\n",
      "\n",
      "Checking reach_data for inconsistencies between streambed elevations and the model grid...\n",
      "1 reaches encountered with streambed above model top.\n",
      "Model top violations:\n",
      "i j iseg ireach strtop modeltop strhc1 reachID diff\n",
      "49 15 18 19 922.1929321289062 920.3099975585938 1.0 786 -1.8829345703125\n",
      "\n",
      "\n",
      "Checking segment_data for inconsistencies between segment end elevations and the model grid...\n",
      "Segment elevup and elevdn not specified for nstrm=-1439 and isfropt=1\n",
      "passed.\n",
      "\n",
      "Checking for streambed slopes of less than 0.0001...\n",
      "passed.\n",
      "\n",
      "Checking for streambed slopes of greater than 1.0...\n",
      "passed.\n",
      "\n",
      "wrote tf_SFR.chk\n",
      "converting segment data to period data...\n",
      "converting reach and segment data to package data...\n"
     ]
    },
    {
     "name": "stdout",
     "output_type": "stream",
     "text": [
      "wrote /home/runner/work/sfrmaker/sfrmaker/examples/Notebooks/../tylerforks/tylerforks/tf.sfr\n"
     ]
    }
   ],
   "source": [
    "sfrdata.write_package(version='mf6')"
   ]
  },
  {
   "cell_type": "markdown",
   "metadata": {},
   "source": [
    "### Writing tables\n",
    "The ``reach_data`` and ``segment_data`` tables can be written out to csv files for further processing:"
   ]
  },
  {
   "cell_type": "code",
   "execution_count": 21,
   "metadata": {
    "execution": {
     "iopub.execute_input": "2024-10-19T18:30:23.731117Z",
     "iopub.status.busy": "2024-10-19T18:30:23.730953Z",
     "iopub.status.idle": "2024-10-19T18:30:23.745379Z",
     "shell.execute_reply": "2024-10-19T18:30:23.744916Z"
    }
   },
   "outputs": [
    {
     "name": "stdout",
     "output_type": "stream",
     "text": [
      "wrote tables/tf_sfr_reach_data.csv\n",
      "wrote tables/tf_sfr_segment_data.csv\n"
     ]
    }
   ],
   "source": [
    "sfrdata.write_tables()"
   ]
  },
  {
   "cell_type": "markdown",
   "metadata": {},
   "source": [
    "and then read back in to create an ``SFRData`` instance"
   ]
  },
  {
   "cell_type": "code",
   "execution_count": 22,
   "metadata": {
    "execution": {
     "iopub.execute_input": "2024-10-19T18:30:23.746864Z",
     "iopub.status.busy": "2024-10-19T18:30:23.746710Z",
     "iopub.status.idle": "2024-10-19T18:30:23.797079Z",
     "shell.execute_reply": "2024-10-19T18:30:23.796636Z"
    }
   },
   "outputs": [
    {
     "name": "stdout",
     "output_type": "stream",
     "text": [
      "Model grid information\n",
      "structured grid\n",
      "nnodes: 17,760\n",
      "nlay: 1\n",
      "nrow: 111\n",
      "ncol: 160\n",
      "model length units: undefined\n",
      "crs: EPSG:26715\n",
      "bounds: 682688.00, 5139052.00, 694880.00, 5147510.20\n",
      "active area defined by: isfr array\n",
      "\n"
     ]
    }
   ],
   "source": [
    "sfrdata2 = sfrmaker.SFRData.from_tables('tables/tf_sfr_reach_data.csv', 'tables/tf_sfr_segment_data.csv',\n",
    "                                        grid=grid)"
   ]
  },
  {
   "cell_type": "markdown",
   "metadata": {},
   "source": [
    "### Writing shapefiles\n",
    "Shapefiles can also be written to visualize the SFR package. These include:\n",
    "* hydrography linestrings associated with each reach\n",
    "* model cell polygons associated with each reach\n",
    "* outlet locations where water is leaving the model\n",
    "* routing connections (as lines drawn between cell centers)\n",
    "* the locations of specified inflows or any other period data\n",
    "* observation locations (if observations were supplied as input)"
   ]
  },
  {
   "cell_type": "code",
   "execution_count": 23,
   "metadata": {
    "execution": {
     "iopub.execute_input": "2024-10-19T18:30:23.798625Z",
     "iopub.status.busy": "2024-10-19T18:30:23.798304Z",
     "iopub.status.idle": "2024-10-19T18:30:24.362050Z",
     "shell.execute_reply": "2024-10-19T18:30:24.361557Z"
    }
   },
   "outputs": [
    {
     "name": "stdout",
     "output_type": "stream",
     "text": [
      "writing shps/tf_sfr_cells.shp..."
     ]
    },
    {
     "name": "stdout",
     "output_type": "stream",
     "text": [
      " Done\n",
      "writing shps/tf_sfr_outlets.shp... Done\n",
      "writing shps/tf_sfr_lines.shp..."
     ]
    },
    {
     "name": "stdout",
     "output_type": "stream",
     "text": [
      " Done\n"
     ]
    },
    {
     "name": "stdout",
     "output_type": "stream",
     "text": [
      "writing shps/tf_sfr_routing.shp... Done\n",
      "No period data to export!\n",
      "No observations to export!\n",
      "No non-zero values of flow to export!\n"
     ]
    }
   ],
   "source": [
    "sfrdata.write_shapefiles()"
   ]
  }
 ],
 "metadata": {
  "kernelspec": {
   "display_name": "Python 3 (ipykernel)",
   "language": "python",
   "name": "python3"
  },
  "language_info": {
   "codemirror_mode": {
    "name": "ipython",
    "version": 3
   },
   "file_extension": ".py",
   "mimetype": "text/x-python",
   "name": "python",
   "nbconvert_exporter": "python",
   "pygments_lexer": "ipython3",
   "version": "3.12.7"
  }
 },
 "nbformat": 4,
 "nbformat_minor": 4
}
