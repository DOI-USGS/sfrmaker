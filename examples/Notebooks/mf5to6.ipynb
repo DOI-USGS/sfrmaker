{
 "cells": [
  {
   "cell_type": "markdown",
   "metadata": {},
   "source": [
    "# Converting a MODFLOW-2005 style SFR Package to MODFLOW 6\n",
    "\n",
    "Sometimes you may want to convert a MODFLOW-2005 or MODFLOW-NWT model to MODFLOW 6, but the USGS `mf5to6` converter fails on the SFR Package. This notebook demonstrates how to convert a MODFLOW-2005 (or MODFLOW-NWT) SFR Package input file to MODFLOW 6 using SFRmaker."
   ]
  },
  {
   "cell_type": "code",
   "execution_count": null,
   "metadata": {},
   "outputs": [],
   "source": [
    "import flopy\n",
    "import sfrmaker\n",
    "\n",
    "# Load the model using Flopy\n",
    "model = flopy.modflow.Modflow.load('tf_with_sfr.nam', model_ws='../tylerforks/tylerforks')\n",
    "\n",
    "#Check that the SFR package was loaded\n",
    "model.get_package_list()"
   ]
  },
  {
   "cell_type": "code",
   "execution_count": null,
   "metadata": {},
   "outputs": [],
   "source": [
    "# Instantiate an `Mf6SFR` object (with the Flopy MODFLOW-2005 style SFR instance)\n",
    "mf5to6 = sfrmaker.Mf6SFR(model.sfr)\n",
    "\n",
    "# Write the MODFLOW 6 SFR Package file\n",
    "mf5to6.write_file('tf_mf6.sfr')"
   ]
  }
 ],
 "metadata": {
  "kernelspec": {
   "display_name": "sfrmaker_ci",
   "language": "python",
   "name": "python3"
  },
  "language_info": {
   "codemirror_mode": {
    "name": "ipython",
    "version": 3
   },
   "file_extension": ".py",
   "mimetype": "text/x-python",
   "name": "python",
   "nbconvert_exporter": "python",
   "pygments_lexer": "ipython3",
   "version": "3.13.2"
  }
 },
 "nbformat": 4,
 "nbformat_minor": 2
}
