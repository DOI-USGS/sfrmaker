{
 "cells": [
  {
   "cell_type": "markdown",
   "id": "626a5f2f",
   "metadata": {},
   "source": [
    "# Stand-alone tools\n",
    "Along with the core functionality of the [Lines](../api/sfrmaker.lines.rst#sfrmaker.lines.Lines) and [SFRData](../api/sfrmaker.sfrdata.rst#sfrmaker.sfrdata.SFRData) classes, SFRmaker also has stand-alone tools that may be useful in work related to the SFR package or other model components."
   ]
  },
  {
   "cell_type": "code",
   "execution_count": 40,
   "id": "9ff268d2",
   "metadata": {},
   "outputs": [],
   "source": [
    "import numpy as np\n",
    "import pandas as pd\n",
    "import flopy\n",
    "import matplotlib.pyplot as plt\n",
    "import sfrmaker\n",
    "from sfrmaker.routing import find_path, get_upsegs, make_graph, make_reverse_graph"
   ]
  },
  {
   "cell_type": "markdown",
   "id": "c2430b24",
   "metadata": {},
   "source": [
    "**Set up the Tyler Forks tests model SFR package**  \n",
    "See [Using SFRmaker in a scripting context](SFRmaker_demo.ipynb) for more details"
   ]
  },
  {
   "cell_type": "code",
   "execution_count": 12,
   "id": "1fde68c1",
   "metadata": {
    "tags": [
     "\"hide-output\""
    ]
   },
   "outputs": [],
   "source": [
    "%%capture\n",
    "lns = sfrmaker.Lines.from_nhdplus_v2(NHDPlus_paths='../tylerforks/NHDPlus/',\n",
    "                            filter='../tylerforks/grid.shp')\n",
    "m = flopy.modflow.Modflow.load('tf.nam', model_ws='../tylerforks/tylerforks')\n",
    "mg = flopy.discretization.StructuredGrid(delr=m.dis.delr.array * .3048,  # cell spacing along a row\n",
    "                                         delc=m.dis.delc.array * .3048,  # cell spacing along a column\n",
    "                                         xoff=682688, yoff=5139052,  # lower left corner of model grid\n",
    "                                         angrot=0,  # grid is unrotated\n",
    "                                         # projected coordinate system of model (UTM NAD27 zone 15 North)\n",
    "                                         proj4='epsg:26715'\n",
    "                                         )\n",
    "sfr = lns.to_sfr(grid=mg, model=m, model_length_units='feet')"
   ]
  },
  {
   "cell_type": "markdown",
   "id": "54936b76",
   "metadata": {},
   "source": [
    "## Methods for working with the SFR routing network, or any other directed acyclic graph (DAG)\n",
    "\n",
    "* the `sfrmaker.routing.find_path` function to trace a routing path from a given reach or segment to the outlet (or for example in the context of GSFLOW, a cascade path from an HRU to an outlet)\n",
    "\n",
    "* the `sfrmaker.routing.get_upsegs` method to get a list of all segments or reaches upstream of a point within the SFR routing network\n",
    "\n",
    "\n",
    "### Create a routing dictionary\n",
    "* from vectors of to/from nodes, which in this case are the segments\n",
    "* if the `one_to_many=True` (the default), a set of one or more downstream connections is returned for each node\n",
    "* if `one_to_many=False`, a single integer representing the downstream connection is returned\n",
    "* SFRmaker's use of dictionaries to work with DAGs was inspired by [this essay](https://www.python.org/doc/essays/graphs/)"
   ]
  },
  {
   "cell_type": "code",
   "execution_count": 16,
   "id": "f5867efe",
   "metadata": {},
   "outputs": [
    {
     "data": {
      "text/plain": [
       "{4}"
      ]
     },
     "execution_count": 16,
     "metadata": {},
     "output_type": "execute_result"
    }
   ],
   "source": [
    "routing = make_graph(sfr.segment_data['nseg'], sfr.segment_data['outseg'])\n",
    "routing[1]"
   ]
  },
  {
   "cell_type": "code",
   "execution_count": 17,
   "id": "edb2d15c",
   "metadata": {},
   "outputs": [
    {
     "data": {
      "text/plain": [
       "4"
      ]
     },
     "execution_count": 17,
     "metadata": {},
     "output_type": "execute_result"
    }
   ],
   "source": [
    "routing = make_graph(sfr.segment_data['nseg'], sfr.segment_data['outseg'], one_to_many=False)\n",
    "routing[1]"
   ]
  },
  {
   "cell_type": "markdown",
   "id": "6c6f7e91",
   "metadata": {},
   "source": [
    "**The routing dictionary produced by ``make_graph`` can also be reversed:**"
   ]
  },
  {
   "cell_type": "code",
   "execution_count": 19,
   "id": "d4fa3676",
   "metadata": {},
   "outputs": [
    {
     "data": {
      "text/plain": [
       "{1, 2}"
      ]
     },
     "execution_count": 19,
     "metadata": {},
     "output_type": "execute_result"
    }
   ],
   "source": [
    "routing_r = make_reverse_graph(routing)\n",
    "routing_r[4]"
   ]
  },
  {
   "cell_type": "markdown",
   "id": "7d89ce32",
   "metadata": {},
   "source": [
    "### Finding a path through the routing network\n",
    "The returned path includes all nodes between the starting point (in this case 1) and the outlet (0)"
   ]
  },
  {
   "cell_type": "code",
   "execution_count": 22,
   "id": "a64e5605",
   "metadata": {},
   "outputs": [
    {
     "data": {
      "text/plain": [
       "[1, 4, 6, 10, 14, 26, 42, 0]"
      ]
     },
     "execution_count": 22,
     "metadata": {},
     "output_type": "execute_result"
    }
   ],
   "source": [
    "path = find_path(routing, 1)\n",
    "path"
   ]
  },
  {
   "cell_type": "markdown",
   "id": "6f07f41c",
   "metadata": {},
   "source": [
    "#### Plotting an elevation profile along a path\n",
    "This can be useful, for example, when an elevation profile along a stream is desired, or if one wants to map the SFR reach that each HRU ultimately discharges to in a GSFLOW model."
   ]
  },
  {
   "cell_type": "code",
   "execution_count": 46,
   "id": "b2250a66",
   "metadata": {},
   "outputs": [
    {
     "data": {
      "text/plain": [
       "Text(0.5, 0, 'Distance in River miles')"
      ]
     },
     "execution_count": 46,
     "metadata": {},
     "output_type": "execute_result"
    },
    {
     "data": {
      "image/png": "[encoded data removed]",
      "text/plain": [
       "<Figure size 432x288 with 1 Axes>"
      ]
     },
     "metadata": {
      "needs_background": "light"
     },
     "output_type": "display_data"
    }
   ],
   "source": [
    "reach_data = pd.DataFrame(m.sfr.reach_data)\n",
    "reach_data.index = reach_data['reachID']\n",
    "\n",
    "reach_routing = make_graph(reach_data['reachID'], reach_data['outreach'], one_to_many=False)\n",
    "path = find_path(reach_routing, 10)\n",
    "\n",
    "# leave off the outlet segment (0; which doesn't exist) when getting the elevations\n",
    "path_reach_data = reach_data.loc[path[:-1]]\n",
    "elevations = path_reach_data['strtop']\n",
    "distances_mi = np.cumsum(path_reach_data['rchlen'])/5280  # distance along path in miles\n",
    "\n",
    "plt.plot(distances_mi, elevations)\n",
    "plt.ylabel('Streambed elevation, in feet')\n",
    "plt.xlabel('Distance in River miles')"
   ]
  },
  {
   "cell_type": "markdown",
   "id": "5a321216",
   "metadata": {},
   "source": [
    "### Getting the upstream contributing segments\n",
    "\n",
    "The ``get_upsegs`` method takes a reverse routing dictionary (one-to-many) and returns a set of all of the nodes that are upstream of that point. This function is integral to the [streambed elevation smoothing](Streambed_elevation_demo.ipynb) in SFRmaker, and can also be used to aggregate flow components (for example, net groundwater inflow) at a point on the stream network."
   ]
  },
  {
   "cell_type": "code",
   "execution_count": 47,
   "id": "ee910bc5",
   "metadata": {},
   "outputs": [
    {
     "data": {
      "text/plain": [
       "{1, 2, 3, 4, 5, 6, 9, 10, 13, 14, 25, 26}"
      ]
     },
     "execution_count": 47,
     "metadata": {},
     "output_type": "execute_result"
    }
   ],
   "source": [
    "get_upsegs(routing_r, 42)"
   ]
  },
  {
   "cell_type": "code",
   "execution_count": null,
   "id": "db61101f",
   "metadata": {},
   "outputs": [],
   "source": []
  }
 ],
 "metadata": {
  "kernelspec": {
   "display_name": "Python 3 (ipykernel)",
   "language": "python",
   "name": "python3"
  },
  "language_info": {
   "codemirror_mode": {
    "name": "ipython",
    "version": 3
   },
   "file_extension": ".py",
   "mimetype": "text/x-python",
   "name": "python",
   "nbconvert_exporter": "python",
   "pygments_lexer": "ipython3",
   "version": "3.9.6"
  }
 },
 "nbformat": 4,
 "nbformat_minor": 5
}
