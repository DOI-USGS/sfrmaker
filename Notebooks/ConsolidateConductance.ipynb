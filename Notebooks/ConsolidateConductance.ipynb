{
 "metadata": {
  "name": "",
  "signature": "sha256:3e5f87f542e9fd0baa2823ba2e341124a0277439bed7af47cc44370adae24698"
 },
 "nbformat": 3,
 "nbformat_minor": 0,
 "worksheets": [
  {
   "cells": [
    {
     "cell_type": "markdown",
     "metadata": {},
     "source": [
      "##ConsolidateConductance\n",
      "Documents the approach for handling multple SFR reaches in a single model cell, which is implemented in the **SFRdata.consolidate_conductance()** method in **postproc.py**"
     ]
    },
    {
     "cell_type": "code",
     "collapsed": false,
     "input": [
      "import sys\n",
      "sys.path.append('..')\n",
      "import numpy as np\n",
      "from postproc import *"
     ],
     "language": "python",
     "metadata": {},
     "outputs": [],
     "prompt_number": 1
    },
    {
     "cell_type": "markdown",
     "metadata": {},
     "source": [
      "####Initialize SFR object"
     ]
    },
    {
     "cell_type": "code",
     "collapsed": false,
     "input": [
      "mat1 = '/Users/aleaf/Documents/LPR/LittlePlover/2_from_ALEAF_SFR/SFRoutput/Mat1_elevs.csv'\n",
      "mat2 = '/Users/aleaf/Documents/LPR/LittlePlover/2_from_ALEAF_SFR/SFRoutput/Mat2_elevs_edited.csv'\n",
      "\n",
      "bedKmin = 1e-8 # K value to turn off conductance in collocated SFR reaches\n",
      "\n",
      "sfr = SFRdata(Mat1=mat1, Mat2=mat2)"
     ],
     "language": "python",
     "metadata": {},
     "outputs": [],
     "prompt_number": 2
    },
    {
     "cell_type": "markdown",
     "metadata": {},
     "source": [
      "####Calculate SFR conductance for each reach####\n",
      "$$Cond=\\frac{KWL}{b}$$"
     ]
    },
    {
     "cell_type": "code",
     "collapsed": false,
     "input": [
      "def cond(X):\n",
      "    c = X['bed_K'] * X['width_in_cell'] * X['length_in_cell'] / X['bed_thickness']\n",
      "    return c\n",
      "\n",
      "sfr.m1['Cond'] = sfr.m1.apply(cond, axis=1)"
     ],
     "language": "python",
     "metadata": {},
     "outputs": [],
     "prompt_number": 3
    },
    {
     "cell_type": "markdown",
     "metadata": {},
     "source": [
      "####Get list of model cells that have more than 1 SFR reach"
     ]
    },
    {
     "cell_type": "code",
     "collapsed": false,
     "input": [
      "shared_cells = np.unique(sfr.m1.ix[sfr.m1.node.duplicated(), 'node'])"
     ],
     "language": "python",
     "metadata": {},
     "outputs": [],
     "prompt_number": 4
    },
    {
     "cell_type": "markdown",
     "metadata": {},
     "source": [
      "####Example of cell with multiple SFR reaches, with reaches sorted by width"
     ]
    },
    {
     "cell_type": "code",
     "collapsed": false,
     "input": [
      "sfr.m1[sfr.m1.node == shared_cells[0]].sort('width_in_cell', ascending=False)"
     ],
     "language": "python",
     "metadata": {},
     "outputs": [
      {
       "html": [
        "<div style=\"max-height:1000px;max-width:1500px;overflow:auto;\">\n",
        "<table border=\"1\" class=\"dataframe\">\n",
        "  <thead>\n",
        "    <tr style=\"text-align: right;\">\n",
        "      <th></th>\n",
        "      <th>layer</th>\n",
        "      <th>bed_K</th>\n",
        "      <th>reach</th>\n",
        "      <th>segment</th>\n",
        "      <th>stage</th>\n",
        "      <th>bed_thickness</th>\n",
        "      <th>bed_slope</th>\n",
        "      <th>column</th>\n",
        "      <th>top_streambed</th>\n",
        "      <th>bed_roughness</th>\n",
        "      <th>row</th>\n",
        "      <th>width_in_cell</th>\n",
        "      <th>length_in_cell</th>\n",
        "      <th>node</th>\n",
        "      <th>landsurface</th>\n",
        "      <th>model_top</th>\n",
        "      <th>Outlet</th>\n",
        "      <th>Cond</th>\n",
        "    </tr>\n",
        "  </thead>\n",
        "  <tbody>\n",
        "    <tr>\n",
        "      <th>2155</th>\n",
        "      <td> 1</td>\n",
        "      <td> 1</td>\n",
        "      <td> 17</td>\n",
        "      <td> 29</td>\n",
        "      <td> 1</td>\n",
        "      <td> 3</td>\n",
        "      <td> 0.008844</td>\n",
        "      <td> 697</td>\n",
        "      <td> 1138.1</td>\n",
        "      <td> 0.037</td>\n",
        "      <td> 189</td>\n",
        "      <td> 2.413840</td>\n",
        "      <td> 40.704554</td>\n",
        "      <td> 201857</td>\n",
        "      <td> 1138.1</td>\n",
        "      <td> 1138.8</td>\n",
        "      <td> 29</td>\n",
        "      <td> 32.751426</td>\n",
        "    </tr>\n",
        "    <tr>\n",
        "      <th>2153</th>\n",
        "      <td> 1</td>\n",
        "      <td> 1</td>\n",
        "      <td> 15</td>\n",
        "      <td> 29</td>\n",
        "      <td> 1</td>\n",
        "      <td> 3</td>\n",
        "      <td>-0.000000</td>\n",
        "      <td> 697</td>\n",
        "      <td> 1138.1</td>\n",
        "      <td> 0.037</td>\n",
        "      <td> 189</td>\n",
        "      <td> 2.327648</td>\n",
        "      <td> 11.944813</td>\n",
        "      <td> 201857</td>\n",
        "      <td> 1138.1</td>\n",
        "      <td> 1138.8</td>\n",
        "      <td> 29</td>\n",
        "      <td>  9.267772</td>\n",
        "    </tr>\n",
        "  </tbody>\n",
        "</table>\n",
        "</div>"
       ],
       "metadata": {},
       "output_type": "pyout",
       "prompt_number": 5,
       "text": [
        "      layer  bed_K  reach  segment  stage  bed_thickness  bed_slope  column  \\\n",
        "2155      1      1     17       29      1              3   0.008844     697   \n",
        "2153      1      1     15       29      1              3  -0.000000     697   \n",
        "\n",
        "      top_streambed  bed_roughness  row  width_in_cell  length_in_cell  \\\n",
        "2155         1138.1          0.037  189       2.413840       40.704554   \n",
        "2153         1138.1          0.037  189       2.327648       11.944813   \n",
        "\n",
        "        node  landsurface  model_top  Outlet       Cond  \n",
        "2155  201857       1138.1     1138.8      29  32.751426  \n",
        "2153  201857       1138.1     1138.8      29   9.267772  "
       ]
      }
     ],
     "prompt_number": 5
    },
    {
     "cell_type": "markdown",
     "metadata": {},
     "source": [
      "####Calculate new length for widest reach, to reflect total SFR conductance in model cell####\n",
      "$$L_{new}=\\frac{Cond_{total}b}{KW}$$"
     ]
    },
    {
     "cell_type": "markdown",
     "metadata": {},
     "source": [
      "####First make a new column that designates whether a reach is dominant in each cell\n",
      "dominant reaches include those not collocated with other reaches, and the longest collocated reach"
     ]
    },
    {
     "cell_type": "code",
     "collapsed": false,
     "input": [
      "sfr.m1['Dominant'] = [True] * len(sfr.m1)\n",
      "\n",
      "for c in shared_cells:\n",
      "    \n",
      "    # select the collocated reaches for this cell\n",
      "    df = sfr.m1[sfr.m1.node == c].sort('width_in_cell', ascending=False)\n",
      "    \n",
      "    # set all of these reaches except the largest to not Dominant\n",
      "    sfr.m1.loc[df.index[1:], 'Dominant'] = False"
     ],
     "language": "python",
     "metadata": {},
     "outputs": [],
     "prompt_number": 6
    },
    {
     "cell_type": "markdown",
     "metadata": {},
     "source": [
      "####Sum up the conductances for all of the collocated reaches\n",
      "returns a series of conductance sums by model cell, put these into a new column in Mat1"
     ]
    },
    {
     "cell_type": "code",
     "collapsed": false,
     "input": [
      "Cond_sums = sfr.m1[['node', 'Cond']].groupby('node').agg('sum').Cond\n",
      "\n",
      "sfr.m1['Cond_sum'] = [Cond_sums[c] for c in sfr.m1.node]\n",
      "Cond_sums"
     ],
     "language": "python",
     "metadata": {},
     "outputs": [
      {
       "metadata": {},
       "output_type": "pyout",
       "prompt_number": 7,
       "text": [
        "node\n",
        "193291    16.125366\n",
        "194361    29.968592\n",
        "195431    37.506291\n",
        "196501    48.217012\n",
        "197571    40.204846\n",
        "197572    21.030882\n",
        "198642    64.257852\n",
        "199712    51.423836\n",
        "199713    12.239718\n",
        "200783    95.474039\n",
        "200784     3.300739\n",
        "200787    39.122404\n",
        "201854    73.182784\n",
        "201855    74.418697\n",
        "201856    77.805493\n",
        "...\n",
        "960878    653.468417\n",
        "960879    779.090198\n",
        "960880    789.420429\n",
        "960881    875.203082\n",
        "960882    204.580101\n",
        "961937      3.637344\n",
        "961940    191.235579\n",
        "961941    930.321918\n",
        "961942    734.979011\n",
        "961943    762.809167\n",
        "961944    762.413025\n",
        "961945    754.674915\n",
        "961946    724.216820\n",
        "961947    723.858089\n",
        "961948    837.111384\n",
        "Name: Cond, Length: 3298, dtype: float64"
       ]
      }
     ],
     "prompt_number": 7
    },
    {
     "cell_type": "markdown",
     "metadata": {},
     "source": [
      "####Calculate a new length for widest reaches, set length in secondary collocated reaches to 1\n",
      "also set the K values in the secondary cells to bedKmin"
     ]
    },
    {
     "cell_type": "code",
     "collapsed": false,
     "input": [
      "sfr.m1['old_length_in_cell'] = sfr.m1.length_in_cell\n",
      "\n",
      "def consolidate_lengths(X):\n",
      "    if X['Dominant']:\n",
      "        lnew = X['Cond_sum'] * X['bed_thickness'] / (X['bed_K'] * X['width_in_cell'])\n",
      "    else:\n",
      "        lnew = 1.0\n",
      "    return lnew\n",
      "\n",
      "sfr.m1['length_in_cell'] = sfr.m1.apply(consolidate_lengths, axis=1)\n",
      "sfr.m1['bed_K'] = [r['bed_K'] if r['Dominant'] else bedKmin for i, r in sfr.m1.iterrows()]"
     ],
     "language": "python",
     "metadata": {},
     "outputs": [],
     "prompt_number": 8
    },
    {
     "cell_type": "code",
     "collapsed": false,
     "input": [
      "sfr.m1.ix[sfr.m1.node == shared_cells[0], ['width_in_cell', 'bed_K', 'length_in_cell', 'old_length_in_cell']]"
     ],
     "language": "python",
     "metadata": {},
     "outputs": [
      {
       "html": [
        "<div style=\"max-height:1000px;max-width:1500px;overflow:auto;\">\n",
        "<table border=\"1\" class=\"dataframe\">\n",
        "  <thead>\n",
        "    <tr style=\"text-align: right;\">\n",
        "      <th></th>\n",
        "      <th>width_in_cell</th>\n",
        "      <th>bed_K</th>\n",
        "      <th>length_in_cell</th>\n",
        "      <th>old_length_in_cell</th>\n",
        "    </tr>\n",
        "  </thead>\n",
        "  <tbody>\n",
        "    <tr>\n",
        "      <th>2153</th>\n",
        "      <td> 2.327648</td>\n",
        "      <td> 1.000000e-08</td>\n",
        "      <td>  1.000000</td>\n",
        "      <td> 11.944813</td>\n",
        "    </tr>\n",
        "    <tr>\n",
        "      <th>2155</th>\n",
        "      <td> 2.413840</td>\n",
        "      <td> 1.000000e+00</td>\n",
        "      <td> 52.222848</td>\n",
        "      <td> 40.704554</td>\n",
        "    </tr>\n",
        "  </tbody>\n",
        "</table>\n",
        "</div>"
       ],
       "metadata": {},
       "output_type": "pyout",
       "prompt_number": 9,
       "text": [
        "      width_in_cell         bed_K  length_in_cell  old_length_in_cell\n",
        "2153       2.327648  1.000000e-08        1.000000           11.944813\n",
        "2155       2.413840  1.000000e+00       52.222848           40.704554"
       ]
      }
     ],
     "prompt_number": 9
    },
    {
     "cell_type": "code",
     "collapsed": false,
     "input": [
      "sfr.m1.Dominant"
     ],
     "language": "python",
     "metadata": {},
     "outputs": [
      {
       "metadata": {},
       "output_type": "pyout",
       "prompt_number": 10,
       "text": [
        "0     True\n",
        "1     True\n",
        "2     True\n",
        "3     True\n",
        "4     True\n",
        "5     True\n",
        "6     True\n",
        "7     True\n",
        "8     True\n",
        "9     True\n",
        "10    True\n",
        "11    True\n",
        "12    True\n",
        "13    True\n",
        "14    True\n",
        "...\n",
        "3332    True\n",
        "3333    True\n",
        "3334    True\n",
        "3335    True\n",
        "3336    True\n",
        "3337    True\n",
        "3338    True\n",
        "3339    True\n",
        "3340    True\n",
        "3341    True\n",
        "3342    True\n",
        "3343    True\n",
        "3344    True\n",
        "3345    True\n",
        "3346    True\n",
        "Name: Dominant, Length: 3347, dtype: bool"
       ]
      }
     ],
     "prompt_number": 10
    },
    {
     "cell_type": "code",
     "collapsed": false,
     "input": [],
     "language": "python",
     "metadata": {},
     "outputs": [],
     "prompt_number": 10
    }
   ],
   "metadata": {}
  }
 ]
}