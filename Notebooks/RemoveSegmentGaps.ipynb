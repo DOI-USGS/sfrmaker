{
 "metadata": {
  "name": ""
 },
 "nbformat": 3,
 "nbformat_minor": 0,
 "worksheets": [
  {
   "cells": [
    {
     "cell_type": "markdown",
     "metadata": {},
     "source": [
      "Code to reorder segments within an existing SFR file to meet the requirement that no gaps be present in segment numbers.\n",
      "\n",
      "NB --> working on file NACP_revised.SFR with a backup copy saved as NACP_revised_tmp.SFR and the *original* file from the scripts called NACP.SFR\n",
      "List of segments to remove is in the file SegsToRemove.dat and new outseg substitutions are in NewRouting.dat\n",
      "\n",
      "First step is to read in the segments to remove and cutthem from infile_orig, writing the results to infile."
     ]
    },
    {
     "cell_type": "code",
     "collapsed": false,
     "input": [
      "%matplotlib inline\n",
      "import numpy as np\n",
      "infile_orig = 'NACP.SFR'\n",
      "infile = 'NACP_revised_tmp.SFR'\n",
      "outfile = 'NACP_revised.SFR'\n",
      "newroutingfile = 'NewRouting.dat'\n",
      "segs2removefile = 'SegsToRemove.dat'\n",
      "\n",
      "indat = open(infile_orig,'r').readlines()\n",
      "tmp = list()\n",
      "headerlines = list()\n",
      "for line in indat:\n",
      "    if '#' not in line:\n",
      "        tmp.append(line.strip())\n",
      "    else:\n",
      "        headerlines.append(line.strip())\n",
      "indat = tmp\n",
      "del(tmp)\n",
      "numsegs = np.abs(int(indat[0].split()[1]))\n",
      "numreaches = np.abs(int(indat[0].split()[0]))\n",
      "routing_startline = indat[numreaches+1]\n",
      "start_routing = numreaches+2"
     ],
     "language": "python",
     "metadata": {},
     "outputs": [],
     "prompt_number": 62
    },
    {
     "cell_type": "markdown",
     "metadata": {},
     "source": [
      "Sort out both rerouted and skipped segments."
     ]
    },
    {
     "cell_type": "code",
     "collapsed": false,
     "input": [
      "outdat1 = list()\n",
      "outdat2 = list()\n",
      "segs2remove = np.loadtxt(segs2removefile, dtype=int)\n",
      "tmp = np.loadtxt(newroutingfile, dtype=int)\n",
      "segsrerouts = dict(zip(tmp[:,0],tmp[:,1]))\n",
      "\n",
      "\n",
      "outdat1.append(indat[0])\n",
      "# now go over the reach section\n",
      "for i in np.arange(numreaches):\n",
      "    line = indat[i+1].split()\n",
      "    tmpseg = int(line[3])\n",
      "    if tmpseg in segs2remove:\n",
      "        numreaches -= 1\n",
      "    else:\n",
      "        outdat1.append(indat[i+1])\n",
      "    \n",
      "# next, handle the routing section\n",
      "keepseg = 2\n",
      "for i in np.arange(0,numsegs*3):\n",
      "    if np.mod(i,3):\n",
      "        if keepseg >= 2:\n",
      "            outdat2.append(indat[i+start_routing])\n",
      "        else:\n",
      "            keepseg += 1\n",
      "    else:\n",
      "        line = indat[i+start_routing].split()\n",
      "        if int(line[0]) in segs2remove:\n",
      "            keepseg = 0\n",
      "            numsegs -= 1\n",
      "        else:\n",
      "            if int(line[0]) in segsrerouts.iterkeys():\n",
      "                line[2] = str(int(segsrerouts[int(line[0])]))\n",
      "                keepseg = 2\n",
      "            outdat2.append(line)"
     ],
     "language": "python",
     "metadata": {},
     "outputs": [],
     "prompt_number": 63
    },
    {
     "cell_type": "markdown",
     "metadata": {},
     "source": [
      "Write out the new SFR file to _infile_"
     ]
    },
    {
     "cell_type": "code",
     "collapsed": false,
     "input": [
      "ofp = open(infile,'w')\n",
      "for line in headerlines:\n",
      "    ofp.write(line + '\\n')\n",
      "# adjust numreaches and numsegs for outdat1\n",
      "tmp = outdat1.pop(0).split()\n",
      "tmp[0] = str(int(-numreaches))\n",
      "tmp[1] = str(int(numsegs))\n",
      "ofp.write(' '.join(tmp) + '\\n')\n",
      "for line in outdat1:\n",
      "    ofp.write(line + '\\n')\n",
      "# adjust for outdat2\n",
      "tmp = routing_startline.split()\n",
      "tmp[0] = str(int(numsegs))\n",
      "ofp.write(' '.join(tmp) + '\\n')\n",
      "for line in outdat2:\n",
      "    if isinstance(line,list):\n",
      "        ofp.write(' '.join(list(line)) + '\\n')\n",
      "    else:\n",
      "        ofp.write(line + '\\n')\n",
      "ofp.close()"
     ],
     "language": "python",
     "metadata": {},
     "outputs": [],
     "prompt_number": 64
    },
    {
     "cell_type": "markdown",
     "metadata": {},
     "source": [
      "Now move on to renumbering the gaps"
     ]
    },
    {
     "cell_type": "code",
     "collapsed": false,
     "input": [
      "indat = open(infile,'r').readlines()\n",
      "tmp = list()\n",
      "headerlines = list()\n",
      "for line in indat:\n",
      "    if '#' not in line:\n",
      "        tmp.append(line.strip())\n",
      "    else:\n",
      "        headerlines.append(line.strip())\n",
      "indat = tmp\n",
      "del(tmp)\n",
      "numsegs = np.abs(int(indat[0].split()[1]))\n",
      "numreaches = np.abs(int(indat[0].split()[0]))\n",
      "routing_startline = indat[numreaches+1]\n",
      "start_routing = numreaches+2"
     ],
     "language": "python",
     "metadata": {},
     "outputs": [],
     "prompt_number": 65
    },
    {
     "cell_type": "markdown",
     "metadata": {},
     "source": [
      "Make a list of all the segments including gaps from the routing section of the input file\n"
     ]
    },
    {
     "cell_type": "code",
     "collapsed": false,
     "input": [
      "segment_numbers = list()\n",
      "for i in np.arange(0,numsegs*3,3):\n",
      "    segment_numbers.append(int(indat[i+start_routing].split()[0]))\n",
      "segment_numbers = np.array(segment_numbers)\n",
      "new_segnums = np.arange(1,len(segment_numbers)+1)"
     ],
     "language": "python",
     "metadata": {},
     "outputs": [],
     "prompt_number": 66
    },
    {
     "cell_type": "code",
     "collapsed": false,
     "input": [
      "segment_lookup = dict(zip(segment_numbers,new_segnums))"
     ],
     "language": "python",
     "metadata": {},
     "outputs": [],
     "prompt_number": 67
    },
    {
     "cell_type": "markdown",
     "metadata": {},
     "source": [
      "Make a dictionary with keys being the old segment numbers and the values being the new segment numbers in sequence.\n",
      "\n",
      "Then we can read through the input file data again and replace the old segment numbers with the new ones and write them out to the new file."
     ]
    },
    {
     "cell_type": "code",
     "collapsed": false,
     "input": [
      "ofp = open(outfile,'w')\n",
      "# write out the headerlines\n",
      "for line in headerlines:\n",
      "    ofp.write(line + '\\n')\n",
      "# now go over the reach section\n",
      "ofp.write(indat[0] + '\\n')\n",
      "for i in np.arange(numreaches):\n",
      "    line = indat[i+1].split()\n",
      "    tmpseg = int(line[3])\n",
      "    line[3]= str(segment_lookup[tmpseg])\n",
      "    newlineout = ' '.join(line)\n",
      "    ofp.write(newlineout + '\\n')\n",
      "\n",
      "# next, handle the routing section\n",
      "ofp.write(routing_startline + '\\n')\n",
      "for i in np.arange(0,numsegs*3):\n",
      "    if np.mod(i,3):\n",
      "        ofp.write(indat[i+start_routing] + '\\n')\n",
      "    else:\n",
      "        line = indat[i+start_routing].split()\n",
      "        line[0] = str(segment_lookup[int(line[0])])\n",
      "        if int(line[2]):\n",
      "            line[2] = str(segment_lookup[int(line[2])])\n",
      "        ofp.write(' '.join(line) + '\\n')\n",
      "        \n",
      "ofp.close()"
     ],
     "language": "python",
     "metadata": {},
     "outputs": [],
     "prompt_number": 68
    },
    {
     "cell_type": "code",
     "collapsed": false,
     "input": [],
     "language": "python",
     "metadata": {},
     "outputs": [],
     "prompt_number": 109
    }
   ],
   "metadata": {}
  }
 ]
}