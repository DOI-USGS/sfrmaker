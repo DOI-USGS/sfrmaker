{
 "metadata": {
  "name": "",
  "signature": "sha256:46e14a1c2e80ab17c215034ce66d19dc015ff2ba158c9ba25193ee7d8362085a"
 },
 "nbformat": 3,
 "nbformat_minor": 0,
 "worksheets": [
  {
   "cells": [
    {
     "cell_type": "code",
     "collapsed": false,
     "input": [
      "import sys\n",
      "sys.path.append('..')\n",
      "import numpy as np\n",
      "import matplotlib.pyplot as plt\n",
      "import flopy\n",
      "from postproc import *\n",
      "\n",
      "% matplotlib inline"
     ],
     "language": "python",
     "metadata": {},
     "outputs": [],
     "prompt_number": 9
    },
    {
     "cell_type": "markdown",
     "metadata": {},
     "source": [
      "####Initialize SFR object"
     ]
    },
    {
     "cell_type": "code",
     "collapsed": false,
     "input": [
      "#path = '/Users/aleaf/Documents/LPR/LittlePlover/2_from_ALEAF_SFR/'\n",
      "path = 'D:/ATLData/LittlePlover/2_from_ALEAF_SFR/'\n",
      "mat1 = path + 'SFRoutput/Mat1_elevs.csv'\n",
      "mat2 = path + 'SFRoutput/Mat2_elevs_edited.csv'\n",
      "mfpath = path + 'GWV'\n",
      "mfnam = 'LPR_PP2_1_12_15.nam'\n",
      "mfdis = 'LPR_PP2_1_12_15_adjusted_to_streambed.dis'\n",
      "\n",
      "bedKmin = 1e-8 # K value to turn off conductance in collocated SFR reaches\n",
      "\n",
      "sfr = SFRdata(Mat1=mat1, Mat2=mat2, mfpath=mfpath, mfnam=mfnam, mfdis=mfdis)\n",
      "sfr.m1.sort(['segment', 'reach'], inplace=True) # make sure that reaches are in order"
     ],
     "language": "python",
     "metadata": {},
     "outputs": [
      {
       "output_type": "stream",
       "stream": "stdout",
       "text": [
        "Parsing the namefile --> D:/ATLData/LittlePlover/2_from_ALEAF_SFR/GWV\\LPR_PP2_1_12_15.nam\n",
        "Setting filehandles:\n",
        "Loading DIS file with 3 layers, 900 rows, 1070 columns, and 1 stress periods\n",
        "   loading laycbd...\n",
        "   loading delr...\n",
        "   loading delc...\n",
        "   loading top...\n",
        "   loading botm..."
       ]
      },
      {
       "output_type": "stream",
       "stream": "stdout",
       "text": [
        "\n",
        "   loading stress period data..."
       ]
      },
      {
       "output_type": "stream",
       "stream": "stdout",
       "text": [
        "\n"
       ]
      }
     ],
     "prompt_number": 32
    },
    {
     "cell_type": "markdown",
     "metadata": {},
     "source": [
      "###Check for streambed elevations that rise in the downstream direction\n",
      "* Take the first order (left-hand) difference of streambed elevations\n",
      "* those with differences > 0 are either segment starts, or downstream increases in elevation  \n",
      "* by testing for reach numbers > 1, we can determine if there are any backwards elevations"
     ]
    },
    {
     "cell_type": "code",
     "collapsed": false,
     "input": [
      "pos_diffs = sfr.m1.ix[sfr.m1.top_streambed.diff() > 0, ['segment', 'reach', 'top_streambed']]\n",
      "pos_diffs"
     ],
     "language": "python",
     "metadata": {},
     "outputs": [
      {
       "html": [
        "<div style=\"max-height:1000px;max-width:1500px;overflow:auto;\">\n",
        "<table border=\"1\" class=\"dataframe\">\n",
        "  <thead>\n",
        "    <tr style=\"text-align: right;\">\n",
        "      <th></th>\n",
        "      <th>segment</th>\n",
        "      <th>reach</th>\n",
        "      <th>top_streambed</th>\n",
        "    </tr>\n",
        "  </thead>\n",
        "  <tbody>\n",
        "    <tr>\n",
        "      <th>19  </th>\n",
        "      <td>  2</td>\n",
        "      <td> 1</td>\n",
        "      <td> 1098.35</td>\n",
        "    </tr>\n",
        "    <tr>\n",
        "      <th>28  </th>\n",
        "      <td>  3</td>\n",
        "      <td> 1</td>\n",
        "      <td> 1098.70</td>\n",
        "    </tr>\n",
        "    <tr>\n",
        "      <th>53  </th>\n",
        "      <td>  5</td>\n",
        "      <td> 1</td>\n",
        "      <td> 1093.35</td>\n",
        "    </tr>\n",
        "    <tr>\n",
        "      <th>154 </th>\n",
        "      <td>  7</td>\n",
        "      <td> 1</td>\n",
        "      <td> 1070.23</td>\n",
        "    </tr>\n",
        "    <tr>\n",
        "      <th>479 </th>\n",
        "      <td>  9</td>\n",
        "      <td> 1</td>\n",
        "      <td> 1063.77</td>\n",
        "    </tr>\n",
        "    <tr>\n",
        "      <th>626 </th>\n",
        "      <td> 13</td>\n",
        "      <td> 1</td>\n",
        "      <td> 1060.00</td>\n",
        "    </tr>\n",
        "    <tr>\n",
        "      <th>773 </th>\n",
        "      <td> 15</td>\n",
        "      <td> 1</td>\n",
        "      <td> 1079.93</td>\n",
        "    </tr>\n",
        "    <tr>\n",
        "      <th>1183</th>\n",
        "      <td> 17</td>\n",
        "      <td> 1</td>\n",
        "      <td> 1066.00</td>\n",
        "    </tr>\n",
        "    <tr>\n",
        "      <th>1244</th>\n",
        "      <td> 18</td>\n",
        "      <td> 1</td>\n",
        "      <td> 1095.98</td>\n",
        "    </tr>\n",
        "    <tr>\n",
        "      <th>1296</th>\n",
        "      <td> 19</td>\n",
        "      <td> 1</td>\n",
        "      <td> 1106.77</td>\n",
        "    </tr>\n",
        "    <tr>\n",
        "      <th>1487</th>\n",
        "      <td> 21</td>\n",
        "      <td> 1</td>\n",
        "      <td> 1090.07</td>\n",
        "    </tr>\n",
        "    <tr>\n",
        "      <th>1498</th>\n",
        "      <td> 22</td>\n",
        "      <td> 1</td>\n",
        "      <td> 1092.86</td>\n",
        "    </tr>\n",
        "    <tr>\n",
        "      <th>1864</th>\n",
        "      <td> 25</td>\n",
        "      <td> 1</td>\n",
        "      <td> 1090.42</td>\n",
        "    </tr>\n",
        "    <tr>\n",
        "      <th>2051</th>\n",
        "      <td> 28</td>\n",
        "      <td> 1</td>\n",
        "      <td> 1090.35</td>\n",
        "    </tr>\n",
        "    <tr>\n",
        "      <th>2139</th>\n",
        "      <td> 29</td>\n",
        "      <td> 1</td>\n",
        "      <td> 1143.30</td>\n",
        "    </tr>\n",
        "    <tr>\n",
        "      <th>2246</th>\n",
        "      <td> 31</td>\n",
        "      <td> 1</td>\n",
        "      <td> 1129.87</td>\n",
        "    </tr>\n",
        "    <tr>\n",
        "      <th>2501</th>\n",
        "      <td> 32</td>\n",
        "      <td> 1</td>\n",
        "      <td> 1115.50</td>\n",
        "    </tr>\n",
        "    <tr>\n",
        "      <th>2578</th>\n",
        "      <td> 33</td>\n",
        "      <td> 1</td>\n",
        "      <td> 1085.50</td>\n",
        "    </tr>\n",
        "    <tr>\n",
        "      <th>2657</th>\n",
        "      <td> 34</td>\n",
        "      <td> 1</td>\n",
        "      <td> 1089.81</td>\n",
        "    </tr>\n",
        "    <tr>\n",
        "      <th>2878</th>\n",
        "      <td> 35</td>\n",
        "      <td> 1</td>\n",
        "      <td> 1056.48</td>\n",
        "    </tr>\n",
        "    <tr>\n",
        "      <th>3149</th>\n",
        "      <td> 37</td>\n",
        "      <td> 1</td>\n",
        "      <td> 1092.36</td>\n",
        "    </tr>\n",
        "    <tr>\n",
        "      <th>3176</th>\n",
        "      <td> 38</td>\n",
        "      <td> 1</td>\n",
        "      <td> 1147.08</td>\n",
        "    </tr>\n",
        "    <tr>\n",
        "      <th>3315</th>\n",
        "      <td> 40</td>\n",
        "      <td> 1</td>\n",
        "      <td> 1090.07</td>\n",
        "    </tr>\n",
        "  </tbody>\n",
        "</table>\n",
        "</div>"
       ],
       "metadata": {},
       "output_type": "pyout",
       "prompt_number": 24,
       "text": [
        "      segment  reach  top_streambed\n",
        "19          2      1        1098.35\n",
        "28          3      1        1098.70\n",
        "53          5      1        1093.35\n",
        "154         7      1        1070.23\n",
        "479         9      1        1063.77\n",
        "626        13      1        1060.00\n",
        "773        15      1        1079.93\n",
        "1183       17      1        1066.00\n",
        "1244       18      1        1095.98\n",
        "1296       19      1        1106.77\n",
        "1487       21      1        1090.07\n",
        "1498       22      1        1092.86\n",
        "1864       25      1        1090.42\n",
        "2051       28      1        1090.35\n",
        "2139       29      1        1143.30\n",
        "2246       31      1        1129.87\n",
        "2501       32      1        1115.50\n",
        "2578       33      1        1085.50\n",
        "2657       34      1        1089.81\n",
        "2878       35      1        1056.48\n",
        "3149       37      1        1092.36\n",
        "3176       38      1        1147.08\n",
        "3315       40      1        1090.07"
       ]
      }
     ],
     "prompt_number": 24
    },
    {
     "cell_type": "markdown",
     "metadata": {},
     "source": [
      "###Check for negative thicknesses in model layering, and for altitude errors in SFR cells"
     ]
    },
    {
     "cell_type": "code",
     "collapsed": false,
     "input": [
      "np.diff(sfr.elevs, axis=0)"
     ],
     "language": "python",
     "metadata": {},
     "outputs": [
      {
       "metadata": {},
       "output_type": "pyout",
       "prompt_number": 28,
       "text": [
        "array([[[ -13.40002441,  -12.80004883,  -11.90002441, ...,  -75.        ,\n",
        "          -63.40002441,  -56.40002441],\n",
        "        [ -13.69995117,  -13.09997559,  -13.        , ...,  -73.5       ,\n",
        "          -61.30004883,  -53.5       ],\n",
        "        [ -13.        ,  -13.30004883,  -15.09997559, ...,  -64.30004883,\n",
        "          -57.19995117,  -52.39990234],\n",
        "        ..., \n",
        "        [ -26.70001221,  -28.89996338,  -31.89996338, ..., -117.89996338,\n",
        "          -96.40002441,  -85.5       ],\n",
        "        [ -26.79998779,  -27.5       ,  -31.09997559, ..., -118.99993896,\n",
        "          -93.79998779,  -62.26000977],\n",
        "        [ -27.59997559,  -28.59997559,  -28.59997559, ..., -130.30004883,\n",
        "         -109.79998779,  -82.29998779]],\n",
        "\n",
        "       [[  -1.        ,   -1.        ,   -1.        , ...,  -34.60009766,\n",
        "          -34.59997559,  -34.5       ],\n",
        "        [  -1.        ,   -1.        ,   -1.        , ...,  -34.59997559,\n",
        "          -34.59997559,  -34.40002441],\n",
        "        [  -1.        ,   -1.        ,   -1.        , ...,  -34.29992676,\n",
        "          -34.30004883,  -34.30004883],\n",
        "        ..., \n",
        "        [ -37.54003906,  -32.27001953,  -31.51000977, ...,  -52.19000244,\n",
        "          -52.40002441,  -52.57995605],\n",
        "        [ -37.77001953,  -33.06994629,  -31.16998291, ...,  -52.60003662,\n",
        "          -52.7199707 ,  -52.90002441],\n",
        "        [ -37.70996094,  -32.40997314,  -31.60998535, ...,  -52.58996582,\n",
        "          -52.78997803,  -52.88000488]],\n",
        "\n",
        "       [[  -1.        ,   -1.        ,   -1.        , ...,   -8.79992676,\n",
        "           -8.69995117,   -8.69995117],\n",
        "        [  -1.        ,   -1.        ,   -1.        , ...,   -8.79992676,\n",
        "           -8.70007324,   -8.80004883],\n",
        "        [  -1.        ,   -1.        ,   -1.        , ...,   -9.10009766,\n",
        "           -9.09997559,   -9.        ],\n",
        "        ..., \n",
        "        [  -1.        ,   -6.4699707 ,   -7.27001953, ...,   -1.        ,\n",
        "           -1.        ,   -1.        ],\n",
        "        [  -1.        ,   -5.64001465,   -7.58996582, ...,   -1.        ,\n",
        "           -1.        ,   -1.        ],\n",
        "        [  -1.        ,   -6.36999512,   -7.22998047, ...,   -1.        ,\n",
        "           -1.        ,   -1.        ]]])"
       ]
      }
     ],
     "prompt_number": 28
    },
    {
     "cell_type": "code",
     "collapsed": false,
     "input": [
      "sfr.elevs[np.diff(sfr.elevs, axis=0) > 0]"
     ],
     "language": "python",
     "metadata": {},
     "outputs": [
      {
       "metadata": {},
       "output_type": "pyout",
       "prompt_number": 27,
       "text": [
        "array([], dtype=float64)"
       ]
      }
     ],
     "prompt_number": 27
    },
    {
     "cell_type": "code",
     "collapsed": false,
     "input": [
      "np.max(np.diff(sfr.elevs, axis=0))"
     ],
     "language": "python",
     "metadata": {},
     "outputs": [
      {
       "metadata": {},
       "output_type": "pyout",
       "prompt_number": 31,
       "text": [
        "-0.99993896484375"
       ]
      }
     ],
     "prompt_number": 31
    },
    {
     "cell_type": "code",
     "collapsed": false,
     "input": [],
     "language": "python",
     "metadata": {},
     "outputs": []
    }
   ],
   "metadata": {}
  }
 ]
}