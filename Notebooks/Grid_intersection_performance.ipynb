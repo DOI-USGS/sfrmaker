{
 "cells": [
  {
   "cell_type": "code",
   "execution_count": 2,
   "metadata": {
    "collapsed": true
   },
   "outputs": [],
   "source": [
    "import fiona\n",
    "from shapely.geometry import shape\n",
    "from rtree import index\n",
    "from GISio import shp2df"
   ]
  },
  {
   "cell_type": "code",
   "execution_count": 3,
   "metadata": {
    "collapsed": false
   },
   "outputs": [
    {
     "name": "stdout",
     "output_type": "stream",
     "text": [
      "\n",
      "reading D:/ATLData/SFR_testing/ozark/sfrData/modelgrid1mi.shp...\n",
      "--> building dataframe... (may take a while for large shapefiles)\n"
     ]
    }
   ],
   "source": [
    "mf_grid = 'D:/ATLData/SFR_testing/ozark/sfrData/modelgrid1mi.shp'\n",
    "domainshp = 'D:/ATLData/SFR_testing/ozark/sfrData/ozarkBoundary.shp'\n",
    "\n",
    "grid = shp2df(mf_grid)\n",
    "domain = shape(fiona.open(domainshp).next()['geometry'])\n",
    "gridgeoms = grid.geometry.tolist()"
   ]
  },
  {
   "cell_type": "code",
   "execution_count": 4,
   "metadata": {
    "collapsed": false
   },
   "outputs": [
    {
     "name": "stdout",
     "output_type": "stream",
     "text": [
      "Wall time: 28.4 s\n"
     ]
    }
   ],
   "source": [
    "%%time\n",
    "inside = [g.centroid.within(domain) for g in gridgeoms]"
   ]
  },
  {
   "cell_type": "code",
   "execution_count": 5,
   "metadata": {
    "collapsed": false
   },
   "outputs": [
    {
     "name": "stdout",
     "output_type": "stream",
     "text": [
      "Wall time: 15.5 s\n"
     ]
    }
   ],
   "source": [
    "%%time\n",
    "inside = [i for i, g in enumerate(gridgeoms) if gridgeoms.pop(i).centroid.within(domain)]"
   ]
  },
  {
   "cell_type": "code",
   "execution_count": null,
   "metadata": {
    "collapsed": true
   },
   "outputs": [],
   "source": []
  }
 ],
 "metadata": {
  "kernelspec": {
   "display_name": "Python 2",
   "language": "python",
   "name": "python2"
  },
  "language_info": {
   "codemirror_mode": {
    "name": "ipython",
    "version": 2
   },
   "file_extension": ".py",
   "mimetype": "text/x-python",
   "name": "python",
   "nbconvert_exporter": "python",
   "pygments_lexer": "ipython2",
   "version": "2.7.8"
  }
 },
 "nbformat": 4,
 "nbformat_minor": 0
}
