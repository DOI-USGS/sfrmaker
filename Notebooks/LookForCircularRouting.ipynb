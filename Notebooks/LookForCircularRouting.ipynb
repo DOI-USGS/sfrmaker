{
 "metadata": {
  "name": ""
 },
 "nbformat": 3,
 "nbformat_minor": 0,
 "worksheets": [
  {
   "cells": [
    {
     "cell_type": "code",
     "collapsed": false,
     "input": [
      "%matplotlib inline\n",
      "import numpy as np\n",
      "infile = 'NACP.SFR'"
     ],
     "language": "python",
     "metadata": {},
     "outputs": [],
     "prompt_number": 48
    },
    {
     "cell_type": "markdown",
     "metadata": {},
     "source": [
      "**Code to:**  \n",
      "look for circular routing"
     ]
    },
    {
     "cell_type": "code",
     "collapsed": false,
     "input": [
      "indat = open(infile,'r').readlines()\n",
      "tmp = list()\n",
      "headerlines = list()\n",
      "for line in indat:\n",
      "    if '#' not in line:\n",
      "        tmp.append(line.strip())\n",
      "    else:\n",
      "        headerlines.append(line.strip())\n",
      "indat = tmp\n",
      "del(tmp)\n",
      "numsegs = np.abs(int(indat[0].split()[1]))\n",
      "numreaches = np.abs(int(indat[0].split()[0]))\n",
      "routing_startline = indat[numreaches+1]\n",
      "start_routing = numreaches+2"
     ],
     "language": "python",
     "metadata": {},
     "outputs": [],
     "prompt_number": 49
    },
    {
     "cell_type": "markdown",
     "metadata": {},
     "source": [
      "Make a list of all the segments including gaps from the routing section of the input file\n"
     ]
    },
    {
     "cell_type": "code",
     "collapsed": false,
     "input": [
      "\n",
      "seg = []\n",
      "outseg = []\n",
      "# next, handle the routing section\n",
      "for i in np.arange(0,numsegs*3):\n",
      "    if not np.mod(i,3):\n",
      "        line = indat[i+start_routing].strip().split()\n",
      "        seg.append(int(line[0]))\n",
      "        outseg.append(int(line[2]))\n"
     ],
     "language": "python",
     "metadata": {},
     "outputs": [],
     "prompt_number": 50
    },
    {
     "cell_type": "code",
     "collapsed": false,
     "input": [
      "seg2out =zip(seg,outseg)"
     ],
     "language": "python",
     "metadata": {},
     "outputs": [],
     "prompt_number": 51
    },
    {
     "cell_type": "code",
     "collapsed": false,
     "input": [
      "ofp = open('circular_routing_warnings_revised.dat','w')\n",
      "for cseg in seg2out:\n",
      "    if (cseg[1],cseg[0]) in seg2out:\n",
      "        print \"warning on \" + str(cseg)\n",
      "        ofp.write(\"warning on \" + str(cseg) + '\\n')\n",
      "for cseg in seg2out:\n",
      "    if cseg[0] > cseg[1] and cseg[1] > 0:\n",
      "        print 'magnitude warning --> ' + str(cseg)\n",
      "        ofp.write(\"magnitude warning on \" + str(cseg) + '\\n')\n",
      "ofp.close()"
     ],
     "language": "python",
     "metadata": {},
     "outputs": [
      {
       "output_type": "stream",
       "stream": "stdout",
       "text": [
        "warning on (269, 270)\n",
        "warning on (270, 269)\n",
        "warning on (295, 296)\n",
        "warning on (296, 295)\n",
        "warning on (305, 306)\n",
        "warning on (306, 305)\n",
        "warning on (930, 931)\n",
        "warning on (931, 930)\n",
        "warning on (1032, 1033)\n",
        "warning on (1033, 1032)\n",
        "warning on (1035, 1036)\n",
        "warning on (1036, 1035)\n",
        "warning on (1051, 1052)\n",
        "warning on (1052, 1051)\n",
        "warning on (1054, 1055)\n",
        "warning on (1055, 1054)\n",
        "warning on (1073, 1075)\n",
        "warning on (1075, 1073)\n",
        "magnitude warning --> (270, 269)\n",
        "magnitude warning --> (296, 295)\n",
        "magnitude warning --> (306, 305)\n",
        "magnitude warning --> (931, 930)\n",
        "magnitude warning --> (1033, 1032)\n",
        "magnitude warning --> (1036, 1035)\n",
        "magnitude warning --> (1037, 1035)\n",
        "magnitude warning --> (1052, 1051)\n",
        "magnitude warning --> (1055, 1054)\n",
        "magnitude warning --> (1075, 1073)\n"
       ]
      }
     ],
     "prompt_number": 52
    },
    {
     "cell_type": "code",
     "collapsed": false,
     "input": [],
     "language": "python",
     "metadata": {},
     "outputs": []
    }
   ],
   "metadata": {}
  }
 ]
}