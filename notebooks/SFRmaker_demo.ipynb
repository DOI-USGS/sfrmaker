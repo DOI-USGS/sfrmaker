{
 "cells": [
  {
   "cell_type": "markdown",
   "metadata": {},
   "source": [
    "# Basic usage of SFRmaker in a scripting context\n",
    "This example illustrates basic usage of SFRmaker in a scripting context. For examples of using SFRmaker with a configuration file, see the MERAS and Tyler Forks examples."
   ]
  },
  {
   "cell_type": "code",
   "execution_count": 1,
   "metadata": {
    "execution": {
     "iopub.execute_input": "2020-10-20T18:10:56.875562Z",
     "iopub.status.busy": "2020-10-20T18:10:56.874796Z",
     "iopub.status.idle": "2020-10-20T18:10:57.672178Z",
     "shell.execute_reply": "2020-10-20T18:10:57.670962Z"
    }
   },
   "outputs": [
    {
     "name": "stdout",
     "output_type": "stream",
     "text": [
      "flopy is installed in /home/travis/miniconda/envs/test/lib/python3.7/site-packages/flopy\n"
     ]
    }
   ],
   "source": [
    "import numpy as np\n",
    "import matplotlib.pyplot as plt\n",
    "import flopy\n",
    "import sfrmaker"
   ]
  },
  {
   "cell_type": "markdown",
   "metadata": {},
   "source": [
    "### Input requirements\n",
    "The most basic input requirements of SFRmaker are hydrography and a model grid. Optionally, a model and a DEM can be input, as demonstrated below. See the [documentation](https://aleaf.github.io/sfrmaker/inputs.html) for a more detailed description of inputs.\n",
    "\n",
    "#### Hydrography\n",
    "In this example, we will use data that has been downloaded from [NHDPlus](https://nhdplus.com/NHDPlus/NHDPlusV2_data.php). The original file structure in the download has been maintained, allowing us to simply supply SFRmaker with a path to the NHDPlus files:"
   ]
  },
  {
   "cell_type": "code",
   "execution_count": 2,
   "metadata": {
    "execution": {
     "iopub.execute_input": "2020-10-20T18:10:57.675869Z",
     "iopub.status.busy": "2020-10-20T18:10:57.675486Z",
     "iopub.status.idle": "2020-10-20T18:10:57.678501Z",
     "shell.execute_reply": "2020-10-20T18:10:57.678174Z"
    }
   },
   "outputs": [],
   "source": [
    "NHDPlus_paths = '../tylerforks/NHDPlus/'"
   ]
  },
  {
   "cell_type": "markdown",
   "metadata": {},
   "source": [
    "If we were dealing with more than one drainage basin, the NHDPlus file paths could be included in a list:"
   ]
  },
  {
   "cell_type": "code",
   "execution_count": 3,
   "metadata": {
    "execution": {
     "iopub.execute_input": "2020-10-20T18:10:57.681712Z",
     "iopub.status.busy": "2020-10-20T18:10:57.681341Z",
     "iopub.status.idle": "2020-10-20T18:10:57.684006Z",
     "shell.execute_reply": "2020-10-20T18:10:57.684312Z"
    }
   },
   "outputs": [],
   "source": [
    "NHDPlus_paths_list = ['/NHDPlusGL/NHDPlus04/',\n",
    "                      '/NHDPlusMS/NHDPlus07/']"
   ]
  },
  {
   "cell_type": "markdown",
   "metadata": {},
   "source": [
    "### Creating a ``Lines`` instance from NHDPlus\n",
    "The ``sfrmaker.Lines`` class includes functionality for reading and processing hydrography flowlines. This example shows how to create a ``Lines`` instance from NHDPlus data.\n",
    "\n",
    "For large hydrography datasets, it is advantageous to filter the data when it is read in. The ``filter`` argument to ``sfrmaker.Lines`` accepts a shapefile path or tuple of bounding box coordinates. In either case, a bounding box tuple is created and passed to the ``filter`` method in the [``fiona`` package](https://fiona.readthedocs.io/en/latest/manual.html), which is fast."
   ]
  },
  {
   "cell_type": "code",
   "execution_count": 4,
   "metadata": {
    "execution": {
     "iopub.execute_input": "2020-10-20T18:10:57.703509Z",
     "iopub.status.busy": "2020-10-20T18:10:57.687161Z",
     "iopub.status.idle": "2020-10-20T18:10:57.923440Z",
     "shell.execute_reply": "2020-10-20T18:10:57.922933Z"
    }
   },
   "outputs": [
    {
     "name": "stdout",
     "output_type": "stream",
     "text": [
      "\n",
      "loading NHDPlus v2 hydrography data...\n",
      "for basins:\n",
      "../tylerforks/NHDPlus/\n",
      "\n",
      "reading ../tylerforks/NHDPlus/NHDSnapshot/Hydrography/NHDFlowline.shp...\n",
      "filtering on bounding box -90.624482596925, 46.37886827710284, -90.4625592199325, 46.45832567355404...\n",
      "--> building dataframe... (may take a while for large shapefiles)\n",
      "\n",
      "reading ../tylerforks/NHDPlus/NHDPlusAttributes/PlusFlowlineVAA.dbf...\n",
      "--> building dataframe... (may take a while for large shapefiles)\n",
      "\n",
      "reading ../tylerforks/NHDPlus/NHDPlusAttributes/PlusFlow.dbf...\n",
      "--> building dataframe... (may take a while for large shapefiles)\n",
      "\n",
      "reading ../tylerforks/NHDPlus/NHDPlusAttributes/elevslope.dbf...\n",
      "--> building dataframe... (may take a while for large shapefiles)\n",
      "\n",
      "load finished in 0.19s\n",
      "\n",
      "Getting routing information from NHDPlus Plusflow table...\n",
      "finished in 0.02s\n",
      "\n"
     ]
    }
   ],
   "source": [
    "lns = sfrmaker.Lines.from_nhdplus_v2(NHDPlus_paths='../tylerforks/NHDPlus/',\n",
    "                            filter='../tylerforks/grid.shp')"
   ]
  },
  {
   "cell_type": "markdown",
   "metadata": {},
   "source": [
    "Alternatively, ``sfrmaker.Lines`` can be instantiated with separate arguments for each NHDPlus file used:"
   ]
  },
  {
   "cell_type": "code",
   "execution_count": 5,
   "metadata": {
    "execution": {
     "iopub.execute_input": "2020-10-20T18:10:57.951806Z",
     "iopub.status.busy": "2020-10-20T18:10:57.935402Z",
     "iopub.status.idle": "2020-10-20T18:10:58.053606Z",
     "shell.execute_reply": "2020-10-20T18:10:58.053916Z"
    }
   },
   "outputs": [
    {
     "name": "stdout",
     "output_type": "stream",
     "text": [
      "\n",
      "loading NHDPlus v2 hydrography data...\n",
      "\n",
      "reading ../tylerforks/NHDPlus/NHDSnapshot/Hydrography/NHDFlowline.shp...\n",
      "filtering on bounding box -90.625, 46.3788, -90.4634, 46.4586...\n",
      "--> building dataframe... (may take a while for large shapefiles)\n",
      "\n",
      "reading ../tylerforks/NHDPlus/NHDPlusAttributes/PlusFlowlineVAA.dbf...\n",
      "--> building dataframe... (may take a while for large shapefiles)\n",
      "\n",
      "reading ../tylerforks/NHDPlus/NHDPlusAttributes/PlusFlow.dbf...\n",
      "--> building dataframe... (may take a while for large shapefiles)\n",
      "\n",
      "reading ../tylerforks/NHDPlus/NHDPlusAttributes/elevslope.dbf...\n",
      "--> building dataframe... (may take a while for large shapefiles)\n",
      "\n",
      "load finished in 0.08s\n",
      "\n",
      "Getting routing information from NHDPlus Plusflow table...\n",
      "finished in 0.02s\n",
      "\n"
     ]
    }
   ],
   "source": [
    "lines = sfrmaker.Lines.from_nhdplus_v2(NHDFlowlines='../tylerforks/NHDPlus/NHDSnapshot/Hydrography/NHDFlowline.shp',\n",
    "                                       PlusFlowlineVAA='../tylerforks/NHDPlus/NHDPlusAttributes/PlusFlowlineVAA.dbf',\n",
    "                                       PlusFlow='../tylerforks/NHDPlus/NHDPlusAttributes/PlusFlow.dbf',\n",
    "                                       elevslope='../tylerforks/NHDPlus/NHDPlusAttributes/elevslope.dbf',\n",
    "                                       filter=(-90.625, 46.3788, -90.4634, 46.4586))"
   ]
  },
  {
   "cell_type": "markdown",
   "metadata": {},
   "source": [
    "### Creating a ``Lines`` instance from custom hydrography\n",
    "Alternatively, a ``Lines`` instance can be created from any hydrography that includes the pertinent attribute fields, which must be specified:"
   ]
  },
  {
   "cell_type": "code",
   "execution_count": 6,
   "metadata": {
    "execution": {
     "iopub.execute_input": "2020-10-20T18:10:58.077633Z",
     "iopub.status.busy": "2020-10-20T18:10:58.057543Z",
     "iopub.status.idle": "2020-10-20T18:10:59.475529Z",
     "shell.execute_reply": "2020-10-20T18:10:59.475882Z"
    }
   },
   "outputs": [
    {
     "name": "stdout",
     "output_type": "stream",
     "text": [
      "\n",
      "reading ../meras/flowlines.shp...\n",
      "--> building dataframe... (may take a while for large shapefiles)\n"
     ]
    }
   ],
   "source": [
    "custom_lines = sfrmaker.Lines.from_shapefile(shapefile='../meras/flowlines.shp',\n",
    "                                             id_column='COMID',  # arguments to sfrmaker.Lines.from_shapefile\n",
    "                                             routing_column='tocomid',\n",
    "                                             width1_column='width1',\n",
    "                                             width2_column='width2',\n",
    "                                             up_elevation_column='elevupsmo',\n",
    "                                             dn_elevation_column='elevdnsmo',\n",
    "                                             name_column='GNIS_NAME',\n",
    "                                             attr_length_units='feet',  # units of source data\n",
    "                                             attr_height_units='feet',  # units of source data\n",
    "                                             )"
   ]
  },
  {
   "cell_type": "markdown",
   "metadata": {},
   "source": [
    "### Specifying a model grid from a flopy `StructuredGrid` instance\n",
    "The next step is to specify a model grid. One option is to specify a flopy `StructuredGrid` instance. SFRmaker will then use this internally to create an instance of its own `StructuredGrid` class. In this case, the row and column spacing must be provided in the units of the projected coordinate reference system (CRS) that the model is in, which is typically meters. In this case, our model grid spacing is 250 feet, so we have to convert. \n",
    "\n",
    "Specifying a CRS (via the ``proj4`` argument) is also important, as it allows SFRmaker to automatically reproject any input data to the same CRS as the model grid. [The best way to do this is with an EPSG code](https://proj.org/faq.html#what-is-the-best-format-for-describing-coordinate-reference-systems), as shown below.\n",
    "\n",
    "See the flopy documentation for more details about `StructuredGrid`."
   ]
  },
  {
   "cell_type": "code",
   "execution_count": 7,
   "metadata": {
    "execution": {
     "iopub.execute_input": "2020-10-20T18:10:59.480149Z",
     "iopub.status.busy": "2020-10-20T18:10:59.479739Z",
     "iopub.status.idle": "2020-10-20T18:10:59.482746Z",
     "shell.execute_reply": "2020-10-20T18:10:59.482408Z"
    }
   },
   "outputs": [],
   "source": [
    "delr = np.array([250 * 0.3048] * 160)  # cell spacing along a row\n",
    "delc = np.array([250 * 0.3048] * 111)  # cell spacing along a column\n",
    "\n",
    "flopy_grid = flopy.discretization.StructuredGrid(delr=delr, delc=delc,\n",
    "                                                 xoff=682688, yoff=5139052,  # lower left corner of model grid\n",
    "                                                 angrot=0,  # grid is unrotated\n",
    "                                                 # projected coordinate system of model (UTM NAD27 zone 15 North)\n",
    "                                                 proj4='epsg:26715'\n",
    "                                                 )"
   ]
  },
  {
   "cell_type": "markdown",
   "metadata": {},
   "source": [
    "### Specifying a model grid from a shapefile\n",
    "Another option is to create an SFRmaker `StructuredGrid` directly using a shapefile. While the basic underpinings are in place for SFRmaker to support unstructured grids, this option hasn't been fully implemented yet.\n",
    "\n",
    "Attribute fields with row and column information must be specified. An polygon defining the area where the SFR network will be created can optionally be specified here, or later in the creation of ``SFRData`` (see below)."
   ]
  },
  {
   "cell_type": "code",
   "execution_count": 8,
   "metadata": {
    "execution": {
     "iopub.execute_input": "2020-10-20T18:10:59.534424Z",
     "iopub.status.busy": "2020-10-20T18:10:59.519765Z",
     "iopub.status.idle": "2020-10-20T18:11:00.173813Z",
     "shell.execute_reply": "2020-10-20T18:11:00.173439Z"
    }
   },
   "outputs": [
    {
     "name": "stdout",
     "output_type": "stream",
     "text": [
      "\n",
      "reading ../tylerforks/grid.shp...\n",
      "--> building dataframe... (may take a while for large shapefiles)\n",
      "\n",
      "reading ../tylerforks/active_area.shp...\n",
      "--> building dataframe... (may take a while for large shapefiles)\n"
     ]
    }
   ],
   "source": [
    "grid = sfrmaker.StructuredGrid.from_shapefile(shapefile='../tylerforks/grid.shp',\n",
    "                                              icol='i',  # attribute field with row information\n",
    "                                              jcol='j',  # attribute field with column information\n",
    "                                              active_area='../tylerforks/active_area.shp'\n",
    "                                              )"
   ]
  },
  {
   "cell_type": "markdown",
   "metadata": {},
   "source": [
    "With specification of ``active_area``, the grid created above has an **``isfr``** array attribute designating which cells can have SFR:"
   ]
  },
  {
   "cell_type": "code",
   "execution_count": 9,
   "metadata": {
    "execution": {
     "iopub.execute_input": "2020-10-20T18:11:00.191230Z",
     "iopub.status.busy": "2020-10-20T18:11:00.188850Z",
     "iopub.status.idle": "2020-10-20T18:11:00.297101Z",
     "shell.execute_reply": "2020-10-20T18:11:00.296751Z"
    }
   },
   "outputs": [
    {
     "data": {
      "text/plain": [
       "<matplotlib.image.AxesImage at 0x7ffa1ff73990>"
      ]
     },
     "execution_count": 1,
     "metadata": {},
     "output_type": "execute_result"
    },
    {
     "data": {
      "image/png": "[encoded data removed]",
      "text/plain": [
       "<Figure size 432x288 with 1 Axes>"
      ]
     },
     "metadata": {
      "needs_background": "light"
     },
     "output_type": "display_data"
    }
   ],
   "source": [
    "plt.imshow(grid.isfr, interpolation='nearest')"
   ]
  },
  {
   "cell_type": "markdown",
   "metadata": {},
   "source": [
    "### Using the ``modelgrid`` attached to a flopy model\n",
    "If no grid is supplied as input, SFRmaker will try to use ``modelgrid`` attribute attached to a supplied flopy model instance. This only works if ``modelgrid`` is valid. Loading a flopy model with a valid model grid requires the grid information to be specified in the namefile header, and that the model be in the same units as the projected CRS. See the flopy documentation for more details"
   ]
  },
  {
   "cell_type": "markdown",
   "metadata": {},
   "source": [
    "### Specifying a model\n",
    "While a model is not required to run SFRmaker, specifying a model is advantageous in that it allows SFRmaker to assign valid model layers for reaches. Models are specified as flopy model instances, which can be loaded or created from scratch (see the flopy documentation). In this case, we are loading a model:"
   ]
  },
  {
   "cell_type": "code",
   "execution_count": 10,
   "metadata": {
    "execution": {
     "iopub.execute_input": "2020-10-20T18:11:00.300975Z",
     "iopub.status.busy": "2020-10-20T18:11:00.300347Z",
     "iopub.status.idle": "2020-10-20T18:11:00.435355Z",
     "shell.execute_reply": "2020-10-20T18:11:00.434930Z"
    }
   },
   "outputs": [
    {
     "data": {
      "text/plain": [
       "MODFLOW 5 layer(s) 111 row(s) 160 column(s) 1 stress period(s)"
      ]
     },
     "execution_count": 1,
     "metadata": {},
     "output_type": "execute_result"
    }
   ],
   "source": [
    "m = flopy.modflow.Modflow.load('tf.nam', model_ws='../tylerforks/tylerforks')\n",
    "m"
   ]
  },
  {
   "cell_type": "markdown",
   "metadata": {},
   "source": [
    "### Creating an SFRData instance\n",
    "The ``sfrmaker.SFRData`` class is the primary object for creating or modifying an SFR dataset. A ``SFRData`` instance can be created from the ``Lines`` class using the ``to_sfr()`` method.\n",
    "\n",
    "Either a flopy ``StructuredGrid`` or sfrmaker ``StructuredGrid`` can be supplied. While MODFLOW and flopy support specification of length units, these aren't always specified in the model input files, so it is good practice to specifiy the units explicitly to SFRmaker."
   ]
  },
  {
   "cell_type": "code",
   "execution_count": 11,
   "metadata": {
    "execution": {
     "iopub.execute_input": "2020-10-20T18:11:00.440174Z",
     "iopub.status.busy": "2020-10-20T18:11:00.439403Z",
     "iopub.status.idle": "2020-10-20T18:11:02.853128Z",
     "shell.execute_reply": "2020-10-20T18:11:02.852112Z"
    }
   },
   "outputs": [
    {
     "name": "stdout",
     "output_type": "stream",
     "text": [
      "\n",
      "SFRmaker version 0.6.0.post2.dev0+g848d476\n",
      "\n",
      "Creating sfr dataset...\n",
      "\n",
      "Creating grid class instance from flopy Grid instance...\n"
     ]
    },
    {
     "name": "stderr",
     "output_type": "stream",
     "text": [
      "/home/travis/build/aleaf/sfrmaker/sfrmaker/gis.py:32: UserWarning: The proj_str argument is deprecated, use crs instead.\n",
      "  warnings.warn('The proj_str argument is deprecated, use crs instead.')\n"
     ]
    },
    {
     "name": "stdout",
     "output_type": "stream",
     "text": [
      "grid class created in 0.23s\n",
      "\n",
      "Model grid information\n",
      "structured grid\n",
      "nnodes: 17,760\n",
      "nlay: 1\n",
      "nrow: 111\n",
      "ncol: 160\n",
      "model length units: undefined\n",
      "crs: EPSG:26715\n",
      "bounds: 682688.00, 5139052.00, 694880.00, 5147510.20\n",
      "active area defined by: all cells\n",
      "\n",
      "MODFLOW 5 layer(s) 111 row(s) 160 column(s) 1 stress period(s)\n",
      "Warning: No length units specified in CRS for input LineStrings or length units not recognizeddefaulting to meters.\n",
      "\n",
      "reprojecting hydrography from\n",
      "EPSG:4269\n",
      "to\n",
      "EPSG:26715\n",
      "\n",
      "\n",
      "Culling hydrography to active area...\n",
      "starting lines: 17\n",
      "remaining lines: 17\n",
      "finished in 0.00s\n",
      "\n",
      "\n",
      "Intersecting 17 flowlines with 17,760 grid cells...\n",
      "\n",
      "Building spatial index...\n",
      "finished in 1.62s\n",
      "\n",
      "Intersecting 17 features...\n",
      "17\n",
      "finished in 0.09s\n",
      "\n",
      "Setting up reach data... (may take a few minutes for large grids)\n",
      "finished in 0.27s\n",
      "\n",
      "Computing widths...\n",
      "\n",
      "Dropping 30 reaches with length < 12.50 feet...\n",
      "\n",
      "Repairing routing connections...\n",
      "enforcing best segment numbering...\n",
      "\n",
      "Setting up segment data...\n",
      "Model grid information\n",
      "structured grid\n",
      "nnodes: 17,760\n",
      "nlay: 1\n",
      "nrow: 111\n",
      "ncol: 160\n",
      "model length units: undefined\n",
      "crs: EPSG:26715\n",
      "bounds: 682688.00, 5139052.00, 694880.00, 5147510.20\n",
      "active area defined by: all cells\n",
      "\n",
      "\n",
      "Time to create sfr dataset: 2.41s\n",
      "\n"
     ]
    }
   ],
   "source": [
    "sfrdata = lines.to_sfr(grid=flopy_grid, model=m, model_length_units='feet')"
   ]
  },
  {
   "cell_type": "markdown",
   "metadata": {},
   "source": [
    "### The ``SFRData`` class\n",
    "Internally, the SFRData class mostly uses the data model for the MODFLOW-2005 style SFR2 package (which includes MODFLOW-NWT), which organizes the input into segments and reaches. Segment and reach data are stored in the ``reach_data`` and ``segment_data`` attribute DataFrames. In addition to the MODFLOW-2005 data, reach numbers and their routing connections (as needed for MODFLOW-6) are also stored. On writing of SFR package input, MODFLOW-6 style input can be created via the ``sfrmaker.mf5to6`` module."
   ]
  },
  {
   "cell_type": "code",
   "execution_count": 12,
   "metadata": {
    "execution": {
     "iopub.execute_input": "2020-10-20T18:11:02.863638Z",
     "iopub.status.busy": "2020-10-20T18:11:02.862938Z",
     "iopub.status.idle": "2020-10-20T18:11:02.875895Z",
     "shell.execute_reply": "2020-10-20T18:11:02.876407Z"
    }
   },
   "outputs": [
    {
     "data": {
      "text/html": [
       "<div>\n",
       "<style scoped>\n",
       "    .dataframe tbody tr th:only-of-type {\n",
       "        vertical-align: middle;\n",
       "    }\n",
       "\n",
       "    .dataframe tbody tr th {\n",
       "        vertical-align: top;\n",
       "    }\n",
       "\n",
       "    .dataframe thead th {\n",
       "        text-align: right;\n",
       "    }\n",
       "</style>\n",
       "<table border=\"1\" class=\"dataframe\">\n",
       "  <thead>\n",
       "    <tr style=\"text-align: right;\">\n",
       "      <th></th>\n",
       "      <th>rno</th>\n",
       "      <th>node</th>\n",
       "      <th>k</th>\n",
       "      <th>i</th>\n",
       "      <th>j</th>\n",
       "      <th>iseg</th>\n",
       "      <th>ireach</th>\n",
       "      <th>rchlen</th>\n",
       "      <th>width</th>\n",
       "      <th>slope</th>\n",
       "      <th>...</th>\n",
       "      <th>thts</th>\n",
       "      <th>thti</th>\n",
       "      <th>eps</th>\n",
       "      <th>uhc</th>\n",
       "      <th>outreach</th>\n",
       "      <th>outseg</th>\n",
       "      <th>asum</th>\n",
       "      <th>line_id</th>\n",
       "      <th>name</th>\n",
       "      <th>geometry</th>\n",
       "    </tr>\n",
       "  </thead>\n",
       "  <tbody>\n",
       "    <tr>\n",
       "      <th>465</th>\n",
       "      <td>1</td>\n",
       "      <td>13279</td>\n",
       "      <td>0</td>\n",
       "      <td>82</td>\n",
       "      <td>159</td>\n",
       "      <td>1</td>\n",
       "      <td>1</td>\n",
       "      <td>29.298670</td>\n",
       "      <td>1.000000</td>\n",
       "      <td>0.046346</td>\n",
       "      <td>...</td>\n",
       "      <td>0.0</td>\n",
       "      <td>0.0</td>\n",
       "      <td>0.0</td>\n",
       "      <td>0.0</td>\n",
       "      <td>2</td>\n",
       "      <td>4</td>\n",
       "      <td>4.465117</td>\n",
       "      <td>1815711</td>\n",
       "      <td>None</td>\n",
       "      <td>LINESTRING Z (694812.4654293101 5141215.339454...</td>\n",
       "    </tr>\n",
       "    <tr>\n",
       "      <th>466</th>\n",
       "      <td>2</td>\n",
       "      <td>13278</td>\n",
       "      <td>0</td>\n",
       "      <td>82</td>\n",
       "      <td>158</td>\n",
       "      <td>1</td>\n",
       "      <td>2</td>\n",
       "      <td>258.714050</td>\n",
       "      <td>1.000000</td>\n",
       "      <td>0.008519</td>\n",
       "      <td>...</td>\n",
       "      <td>0.0</td>\n",
       "      <td>0.0</td>\n",
       "      <td>0.0</td>\n",
       "      <td>0.0</td>\n",
       "      <td>3</td>\n",
       "      <td>4</td>\n",
       "      <td>48.358253</td>\n",
       "      <td>1815711</td>\n",
       "      <td>None</td>\n",
       "      <td>LINESTRING Z (694803.8 5141213.18088425 0, 694...</td>\n",
       "    </tr>\n",
       "    <tr>\n",
       "      <th>467</th>\n",
       "      <td>3</td>\n",
       "      <td>13277</td>\n",
       "      <td>0</td>\n",
       "      <td>82</td>\n",
       "      <td>157</td>\n",
       "      <td>1</td>\n",
       "      <td>3</td>\n",
       "      <td>208.741928</td>\n",
       "      <td>1.324805</td>\n",
       "      <td>0.009116</td>\n",
       "      <td>...</td>\n",
       "      <td>0.0</td>\n",
       "      <td>0.0</td>\n",
       "      <td>0.0</td>\n",
       "      <td>0.0</td>\n",
       "      <td>4</td>\n",
       "      <td>4</td>\n",
       "      <td>119.598541</td>\n",
       "      <td>1815711</td>\n",
       "      <td>None</td>\n",
       "      <td>LINESTRING Z (694727.6 5141219.032934831 0, 69...</td>\n",
       "    </tr>\n",
       "    <tr>\n",
       "      <th>468</th>\n",
       "      <td>4</td>\n",
       "      <td>13437</td>\n",
       "      <td>0</td>\n",
       "      <td>83</td>\n",
       "      <td>157</td>\n",
       "      <td>1</td>\n",
       "      <td>4</td>\n",
       "      <td>194.894043</td>\n",
       "      <td>1.632452</td>\n",
       "      <td>0.007749</td>\n",
       "      <td>...</td>\n",
       "      <td>0.0</td>\n",
       "      <td>0.0</td>\n",
       "      <td>0.0</td>\n",
       "      <td>0.0</td>\n",
       "      <td>5</td>\n",
       "      <td>4</td>\n",
       "      <td>181.112671</td>\n",
       "      <td>1815711</td>\n",
       "      <td>None</td>\n",
       "      <td>LINESTRING Z (694678.3688327055 5141185.6 0, 6...</td>\n",
       "    </tr>\n",
       "    <tr>\n",
       "      <th>469</th>\n",
       "      <td>5</td>\n",
       "      <td>13436</td>\n",
       "      <td>0</td>\n",
       "      <td>83</td>\n",
       "      <td>156</td>\n",
       "      <td>1</td>\n",
       "      <td>5</td>\n",
       "      <td>125.442345</td>\n",
       "      <td>1.840760</td>\n",
       "      <td>0.011187</td>\n",
       "      <td>...</td>\n",
       "      <td>0.0</td>\n",
       "      <td>0.0</td>\n",
       "      <td>0.0</td>\n",
       "      <td>0.0</td>\n",
       "      <td>6</td>\n",
       "      <td>4</td>\n",
       "      <td>229.931931</td>\n",
       "      <td>1815711</td>\n",
       "      <td>None</td>\n",
       "      <td>LINESTRING Z (694651.4 5141132.737158341 0, 69...</td>\n",
       "    </tr>\n",
       "  </tbody>\n",
       "</table>\n",
       "<p>5 rows × 23 columns</p>\n",
       "</div>"
      ],
      "text/plain": [
       "     rno   node  k   i    j  iseg  ireach      rchlen     width     slope  \\\n",
       "465    1  13279  0  82  159     1       1   29.298670  1.000000  0.046346   \n",
       "466    2  13278  0  82  158     1       2  258.714050  1.000000  0.008519   \n",
       "467    3  13277  0  82  157     1       3  208.741928  1.324805  0.009116   \n",
       "468    4  13437  0  83  157     1       4  194.894043  1.632452  0.007749   \n",
       "469    5  13436  0  83  156     1       5  125.442345  1.840760  0.011187   \n",
       "\n",
       "     ...  thts  thti  eps  uhc  outreach  outseg        asum  line_id  name  \\\n",
       "465  ...   0.0   0.0  0.0  0.0         2       4    4.465117  1815711  None   \n",
       "466  ...   0.0   0.0  0.0  0.0         3       4   48.358253  1815711  None   \n",
       "467  ...   0.0   0.0  0.0  0.0         4       4  119.598541  1815711  None   \n",
       "468  ...   0.0   0.0  0.0  0.0         5       4  181.112671  1815711  None   \n",
       "469  ...   0.0   0.0  0.0  0.0         6       4  229.931931  1815711  None   \n",
       "\n",
       "                                              geometry  \n",
       "465  LINESTRING Z (694812.4654293101 5141215.339454...  \n",
       "466  LINESTRING Z (694803.8 5141213.18088425 0, 694...  \n",
       "467  LINESTRING Z (694727.6 5141219.032934831 0, 69...  \n",
       "468  LINESTRING Z (694678.3688327055 5141185.6 0, 6...  \n",
       "469  LINESTRING Z (694651.4 5141132.737158341 0, 69...  \n",
       "\n",
       "[5 rows x 23 columns]"
      ]
     },
     "execution_count": 1,
     "metadata": {},
     "output_type": "execute_result"
    }
   ],
   "source": [
    "sfrdata.reach_data.head()"
   ]
  },
  {
   "cell_type": "code",
   "execution_count": 13,
   "metadata": {
    "execution": {
     "iopub.execute_input": "2020-10-20T18:11:02.892866Z",
     "iopub.status.busy": "2020-10-20T18:11:02.892485Z",
     "iopub.status.idle": "2020-10-20T18:11:02.896580Z",
     "shell.execute_reply": "2020-10-20T18:11:02.897148Z"
    }
   },
   "outputs": [
    {
     "data": {
      "text/html": [
       "<div>\n",
       "<style scoped>\n",
       "    .dataframe tbody tr th:only-of-type {\n",
       "        vertical-align: middle;\n",
       "    }\n",
       "\n",
       "    .dataframe tbody tr th {\n",
       "        vertical-align: top;\n",
       "    }\n",
       "\n",
       "    .dataframe thead th {\n",
       "        text-align: right;\n",
       "    }\n",
       "</style>\n",
       "<table border=\"1\" class=\"dataframe\">\n",
       "  <thead>\n",
       "    <tr style=\"text-align: right;\">\n",
       "      <th></th>\n",
       "      <th>per</th>\n",
       "      <th>nseg</th>\n",
       "      <th>icalc</th>\n",
       "      <th>outseg</th>\n",
       "      <th>iupseg</th>\n",
       "      <th>iprior</th>\n",
       "      <th>nstrpts</th>\n",
       "      <th>flow</th>\n",
       "      <th>runoff</th>\n",
       "      <th>etsw</th>\n",
       "      <th>...</th>\n",
       "      <th>uhc1</th>\n",
       "      <th>hcond2</th>\n",
       "      <th>thickm2</th>\n",
       "      <th>elevdn</th>\n",
       "      <th>width2</th>\n",
       "      <th>depth2</th>\n",
       "      <th>thts2</th>\n",
       "      <th>thti2</th>\n",
       "      <th>eps2</th>\n",
       "      <th>uhc2</th>\n",
       "    </tr>\n",
       "  </thead>\n",
       "  <tbody>\n",
       "    <tr>\n",
       "      <th>0</th>\n",
       "      <td>0</td>\n",
       "      <td>1</td>\n",
       "      <td>1</td>\n",
       "      <td>4</td>\n",
       "      <td>0</td>\n",
       "      <td>0</td>\n",
       "      <td>0</td>\n",
       "      <td>0.0</td>\n",
       "      <td>0.0</td>\n",
       "      <td>0.0</td>\n",
       "      <td>...</td>\n",
       "      <td>0.0</td>\n",
       "      <td>0.0</td>\n",
       "      <td>0.0</td>\n",
       "      <td>1278.149658</td>\n",
       "      <td>23.194326</td>\n",
       "      <td>0.0</td>\n",
       "      <td>0.0</td>\n",
       "      <td>0.0</td>\n",
       "      <td>0.0</td>\n",
       "      <td>0.0</td>\n",
       "    </tr>\n",
       "    <tr>\n",
       "      <th>1</th>\n",
       "      <td>0</td>\n",
       "      <td>2</td>\n",
       "      <td>1</td>\n",
       "      <td>4</td>\n",
       "      <td>0</td>\n",
       "      <td>0</td>\n",
       "      <td>0</td>\n",
       "      <td>0.0</td>\n",
       "      <td>0.0</td>\n",
       "      <td>0.0</td>\n",
       "      <td>...</td>\n",
       "      <td>0.0</td>\n",
       "      <td>0.0</td>\n",
       "      <td>0.0</td>\n",
       "      <td>1278.149658</td>\n",
       "      <td>126.765388</td>\n",
       "      <td>0.0</td>\n",
       "      <td>0.0</td>\n",
       "      <td>0.0</td>\n",
       "      <td>0.0</td>\n",
       "      <td>0.0</td>\n",
       "    </tr>\n",
       "    <tr>\n",
       "      <th>2</th>\n",
       "      <td>0</td>\n",
       "      <td>3</td>\n",
       "      <td>1</td>\n",
       "      <td>6</td>\n",
       "      <td>0</td>\n",
       "      <td>0</td>\n",
       "      <td>0</td>\n",
       "      <td>0.0</td>\n",
       "      <td>0.0</td>\n",
       "      <td>0.0</td>\n",
       "      <td>...</td>\n",
       "      <td>0.0</td>\n",
       "      <td>0.0</td>\n",
       "      <td>0.0</td>\n",
       "      <td>1211.286133</td>\n",
       "      <td>21.228680</td>\n",
       "      <td>0.0</td>\n",
       "      <td>0.0</td>\n",
       "      <td>0.0</td>\n",
       "      <td>0.0</td>\n",
       "      <td>0.0</td>\n",
       "    </tr>\n",
       "    <tr>\n",
       "      <th>3</th>\n",
       "      <td>0</td>\n",
       "      <td>4</td>\n",
       "      <td>1</td>\n",
       "      <td>6</td>\n",
       "      <td>0</td>\n",
       "      <td>0</td>\n",
       "      <td>0</td>\n",
       "      <td>0.0</td>\n",
       "      <td>0.0</td>\n",
       "      <td>0.0</td>\n",
       "      <td>...</td>\n",
       "      <td>0.0</td>\n",
       "      <td>0.0</td>\n",
       "      <td>0.0</td>\n",
       "      <td>1211.286133</td>\n",
       "      <td>129.970474</td>\n",
       "      <td>0.0</td>\n",
       "      <td>0.0</td>\n",
       "      <td>0.0</td>\n",
       "      <td>0.0</td>\n",
       "      <td>0.0</td>\n",
       "    </tr>\n",
       "    <tr>\n",
       "      <th>4</th>\n",
       "      <td>0</td>\n",
       "      <td>5</td>\n",
       "      <td>1</td>\n",
       "      <td>8</td>\n",
       "      <td>0</td>\n",
       "      <td>0</td>\n",
       "      <td>0</td>\n",
       "      <td>0.0</td>\n",
       "      <td>0.0</td>\n",
       "      <td>0.0</td>\n",
       "      <td>...</td>\n",
       "      <td>0.0</td>\n",
       "      <td>0.0</td>\n",
       "      <td>0.0</td>\n",
       "      <td>1162.926514</td>\n",
       "      <td>25.381979</td>\n",
       "      <td>0.0</td>\n",
       "      <td>0.0</td>\n",
       "      <td>0.0</td>\n",
       "      <td>0.0</td>\n",
       "      <td>0.0</td>\n",
       "    </tr>\n",
       "  </tbody>\n",
       "</table>\n",
       "<p>5 rows × 35 columns</p>\n",
       "</div>"
      ],
      "text/plain": [
       "   per  nseg  icalc  outseg  iupseg  iprior  nstrpts  flow  runoff  etsw  ...  \\\n",
       "0    0     1      1       4       0       0        0   0.0     0.0   0.0  ...   \n",
       "1    0     2      1       4       0       0        0   0.0     0.0   0.0  ...   \n",
       "2    0     3      1       6       0       0        0   0.0     0.0   0.0  ...   \n",
       "3    0     4      1       6       0       0        0   0.0     0.0   0.0  ...   \n",
       "4    0     5      1       8       0       0        0   0.0     0.0   0.0  ...   \n",
       "\n",
       "   uhc1  hcond2  thickm2       elevdn      width2  depth2  thts2  thti2  eps2  \\\n",
       "0   0.0     0.0      0.0  1278.149658   23.194326     0.0    0.0    0.0   0.0   \n",
       "1   0.0     0.0      0.0  1278.149658  126.765388     0.0    0.0    0.0   0.0   \n",
       "2   0.0     0.0      0.0  1211.286133   21.228680     0.0    0.0    0.0   0.0   \n",
       "3   0.0     0.0      0.0  1211.286133  129.970474     0.0    0.0    0.0   0.0   \n",
       "4   0.0     0.0      0.0  1162.926514   25.381979     0.0    0.0    0.0   0.0   \n",
       "\n",
       "   uhc2  \n",
       "0   0.0  \n",
       "1   0.0  \n",
       "2   0.0  \n",
       "3   0.0  \n",
       "4   0.0  \n",
       "\n",
       "[5 rows x 35 columns]"
      ]
     },
     "execution_count": 1,
     "metadata": {},
     "output_type": "execute_result"
    }
   ],
   "source": [
    "sfrdata.segment_data.head()"
   ]
  },
  {
   "cell_type": "markdown",
   "metadata": {},
   "source": [
    "### Sampling streambed top elevations from a DEM\n",
    "While the above dataset contains streambed top elevations read from NHDPlus, a DEM can be sampled to obtain more accurate elevations. If the DEM elevation units are specified, SFRmaker will convert the elevations to model units if needed. See the Streambed_elevation_demo notebook for more information on how this works."
   ]
  },
  {
   "cell_type": "code",
   "execution_count": 14,
   "metadata": {
    "execution": {
     "iopub.execute_input": "2020-10-20T18:11:02.900769Z",
     "iopub.status.busy": "2020-10-20T18:11:02.900393Z",
     "iopub.status.idle": "2020-10-20T18:11:06.652253Z",
     "shell.execute_reply": "2020-10-20T18:11:06.651686Z"
    }
   },
   "outputs": [
    {
     "name": "stdout",
     "output_type": "stream",
     "text": [
      "running rasterstats.zonal_stats on buffered LineStrings...\n",
      "finished in 3.51s\n",
      "\n",
      "\n",
      "Smoothing elevations...\n",
      "finished in 0.15s\n"
     ]
    }
   ],
   "source": [
    "sfrdata.set_streambed_top_elevations_from_dem('../tylerforks/dem_26715.tif', dem_z_units='meters')"
   ]
  },
  {
   "cell_type": "markdown",
   "metadata": {},
   "source": [
    "### Assigning layers to the reaches\n",
    "Once we have a valid set of streambed elevations, the reaches can be assigned to model layers."
   ]
  },
  {
   "cell_type": "code",
   "execution_count": 15,
   "metadata": {
    "execution": {
     "iopub.execute_input": "2020-10-20T18:11:06.655974Z",
     "iopub.status.busy": "2020-10-20T18:11:06.655195Z",
     "iopub.status.idle": "2020-10-20T18:11:06.658921Z",
     "shell.execute_reply": "2020-10-20T18:11:06.659445Z"
    }
   },
   "outputs": [],
   "source": [
    "sfrdata.assign_layers()"
   ]
  },
  {
   "cell_type": "code",
   "execution_count": 16,
   "metadata": {
    "execution": {
     "iopub.execute_input": "2020-10-20T18:11:06.674980Z",
     "iopub.status.busy": "2020-10-20T18:11:06.668416Z",
     "iopub.status.idle": "2020-10-20T18:11:06.680564Z",
     "shell.execute_reply": "2020-10-20T18:11:06.680171Z"
    }
   },
   "outputs": [
    {
     "data": {
      "text/html": [
       "<div>\n",
       "<style scoped>\n",
       "    .dataframe tbody tr th:only-of-type {\n",
       "        vertical-align: middle;\n",
       "    }\n",
       "\n",
       "    .dataframe tbody tr th {\n",
       "        vertical-align: top;\n",
       "    }\n",
       "\n",
       "    .dataframe thead th {\n",
       "        text-align: right;\n",
       "    }\n",
       "</style>\n",
       "<table border=\"1\" class=\"dataframe\">\n",
       "  <thead>\n",
       "    <tr style=\"text-align: right;\">\n",
       "      <th></th>\n",
       "      <th>rno</th>\n",
       "      <th>node</th>\n",
       "      <th>k</th>\n",
       "      <th>i</th>\n",
       "      <th>j</th>\n",
       "      <th>iseg</th>\n",
       "      <th>ireach</th>\n",
       "      <th>rchlen</th>\n",
       "      <th>width</th>\n",
       "      <th>slope</th>\n",
       "      <th>...</th>\n",
       "      <th>thts</th>\n",
       "      <th>thti</th>\n",
       "      <th>eps</th>\n",
       "      <th>uhc</th>\n",
       "      <th>outreach</th>\n",
       "      <th>outseg</th>\n",
       "      <th>asum</th>\n",
       "      <th>line_id</th>\n",
       "      <th>name</th>\n",
       "      <th>geometry</th>\n",
       "    </tr>\n",
       "  </thead>\n",
       "  <tbody>\n",
       "    <tr>\n",
       "      <th>465</th>\n",
       "      <td>1</td>\n",
       "      <td>13279</td>\n",
       "      <td>2</td>\n",
       "      <td>82</td>\n",
       "      <td>159</td>\n",
       "      <td>1</td>\n",
       "      <td>1</td>\n",
       "      <td>29.298670</td>\n",
       "      <td>1.000000</td>\n",
       "      <td>0.046346</td>\n",
       "      <td>...</td>\n",
       "      <td>0.0</td>\n",
       "      <td>0.0</td>\n",
       "      <td>0.0</td>\n",
       "      <td>0.0</td>\n",
       "      <td>2</td>\n",
       "      <td>4</td>\n",
       "      <td>4.465117</td>\n",
       "      <td>1815711</td>\n",
       "      <td>None</td>\n",
       "      <td>LINESTRING Z (694812.4654293101 5141215.339454...</td>\n",
       "    </tr>\n",
       "    <tr>\n",
       "      <th>466</th>\n",
       "      <td>2</td>\n",
       "      <td>13278</td>\n",
       "      <td>2</td>\n",
       "      <td>82</td>\n",
       "      <td>158</td>\n",
       "      <td>1</td>\n",
       "      <td>2</td>\n",
       "      <td>258.714050</td>\n",
       "      <td>1.000000</td>\n",
       "      <td>0.008519</td>\n",
       "      <td>...</td>\n",
       "      <td>0.0</td>\n",
       "      <td>0.0</td>\n",
       "      <td>0.0</td>\n",
       "      <td>0.0</td>\n",
       "      <td>3</td>\n",
       "      <td>4</td>\n",
       "      <td>48.358253</td>\n",
       "      <td>1815711</td>\n",
       "      <td>None</td>\n",
       "      <td>LINESTRING Z (694803.8 5141213.18088425 0, 694...</td>\n",
       "    </tr>\n",
       "    <tr>\n",
       "      <th>467</th>\n",
       "      <td>3</td>\n",
       "      <td>13277</td>\n",
       "      <td>2</td>\n",
       "      <td>82</td>\n",
       "      <td>157</td>\n",
       "      <td>1</td>\n",
       "      <td>3</td>\n",
       "      <td>208.741928</td>\n",
       "      <td>1.324805</td>\n",
       "      <td>0.009116</td>\n",
       "      <td>...</td>\n",
       "      <td>0.0</td>\n",
       "      <td>0.0</td>\n",
       "      <td>0.0</td>\n",
       "      <td>0.0</td>\n",
       "      <td>4</td>\n",
       "      <td>4</td>\n",
       "      <td>119.598541</td>\n",
       "      <td>1815711</td>\n",
       "      <td>None</td>\n",
       "      <td>LINESTRING Z (694727.6 5141219.032934831 0, 69...</td>\n",
       "    </tr>\n",
       "    <tr>\n",
       "      <th>468</th>\n",
       "      <td>4</td>\n",
       "      <td>13437</td>\n",
       "      <td>2</td>\n",
       "      <td>83</td>\n",
       "      <td>157</td>\n",
       "      <td>1</td>\n",
       "      <td>4</td>\n",
       "      <td>194.894043</td>\n",
       "      <td>1.632452</td>\n",
       "      <td>0.007749</td>\n",
       "      <td>...</td>\n",
       "      <td>0.0</td>\n",
       "      <td>0.0</td>\n",
       "      <td>0.0</td>\n",
       "      <td>0.0</td>\n",
       "      <td>5</td>\n",
       "      <td>4</td>\n",
       "      <td>181.112671</td>\n",
       "      <td>1815711</td>\n",
       "      <td>None</td>\n",
       "      <td>LINESTRING Z (694678.3688327055 5141185.6 0, 6...</td>\n",
       "    </tr>\n",
       "    <tr>\n",
       "      <th>469</th>\n",
       "      <td>5</td>\n",
       "      <td>13436</td>\n",
       "      <td>2</td>\n",
       "      <td>83</td>\n",
       "      <td>156</td>\n",
       "      <td>1</td>\n",
       "      <td>5</td>\n",
       "      <td>125.442345</td>\n",
       "      <td>1.840760</td>\n",
       "      <td>0.011187</td>\n",
       "      <td>...</td>\n",
       "      <td>0.0</td>\n",
       "      <td>0.0</td>\n",
       "      <td>0.0</td>\n",
       "      <td>0.0</td>\n",
       "      <td>6</td>\n",
       "      <td>4</td>\n",
       "      <td>229.931931</td>\n",
       "      <td>1815711</td>\n",
       "      <td>None</td>\n",
       "      <td>LINESTRING Z (694651.4 5141132.737158341 0, 69...</td>\n",
       "    </tr>\n",
       "  </tbody>\n",
       "</table>\n",
       "<p>5 rows × 23 columns</p>\n",
       "</div>"
      ],
      "text/plain": [
       "     rno   node  k   i    j  iseg  ireach      rchlen     width     slope  \\\n",
       "465    1  13279  2  82  159     1       1   29.298670  1.000000  0.046346   \n",
       "466    2  13278  2  82  158     1       2  258.714050  1.000000  0.008519   \n",
       "467    3  13277  2  82  157     1       3  208.741928  1.324805  0.009116   \n",
       "468    4  13437  2  83  157     1       4  194.894043  1.632452  0.007749   \n",
       "469    5  13436  2  83  156     1       5  125.442345  1.840760  0.011187   \n",
       "\n",
       "     ...  thts  thti  eps  uhc  outreach  outseg        asum  line_id  name  \\\n",
       "465  ...   0.0   0.0  0.0  0.0         2       4    4.465117  1815711  None   \n",
       "466  ...   0.0   0.0  0.0  0.0         3       4   48.358253  1815711  None   \n",
       "467  ...   0.0   0.0  0.0  0.0         4       4  119.598541  1815711  None   \n",
       "468  ...   0.0   0.0  0.0  0.0         5       4  181.112671  1815711  None   \n",
       "469  ...   0.0   0.0  0.0  0.0         6       4  229.931931  1815711  None   \n",
       "\n",
       "                                              geometry  \n",
       "465  LINESTRING Z (694812.4654293101 5141215.339454...  \n",
       "466  LINESTRING Z (694803.8 5141213.18088425 0, 694...  \n",
       "467  LINESTRING Z (694727.6 5141219.032934831 0, 69...  \n",
       "468  LINESTRING Z (694678.3688327055 5141185.6 0, 6...  \n",
       "469  LINESTRING Z (694651.4 5141132.737158341 0, 69...  \n",
       "\n",
       "[5 rows x 23 columns]"
      ]
     },
     "execution_count": 1,
     "metadata": {},
     "output_type": "execute_result"
    }
   ],
   "source": [
    "sfrdata.reach_data.head()"
   ]
  },
  {
   "cell_type": "markdown",
   "metadata": {},
   "source": [
    "### Running diagnostics\n",
    "`SFRData` includes a `run_diagnostics()` method that executes the Flopy checker on the SFR package input. While the Flopy checks are only implemented for MODFLOW-2005 style SFR packages, `run_diagnostics()` works on MODFLOW-6 packages as well, by working of an attached MODFLOW-2005 representation of the MODFLOW-6 SFR input. The following checks are executed:\n",
    "* **NaNs** (not a number values, which will cause MODFLOW to crash)\n",
    "* **consecutive segment and reach numbering**\n",
    "* **segment numbering that only increases** in the downstream direction\n",
    "* **circular routing sequences** (reaches or segments routing back to themselves)\n",
    "* **routing connection proximity:** The length of routing connections, as determined by the distance between their cell centers, is compared to 1.25 times the diagonal distance across the cell containing the upstream reach. This benchmark length is equivalent to a diagonal connection between two square cells, where one cell had a spacing of 1.5 times the other cell (the maximum recommended increase in spacing between two adjacent cells; see Anderson and others, 2015). While this routing proximity check can be helpful for identifying egregious routing issues, in practice, it may not be uncommon for valid routing connections to violate this rule. For example, if the ``one_reach_per_cell`` option is used in constructing the SFR package with a large grid size, there may be numerous routing connections that extend across several cells. When non-adjacent routing connections are identified, the user can check the shapefile of routing connections to verify the results.\n",
    "* **overlapping conductances:** This check identifies instances of collocated reaches, where more than one reach has a connection to the groundwater flow solution in that cell. Collocated reaches may or may not present an issue for a particular model solution, but can potentially promote instability or spurious circulation of flow between the collocated reaches.\n",
    "* **spurious streambed top elevations:** Values < -10 or > 15,000 are flagged\n",
    "* **downstream rises in streambed elevation**\n",
    "* **inconsistencies between streambed elevation and the model grid:** This check looks for streambed bottoms below their respective cell bottoms, which will cause MODFLOW to halt execution, and streambed tops that are above the model top. The latter issue will not prevent MODFLOW from running, but may indicate problems with the input if the differences are large. For coarse grids in areas of high stream density (where there are often multiple streams in a cell), it may be impossible to ensure that all streambed top elevations are at or below the model top. Oftentimes, these reaches are dry anyways (for example, and ephemeral gully that runs off a bluff into a perennial stream, where the cell elevation is based on the elevation of the perennial stream). In any case, it is good practice to check the largest violations by comparing the SFRmaker shapefile output to a DEM and other data in a GIS environment.\n",
    "* **suprious slopes:** slopes of less than 0.0001 (which can lead to excessive stages with the SFR package's Manning approximation) and greater than 1.0 are flagged."
   ]
  },
  {
   "cell_type": "code",
   "execution_count": 17,
   "metadata": {
    "execution": {
     "iopub.execute_input": "2020-10-20T18:11:06.690034Z",
     "iopub.status.busy": "2020-10-20T18:11:06.688646Z",
     "iopub.status.idle": "2020-10-20T18:11:06.740981Z",
     "shell.execute_reply": "2020-10-20T18:11:06.740654Z"
    }
   },
   "outputs": [
    {
     "name": "stdout",
     "output_type": "stream",
     "text": [
      "\n",
      "Running Flopy v. 3.3.1 diagnostics...\n",
      "wrote tf_SFR.chk\n"
     ]
    }
   ],
   "source": [
    "sfrdata.run_diagnostics(verbose=False)"
   ]
  },
  {
   "cell_type": "markdown",
   "metadata": {},
   "source": [
    "### Writing an SFR package\n",
    "Now we can write the package. By default, a MODFLOW-2005 style package is written to the current working directory or the model workspace of the attached model instance."
   ]
  },
  {
   "cell_type": "code",
   "execution_count": 18,
   "metadata": {
    "execution": {
     "iopub.execute_input": "2020-10-20T18:11:06.750663Z",
     "iopub.status.busy": "2020-10-20T18:11:06.748134Z",
     "iopub.status.idle": "2020-10-20T18:11:06.829817Z",
     "shell.execute_reply": "2020-10-20T18:11:06.830335Z"
    }
   },
   "outputs": [
    {
     "name": "stdout",
     "output_type": "stream",
     "text": [
      "SFRmaker v. 0.6.0.post2.dev0+g848d476\n",
      "\n",
      "Running Flopy v. 3.3.1 diagnostics...\n",
      "passed.\n",
      "\n",
      "Checking for continuity in segment and reach numbering...\n",
      "passed.\n",
      "\n",
      "Checking for increasing segment numbers in downstream direction...\n",
      "passed.\n",
      "\n",
      "Checking for circular routing...\n",
      "passed.\n",
      "\n",
      "No DIS package or SpatialReference object; cannot check reach proximities.\n",
      "\n",
      "Checking for model cells with multiple non-zero SFR conductances...\n",
      "20 model cells with multiple non-zero SFR conductances found.\n",
      "This may lead to circular routing between collocated reaches.\n",
      "Nodes with overlapping conductances:\n",
      "k\ti\tj\tiseg\tireach\trchlen\tstrthick\tstrhc1\n",
      "0\t87\t122\t1\t54\t35.61542510986328\t1.0\t1.0\n",
      "0\t87\t122\t2\t34\t230.8770751953125\t1.0\t1.0\n",
      "0\t76\t110\t3\t47\t204.68466186523438\t1.0\t1.0\n",
      "0\t87\t122\t4\t1\t30.619203567504883\t1.0\t1.0\n",
      "2\t84\t119\t4\t7\t271.296630859375\t1.0\t1.0\n",
      "2\t84\t119\t4\t9\t26.846023559570312\t1.0\t1.0\n",
      "0\t76\t110\t4\t27\t75.61869812011719\t1.0\t1.0\n",
      "1\t58\t132\t5\t25\t42.411964416503906\t1.0\t1.0\n",
      "1\t58\t132\t5\t27\t88.49227905273438\t1.0\t1.0\n",
      "0\t48\t109\t5\t64\t251.07437133789062\t1.0\t1.0\n",
      "0\t76\t110\t6\t1\t69.44449615478516\t1.0\t1.0\n",
      "0\t48\t108\t6\t40\t20.661043167114258\t1.0\t1.0\n",
      "0\t48\t109\t6\t41\t114.03108978271484\t1.0\t1.0\n",
      "0\t48\t108\t6\t42\t35.86711502075195\t1.0\t1.0\n",
      "1\t80\t49\t7\t70\t159.628662109375\t1.0\t1.0\n",
      "0\t48\t108\t8\t1\t125.59841918945312\t1.0\t1.0\n",
      "0\t47\t98\t8\t22\t67.49517059326172\t1.0\t1.0\n",
      "0\t47\t98\t8\t24\t102.60327911376953\t1.0\t1.0\n",
      "0\t54\t89\t8\t39\t35.04909896850586\t1.0\t1.0\n",
      "0\t54\t89\t8\t41\t62.93534851074219\t1.0\t1.0\n",
      "0\t53\t78\t8\t57\t61.92954635620117\t1.0\t1.0\n",
      "0\t53\t78\t8\t59\t28.305360794067383\t1.0\t1.0\n",
      "0\t52\t76\t8\t62\t63.750675201416016\t1.0\t1.0\n",
      "0\t52\t76\t8\t64\t294.7840270996094\t1.0\t1.0\n",
      "1\t54\t73\t8\t69\t341.07586669921875\t1.0\t1.0\n",
      "1\t54\t73\t8\t71\t27.020740509033203\t1.0\t1.0\n",
      "1\t80\t49\t8\t125\t39.87680435180664\t1.0\t1.0\n",
      "2\t108\t57\t9\t8\t237.81178283691406\t1.0\t1.0\n",
      "2\t108\t57\t9\t9\t46.60417556762695\t1.0\t1.0\n",
      "0\t94\t35\t9\t45\t96.37408447265625\t1.0\t1.0\n",
      "0\t94\t35\t9\t47\t89.41510009765625\t1.0\t1.0\n",
      "2\t91\t35\t9\t50\t60.342041015625\t1.0\t1.0\n",
      "2\t91\t34\t9\t51\t61.56704330444336\t1.0\t1.0\n",
      "1\t80\t49\t10\t1\t146.53265380859375\t1.0\t1.0\n",
      "2\t91\t35\t10\t26\t308.05096435546875\t1.0\t1.0\n",
      "2\t91\t34\t10\t27\t76.15687561035156\t1.0\t1.0\n",
      "0\t38\t85\t11\t8\t72.13273620605469\t1.0\t1.0\n",
      "0\t38\t85\t11\t9\t52.62028121948242\t1.0\t1.0\n",
      "2\t25\t24\t13\t42\t95.18097686767578\t1.0\t1.0\n",
      "2\t25\t24\t14\t47\t230.81414794921875\t1.0\t1.0\n",
      "2\t19\t23\t16\t47\t12.734856605529785\t1.0\t1.0\n",
      "2\t19\t23\t16\t49\t108.90869903564453\t1.0\t1.0\n",
      "2\t91\t34\t17\t1\t130.4016571044922\t1.0\t1.0\n",
      "1\t92\t30\t17\t6\t67.78282165527344\t1.0\t1.0\n",
      "1\t92\t30\t17\t8\t252.36495971679688\t1.0\t1.0\n",
      "\n",
      "Checking for streambed tops of less than -10...\n",
      "passed.\n",
      "\n",
      "Checking for streambed tops of greater than 15000...\n",
      "passed.\n",
      "\n",
      "Checking segment_data for downstream rises in streambed elevation...\n",
      "Segment elevup and elevdn not specified for nstrm=-965 and isfropt=1\n",
      "passed.\n",
      "\n",
      "Checking reach_data for downstream rises in streambed elevation...\n",
      "passed.\n",
      "\n",
      "Checking reach_data for inconsistencies between streambed elevations and the model grid...\n",
      "passed.\n",
      "\n",
      "Checking segment_data for inconsistencies between segment end elevations and the model grid...\n",
      "Segment elevup and elevdn not specified for nstrm=-965 and isfropt=1\n",
      "passed.\n",
      "\n",
      "Checking for streambed slopes of less than 0.0001...\n",
      "passed.\n",
      "\n",
      "Checking for streambed slopes of greater than 1.0...\n",
      "passed.\n",
      "\n",
      "wrote tf_SFR.chk\n",
      "wrote ../tylerforks/tylerforks/tf.sfr.\n"
     ]
    }
   ],
   "source": [
    "sfrdata.write_package()"
   ]
  },
  {
   "cell_type": "markdown",
   "metadata": {},
   "source": [
    "### Writing a MODFLOW-6 SFR package\n",
    "Alternatively, a MODFLOW-6 style SFR package can be written by specifying ``version='mf6'``"
   ]
  },
  {
   "cell_type": "code",
   "execution_count": 19,
   "metadata": {
    "execution": {
     "iopub.execute_input": "2020-10-20T18:11:06.839892Z",
     "iopub.status.busy": "2020-10-20T18:11:06.839358Z",
     "iopub.status.idle": "2020-10-20T18:11:07.126516Z",
     "shell.execute_reply": "2020-10-20T18:11:07.126082Z"
    }
   },
   "outputs": [
    {
     "name": "stdout",
     "output_type": "stream",
     "text": [
      "SFRmaker v. 0.6.0.post2.dev0+g848d476\n",
      "\n",
      "Running Flopy v. 3.3.1 diagnostics...\n",
      "passed.\n",
      "\n",
      "Checking for continuity in segment and reach numbering...\n",
      "passed.\n",
      "\n",
      "Checking for increasing segment numbers in downstream direction...\n",
      "passed.\n",
      "\n",
      "Checking for circular routing...\n",
      "passed.\n",
      "\n",
      "No DIS package or SpatialReference object; cannot check reach proximities.\n",
      "\n",
      "Checking for model cells with multiple non-zero SFR conductances...\n",
      "20 model cells with multiple non-zero SFR conductances found.\n",
      "This may lead to circular routing between collocated reaches.\n",
      "Nodes with overlapping conductances:\n",
      "k\ti\tj\tiseg\tireach\trchlen\tstrthick\tstrhc1\n",
      "0\t87\t122\t1\t54\t35.61542510986328\t1.0\t1.0\n",
      "0\t87\t122\t2\t34\t230.8770751953125\t1.0\t1.0\n",
      "0\t76\t110\t3\t47\t204.68466186523438\t1.0\t1.0\n",
      "0\t87\t122\t4\t1\t30.619203567504883\t1.0\t1.0\n",
      "2\t84\t119\t4\t7\t271.296630859375\t1.0\t1.0\n",
      "2\t84\t119\t4\t9\t26.846023559570312\t1.0\t1.0\n",
      "0\t76\t110\t4\t27\t75.61869812011719\t1.0\t1.0\n",
      "1\t58\t132\t5\t25\t42.411964416503906\t1.0\t1.0\n",
      "1\t58\t132\t5\t27\t88.49227905273438\t1.0\t1.0\n",
      "0\t48\t109\t5\t64\t251.07437133789062\t1.0\t1.0\n",
      "0\t76\t110\t6\t1\t69.44449615478516\t1.0\t1.0\n",
      "0\t48\t108\t6\t40\t20.661043167114258\t1.0\t1.0\n",
      "0\t48\t109\t6\t41\t114.03108978271484\t1.0\t1.0\n",
      "0\t48\t108\t6\t42\t35.86711502075195\t1.0\t1.0\n",
      "1\t80\t49\t7\t70\t159.628662109375\t1.0\t1.0\n",
      "0\t48\t108\t8\t1\t125.59841918945312\t1.0\t1.0\n",
      "0\t47\t98\t8\t22\t67.49517059326172\t1.0\t1.0\n",
      "0\t47\t98\t8\t24\t102.60327911376953\t1.0\t1.0\n",
      "0\t54\t89\t8\t39\t35.04909896850586\t1.0\t1.0\n",
      "0\t54\t89\t8\t41\t62.93534851074219\t1.0\t1.0\n",
      "0\t53\t78\t8\t57\t61.92954635620117\t1.0\t1.0\n",
      "0\t53\t78\t8\t59\t28.305360794067383\t1.0\t1.0\n",
      "0\t52\t76\t8\t62\t63.750675201416016\t1.0\t1.0\n",
      "0\t52\t76\t8\t64\t294.7840270996094\t1.0\t1.0\n",
      "1\t54\t73\t8\t69\t341.07586669921875\t1.0\t1.0\n",
      "1\t54\t73\t8\t71\t27.020740509033203\t1.0\t1.0\n",
      "1\t80\t49\t8\t125\t39.87680435180664\t1.0\t1.0\n",
      "2\t108\t57\t9\t8\t237.81178283691406\t1.0\t1.0\n",
      "2\t108\t57\t9\t9\t46.60417556762695\t1.0\t1.0\n",
      "0\t94\t35\t9\t45\t96.37408447265625\t1.0\t1.0\n",
      "0\t94\t35\t9\t47\t89.41510009765625\t1.0\t1.0\n",
      "2\t91\t35\t9\t50\t60.342041015625\t1.0\t1.0\n",
      "2\t91\t34\t9\t51\t61.56704330444336\t1.0\t1.0\n",
      "1\t80\t49\t10\t1\t146.53265380859375\t1.0\t1.0\n",
      "2\t91\t35\t10\t26\t308.05096435546875\t1.0\t1.0\n",
      "2\t91\t34\t10\t27\t76.15687561035156\t1.0\t1.0\n",
      "0\t38\t85\t11\t8\t72.13273620605469\t1.0\t1.0\n",
      "0\t38\t85\t11\t9\t52.62028121948242\t1.0\t1.0\n",
      "2\t25\t24\t13\t42\t95.18097686767578\t1.0\t1.0\n",
      "2\t25\t24\t14\t47\t230.81414794921875\t1.0\t1.0\n",
      "2\t19\t23\t16\t47\t12.734856605529785\t1.0\t1.0\n",
      "2\t19\t23\t16\t49\t108.90869903564453\t1.0\t1.0\n",
      "2\t91\t34\t17\t1\t130.4016571044922\t1.0\t1.0\n",
      "1\t92\t30\t17\t6\t67.78282165527344\t1.0\t1.0\n",
      "1\t92\t30\t17\t8\t252.36495971679688\t1.0\t1.0\n",
      "\n",
      "Checking for streambed tops of less than -10...\n",
      "passed.\n",
      "\n",
      "Checking for streambed tops of greater than 15000...\n",
      "passed.\n",
      "\n",
      "Checking segment_data for downstream rises in streambed elevation...\n",
      "Segment elevup and elevdn not specified for nstrm=-965 and isfropt=1\n",
      "passed.\n",
      "\n",
      "Checking reach_data for downstream rises in streambed elevation...\n",
      "passed.\n",
      "\n",
      "Checking reach_data for inconsistencies between streambed elevations and the model grid...\n",
      "passed.\n",
      "\n",
      "Checking segment_data for inconsistencies between segment end elevations and the model grid...\n",
      "Segment elevup and elevdn not specified for nstrm=-965 and isfropt=1\n",
      "passed.\n",
      "\n",
      "Checking for streambed slopes of less than 0.0001...\n",
      "passed.\n",
      "\n",
      "Checking for streambed slopes of greater than 1.0...\n",
      "passed.\n",
      "\n",
      "wrote tf_SFR.chk\n",
      "converting segment data to period data...\n",
      "converting reach and segment data to package data...\n",
      "wrote ../tylerforks/tylerforks/tf.sfr\n"
     ]
    }
   ],
   "source": [
    "sfrdata.write_package(version='mf6')"
   ]
  },
  {
   "cell_type": "markdown",
   "metadata": {},
   "source": [
    "### Writing tables\n",
    "The ``reach_data`` and ``segment_data`` tables can be written out to csv files for further processing:"
   ]
  },
  {
   "cell_type": "code",
   "execution_count": 20,
   "metadata": {
    "execution": {
     "iopub.execute_input": "2020-10-20T18:11:07.131235Z",
     "iopub.status.busy": "2020-10-20T18:11:07.130372Z",
     "iopub.status.idle": "2020-10-20T18:11:07.145976Z",
     "shell.execute_reply": "2020-10-20T18:11:07.146375Z"
    }
   },
   "outputs": [
    {
     "name": "stdout",
     "output_type": "stream",
     "text": [
      "wrote tables/tf_sfr_reach_data.csv\n",
      "wrote tables/tf_sfr_segment_data.csv\n"
     ]
    }
   ],
   "source": [
    "sfrdata.write_tables()"
   ]
  },
  {
   "cell_type": "markdown",
   "metadata": {},
   "source": [
    "and then read back in to create an ``SFRData`` instance"
   ]
  },
  {
   "cell_type": "code",
   "execution_count": 21,
   "metadata": {
    "execution": {
     "iopub.execute_input": "2020-10-20T18:11:07.150059Z",
     "iopub.status.busy": "2020-10-20T18:11:07.149297Z",
     "iopub.status.idle": "2020-10-20T18:11:07.217714Z",
     "shell.execute_reply": "2020-10-20T18:11:07.217277Z"
    }
   },
   "outputs": [
    {
     "name": "stdout",
     "output_type": "stream",
     "text": [
      "Model grid information\n",
      "structured grid\n",
      "nnodes: 17,760\n",
      "nlay: 1\n",
      "nrow: 111\n",
      "ncol: 160\n",
      "model length units: undefined\n",
      "crs: EPSG:26715\n",
      "bounds: 682688.00, 5139052.00, 694880.00, 5147510.20\n",
      "active area defined by: isfr array\n",
      "\n"
     ]
    }
   ],
   "source": [
    "sfrdata2 = sfrmaker.SFRData.from_tables('tables/tf_sfr_reach_data.csv', 'tables/tf_sfr_segment_data.csv',\n",
    "                                        grid=grid)"
   ]
  },
  {
   "cell_type": "markdown",
   "metadata": {},
   "source": [
    "### Writing shapefiles\n",
    "Shapefiles can also be written to visualize the SFR package. These include:\n",
    "* hydrography linestrings associated with each reach\n",
    "* model cell polygons associated with each reach\n",
    "* outlet locations where water is leaving the model\n",
    "* routing connections (as lines drawn between cell centers)\n",
    "* the locations of specified inflows or any other period data\n",
    "* observation locations (if observations were supplied as input)"
   ]
  },
  {
   "cell_type": "code",
   "execution_count": 22,
   "metadata": {
    "execution": {
     "iopub.execute_input": "2020-10-20T18:11:07.221815Z",
     "iopub.status.busy": "2020-10-20T18:11:07.220392Z",
     "iopub.status.idle": "2020-10-20T18:11:07.861549Z",
     "shell.execute_reply": "2020-10-20T18:11:07.861116Z"
    }
   },
   "outputs": [
    {
     "name": "stdout",
     "output_type": "stream",
     "text": [
      "writing shps/tf_sfr_cells.shp...\n"
     ]
    },
    {
     "name": "stderr",
     "output_type": "stream",
     "text": [
      "/home/travis/miniconda/envs/test/lib/python3.7/site-packages/pyproj/crs/crs.py:543: UserWarning: You will likely lose important projection information when converting to a PROJ string from another format. See: https://proj.org/faq.html#what-is-the-best-format-for-describing-coordinate-reference-systems\n",
      "  proj_string = self.to_proj4()\n"
     ]
    },
    {
     "name": "stdout",
     "output_type": "stream",
     "text": [
      "writing shps/tf_sfr_outlets.shp...\n"
     ]
    },
    {
     "name": "stderr",
     "output_type": "stream",
     "text": [
      "/home/travis/miniconda/envs/test/lib/python3.7/site-packages/pyproj/crs/crs.py:543: UserWarning: You will likely lose important projection information when converting to a PROJ string from another format. See: https://proj.org/faq.html#what-is-the-best-format-for-describing-coordinate-reference-systems\n",
      "  proj_string = self.to_proj4()\n"
     ]
    },
    {
     "name": "stdout",
     "output_type": "stream",
     "text": [
      "writing shps/tf_sfr_lines.shp...\n",
      "writing shps/tf_sfr_routing.shp...\n",
      "No period data to export!\n",
      "No observations to export!\n",
      "No non-zero values of flow to export!\n"
     ]
    }
   ],
   "source": [
    "sfrdata.write_shapefiles()"
   ]
  },
  {
   "cell_type": "code",
   "execution_count": null,
   "metadata": {},
   "outputs": [],
   "source": []
  }
 ],
 "metadata": {
  "kernelspec": {
   "display_name": "gis",
   "language": "python",
   "name": "gis"
  },
  "language_info": {
   "codemirror_mode": {
    "name": "ipython",
    "version": 3
   },
   "file_extension": ".py",
   "mimetype": "text/x-python",
   "name": "python",
   "nbconvert_exporter": "python",
   "pygments_lexer": "ipython3",
   "version": "3.7.8"
  }
 },
 "nbformat": 4,
 "nbformat_minor": 4
}
