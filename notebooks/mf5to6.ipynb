{
 "cells": [
  {
   "cell_type": "markdown",
   "metadata": {},
   "source": [
    "# Converting a MODFLOW-2005 style SFR Package to MODFLOW 6\n",
    "\n",
    "Sometimes you may want to convert a MODFLOW-2005 or MODFLOW-NWT model to MODFLOW 6, but the USGS `mf5to6` converter fails on the SFR Package. This notebook demonstrates how to convert a MODFLOW-2005 (or MODFLOW-NWT) SFR Package input file to MODFLOW 6 using SFRmaker."
   ]
  },
  {
   "cell_type": "code",
   "execution_count": 1,
   "metadata": {
    "execution": {
     "iopub.execute_input": "2025-04-02T16:51:06.203419Z",
     "iopub.status.busy": "2025-04-02T16:51:06.203325Z",
     "iopub.status.idle": "2025-04-02T16:51:07.326849Z",
     "shell.execute_reply": "2025-04-02T16:51:07.326353Z"
    }
   },
   "outputs": [
    {
     "data": {
      "text/plain": [
       "['DIS', 'BAS6', 'UPW', 'RCH', 'OC', 'NWT', 'CHD', 'SFR']"
      ]
     },
     "execution_count": 1,
     "metadata": {},
     "output_type": "execute_result"
    }
   ],
   "source": [
    "import flopy\n",
    "import sfrmaker\n",
    "\n",
    "# Load the model using Flopy\n",
    "model = flopy.modflow.Modflow.load('tf_with_sfr.nam', model_ws='../tylerforks/tylerforks')\n",
    "\n",
    "#Check that the SFR package was loaded\n",
    "model.get_package_list()"
   ]
  },
  {
   "cell_type": "code",
   "execution_count": 2,
   "metadata": {
    "execution": {
     "iopub.execute_input": "2025-04-02T16:51:07.340642Z",
     "iopub.status.busy": "2025-04-02T16:51:07.340250Z",
     "iopub.status.idle": "2025-04-02T16:51:07.432548Z",
     "shell.execute_reply": "2025-04-02T16:51:07.432158Z"
    }
   },
   "outputs": [
    {
     "name": "stdout",
     "output_type": "stream",
     "text": [
      "converting reach and segment data to package data...\n",
      "converting segment data to period data...\n",
      "wrote tf_mf6.sfr\n"
     ]
    }
   ],
   "source": [
    "# Instantiate an `Mf6SFR` object (with the Flopy MODFLOW-2005 style SFR instance)\n",
    "mf5to6 = sfrmaker.Mf6SFR(model.sfr)\n",
    "\n",
    "# Write the MODFLOW 6 SFR Package file\n",
    "mf5to6.write_file('tf_mf6.sfr')"
   ]
  }
 ],
 "metadata": {
  "kernelspec": {
   "display_name": "sfrmaker_ci",
   "language": "python",
   "name": "python3"
  },
  "language_info": {
   "codemirror_mode": {
    "name": "ipython",
    "version": 3
   },
   "file_extension": ".py",
   "mimetype": "text/x-python",
   "name": "python",
   "nbconvert_exporter": "python",
   "pygments_lexer": "ipython3",
   "version": "3.13.2"
  }
 },
 "nbformat": 4,
 "nbformat_minor": 2
}
