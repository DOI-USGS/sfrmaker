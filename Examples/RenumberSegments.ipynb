{
 "metadata": {
  "name": "",
  "signature": "sha256:e2f28aaee3bf8a5d5677b80169868563dd939d2daaf65fa51ec4e1bff48499d0"
 },
 "nbformat": 3,
 "nbformat_minor": 0,
 "worksheets": [
  {
   "cells": [
    {
     "cell_type": "markdown",
     "metadata": {},
     "source": [
      "###SFR package for FWP model"
     ]
    },
    {
     "cell_type": "code",
     "collapsed": false,
     "input": [
      "import sys\n",
      "sys.path.append('/Users/aleaf/Documents/GitHub/SFR')\n",
      "import matplotlib.pyplot as plt\n",
      "from postproc import *\n",
      "import GISio\n",
      "from diagnostics import *\n",
      "\n",
      "% matplotlib inline"
     ],
     "language": "python",
     "metadata": {},
     "outputs": [],
     "prompt_number": 17
    },
    {
     "cell_type": "markdown",
     "metadata": {},
     "source": [
      "####Create SFRmaker object from existing tables"
     ]
    },
    {
     "cell_type": "code",
     "collapsed": false,
     "input": [
      "m1 = pd.read_csv('/Users/aleaf/Documents/LPR/LPR_Calibration/2_from_ALEAF_SFR/SFRoutput/Mat1_elevs.csv')\n",
      "m2 = pd.read_csv('/Users/aleaf/Documents/LPR/LPR_Calibration/2_from_ALEAF_SFR/SFRoutput/Mat2_elevs_edited.csv')\n",
      "\n",
      "waterbodies04 = '/Users/aleaf/Documents/NHDPlusGL/NHDPlus04/NHDSnapshot/Hydrography/NHDWaterbody.shp'\n",
      "waterbodies07 = '/Users/aleaf/Documents/NHDPlusGL/NHDPlus07/NHDSnapshot/Hydrography/NHDWaterbody.shp'\n",
      "\n",
      "sfr = SFRdata(Mat1='SFR_GWVmat1_FWPvert1000ft.txt', Mat2='SFR_GWVmat2_FWPvert1000ft.txt',\n",
      "              mfnam='FWPvert_ORIGINAL.nam', mfdis='FWPvert_ORIGINAL.dis', GIS_mult=1)"
     ],
     "language": "python",
     "metadata": {},
     "outputs": [
      {
       "output_type": "stream",
       "stream": "stdout",
       "text": [
        "FWPvert_ORIGINAL.dis\n",
        "\n",
        " not valid, workspace-folder was changed to /Users/aleaf/Documents/NAWQA\n",
        "\n",
        "Parsing the namefile --> FWPvert_ORIGINAL.nam\n",
        "Setting filehandles:\n",
        "Loading DIS file with 1 layers, 930 rows, 650 columns, and 1 stress periods\n",
        "   loading laycbd...\n",
        "   loading delr...\n",
        "   loading delc...\n",
        "   loading top...\n",
        "   loading botm..."
       ]
      },
      {
       "output_type": "stream",
       "stream": "stdout",
       "text": [
        "\n",
        "   loading stress period data..."
       ]
      },
      {
       "output_type": "stream",
       "stream": "stdout",
       "text": [
        "\n"
       ]
      }
     ],
     "prompt_number": 18
    },
    {
     "cell_type": "markdown",
     "metadata": {},
     "source": [
      "####Check elevations, and for model cells with multiple non-zero SFR conductances\n",
      "* Many of the instances of bad elevations are from segments where elevation increases from reach1 to the last reach  \n",
      "(the segments appear to be routed in the wrong direction). I don't have the linework, but it seems like these occur in areas where lines going different directions are close to one another (i.e. the cell containing reach 1 of one segment touches another SFR segment)  \n",
      "* There are at least a few instances of rises in elevation going downstream. This is a problem with the elevation smoothing in the original SFRmaker code. We could fix this by running **smooth_interior_elevations()** in the post-processing module, but first it would probably be good fix the backwards segments."
     ]
    },
    {
     "cell_type": "code",
     "collapsed": false,
     "input": [
      "dg = diagnostics(sfrobject=sfr)\n",
      "dg.check_elevations()\n",
      "dg.check_overlapping()"
     ],
     "language": "python",
     "metadata": {},
     "outputs": [
      {
       "output_type": "stream",
       "stream": "stdout",
       "text": [
        "Checking Mat1 for downstream rises in streambed elevation...\n",
        "Found 1536 instances of bad elevations, see elevation_increases.csv\n",
        "Checking Mat1 for segments with reach 1 higher than last reach ..."
       ]
      },
      {
       "output_type": "stream",
       "stream": "stdout",
       "text": [
        "\n",
        "Found 64 segments with lower reach 1, see Mat1_backwards_segments.csv"
       ]
      },
      {
       "output_type": "stream",
       "stream": "stdout",
       "text": [
        "\n",
        "Checking for MODFLOW altitude errors...\n",
        "passed."
       ]
      },
      {
       "output_type": "stream",
       "stream": "stdout",
       "text": [
        "\n",
        "Checking for model cells with multiple non-zero SFR conductances...\n",
        "6922 model cells with multiple non-zero SFR conductances found. This may lead to circular routing between collocated reaches. \n",
        "See collocated_reaches.csv.\n",
        "Run consolidate_conductance() to establish a dominant reach in each SFR cell (sets remaining reaches to zero-conductance)."
       ]
      },
      {
       "output_type": "stream",
       "stream": "stdout",
       "text": [
        "\n"
       ]
      }
     ],
     "prompt_number": 19
    },
    {
     "cell_type": "markdown",
     "metadata": {},
     "source": [
      "####Fix the conductance issue\n",
      "this method identifies cells with multiple SFR reaches and assigns all conductance to widest reach"
     ]
    },
    {
     "cell_type": "code",
     "collapsed": false,
     "input": [
      "sfr.consolidate_conductance()"
     ],
     "language": "python",
     "metadata": {},
     "outputs": [],
     "prompt_number": 20
    },
    {
     "cell_type": "code",
     "collapsed": false,
     "input": [
      "dg = diagnostics(sfrobject=sfr)\n",
      "dg.check_overlapping()"
     ],
     "language": "python",
     "metadata": {},
     "outputs": [
      {
       "output_type": "stream",
       "stream": "stdout",
       "text": [
        "Checking for model cells with multiple non-zero SFR conductances...\n",
        "passed."
       ]
      },
      {
       "output_type": "stream",
       "stream": "stdout",
       "text": [
        "\n"
       ]
      }
     ],
     "prompt_number": 21
    },
    {
     "cell_type": "markdown",
     "metadata": {},
     "source": [
      "####Now renumber the SFR segments based on intersection with waterbodies\n",
      "* for each waterbody, generate a list of intersecting model cells with SFR\n",
      "    * Note: this feature takes advantage of the **Rtree** package if you have it installed. Otherwise it will test for all possible intersections between the waterbodies and sfr cells (700,000,000 in this case; in terms of time that takes about an hour vs. t2 min. with Rtree)\n",
      "    * With Rtree, you have to drop Lake Michigan, otherwise it will return >22,000 SFR reaches within the Lake MI bounding box to be tested\n",
      "* break up each segment within these cells, so that cells intersecting the waterbody have their own segment\n",
      "* renumber the reaches\n",
      "* update the routing"
     ]
    },
    {
     "cell_type": "code",
     "collapsed": false,
     "input": [
      "wbs = GISio.shp2df([waterbodies04, waterbodies07], geometry=True)\n",
      "\n",
      "wbs.drop(wbs[wbs.GNIS_NAME == 'Lake Michigan'].index, inplace=True) # drop Lake Michigan from waterbodies dataset\n",
      "\n",
      "sfr.renumber_sfr_cells_from_polygons(intersect_df=wbs, intersect_prj=waterbodies07[:-4] + '.prj',\n",
      "                                     sfr_shapefile='SFR_cellinfo_FWPvert1000ft.shp')\n"
     ],
     "language": "python",
     "metadata": {},
     "outputs": [
      {
       "output_type": "stream",
       "stream": "stdout",
       "text": [
        "\n",
        "reading /Users/aleaf/Documents/NHDPlusGL/NHDPlus04/NHDSnapshot/Hydrography/NHDWaterbody.shp...\n",
        "--> building dataframe... (may take a while for large shapefiles)"
       ]
      },
      {
       "output_type": "stream",
       "stream": "stdout",
       "text": [
        "\n",
        "\n",
        "reading /Users/aleaf/Documents/NHDPlusGL/NHDPlus07/NHDSnapshot/Hydrography/NHDWaterbody.shp..."
       ]
      },
      {
       "output_type": "stream",
       "stream": "stdout",
       "text": [
        "\n",
        "--> building dataframe... (may take a while for large shapefiles)"
       ]
      },
      {
       "output_type": "stream",
       "stream": "stdout",
       "text": [
        "\n",
        "\n",
        "reading SFR_cellinfo_FWPvert1000ft.shp..."
       ]
      },
      {
       "output_type": "stream",
       "stream": "stdout",
       "text": [
        "\n",
        "--> building dataframe... (may take a while for large shapefiles)"
       ]
      },
      {
       "output_type": "stream",
       "stream": "stdout",
       "text": [
        "\n",
        "Intersecting features in intersect_df with SFR cells"
       ]
      },
      {
       "output_type": "stream",
       "stream": "stdout",
       "text": [
        "\n",
        "Reprojecting from:\n",
        "+proj=longlat +datum=NAD83 +no_defs \n",
        "to:\n",
        "+proj=utm +zone=16 +datum=NAD83 +units=us-ft +no_defs \n",
        "...\n",
        "Discarding features outside of SFR network bounding box..."
       ]
      },
      {
       "output_type": "stream",
       "stream": "stdout",
       "text": [
        "\n",
        "Listing SFR cell intersections for remaining features..."
       ]
      },
      {
       "output_type": "stream",
       "stream": "stdout",
       "text": [
        "\n",
        "Building rtree spatial index...\n",
        "Intersecting 6407 features..."
       ]
      },
      {
       "output_type": "stream",
       "stream": "stdout",
       "text": [
        "\n",
        "\r",
        "0 \r",
        "1 \r",
        "2 \r",
        "3 \r",
        "4 \r",
        "5 \r",
        "6 \r",
        "7 \r",
        "8 \r",
        "9 \r",
        "10 \r",
        "11 \r",
        "12 \r",
        "13 \r",
        "14 \r",
        "15 \r",
        "16 \r",
        "17 \r",
        "18 \r",
        "19 \r",
        "20 \r",
        "21 \r",
        "22 \r",
        "23 \r",
        "24 \r",
        "25 \r",
        "26 \r",
        "27 \r",
        "28 \r",
        "29 \r",
        "30 \r",
        "31 \r",
        "32 \r",
        "33 \r",
        "34 \r",
        "35 \r",
        "36 \r",
        "37 \r",
        "38 \r",
        "39 \r",
        "40 \r",
        "41 \r",
        "42 \r",
        "43 \r",
        "44 \r",
        "45 \r",
        "46 \r",
        "47 \r",
        "48 \r",
        "49 \r",
        "50 \r",
        "51 \r",
        "52 \r",
        "53 \r",
        "54 \r",
        "55 \r",
        "56 \r",
        "57 \r",
        "58 \r",
        "59 \r",
        "60 \r",
        "61 \r",
        "62 \r",
        "63 \r",
        "64 \r",
        "65 \r",
        "66 \r",
        "67 \r",
        "68 \r",
        "69 \r",
        "70 \r",
        "71 \r",
        "72 \r",
        "73 \r",
        "74 \r",
        "75 \r",
        "76 \r",
        "77 \r",
        "78 \r",
        "79 \r",
        "80 \r",
        "81 \r",
        "82 \r",
        "83 \r",
        "84 \r",
        "85 \r",
        "86 \r",
        "87 \r",
        "88 \r",
        "89 \r",
        "90 \r",
        "91 \r",
        "92 \r",
        "93 \r",
        "94 \r",
        "95 \r",
        "96 \r",
        "97 \r",
        "98 \r",
        "99 \r",
        "100 \r",
        "101 \r",
        "102 \r",
        "103 \r",
        "104 \r",
        "105 \r",
        "106 \r",
        "107 \r",
        "108 \r",
        "109 \r",
        "110 \r",
        "111 \r",
        "112 \r",
        "113 \r",
        "114 \r",
        "115 \r",
        "116 \r",
        "117 \r",
        "118 \r",
        "119 \r",
        "120 \r",
        "121 \r",
        "122 \r",
        "123 \r",
        "124 \r",
        "125 \r",
        "126 \r",
        "127 \r",
        "128 \r",
        "129 \r",
        "130 \r",
        "131 \r",
        "132 \r",
        "133 \r",
        "134 \r",
        "135 \r",
        "136 \r",
        "137 \r",
        "138 \r",
        "139 \r",
        "140 \r",
        "141 \r",
        "142 \r",
        "143 \r",
        "144 \r",
        "145 \r",
        "146 \r",
        "147 \r",
        "148 \r",
        "149 \r",
        "150 \r",
        "151 \r",
        "152 "
       ]
      },
      {
       "output_type": "stream",
       "stream": "stdout",
       "text": [
        "\r",
        "153 \r",
        "154 \r",
        "155 \r",
        "156 \r",
        "157 \r",
        "158 \r",
        "159 \r",
        "160 \r",
        "161 \r",
        "162 \r",
        "163 \r",
        "164 \r",
        "165 \r",
        "166 \r",
        "167 \r",
        "168 \r",
        "169 \r",
        "170 \r",
        "171 \r",
        "172 \r",
        "173 \r",
        "174 \r",
        "175 \r",
        "176 \r",
        "177 \r",
        "178 \r",
        "179 \r",
        "180 \r",
        "181 \r",
        "182 \r",
        "183 \r",
        "184 \r",
        "185 \r",
        "186 \r",
        "187 \r",
        "188 \r",
        "189 \r",
        "190 \r",
        "191 \r",
        "192 \r",
        "193 \r",
        "194 \r",
        "195 \r",
        "196 \r",
        "197 \r",
        "198 \r",
        "199 \r",
        "200 \r",
        "201 \r",
        "202 \r",
        "203 \r",
        "204 \r",
        "205 \r",
        "206 \r",
        "207 \r",
        "208 \r",
        "209 \r",
        "210 \r",
        "211 \r",
        "212 \r",
        "213 \r",
        "214 \r",
        "215 \r",
        "216 \r",
        "217 \r",
        "218 \r",
        "219 \r",
        "220 \r",
        "221 \r",
        "222 \r",
        "223 \r",
        "224 \r",
        "225 \r",
        "226 \r",
        "227 \r",
        "228 \r",
        "229 \r",
        "230 \r",
        "231 \r",
        "232 \r",
        "233 \r",
        "234 \r",
        "235 \r",
        "236 \r",
        "237 \r",
        "238 \r",
        "239 \r",
        "240 \r",
        "241 \r",
        "242 \r",
        "243 \r",
        "244 \r",
        "245 \r",
        "246 \r",
        "247 \r",
        "248 \r",
        "249 \r",
        "250 \r",
        "251 \r",
        "252 \r",
        "253 \r",
        "254 \r",
        "255 \r",
        "256 \r",
        "257 \r",
        "258 \r",
        "259 \r",
        "260 \r",
        "261 "
       ]
      },
      {
       "output_type": "stream",
       "stream": "stdout",
       "text": [
        "\r",
        "262 \r",
        "263 \r",
        "264 \r",
        "265 \r",
        "266 \r",
        "267 \r",
        "268 \r",
        "269 \r",
        "270 \r",
        "271 \r",
        "272 \r",
        "273 \r",
        "274 \r",
        "275 \r",
        "276 \r",
        "277 \r",
        "278 \r",
        "279 \r",
        "280 \r",
        "281 \r",
        "282 \r",
        "283 \r",
        "284 \r",
        "285 \r",
        "286 \r",
        "287 \r",
        "288 \r",
        "289 \r",
        "290 \r",
        "291 \r",
        "292 \r",
        "293 \r",
        "294 \r",
        "295 \r",
        "296 \r",
        "297 \r",
        "298 \r",
        "299 \r",
        "300 \r",
        "301 \r",
        "302 \r",
        "303 \r",
        "304 \r",
        "305 \r",
        "306 \r",
        "307 \r",
        "308 \r",
        "309 \r",
        "310 \r",
        "311 \r",
        "312 \r",
        "313 \r",
        "314 \r",
        "315 \r",
        "316 \r",
        "317 \r",
        "318 \r",
        "319 \r",
        "320 \r",
        "321 \r",
        "322 \r",
        "323 \r",
        "324 \r",
        "325 \r",
        "326 \r",
        "327 \r",
        "328 \r",
        "329 \r",
        "330 \r",
        "331 \r",
        "332 \r",
        "333 \r",
        "334 \r",
        "335 \r",
        "336 \r",
        "337 \r",
        "338 \r",
        "339 \r",
        "340 \r",
        "341 \r",
        "342 \r",
        "343 \r",
        "344 \r",
        "345 \r",
        "346 \r",
        "347 \r",
        "348 \r",
        "349 \r",
        "350 \r",
        "351 \r",
        "352 \r",
        "353 \r",
        "354 \r",
        "355 \r",
        "356 \r",
        "357 \r",
        "358 \r",
        "359 \r",
        "360 \r",
        "361 \r",
        "362 \r",
        "363 \r",
        "364 \r",
        "365 \r",
        "366 \r",
        "367 \r",
        "368 \r",
        "369 \r",
        "370 \r",
        "371 \r",
        "372 \r",
        "373 \r",
        "374 \r",
        "375 \r",
        "376 \r",
        "377 \r",
        "378 \r",
        "379 \r",
        "380 "
       ]
      },
      {
       "output_type": "stream",
       "stream": "stdout",
       "text": [
        "\r",
        "381 \r",
        "382 \r",
        "383 \r",
        "384 \r",
        "385 \r",
        "386 \r",
        "387 \r",
        "388 \r",
        "389 \r",
        "390 \r",
        "391 \r",
        "392 \r",
        "393 \r",
        "394 \r",
        "395 \r",
        "396 \r",
        "397 "
       ]
      },
      {
       "output_type": "stream",
       "stream": "stdout",
       "text": [
        "\r",
        "398 \r",
        "399 \r",
        "400 \r",
        "401 \r",
        "402 \r",
        "403 \r",
        "404 \r",
        "405 \r",
        "406 \r",
        "407 \r",
        "408 \r",
        "409 \r",
        "410 \r",
        "411 \r",
        "412 \r",
        "413 \r",
        "414 \r",
        "415 \r",
        "416 \r",
        "417 \r",
        "418 \r",
        "419 \r",
        "420 \r",
        "421 "
       ]
      },
      {
       "output_type": "stream",
       "stream": "stdout",
       "text": [
        "\r",
        "422 \r",
        "423 \r",
        "424 \r",
        "425 \r",
        "426 \r",
        "427 \r",
        "428 "
       ]
      },
      {
       "output_type": "stream",
       "stream": "stdout",
       "text": [
        "\r",
        "429 \r",
        "430 \r",
        "431 \r",
        "432 "
       ]
      },
      {
       "output_type": "stream",
       "stream": "stdout",
       "text": [
        "\r",
        "433 \r",
        "434 "
       ]
      },
      {
       "output_type": "stream",
       "stream": "stdout",
       "text": [
        "\r",
        "435 "
       ]
      },
      {
       "output_type": "stream",
       "stream": "stdout",
       "text": [
        "\r",
        "436 \r",
        "437 \r",
        "438 \r",
        "439 \r",
        "440 \r",
        "441 \r",
        "442 \r",
        "443 \r",
        "444 \r",
        "445 "
       ]
      },
      {
       "output_type": "stream",
       "stream": "stdout",
       "text": [
        "\r",
        "446 \r",
        "447 \r",
        "448 \r",
        "449 "
       ]
      },
      {
       "output_type": "stream",
       "stream": "stdout",
       "text": [
        "\r",
        "450 \r",
        "451 \r",
        "452 \r",
        "453 \r",
        "454 "
       ]
      },
      {
       "output_type": "stream",
       "stream": "stdout",
       "text": [
        "\r",
        "455 \r",
        "456 \r",
        "457 \r",
        "458 \r",
        "459 \r",
        "460 \r",
        "461 \r",
        "462 \r",
        "463 \r",
        "464 \r",
        "465 \r",
        "466 \r",
        "467 \r",
        "468 \r",
        "469 \r",
        "470 \r",
        "471 "
       ]
      },
      {
       "output_type": "stream",
       "stream": "stdout",
       "text": [
        "\r",
        "472 \r",
        "473 \r",
        "474 \r",
        "475 \r",
        "476 \r",
        "477 \r",
        "478 \r",
        "479 \r",
        "480 \r",
        "481 \r",
        "482 \r",
        "483 \r",
        "484 \r",
        "485 \r",
        "486 \r",
        "487 \r",
        "488 \r",
        "489 \r",
        "490 \r",
        "491 \r",
        "492 \r",
        "493 \r",
        "494 \r",
        "495 \r",
        "496 \r",
        "497 \r",
        "498 \r",
        "499 \r",
        "500 \r",
        "501 \r",
        "502 \r",
        "503 \r",
        "504 \r",
        "505 \r",
        "506 \r",
        "507 \r",
        "508 \r",
        "509 \r",
        "510 \r",
        "511 \r",
        "512 \r",
        "513 \r",
        "514 \r",
        "515 \r",
        "516 \r",
        "517 \r",
        "518 \r",
        "519 \r",
        "520 \r",
        "521 "
       ]
      },
      {
       "output_type": "stream",
       "stream": "stdout",
       "text": [
        "\r",
        "522 \r",
        "523 \r",
        "524 \r",
        "525 \r",
        "526 \r",
        "527 \r",
        "528 \r",
        "529 \r",
        "530 \r",
        "531 \r",
        "532 \r",
        "533 \r",
        "534 \r",
        "535 "
       ]
      },
      {
       "output_type": "stream",
       "stream": "stdout",
       "text": [
        "\r",
        "536 \r",
        "537 \r",
        "538 \r",
        "539 \r",
        "540 \r",
        "541 \r",
        "542 \r",
        "543 \r",
        "544 \r",
        "545 \r",
        "546 \r",
        "547 \r",
        "548 \r",
        "549 \r",
        "550 \r",
        "551 \r",
        "552 \r",
        "553 \r",
        "554 \r",
        "555 \r",
        "556 \r",
        "557 \r",
        "558 \r",
        "559 \r",
        "560 \r",
        "561 \r",
        "562 \r",
        "563 \r",
        "564 \r",
        "565 \r",
        "566 \r",
        "567 \r",
        "568 \r",
        "569 \r",
        "570 \r",
        "571 \r",
        "572 \r",
        "573 \r",
        "574 \r",
        "575 \r",
        "576 \r",
        "577 \r",
        "578 \r",
        "579 \r",
        "580 \r",
        "581 \r",
        "582 \r",
        "583 \r",
        "584 \r",
        "585 \r",
        "586 \r",
        "587 \r",
        "588 \r",
        "589 \r",
        "590 \r",
        "591 \r",
        "592 \r",
        "593 \r",
        "594 \r",
        "595 \r",
        "596 \r",
        "597 \r",
        "598 \r",
        "599 \r",
        "600 \r",
        "601 \r",
        "602 \r",
        "603 \r",
        "604 \r",
        "605 \r",
        "606 \r",
        "607 \r",
        "608 \r",
        "609 "
       ]
      },
      {
       "output_type": "stream",
       "stream": "stdout",
       "text": [
        "\r",
        "610 \r",
        "611 \r",
        "612 \r",
        "613 \r",
        "614 \r",
        "615 \r",
        "616 \r",
        "617 \r",
        "618 \r",
        "619 \r",
        "620 \r",
        "621 \r",
        "622 \r",
        "623 \r",
        "624 \r",
        "625 \r",
        "626 \r",
        "627 \r",
        "628 \r",
        "629 \r",
        "630 \r",
        "631 \r",
        "632 \r",
        "633 \r",
        "634 \r",
        "635 \r",
        "636 \r",
        "637 \r",
        "638 \r",
        "639 \r",
        "640 \r",
        "641 \r",
        "642 \r",
        "643 \r",
        "644 \r",
        "645 "
       ]
      },
      {
       "output_type": "stream",
       "stream": "stdout",
       "text": [
        "\r",
        "646 \r",
        "647 \r",
        "648 \r",
        "649 \r",
        "650 \r",
        "651 \r",
        "652 \r",
        "653 \r",
        "654 \r",
        "655 \r",
        "656 \r",
        "657 \r",
        "658 \r",
        "659 \r",
        "660 \r",
        "661 \r",
        "662 \r",
        "663 \r",
        "664 \r",
        "665 \r",
        "666 "
       ]
      },
      {
       "output_type": "stream",
       "stream": "stdout",
       "text": [
        "\r",
        "667 \r",
        "668 "
       ]
      },
      {
       "output_type": "stream",
       "stream": "stdout",
       "text": [
        "\r",
        "669 \r",
        "670 \r",
        "671 \r",
        "672 "
       ]
      },
      {
       "output_type": "stream",
       "stream": "stdout",
       "text": [
        "\r",
        "673 \r",
        "674 \r",
        "675 \r",
        "676 \r",
        "677 \r",
        "678 \r",
        "679 \r",
        "680 \r",
        "681 \r",
        "682 \r",
        "683 \r",
        "684 \r",
        "685 \r",
        "686 \r",
        "687 \r",
        "688 \r",
        "689 \r",
        "690 \r",
        "691 \r",
        "692 \r",
        "693 \r",
        "694 \r",
        "695 \r",
        "696 \r",
        "697 \r",
        "698 \r",
        "699 \r",
        "700 \r",
        "701 \r",
        "702 \r",
        "703 \r",
        "704 \r",
        "705 \r",
        "706 \r",
        "707 "
       ]
      },
      {
       "output_type": "stream",
       "stream": "stdout",
       "text": [
        "\r",
        "708 \r",
        "709 \r",
        "710 \r",
        "711 \r",
        "712 \r",
        "713 \r",
        "714 \r",
        "715 \r",
        "716 \r",
        "717 \r",
        "718 \r",
        "719 \r",
        "720 \r",
        "721 \r",
        "722 \r",
        "723 \r",
        "724 \r",
        "725 \r",
        "726 \r",
        "727 \r",
        "728 \r",
        "729 \r",
        "730 \r",
        "731 "
       ]
      },
      {
       "output_type": "stream",
       "stream": "stdout",
       "text": [
        "\r",
        "732 \r",
        "733 \r",
        "734 \r",
        "735 \r",
        "736 "
       ]
      },
      {
       "output_type": "stream",
       "stream": "stdout",
       "text": [
        "\r",
        "737 \r",
        "738 \r",
        "739 \r",
        "740 \r",
        "741 \r",
        "742 \r",
        "743 \r",
        "744 \r",
        "745 \r",
        "746 \r",
        "747 \r",
        "748 \r",
        "749 \r",
        "750 \r",
        "751 \r",
        "752 \r",
        "753 \r",
        "754 \r",
        "755 \r",
        "756 \r",
        "757 \r",
        "758 \r",
        "759 \r",
        "760 \r",
        "761 \r",
        "762 \r",
        "763 \r",
        "764 \r",
        "765 \r",
        "766 \r",
        "767 \r",
        "768 \r",
        "769 \r",
        "770 \r",
        "771 \r",
        "772 \r",
        "773 \r",
        "774 \r",
        "775 "
       ]
      },
      {
       "output_type": "stream",
       "stream": "stdout",
       "text": [
        "\r",
        "776 \r",
        "777 \r",
        "778 \r",
        "779 \r",
        "780 \r",
        "781 \r",
        "782 \r",
        "783 \r",
        "784 \r",
        "785 \r",
        "786 \r",
        "787 \r",
        "788 \r",
        "789 \r",
        "790 \r",
        "791 \r",
        "792 \r",
        "793 \r",
        "794 \r",
        "795 \r",
        "796 \r",
        "797 \r",
        "798 \r",
        "799 \r",
        "800 \r",
        "801 \r",
        "802 \r",
        "803 \r",
        "804 \r",
        "805 \r",
        "806 \r",
        "807 \r",
        "808 \r",
        "809 \r",
        "810 \r",
        "811 \r",
        "812 \r",
        "813 \r",
        "814 \r",
        "815 \r",
        "816 \r",
        "817 \r",
        "818 \r",
        "819 \r",
        "820 \r",
        "821 \r",
        "822 \r",
        "823 \r",
        "824 \r",
        "825 \r",
        "826 \r",
        "827 \r",
        "828 \r",
        "829 \r",
        "830 \r",
        "831 \r",
        "832 \r",
        "833 \r",
        "834 \r",
        "835 \r",
        "836 \r",
        "837 \r",
        "838 \r",
        "839 \r",
        "840 \r",
        "841 \r",
        "842 \r",
        "843 \r",
        "844 \r",
        "845 \r",
        "846 \r",
        "847 \r",
        "848 \r",
        "849 \r",
        "850 "
       ]
      },
      {
       "output_type": "stream",
       "stream": "stdout",
       "text": [
        "\r",
        "851 \r",
        "852 \r",
        "853 \r",
        "854 \r",
        "855 \r",
        "856 \r",
        "857 "
       ]
      },
      {
       "output_type": "stream",
       "stream": "stdout",
       "text": [
        "\r",
        "858 \r",
        "859 \r",
        "860 \r",
        "861 \r",
        "862 \r",
        "863 \r",
        "864 \r",
        "865 \r",
        "866 "
       ]
      },
      {
       "output_type": "stream",
       "stream": "stdout",
       "text": [
        "\r",
        "867 \r",
        "868 \r",
        "869 \r",
        "870 \r",
        "871 \r",
        "872 \r",
        "873 \r",
        "874 \r",
        "875 \r",
        "876 \r",
        "877 \r",
        "878 \r",
        "879 \r",
        "880 \r",
        "881 \r",
        "882 \r",
        "883 \r",
        "884 \r",
        "885 \r",
        "886 \r",
        "887 \r",
        "888 \r",
        "889 \r",
        "890 \r",
        "891 \r",
        "892 \r",
        "893 \r",
        "894 \r",
        "895 \r",
        "896 \r",
        "897 \r",
        "898 \r",
        "899 \r",
        "900 \r",
        "901 \r",
        "902 \r",
        "903 \r",
        "904 \r",
        "905 \r",
        "906 \r",
        "907 \r",
        "908 \r",
        "909 \r",
        "910 \r",
        "911 \r",
        "912 \r",
        "913 \r",
        "914 \r",
        "915 \r",
        "916 \r",
        "917 \r",
        "918 \r",
        "919 \r",
        "920 \r",
        "921 \r",
        "922 \r",
        "923 \r",
        "924 "
       ]
      },
      {
       "output_type": "stream",
       "stream": "stdout",
       "text": [
        "\r",
        "925 \r",
        "926 \r",
        "927 \r",
        "928 \r",
        "929 \r",
        "930 \r",
        "931 \r",
        "932 \r",
        "933 \r",
        "934 \r",
        "935 \r",
        "936 \r",
        "937 \r",
        "938 "
       ]
      },
      {
       "output_type": "stream",
       "stream": "stdout",
       "text": [
        "\r",
        "939 \r",
        "940 \r",
        "941 \r",
        "942 \r",
        "943 \r",
        "944 \r",
        "945 \r",
        "946 \r",
        "947 \r",
        "948 \r",
        "949 \r",
        "950 \r",
        "951 \r",
        "952 \r",
        "953 \r",
        "954 \r",
        "955 "
       ]
      },
      {
       "output_type": "stream",
       "stream": "stdout",
       "text": [
        "\r",
        "956 \r",
        "957 "
       ]
      },
      {
       "output_type": "stream",
       "stream": "stdout",
       "text": [
        "\r",
        "958 \r",
        "959 "
       ]
      },
      {
       "output_type": "stream",
       "stream": "stdout",
       "text": [
        "\r",
        "960 \r",
        "961 \r",
        "962 \r",
        "963 \r",
        "964 \r",
        "965 \r",
        "966 \r",
        "967 \r",
        "968 \r",
        "969 \r",
        "970 \r",
        "971 \r",
        "972 \r",
        "973 \r",
        "974 \r",
        "975 \r",
        "976 \r",
        "977 \r",
        "978 \r",
        "979 \r",
        "980 \r",
        "981 \r",
        "982 \r",
        "983 \r",
        "984 \r",
        "985 \r",
        "986 \r",
        "987 \r",
        "988 \r",
        "989 \r",
        "990 \r",
        "991 \r",
        "992 \r",
        "993 \r",
        "994 \r",
        "995 \r",
        "996 \r",
        "997 \r",
        "998 \r",
        "999 \r",
        "1000 \r",
        "1001 \r",
        "1002 \r",
        "1003 \r",
        "1004 \r",
        "1005 \r",
        "1006 \r",
        "1007 \r",
        "1008 \r",
        "1009 \r",
        "1010 \r",
        "1011 \r",
        "1012 \r",
        "1013 \r",
        "1014 \r",
        "1015 \r",
        "1016 \r",
        "1017 \r",
        "1018 \r",
        "1019 \r",
        "1020 \r",
        "1021 \r",
        "1022 \r",
        "1023 \r",
        "1024 \r",
        "1025 \r",
        "1026 \r",
        "1027 \r",
        "1028 \r",
        "1029 "
       ]
      },
      {
       "output_type": "stream",
       "stream": "stdout",
       "text": [
        "\r",
        "1030 \r",
        "1031 \r",
        "1032 \r",
        "1033 \r",
        "1034 \r",
        "1035 \r",
        "1036 \r",
        "1037 \r",
        "1038 \r",
        "1039 \r",
        "1040 \r",
        "1041 \r",
        "1042 \r",
        "1043 \r",
        "1044 \r",
        "1045 \r",
        "1046 \r",
        "1047 \r",
        "1048 \r",
        "1049 \r",
        "1050 \r",
        "1051 \r",
        "1052 \r",
        "1053 \r",
        "1054 \r",
        "1055 \r",
        "1056 \r",
        "1057 \r",
        "1058 \r",
        "1059 \r",
        "1060 \r",
        "1061 \r",
        "1062 \r",
        "1063 \r",
        "1064 \r",
        "1065 \r",
        "1066 \r",
        "1067 \r",
        "1068 \r",
        "1069 \r",
        "1070 \r",
        "1071 \r",
        "1072 \r",
        "1073 \r",
        "1074 \r",
        "1075 \r",
        "1076 \r",
        "1077 \r",
        "1078 \r",
        "1079 \r",
        "1080 \r",
        "1081 \r",
        "1082 \r",
        "1083 \r",
        "1084 \r",
        "1085 \r",
        "1086 \r",
        "1087 \r",
        "1088 \r",
        "1089 \r",
        "1090 \r",
        "1091 \r",
        "1092 \r",
        "1093 \r",
        "1094 \r",
        "1095 \r",
        "1096 \r",
        "1097 \r",
        "1098 \r",
        "1099 \r",
        "1100 \r",
        "1101 \r",
        "1102 \r",
        "1103 \r",
        "1104 \r",
        "1105 \r",
        "1106 \r",
        "1107 \r",
        "1108 \r",
        "1109 \r",
        "1110 \r",
        "1111 \r",
        "1112 \r",
        "1113 \r",
        "1114 \r",
        "1115 \r",
        "1116 \r",
        "1117 \r",
        "1118 \r",
        "1119 \r",
        "1120 \r",
        "1121 \r",
        "1122 \r",
        "1123 \r",
        "1124 \r",
        "1125 \r",
        "1126 \r",
        "1127 \r",
        "1128 \r",
        "1129 \r",
        "1130 \r",
        "1131 \r",
        "1132 "
       ]
      },
      {
       "output_type": "stream",
       "stream": "stdout",
       "text": [
        "\r",
        "1133 \r",
        "1134 \r",
        "1135 \r",
        "1136 \r",
        "1137 \r",
        "1138 \r",
        "1139 \r",
        "1140 \r",
        "1141 \r",
        "1142 \r",
        "1143 \r",
        "1144 \r",
        "1145 \r",
        "1146 \r",
        "1147 \r",
        "1148 \r",
        "1149 \r",
        "1150 \r",
        "1151 \r",
        "1152 \r",
        "1153 \r",
        "1154 \r",
        "1155 \r",
        "1156 \r",
        "1157 \r",
        "1158 \r",
        "1159 \r",
        "1160 \r",
        "1161 \r",
        "1162 \r",
        "1163 \r",
        "1164 \r",
        "1165 \r",
        "1166 \r",
        "1167 \r",
        "1168 \r",
        "1169 \r",
        "1170 \r",
        "1171 \r",
        "1172 \r",
        "1173 \r",
        "1174 \r",
        "1175 \r",
        "1176 \r",
        "1177 \r",
        "1178 \r",
        "1179 \r",
        "1180 \r",
        "1181 \r",
        "1182 \r",
        "1183 \r",
        "1184 \r",
        "1185 \r",
        "1186 \r",
        "1187 \r",
        "1188 \r",
        "1189 \r",
        "1190 \r",
        "1191 \r",
        "1192 \r",
        "1193 \r",
        "1194 \r",
        "1195 \r",
        "1196 \r",
        "1197 \r",
        "1198 \r",
        "1199 \r",
        "1200 \r",
        "1201 \r",
        "1202 \r",
        "1203 \r",
        "1204 \r",
        "1205 \r",
        "1206 \r",
        "1207 \r",
        "1208 \r",
        "1209 \r",
        "1210 \r",
        "1211 \r",
        "1212 \r",
        "1213 \r",
        "1214 \r",
        "1215 \r",
        "1216 \r",
        "1217 \r",
        "1218 \r",
        "1219 \r",
        "1220 \r",
        "1221 "
       ]
      },
      {
       "output_type": "stream",
       "stream": "stdout",
       "text": [
        "\r",
        "1222 \r",
        "1223 \r",
        "1224 \r",
        "1225 \r",
        "1226 \r",
        "1227 \r",
        "1228 \r",
        "1229 \r",
        "1230 \r",
        "1231 \r",
        "1232 \r",
        "1233 \r",
        "1234 \r",
        "1235 \r",
        "1236 \r",
        "1237 \r",
        "1238 \r",
        "1239 \r",
        "1240 \r",
        "1241 \r",
        "1242 \r",
        "1243 \r",
        "1244 \r",
        "1245 \r",
        "1246 \r",
        "1247 \r",
        "1248 \r",
        "1249 \r",
        "1250 \r",
        "1251 \r",
        "1252 \r",
        "1253 "
       ]
      },
      {
       "output_type": "stream",
       "stream": "stdout",
       "text": [
        "\r",
        "1254 \r",
        "1255 \r",
        "1256 \r",
        "1257 \r",
        "1258 \r",
        "1259 \r",
        "1260 \r",
        "1261 \r",
        "1262 \r",
        "1263 \r",
        "1264 \r",
        "1265 \r",
        "1266 \r",
        "1267 \r",
        "1268 \r",
        "1269 \r",
        "1270 \r",
        "1271 \r",
        "1272 \r",
        "1273 \r",
        "1274 \r",
        "1275 \r",
        "1276 "
       ]
      },
      {
       "output_type": "stream",
       "stream": "stdout",
       "text": [
        "\r",
        "1277 \r",
        "1278 \r",
        "1279 \r",
        "1280 \r",
        "1281 \r",
        "1282 \r",
        "1283 \r",
        "1284 \r",
        "1285 \r",
        "1286 \r",
        "1287 \r",
        "1288 \r",
        "1289 \r",
        "1290 \r",
        "1291 \r",
        "1292 \r",
        "1293 \r",
        "1294 \r",
        "1295 \r",
        "1296 \r",
        "1297 \r",
        "1298 \r",
        "1299 \r",
        "1300 \r",
        "1301 \r",
        "1302 \r",
        "1303 \r",
        "1304 \r",
        "1305 \r",
        "1306 \r",
        "1307 \r",
        "1308 \r",
        "1309 \r",
        "1310 \r",
        "1311 \r",
        "1312 \r",
        "1313 \r",
        "1314 \r",
        "1315 \r",
        "1316 \r",
        "1317 \r",
        "1318 \r",
        "1319 \r",
        "1320 \r",
        "1321 \r",
        "1322 \r",
        "1323 \r",
        "1324 \r",
        "1325 \r",
        "1326 \r",
        "1327 \r",
        "1328 \r",
        "1329 \r",
        "1330 \r",
        "1331 \r",
        "1332 \r",
        "1333 \r",
        "1334 \r",
        "1335 \r",
        "1336 \r",
        "1337 \r",
        "1338 \r",
        "1339 \r",
        "1340 \r",
        "1341 \r",
        "1342 \r",
        "1343 \r",
        "1344 \r",
        "1345 \r",
        "1346 \r",
        "1347 \r",
        "1348 \r",
        "1349 \r",
        "1350 \r",
        "1351 \r",
        "1352 \r",
        "1353 \r",
        "1354 \r",
        "1355 \r",
        "1356 \r",
        "1357 "
       ]
      },
      {
       "output_type": "stream",
       "stream": "stdout",
       "text": [
        "\r",
        "1358 \r",
        "1359 \r",
        "1360 \r",
        "1361 \r",
        "1362 \r",
        "1363 \r",
        "1364 \r",
        "1365 \r",
        "1366 \r",
        "1367 \r",
        "1368 \r",
        "1369 \r",
        "1370 \r",
        "1371 \r",
        "1372 \r",
        "1373 \r",
        "1374 \r",
        "1375 \r",
        "1376 \r",
        "1377 \r",
        "1378 \r",
        "1379 \r",
        "1380 \r",
        "1381 \r",
        "1382 \r",
        "1383 \r",
        "1384 \r",
        "1385 \r",
        "1386 \r",
        "1387 \r",
        "1388 \r",
        "1389 \r",
        "1390 \r",
        "1391 \r",
        "1392 \r",
        "1393 \r",
        "1394 \r",
        "1395 \r",
        "1396 \r",
        "1397 \r",
        "1398 \r",
        "1399 \r",
        "1400 \r",
        "1401 \r",
        "1402 \r",
        "1403 \r",
        "1404 \r",
        "1405 \r",
        "1406 \r",
        "1407 \r",
        "1408 \r",
        "1409 \r",
        "1410 \r",
        "1411 \r",
        "1412 \r",
        "1413 \r",
        "1414 \r",
        "1415 \r",
        "1416 "
       ]
      },
      {
       "output_type": "stream",
       "stream": "stdout",
       "text": [
        "\r",
        "1417 \r",
        "1418 \r",
        "1419 \r",
        "1420 \r",
        "1421 "
       ]
      },
      {
       "output_type": "stream",
       "stream": "stdout",
       "text": [
        "\r",
        "1422 \r",
        "1423 \r",
        "1424 "
       ]
      },
      {
       "output_type": "stream",
       "stream": "stdout",
       "text": [
        "\r",
        "1425 \r",
        "1426 \r",
        "1427 \r",
        "1428 \r",
        "1429 \r",
        "1430 \r",
        "1431 \r",
        "1432 \r",
        "1433 \r",
        "1434 "
       ]
      },
      {
       "output_type": "stream",
       "stream": "stdout",
       "text": [
        "\r",
        "1435 \r",
        "1436 \r",
        "1437 \r",
        "1438 \r",
        "1439 \r",
        "1440 \r",
        "1441 \r",
        "1442 \r",
        "1443 \r",
        "1444 \r",
        "1445 \r",
        "1446 \r",
        "1447 \r",
        "1448 \r",
        "1449 "
       ]
      },
      {
       "output_type": "stream",
       "stream": "stdout",
       "text": [
        "\r",
        "1450 \r",
        "1451 \r",
        "1452 "
       ]
      },
      {
       "output_type": "stream",
       "stream": "stdout",
       "text": [
        "\r",
        "1453 \r",
        "1454 \r",
        "1455 \r",
        "1456 \r",
        "1457 \r",
        "1458 \r",
        "1459 \r",
        "1460 \r",
        "1461 \r",
        "1462 \r",
        "1463 \r",
        "1464 \r",
        "1465 \r",
        "1466 \r",
        "1467 \r",
        "1468 \r",
        "1469 \r",
        "1470 \r",
        "1471 \r",
        "1472 \r",
        "1473 \r",
        "1474 \r",
        "1475 \r",
        "1476 \r",
        "1477 \r",
        "1478 \r",
        "1479 \r",
        "1480 \r",
        "1481 \r",
        "1482 \r",
        "1483 \r",
        "1484 \r",
        "1485 \r",
        "1486 \r",
        "1487 \r",
        "1488 \r",
        "1489 \r",
        "1490 \r",
        "1491 \r",
        "1492 \r",
        "1493 \r",
        "1494 \r",
        "1495 \r",
        "1496 \r",
        "1497 \r",
        "1498 \r",
        "1499 \r",
        "1500 \r",
        "1501 \r",
        "1502 \r",
        "1503 \r",
        "1504 \r",
        "1505 \r",
        "1506 \r",
        "1507 \r",
        "1508 \r",
        "1509 \r",
        "1510 \r",
        "1511 \r",
        "1512 \r",
        "1513 \r",
        "1514 \r",
        "1515 \r",
        "1516 \r",
        "1517 \r",
        "1518 \r",
        "1519 \r",
        "1520 \r",
        "1521 \r",
        "1522 \r",
        "1523 \r",
        "1524 \r",
        "1525 \r",
        "1526 \r",
        "1527 \r",
        "1528 \r",
        "1529 \r",
        "1530 \r",
        "1531 \r",
        "1532 \r",
        "1533 \r",
        "1534 \r",
        "1535 \r",
        "1536 \r",
        "1537 \r",
        "1538 \r",
        "1539 \r",
        "1540 \r",
        "1541 \r",
        "1542 \r",
        "1543 \r",
        "1544 \r",
        "1545 \r",
        "1546 \r",
        "1547 \r",
        "1548 \r",
        "1549 \r",
        "1550 \r",
        "1551 \r",
        "1552 \r",
        "1553 \r",
        "1554 "
       ]
      },
      {
       "output_type": "stream",
       "stream": "stdout",
       "text": [
        "\r",
        "1555 \r",
        "1556 \r",
        "1557 \r",
        "1558 \r",
        "1559 \r",
        "1560 \r",
        "1561 \r",
        "1562 \r",
        "1563 \r",
        "1564 \r",
        "1565 \r",
        "1566 \r",
        "1567 \r",
        "1568 \r",
        "1569 \r",
        "1570 \r",
        "1571 \r",
        "1572 \r",
        "1573 "
       ]
      },
      {
       "output_type": "stream",
       "stream": "stdout",
       "text": [
        "\r",
        "1574 \r",
        "1575 "
       ]
      },
      {
       "output_type": "stream",
       "stream": "stdout",
       "text": [
        "\r",
        "1576 \r",
        "1577 \r",
        "1578 \r",
        "1579 \r",
        "1580 \r",
        "1581 \r",
        "1582 \r",
        "1583 \r",
        "1584 \r",
        "1585 \r",
        "1586 \r",
        "1587 \r",
        "1588 \r",
        "1589 \r",
        "1590 \r",
        "1591 \r",
        "1592 \r",
        "1593 \r",
        "1594 \r",
        "1595 \r",
        "1596 \r",
        "1597 \r",
        "1598 \r",
        "1599 \r",
        "1600 \r",
        "1601 \r",
        "1602 \r",
        "1603 \r",
        "1604 \r",
        "1605 \r",
        "1606 \r",
        "1607 \r",
        "1608 \r",
        "1609 \r",
        "1610 \r",
        "1611 \r",
        "1612 \r",
        "1613 \r",
        "1614 \r",
        "1615 \r",
        "1616 \r",
        "1617 \r",
        "1618 \r",
        "1619 \r",
        "1620 \r",
        "1621 \r",
        "1622 \r",
        "1623 \r",
        "1624 \r",
        "1625 \r",
        "1626 \r",
        "1627 \r",
        "1628 \r",
        "1629 \r",
        "1630 \r",
        "1631 \r",
        "1632 \r",
        "1633 \r",
        "1634 \r",
        "1635 \r",
        "1636 \r",
        "1637 \r",
        "1638 \r",
        "1639 \r",
        "1640 \r",
        "1641 \r",
        "1642 \r",
        "1643 \r",
        "1644 \r",
        "1645 \r",
        "1646 \r",
        "1647 \r",
        "1648 \r",
        "1649 "
       ]
      },
      {
       "output_type": "stream",
       "stream": "stdout",
       "text": [
        "\r",
        "1650 \r",
        "1651 \r",
        "1652 \r",
        "1653 \r",
        "1654 \r",
        "1655 \r",
        "1656 \r",
        "1657 \r",
        "1658 \r",
        "1659 \r",
        "1660 \r",
        "1661 \r",
        "1662 \r",
        "1663 \r",
        "1664 \r",
        "1665 \r",
        "1666 \r",
        "1667 \r",
        "1668 \r",
        "1669 \r",
        "1670 \r",
        "1671 \r",
        "1672 \r",
        "1673 \r",
        "1674 \r",
        "1675 \r",
        "1676 \r",
        "1677 \r",
        "1678 \r",
        "1679 \r",
        "1680 \r",
        "1681 \r",
        "1682 \r",
        "1683 \r",
        "1684 \r",
        "1685 \r",
        "1686 \r",
        "1687 \r",
        "1688 \r",
        "1689 \r",
        "1690 \r",
        "1691 \r",
        "1692 \r",
        "1693 \r",
        "1694 \r",
        "1695 \r",
        "1696 \r",
        "1697 \r",
        "1698 \r",
        "1699 \r",
        "1700 \r",
        "1701 \r",
        "1702 \r",
        "1703 \r",
        "1704 \r",
        "1705 \r",
        "1706 \r",
        "1707 \r",
        "1708 \r",
        "1709 \r",
        "1710 \r",
        "1711 \r",
        "1712 \r",
        "1713 \r",
        "1714 \r",
        "1715 \r",
        "1716 \r",
        "1717 \r",
        "1718 \r",
        "1719 \r",
        "1720 \r",
        "1721 \r",
        "1722 \r",
        "1723 \r",
        "1724 \r",
        "1725 \r",
        "1726 \r",
        "1727 \r",
        "1728 \r",
        "1729 \r",
        "1730 \r",
        "1731 \r",
        "1732 \r",
        "1733 \r",
        "1734 \r",
        "1735 \r",
        "1736 \r",
        "1737 \r",
        "1738 \r",
        "1739 \r",
        "1740 \r",
        "1741 \r",
        "1742 "
       ]
      },
      {
       "output_type": "stream",
       "stream": "stdout",
       "text": [
        "\r",
        "1743 \r",
        "1744 \r",
        "1745 \r",
        "1746 \r",
        "1747 \r",
        "1748 \r",
        "1749 \r",
        "1750 \r",
        "1751 \r",
        "1752 \r",
        "1753 \r",
        "1754 \r",
        "1755 \r",
        "1756 \r",
        "1757 \r",
        "1758 \r",
        "1759 \r",
        "1760 \r",
        "1761 \r",
        "1762 \r",
        "1763 \r",
        "1764 \r",
        "1765 \r",
        "1766 \r",
        "1767 \r",
        "1768 \r",
        "1769 \r",
        "1770 \r",
        "1771 \r",
        "1772 \r",
        "1773 \r",
        "1774 \r",
        "1775 \r",
        "1776 \r",
        "1777 \r",
        "1778 \r",
        "1779 \r",
        "1780 \r",
        "1781 \r",
        "1782 \r",
        "1783 \r",
        "1784 \r",
        "1785 \r",
        "1786 \r",
        "1787 \r",
        "1788 \r",
        "1789 \r",
        "1790 \r",
        "1791 \r",
        "1792 \r",
        "1793 \r",
        "1794 \r",
        "1795 \r",
        "1796 \r",
        "1797 \r",
        "1798 \r",
        "1799 \r",
        "1800 \r",
        "1801 \r",
        "1802 \r",
        "1803 \r",
        "1804 \r",
        "1805 \r",
        "1806 \r",
        "1807 \r",
        "1808 \r",
        "1809 \r",
        "1810 \r",
        "1811 "
       ]
      },
      {
       "output_type": "stream",
       "stream": "stdout",
       "text": [
        "\r",
        "1812 \r",
        "1813 \r",
        "1814 \r",
        "1815 \r",
        "1816 \r",
        "1817 \r",
        "1818 \r",
        "1819 \r",
        "1820 \r",
        "1821 \r",
        "1822 \r",
        "1823 \r",
        "1824 \r",
        "1825 \r",
        "1826 \r",
        "1827 \r",
        "1828 \r",
        "1829 \r",
        "1830 \r",
        "1831 \r",
        "1832 \r",
        "1833 \r",
        "1834 \r",
        "1835 \r",
        "1836 \r",
        "1837 \r",
        "1838 \r",
        "1839 \r",
        "1840 \r",
        "1841 \r",
        "1842 \r",
        "1843 \r",
        "1844 \r",
        "1845 \r",
        "1846 \r",
        "1847 \r",
        "1848 \r",
        "1849 \r",
        "1850 \r",
        "1851 \r",
        "1852 \r",
        "1853 \r",
        "1854 \r",
        "1855 \r",
        "1856 \r",
        "1857 \r",
        "1858 "
       ]
      },
      {
       "output_type": "stream",
       "stream": "stdout",
       "text": [
        "\r",
        "1859 \r",
        "1860 \r",
        "1861 \r",
        "1862 \r",
        "1863 \r",
        "1864 \r",
        "1865 \r",
        "1866 \r",
        "1867 \r",
        "1868 \r",
        "1869 \r",
        "1870 \r",
        "1871 \r",
        "1872 \r",
        "1873 \r",
        "1874 \r",
        "1875 \r",
        "1876 \r",
        "1877 \r",
        "1878 \r",
        "1879 \r",
        "1880 \r",
        "1881 \r",
        "1882 \r",
        "1883 \r",
        "1884 \r",
        "1885 \r",
        "1886 \r",
        "1887 \r",
        "1888 \r",
        "1889 \r",
        "1890 \r",
        "1891 \r",
        "1892 \r",
        "1893 \r",
        "1894 \r",
        "1895 \r",
        "1896 "
       ]
      },
      {
       "output_type": "stream",
       "stream": "stdout",
       "text": [
        "\r",
        "1897 \r",
        "1898 \r",
        "1899 \r",
        "1900 \r",
        "1901 \r",
        "1902 "
       ]
      },
      {
       "output_type": "stream",
       "stream": "stdout",
       "text": [
        "\r",
        "1903 \r",
        "1904 \r",
        "1905 "
       ]
      },
      {
       "output_type": "stream",
       "stream": "stdout",
       "text": [
        "\r",
        "1906 \r",
        "1907 \r",
        "1908 \r",
        "1909 \r",
        "1910 \r",
        "1911 \r",
        "1912 \r",
        "1913 \r",
        "1914 \r",
        "1915 "
       ]
      },
      {
       "output_type": "stream",
       "stream": "stdout",
       "text": [
        "\r",
        "1916 \r",
        "1917 \r",
        "1918 \r",
        "1919 \r",
        "1920 \r",
        "1921 \r",
        "1922 \r",
        "1923 \r",
        "1924 \r",
        "1925 \r",
        "1926 \r",
        "1927 \r",
        "1928 \r",
        "1929 "
       ]
      },
      {
       "output_type": "stream",
       "stream": "stdout",
       "text": [
        "\r",
        "1930 \r",
        "1931 \r",
        "1932 \r",
        "1933 \r",
        "1934 \r",
        "1935 \r",
        "1936 \r",
        "1937 \r",
        "1938 \r",
        "1939 \r",
        "1940 \r",
        "1941 \r",
        "1942 \r",
        "1943 \r",
        "1944 \r",
        "1945 \r",
        "1946 \r",
        "1947 \r",
        "1948 \r",
        "1949 \r",
        "1950 \r",
        "1951 \r",
        "1952 \r",
        "1953 \r",
        "1954 "
       ]
      },
      {
       "output_type": "stream",
       "stream": "stdout",
       "text": [
        "\r",
        "1955 \r",
        "1956 \r",
        "1957 \r",
        "1958 \r",
        "1959 \r",
        "1960 \r",
        "1961 \r",
        "1962 \r",
        "1963 \r",
        "1964 "
       ]
      },
      {
       "output_type": "stream",
       "stream": "stdout",
       "text": [
        "\r",
        "1965 \r",
        "1966 \r",
        "1967 \r",
        "1968 \r",
        "1969 \r",
        "1970 \r",
        "1971 \r",
        "1972 \r",
        "1973 \r",
        "1974 \r",
        "1975 \r",
        "1976 \r",
        "1977 \r",
        "1978 \r",
        "1979 \r",
        "1980 \r",
        "1981 \r",
        "1982 \r",
        "1983 \r",
        "1984 \r",
        "1985 \r",
        "1986 \r",
        "1987 \r",
        "1988 \r",
        "1989 \r",
        "1990 \r",
        "1991 \r",
        "1992 \r",
        "1993 \r",
        "1994 \r",
        "1995 \r",
        "1996 \r",
        "1997 \r",
        "1998 \r",
        "1999 \r",
        "2000 \r",
        "2001 \r",
        "2002 \r",
        "2003 \r",
        "2004 \r",
        "2005 \r",
        "2006 \r",
        "2007 \r",
        "2008 \r",
        "2009 \r",
        "2010 \r",
        "2011 \r",
        "2012 \r",
        "2013 \r",
        "2014 \r",
        "2015 \r",
        "2016 \r",
        "2017 \r",
        "2018 "
       ]
      },
      {
       "output_type": "stream",
       "stream": "stdout",
       "text": [
        "\r",
        "2019 \r",
        "2020 \r",
        "2021 \r",
        "2022 \r",
        "2023 \r",
        "2024 \r",
        "2025 \r",
        "2026 \r",
        "2027 \r",
        "2028 \r",
        "2029 \r",
        "2030 \r",
        "2031 \r",
        "2032 \r",
        "2033 \r",
        "2034 \r",
        "2035 \r",
        "2036 \r",
        "2037 \r",
        "2038 \r",
        "2039 \r",
        "2040 \r",
        "2041 \r",
        "2042 \r",
        "2043 \r",
        "2044 \r",
        "2045 \r",
        "2046 \r",
        "2047 \r",
        "2048 \r",
        "2049 \r",
        "2050 \r",
        "2051 \r",
        "2052 \r",
        "2053 \r",
        "2054 \r",
        "2055 \r",
        "2056 \r",
        "2057 \r",
        "2058 \r",
        "2059 \r",
        "2060 \r",
        "2061 \r",
        "2062 \r",
        "2063 \r",
        "2064 \r",
        "2065 \r",
        "2066 \r",
        "2067 \r",
        "2068 \r",
        "2069 \r",
        "2070 \r",
        "2071 \r",
        "2072 \r",
        "2073 \r",
        "2074 \r",
        "2075 \r",
        "2076 \r",
        "2077 \r",
        "2078 \r",
        "2079 \r",
        "2080 \r",
        "2081 \r",
        "2082 \r",
        "2083 \r",
        "2084 \r",
        "2085 \r",
        "2086 \r",
        "2087 \r",
        "2088 \r",
        "2089 \r",
        "2090 \r",
        "2091 \r",
        "2092 \r",
        "2093 \r",
        "2094 \r",
        "2095 \r",
        "2096 \r",
        "2097 \r",
        "2098 \r",
        "2099 \r",
        "2100 \r",
        "2101 \r",
        "2102 \r",
        "2103 \r",
        "2104 \r",
        "2105 \r",
        "2106 \r",
        "2107 \r",
        "2108 \r",
        "2109 \r",
        "2110 \r",
        "2111 \r",
        "2112 \r",
        "2113 \r",
        "2114 \r",
        "2115 \r",
        "2116 \r",
        "2117 \r",
        "2118 \r",
        "2119 \r",
        "2120 \r",
        "2121 \r",
        "2122 \r",
        "2123 \r",
        "2124 \r",
        "2125 \r",
        "2126 \r",
        "2127 \r",
        "2128 \r",
        "2129 \r",
        "2130 \r",
        "2131 \r",
        "2132 \r",
        "2133 \r",
        "2134 \r",
        "2135 \r",
        "2136 \r",
        "2137 \r",
        "2138 \r",
        "2139 \r",
        "2140 \r",
        "2141 \r",
        "2142 \r",
        "2143 \r",
        "2144 \r",
        "2145 \r",
        "2146 \r",
        "2147 \r",
        "2148 \r",
        "2149 \r",
        "2150 \r",
        "2151 "
       ]
      },
      {
       "output_type": "stream",
       "stream": "stdout",
       "text": [
        "\r",
        "2152 \r",
        "2153 \r",
        "2154 \r",
        "2155 \r",
        "2156 \r",
        "2157 \r",
        "2158 \r",
        "2159 \r",
        "2160 \r",
        "2161 \r",
        "2162 \r",
        "2163 \r",
        "2164 \r",
        "2165 \r",
        "2166 \r",
        "2167 \r",
        "2168 \r",
        "2169 \r",
        "2170 \r",
        "2171 \r",
        "2172 \r",
        "2173 \r",
        "2174 \r",
        "2175 \r",
        "2176 \r",
        "2177 \r",
        "2178 \r",
        "2179 \r",
        "2180 \r",
        "2181 \r",
        "2182 \r",
        "2183 \r",
        "2184 \r",
        "2185 \r",
        "2186 \r",
        "2187 \r",
        "2188 \r",
        "2189 \r",
        "2190 \r",
        "2191 \r",
        "2192 \r",
        "2193 \r",
        "2194 \r",
        "2195 \r",
        "2196 \r",
        "2197 \r",
        "2198 \r",
        "2199 \r",
        "2200 \r",
        "2201 \r",
        "2202 \r",
        "2203 \r",
        "2204 \r",
        "2205 \r",
        "2206 \r",
        "2207 \r",
        "2208 \r",
        "2209 \r",
        "2210 \r",
        "2211 \r",
        "2212 \r",
        "2213 \r",
        "2214 \r",
        "2215 \r",
        "2216 \r",
        "2217 \r",
        "2218 \r",
        "2219 \r",
        "2220 \r",
        "2221 \r",
        "2222 \r",
        "2223 \r",
        "2224 \r",
        "2225 \r",
        "2226 \r",
        "2227 \r",
        "2228 "
       ]
      },
      {
       "output_type": "stream",
       "stream": "stdout",
       "text": [
        "\r",
        "2229 \r",
        "2230 \r",
        "2231 \r",
        "2232 \r",
        "2233 \r",
        "2234 \r",
        "2235 \r",
        "2236 \r",
        "2237 \r",
        "2238 \r",
        "2239 \r",
        "2240 \r",
        "2241 \r",
        "2242 \r",
        "2243 \r",
        "2244 \r",
        "2245 \r",
        "2246 \r",
        "2247 \r",
        "2248 \r",
        "2249 \r",
        "2250 \r",
        "2251 \r",
        "2252 \r",
        "2253 \r",
        "2254 \r",
        "2255 \r",
        "2256 \r",
        "2257 \r",
        "2258 \r",
        "2259 \r",
        "2260 \r",
        "2261 \r",
        "2262 \r",
        "2263 \r",
        "2264 \r",
        "2265 \r",
        "2266 \r",
        "2267 \r",
        "2268 \r",
        "2269 \r",
        "2270 \r",
        "2271 \r",
        "2272 \r",
        "2273 \r",
        "2274 \r",
        "2275 \r",
        "2276 \r",
        "2277 \r",
        "2278 \r",
        "2279 \r",
        "2280 \r",
        "2281 \r",
        "2282 \r",
        "2283 \r",
        "2284 \r",
        "2285 \r",
        "2286 \r",
        "2287 \r",
        "2288 \r",
        "2289 \r",
        "2290 \r",
        "2291 \r",
        "2292 \r",
        "2293 \r",
        "2294 "
       ]
      },
      {
       "output_type": "stream",
       "stream": "stdout",
       "text": [
        "\r",
        "2295 "
       ]
      },
      {
       "output_type": "stream",
       "stream": "stdout",
       "text": [
        "\r",
        "2296 \r",
        "2297 "
       ]
      },
      {
       "output_type": "stream",
       "stream": "stdout",
       "text": [
        "\r",
        "2298 \r",
        "2299 \r",
        "2300 \r",
        "2301 \r",
        "2302 \r",
        "2303 "
       ]
      },
      {
       "output_type": "stream",
       "stream": "stdout",
       "text": [
        "\r",
        "2304 "
       ]
      },
      {
       "output_type": "stream",
       "stream": "stdout",
       "text": [
        "\r",
        "2305 "
       ]
      },
      {
       "output_type": "stream",
       "stream": "stdout",
       "text": [
        "\r",
        "2306 \r",
        "2307 \r",
        "2308 \r",
        "2309 \r",
        "2310 \r",
        "2311 \r",
        "2312 \r",
        "2313 \r",
        "2314 "
       ]
      },
      {
       "output_type": "stream",
       "stream": "stdout",
       "text": [
        "\r",
        "2315 \r",
        "2316 \r",
        "2317 \r",
        "2318 \r",
        "2319 "
       ]
      },
      {
       "output_type": "stream",
       "stream": "stdout",
       "text": [
        "\r",
        "2320 \r",
        "2321 \r",
        "2322 \r",
        "2323 \r",
        "2324 \r",
        "2325 \r",
        "2326 \r",
        "2327 \r",
        "2328 \r",
        "2329 \r",
        "2330 \r",
        "2331 "
       ]
      },
      {
       "output_type": "stream",
       "stream": "stdout",
       "text": [
        "\r",
        "2332 \r",
        "2333 "
       ]
      },
      {
       "output_type": "stream",
       "stream": "stdout",
       "text": [
        "\r",
        "2334 \r",
        "2335 \r",
        "2336 "
       ]
      },
      {
       "output_type": "stream",
       "stream": "stdout",
       "text": [
        "\r",
        "2337 \r",
        "2338 "
       ]
      },
      {
       "output_type": "stream",
       "stream": "stdout",
       "text": [
        "\r",
        "2339 \r",
        "2340 \r",
        "2341 "
       ]
      },
      {
       "output_type": "stream",
       "stream": "stdout",
       "text": [
        "\r",
        "2342 "
       ]
      },
      {
       "output_type": "stream",
       "stream": "stdout",
       "text": [
        "\r",
        "2343 \r",
        "2344 \r",
        "2345 \r",
        "2346 \r",
        "2347 \r",
        "2348 \r",
        "2349 "
       ]
      },
      {
       "output_type": "stream",
       "stream": "stdout",
       "text": [
        "\r",
        "2350 \r",
        "2351 \r",
        "2352 \r",
        "2353 "
       ]
      },
      {
       "output_type": "stream",
       "stream": "stdout",
       "text": [
        "\r",
        "2354 \r",
        "2355 \r",
        "2356 \r",
        "2357 \r",
        "2358 \r",
        "2359 \r",
        "2360 "
       ]
      },
      {
       "output_type": "stream",
       "stream": "stdout",
       "text": [
        "\r",
        "2361 \r",
        "2362 \r",
        "2363 \r",
        "2364 \r",
        "2365 \r",
        "2366 "
       ]
      },
      {
       "output_type": "stream",
       "stream": "stdout",
       "text": [
        "\r",
        "2367 \r",
        "2368 "
       ]
      },
      {
       "output_type": "stream",
       "stream": "stdout",
       "text": [
        "\r",
        "2369 "
       ]
      },
      {
       "output_type": "stream",
       "stream": "stdout",
       "text": [
        "\r",
        "2370 \r",
        "2371 "
       ]
      },
      {
       "output_type": "stream",
       "stream": "stdout",
       "text": [
        "\r",
        "2372 \r",
        "2373 \r",
        "2374 \r",
        "2375 \r",
        "2376 \r",
        "2377 \r",
        "2378 \r",
        "2379 \r",
        "2380 \r",
        "2381 \r",
        "2382 \r",
        "2383 "
       ]
      },
      {
       "output_type": "stream",
       "stream": "stdout",
       "text": [
        "\r",
        "2384 \r",
        "2385 \r",
        "2386 \r",
        "2387 \r",
        "2388 \r",
        "2389 "
       ]
      },
      {
       "output_type": "stream",
       "stream": "stdout",
       "text": [
        "\r",
        "2390 \r",
        "2391 \r",
        "2392 \r",
        "2393 \r",
        "2394 \r",
        "2395 \r",
        "2396 "
       ]
      },
      {
       "output_type": "stream",
       "stream": "stdout",
       "text": [
        "\r",
        "2397 \r",
        "2398 \r",
        "2399 \r",
        "2400 \r",
        "2401 \r",
        "2402 \r",
        "2403 \r",
        "2404 \r",
        "2405 \r",
        "2406 \r",
        "2407 \r",
        "2408 \r",
        "2409 \r",
        "2410 \r",
        "2411 \r",
        "2412 \r",
        "2413 \r",
        "2414 \r",
        "2415 \r",
        "2416 \r",
        "2417 \r",
        "2418 \r",
        "2419 \r",
        "2420 "
       ]
      },
      {
       "output_type": "stream",
       "stream": "stdout",
       "text": [
        "\r",
        "2421 \r",
        "2422 \r",
        "2423 \r",
        "2424 \r",
        "2425 \r",
        "2426 \r",
        "2427 \r",
        "2428 \r",
        "2429 \r",
        "2430 \r",
        "2431 \r",
        "2432 \r",
        "2433 \r",
        "2434 \r",
        "2435 \r",
        "2436 \r",
        "2437 \r",
        "2438 \r",
        "2439 \r",
        "2440 \r",
        "2441 \r",
        "2442 \r",
        "2443 \r",
        "2444 \r",
        "2445 "
       ]
      },
      {
       "output_type": "stream",
       "stream": "stdout",
       "text": [
        "\r",
        "2446 \r",
        "2447 \r",
        "2448 \r",
        "2449 \r",
        "2450 \r",
        "2451 \r",
        "2452 \r",
        "2453 \r",
        "2454 \r",
        "2455 \r",
        "2456 \r",
        "2457 "
       ]
      },
      {
       "output_type": "stream",
       "stream": "stdout",
       "text": [
        "\r",
        "2458 \r",
        "2459 \r",
        "2460 \r",
        "2461 \r",
        "2462 \r",
        "2463 \r",
        "2464 \r",
        "2465 \r",
        "2466 \r",
        "2467 \r",
        "2468 \r",
        "2469 "
       ]
      },
      {
       "output_type": "stream",
       "stream": "stdout",
       "text": [
        "\r",
        "2470 \r",
        "2471 "
       ]
      },
      {
       "output_type": "stream",
       "stream": "stdout",
       "text": [
        "\r",
        "2472 \r",
        "2473 \r",
        "2474 \r",
        "2475 \r",
        "2476 \r",
        "2477 \r",
        "2478 "
       ]
      },
      {
       "output_type": "stream",
       "stream": "stdout",
       "text": [
        "\r",
        "2479 "
       ]
      },
      {
       "output_type": "stream",
       "stream": "stdout",
       "text": [
        "\r",
        "2480 \r",
        "2481 \r",
        "2482 "
       ]
      },
      {
       "output_type": "stream",
       "stream": "stdout",
       "text": [
        "\r",
        "2483 \r",
        "2484 \r",
        "2485 \r",
        "2486 "
       ]
      },
      {
       "output_type": "stream",
       "stream": "stdout",
       "text": [
        "\r",
        "2487 \r",
        "2488 \r",
        "2489 \r",
        "2490 \r",
        "2491 \r",
        "2492 \r",
        "2493 \r",
        "2494 \r",
        "2495 \r",
        "2496 \r",
        "2497 \r",
        "2498 \r",
        "2499 \r",
        "2500 \r",
        "2501 \r",
        "2502 \r",
        "2503 \r",
        "2504 \r",
        "2505 \r",
        "2506 \r",
        "2507 \r",
        "2508 "
       ]
      },
      {
       "output_type": "stream",
       "stream": "stdout",
       "text": [
        "\r",
        "2509 \r",
        "2510 \r",
        "2511 \r",
        "2512 \r",
        "2513 "
       ]
      },
      {
       "output_type": "stream",
       "stream": "stdout",
       "text": [
        "\r",
        "2514 \r",
        "2515 \r",
        "2516 \r",
        "2517 \r",
        "2518 \r",
        "2519 \r",
        "2520 \r",
        "2521 \r",
        "2522 \r",
        "2523 \r",
        "2524 "
       ]
      },
      {
       "output_type": "stream",
       "stream": "stdout",
       "text": [
        "\r",
        "2525 \r",
        "2526 \r",
        "2527 \r",
        "2528 \r",
        "2529 \r",
        "2530 \r",
        "2531 \r",
        "2532 \r",
        "2533 \r",
        "2534 \r",
        "2535 \r",
        "2536 \r",
        "2537 \r",
        "2538 \r",
        "2539 \r",
        "2540 \r",
        "2541 \r",
        "2542 \r",
        "2543 \r",
        "2544 \r",
        "2545 \r",
        "2546 \r",
        "2547 \r",
        "2548 \r",
        "2549 \r",
        "2550 \r",
        "2551 \r",
        "2552 \r",
        "2553 \r",
        "2554 "
       ]
      },
      {
       "output_type": "stream",
       "stream": "stdout",
       "text": [
        "\r",
        "2555 "
       ]
      },
      {
       "output_type": "stream",
       "stream": "stdout",
       "text": [
        "\r",
        "2556 \r",
        "2557 \r",
        "2558 \r",
        "2559 \r",
        "2560 \r",
        "2561 \r",
        "2562 \r",
        "2563 \r",
        "2564 \r",
        "2565 \r",
        "2566 \r",
        "2567 \r",
        "2568 \r",
        "2569 \r",
        "2570 \r",
        "2571 \r",
        "2572 \r",
        "2573 \r",
        "2574 \r",
        "2575 "
       ]
      },
      {
       "output_type": "stream",
       "stream": "stdout",
       "text": [
        "\r",
        "2576 \r",
        "2577 \r",
        "2578 \r",
        "2579 "
       ]
      },
      {
       "output_type": "stream",
       "stream": "stdout",
       "text": [
        "\r",
        "2580 \r",
        "2581 \r",
        "2582 \r",
        "2583 \r",
        "2584 \r",
        "2585 \r",
        "2586 \r",
        "2587 \r",
        "2588 \r",
        "2589 \r",
        "2590 \r",
        "2591 "
       ]
      },
      {
       "output_type": "stream",
       "stream": "stdout",
       "text": [
        "\r",
        "2592 \r",
        "2593 \r",
        "2594 \r",
        "2595 "
       ]
      },
      {
       "output_type": "stream",
       "stream": "stdout",
       "text": [
        "\r",
        "2596 \r",
        "2597 \r",
        "2598 \r",
        "2599 \r",
        "2600 \r",
        "2601 \r",
        "2602 \r",
        "2603 \r",
        "2604 \r",
        "2605 \r",
        "2606 \r",
        "2607 \r",
        "2608 \r",
        "2609 \r",
        "2610 \r",
        "2611 \r",
        "2612 \r",
        "2613 \r",
        "2614 \r",
        "2615 \r",
        "2616 \r",
        "2617 \r",
        "2618 \r",
        "2619 \r",
        "2620 \r",
        "2621 \r",
        "2622 "
       ]
      },
      {
       "output_type": "stream",
       "stream": "stdout",
       "text": [
        "\r",
        "2623 \r",
        "2624 \r",
        "2625 \r",
        "2626 \r",
        "2627 \r",
        "2628 \r",
        "2629 \r",
        "2630 \r",
        "2631 \r",
        "2632 \r",
        "2633 \r",
        "2634 \r",
        "2635 \r",
        "2636 \r",
        "2637 \r",
        "2638 \r",
        "2639 "
       ]
      },
      {
       "output_type": "stream",
       "stream": "stdout",
       "text": [
        "\r",
        "2640 \r",
        "2641 \r",
        "2642 \r",
        "2643 \r",
        "2644 \r",
        "2645 \r",
        "2646 \r",
        "2647 \r",
        "2648 \r",
        "2649 \r",
        "2650 \r",
        "2651 \r",
        "2652 \r",
        "2653 \r",
        "2654 \r",
        "2655 \r",
        "2656 \r",
        "2657 \r",
        "2658 \r",
        "2659 \r",
        "2660 \r",
        "2661 \r",
        "2662 \r",
        "2663 \r",
        "2664 \r",
        "2665 \r",
        "2666 \r",
        "2667 "
       ]
      },
      {
       "output_type": "stream",
       "stream": "stdout",
       "text": [
        "\r",
        "2668 \r",
        "2669 \r",
        "2670 \r",
        "2671 \r",
        "2672 \r",
        "2673 \r",
        "2674 \r",
        "2675 "
       ]
      },
      {
       "output_type": "stream",
       "stream": "stdout",
       "text": [
        "\r",
        "2676 \r",
        "2677 \r",
        "2678 \r",
        "2679 \r",
        "2680 \r",
        "2681 \r",
        "2682 "
       ]
      },
      {
       "output_type": "stream",
       "stream": "stdout",
       "text": [
        "\r",
        "2683 \r",
        "2684 \r",
        "2685 "
       ]
      },
      {
       "output_type": "stream",
       "stream": "stdout",
       "text": [
        "\r",
        "2686 \r",
        "2687 \r",
        "2688 "
       ]
      },
      {
       "output_type": "stream",
       "stream": "stdout",
       "text": [
        "\r",
        "2689 "
       ]
      },
      {
       "output_type": "stream",
       "stream": "stdout",
       "text": [
        "\r",
        "2690 \r",
        "2691 \r",
        "2692 "
       ]
      },
      {
       "output_type": "stream",
       "stream": "stdout",
       "text": [
        "\r",
        "2693 \r",
        "2694 \r",
        "2695 \r",
        "2696 "
       ]
      },
      {
       "output_type": "stream",
       "stream": "stdout",
       "text": [
        "\r",
        "2697 \r",
        "2698 \r",
        "2699 \r",
        "2700 \r",
        "2701 \r",
        "2702 \r",
        "2703 \r",
        "2704 \r",
        "2705 \r",
        "2706 \r",
        "2707 \r",
        "2708 \r",
        "2709 "
       ]
      },
      {
       "output_type": "stream",
       "stream": "stdout",
       "text": [
        "\r",
        "2710 \r",
        "2711 \r",
        "2712 \r",
        "2713 \r",
        "2714 \r",
        "2715 \r",
        "2716 \r",
        "2717 \r",
        "2718 \r",
        "2719 \r",
        "2720 \r",
        "2721 \r",
        "2722 \r",
        "2723 \r",
        "2724 \r",
        "2725 \r",
        "2726 \r",
        "2727 \r",
        "2728 \r",
        "2729 \r",
        "2730 \r",
        "2731 \r",
        "2732 \r",
        "2733 \r",
        "2734 \r",
        "2735 \r",
        "2736 \r",
        "2737 "
       ]
      },
      {
       "output_type": "stream",
       "stream": "stdout",
       "text": [
        "\r",
        "2738 \r",
        "2739 \r",
        "2740 \r",
        "2741 \r",
        "2742 \r",
        "2743 \r",
        "2744 \r",
        "2745 \r",
        "2746 \r",
        "2747 \r",
        "2748 \r",
        "2749 \r",
        "2750 \r",
        "2751 "
       ]
      },
      {
       "output_type": "stream",
       "stream": "stdout",
       "text": [
        "\r",
        "2752 \r",
        "2753 "
       ]
      },
      {
       "output_type": "stream",
       "stream": "stdout",
       "text": [
        "\r",
        "2754 \r",
        "2755 \r",
        "2756 \r",
        "2757 \r",
        "2758 \r",
        "2759 \r",
        "2760 \r",
        "2761 \r",
        "2762 \r",
        "2763 \r",
        "2764 \r",
        "2765 \r",
        "2766 \r",
        "2767 \r",
        "2768 \r",
        "2769 \r",
        "2770 \r",
        "2771 \r",
        "2772 \r",
        "2773 \r",
        "2774 \r",
        "2775 \r",
        "2776 \r",
        "2777 \r",
        "2778 \r",
        "2779 \r",
        "2780 \r",
        "2781 "
       ]
      },
      {
       "output_type": "stream",
       "stream": "stdout",
       "text": [
        "\r",
        "2782 \r",
        "2783 \r",
        "2784 \r",
        "2785 \r",
        "2786 \r",
        "2787 \r",
        "2788 \r",
        "2789 \r",
        "2790 \r",
        "2791 \r",
        "2792 \r",
        "2793 \r",
        "2794 \r",
        "2795 \r",
        "2796 \r",
        "2797 \r",
        "2798 \r",
        "2799 \r",
        "2800 \r",
        "2801 \r",
        "2802 \r",
        "2803 \r",
        "2804 \r",
        "2805 \r",
        "2806 \r",
        "2807 \r",
        "2808 \r",
        "2809 \r",
        "2810 \r",
        "2811 \r",
        "2812 "
       ]
      },
      {
       "output_type": "stream",
       "stream": "stdout",
       "text": [
        "\r",
        "2813 \r",
        "2814 "
       ]
      },
      {
       "output_type": "stream",
       "stream": "stdout",
       "text": [
        "\r",
        "2815 \r",
        "2816 \r",
        "2817 \r",
        "2818 \r",
        "2819 \r",
        "2820 \r",
        "2821 \r",
        "2822 "
       ]
      },
      {
       "output_type": "stream",
       "stream": "stdout",
       "text": [
        "\r",
        "2823 \r",
        "2824 "
       ]
      },
      {
       "output_type": "stream",
       "stream": "stdout",
       "text": [
        "\r",
        "2825 \r",
        "2826 \r",
        "2827 \r",
        "2828 \r",
        "2829 \r",
        "2830 \r",
        "2831 \r",
        "2832 \r",
        "2833 \r",
        "2834 \r",
        "2835 \r",
        "2836 \r",
        "2837 \r",
        "2838 \r",
        "2839 \r",
        "2840 \r",
        "2841 \r",
        "2842 \r",
        "2843 \r",
        "2844 \r",
        "2845 \r",
        "2846 \r",
        "2847 \r",
        "2848 \r",
        "2849 \r",
        "2850 \r",
        "2851 \r",
        "2852 "
       ]
      },
      {
       "output_type": "stream",
       "stream": "stdout",
       "text": [
        "\r",
        "2853 \r",
        "2854 \r",
        "2855 \r",
        "2856 \r",
        "2857 \r",
        "2858 \r",
        "2859 \r",
        "2860 \r",
        "2861 \r",
        "2862 \r",
        "2863 \r",
        "2864 \r",
        "2865 \r",
        "2866 \r",
        "2867 \r",
        "2868 \r",
        "2869 "
       ]
      },
      {
       "output_type": "stream",
       "stream": "stdout",
       "text": [
        "\r",
        "2870 \r",
        "2871 \r",
        "2872 "
       ]
      },
      {
       "output_type": "stream",
       "stream": "stdout",
       "text": [
        "\r",
        "2873 \r",
        "2874 \r",
        "2875 \r",
        "2876 \r",
        "2877 \r",
        "2878 "
       ]
      },
      {
       "output_type": "stream",
       "stream": "stdout",
       "text": [
        "\r",
        "2879 \r",
        "2880 "
       ]
      },
      {
       "output_type": "stream",
       "stream": "stdout",
       "text": [
        "\r",
        "2881 \r",
        "2882 \r",
        "2883 \r",
        "2884 \r",
        "2885 \r",
        "2886 \r",
        "2887 \r",
        "2888 \r",
        "2889 \r",
        "2890 "
       ]
      },
      {
       "output_type": "stream",
       "stream": "stdout",
       "text": [
        "\r",
        "2891 \r",
        "2892 \r",
        "2893 \r",
        "2894 \r",
        "2895 \r",
        "2896 \r",
        "2897 \r",
        "2898 \r",
        "2899 \r",
        "2900 \r",
        "2901 "
       ]
      },
      {
       "output_type": "stream",
       "stream": "stdout",
       "text": [
        "\r",
        "2902 \r",
        "2903 \r",
        "2904 \r",
        "2905 \r",
        "2906 \r",
        "2907 \r",
        "2908 \r",
        "2909 \r",
        "2910 \r",
        "2911 \r",
        "2912 \r",
        "2913 \r",
        "2914 \r",
        "2915 \r",
        "2916 \r",
        "2917 \r",
        "2918 \r",
        "2919 \r",
        "2920 \r",
        "2921 \r",
        "2922 \r",
        "2923 \r",
        "2924 \r",
        "2925 \r",
        "2926 \r",
        "2927 \r",
        "2928 \r",
        "2929 \r",
        "2930 "
       ]
      },
      {
       "output_type": "stream",
       "stream": "stdout",
       "text": [
        "\r",
        "2931 \r",
        "2932 \r",
        "2933 \r",
        "2934 \r",
        "2935 \r",
        "2936 \r",
        "2937 \r",
        "2938 \r",
        "2939 \r",
        "2940 \r",
        "2941 \r",
        "2942 \r",
        "2943 \r",
        "2944 \r",
        "2945 \r",
        "2946 \r",
        "2947 \r",
        "2948 \r",
        "2949 \r",
        "2950 \r",
        "2951 \r",
        "2952 \r",
        "2953 \r",
        "2954 \r",
        "2955 \r",
        "2956 \r",
        "2957 \r",
        "2958 \r",
        "2959 \r",
        "2960 \r",
        "2961 \r",
        "2962 \r",
        "2963 \r",
        "2964 \r",
        "2965 \r",
        "2966 \r",
        "2967 "
       ]
      },
      {
       "output_type": "stream",
       "stream": "stdout",
       "text": [
        "\r",
        "2968 \r",
        "2969 \r",
        "2970 \r",
        "2971 \r",
        "2972 \r",
        "2973 \r",
        "2974 \r",
        "2975 \r",
        "2976 \r",
        "2977 \r",
        "2978 \r",
        "2979 \r",
        "2980 \r",
        "2981 \r",
        "2982 \r",
        "2983 \r",
        "2984 \r",
        "2985 "
       ]
      },
      {
       "output_type": "stream",
       "stream": "stdout",
       "text": [
        "\r",
        "2986 \r",
        "2987 \r",
        "2988 \r",
        "2989 \r",
        "2990 \r",
        "2991 \r",
        "2992 \r",
        "2993 \r",
        "2994 \r",
        "2995 \r",
        "2996 \r",
        "2997 \r",
        "2998 "
       ]
      },
      {
       "output_type": "stream",
       "stream": "stdout",
       "text": [
        "\r",
        "2999 \r",
        "3000 \r",
        "3001 \r",
        "3002 \r",
        "3003 \r",
        "3004 "
       ]
      },
      {
       "output_type": "stream",
       "stream": "stdout",
       "text": [
        "\r",
        "3005 \r",
        "3006 \r",
        "3007 "
       ]
      },
      {
       "output_type": "stream",
       "stream": "stdout",
       "text": [
        "\r",
        "3008 \r",
        "3009 \r",
        "3010 \r",
        "3011 \r",
        "3012 \r",
        "3013 \r",
        "3014 \r",
        "3015 \r",
        "3016 \r",
        "3017 "
       ]
      },
      {
       "output_type": "stream",
       "stream": "stdout",
       "text": [
        "\r",
        "3018 \r",
        "3019 \r",
        "3020 \r",
        "3021 \r",
        "3022 "
       ]
      },
      {
       "output_type": "stream",
       "stream": "stdout",
       "text": [
        "\r",
        "3023 \r",
        "3024 \r",
        "3025 \r",
        "3026 \r",
        "3027 \r",
        "3028 \r",
        "3029 \r",
        "3030 \r",
        "3031 \r",
        "3032 \r",
        "3033 "
       ]
      },
      {
       "output_type": "stream",
       "stream": "stdout",
       "text": [
        "\r",
        "3034 \r",
        "3035 \r",
        "3036 "
       ]
      },
      {
       "output_type": "stream",
       "stream": "stdout",
       "text": [
        "\r",
        "3037 \r",
        "3038 "
       ]
      },
      {
       "output_type": "stream",
       "stream": "stdout",
       "text": [
        "\r",
        "3039 \r",
        "3040 \r",
        "3041 "
       ]
      },
      {
       "output_type": "stream",
       "stream": "stdout",
       "text": [
        "\r",
        "3042 \r",
        "3043 \r",
        "3044 \r",
        "3045 \r",
        "3046 \r",
        "3047 "
       ]
      },
      {
       "output_type": "stream",
       "stream": "stdout",
       "text": [
        "\r",
        "3048 \r",
        "3049 \r",
        "3050 "
       ]
      },
      {
       "output_type": "stream",
       "stream": "stdout",
       "text": [
        "\r",
        "3051 \r",
        "3052 \r",
        "3053 \r",
        "3054 \r",
        "3055 \r",
        "3056 \r",
        "3057 \r",
        "3058 \r",
        "3059 "
       ]
      },
      {
       "output_type": "stream",
       "stream": "stdout",
       "text": [
        "\r",
        "3060 \r",
        "3061 \r",
        "3062 \r",
        "3063 \r",
        "3064 \r",
        "3065 \r",
        "3066 \r",
        "3067 \r",
        "3068 \r",
        "3069 \r",
        "3070 \r",
        "3071 \r",
        "3072 \r",
        "3073 \r",
        "3074 \r",
        "3075 \r",
        "3076 \r",
        "3077 \r",
        "3078 \r",
        "3079 \r",
        "3080 \r",
        "3081 \r",
        "3082 \r",
        "3083 \r",
        "3084 \r",
        "3085 \r",
        "3086 \r",
        "3087 \r",
        "3088 \r",
        "3089 \r",
        "3090 \r",
        "3091 "
       ]
      },
      {
       "output_type": "stream",
       "stream": "stdout",
       "text": [
        "\r",
        "3092 "
       ]
      },
      {
       "output_type": "stream",
       "stream": "stdout",
       "text": [
        "\r",
        "3093 \r",
        "3094 \r",
        "3095 "
       ]
      },
      {
       "output_type": "stream",
       "stream": "stdout",
       "text": [
        "\r",
        "3096 \r",
        "3097 \r",
        "3098 "
       ]
      },
      {
       "output_type": "stream",
       "stream": "stdout",
       "text": [
        "\r",
        "3099 \r",
        "3100 "
       ]
      },
      {
       "output_type": "stream",
       "stream": "stdout",
       "text": [
        "\r",
        "3101 "
       ]
      },
      {
       "output_type": "stream",
       "stream": "stdout",
       "text": [
        "\r",
        "3102 \r",
        "3103 \r",
        "3104 "
       ]
      },
      {
       "output_type": "stream",
       "stream": "stdout",
       "text": [
        "\r",
        "3105 \r",
        "3106 \r",
        "3107 \r",
        "3108 \r",
        "3109 \r",
        "3110 "
       ]
      },
      {
       "output_type": "stream",
       "stream": "stdout",
       "text": [
        "\r",
        "3111 \r",
        "3112 \r",
        "3113 "
       ]
      },
      {
       "output_type": "stream",
       "stream": "stdout",
       "text": [
        "\r",
        "3114 "
       ]
      },
      {
       "output_type": "stream",
       "stream": "stdout",
       "text": [
        "\r",
        "3115 "
       ]
      },
      {
       "output_type": "stream",
       "stream": "stdout",
       "text": [
        "\r",
        "3116 \r",
        "3117 \r",
        "3118 \r",
        "3119 "
       ]
      },
      {
       "output_type": "stream",
       "stream": "stdout",
       "text": [
        "\r",
        "3120 \r",
        "3121 "
       ]
      },
      {
       "output_type": "stream",
       "stream": "stdout",
       "text": [
        "\r",
        "3122 \r",
        "3123 \r",
        "3124 \r",
        "3125 \r",
        "3126 "
       ]
      },
      {
       "output_type": "stream",
       "stream": "stdout",
       "text": [
        "\r",
        "3127 "
       ]
      },
      {
       "output_type": "stream",
       "stream": "stdout",
       "text": [
        "\r",
        "3128 "
       ]
      },
      {
       "output_type": "stream",
       "stream": "stdout",
       "text": [
        "\r",
        "3129 \r",
        "3130 "
       ]
      },
      {
       "output_type": "stream",
       "stream": "stdout",
       "text": [
        "\r",
        "3131 \r",
        "3132 \r",
        "3133 \r",
        "3134 \r",
        "3135 \r",
        "3136 \r",
        "3137 \r",
        "3138 \r",
        "3139 \r",
        "3140 \r",
        "3141 \r",
        "3142 \r",
        "3143 \r",
        "3144 \r",
        "3145 \r",
        "3146 \r",
        "3147 \r",
        "3148 \r",
        "3149 \r",
        "3150 \r",
        "3151 \r",
        "3152 \r",
        "3153 \r",
        "3154 \r",
        "3155 \r",
        "3156 \r",
        "3157 \r",
        "3158 \r",
        "3159 \r",
        "3160 \r",
        "3161 \r",
        "3162 \r",
        "3163 \r",
        "3164 \r",
        "3165 \r",
        "3166 \r",
        "3167 \r",
        "3168 \r",
        "3169 \r",
        "3170 \r",
        "3171 \r",
        "3172 \r",
        "3173 \r",
        "3174 \r",
        "3175 \r",
        "3176 \r",
        "3177 "
       ]
      },
      {
       "output_type": "stream",
       "stream": "stdout",
       "text": [
        "\r",
        "3178 \r",
        "3179 \r",
        "3180 \r",
        "3181 "
       ]
      },
      {
       "output_type": "stream",
       "stream": "stdout",
       "text": [
        "\r",
        "3182 \r",
        "3183 \r",
        "3184 \r",
        "3185 \r",
        "3186 \r",
        "3187 \r",
        "3188 \r",
        "3189 \r",
        "3190 \r",
        "3191 \r",
        "3192 \r",
        "3193 \r",
        "3194 \r",
        "3195 \r",
        "3196 \r",
        "3197 \r",
        "3198 \r",
        "3199 \r",
        "3200 \r",
        "3201 \r",
        "3202 \r",
        "3203 \r",
        "3204 \r",
        "3205 \r",
        "3206 \r",
        "3207 \r",
        "3208 \r",
        "3209 \r",
        "3210 \r",
        "3211 \r",
        "3212 \r",
        "3213 \r",
        "3214 \r",
        "3215 \r",
        "3216 \r",
        "3217 \r",
        "3218 \r",
        "3219 \r",
        "3220 \r",
        "3221 \r",
        "3222 \r",
        "3223 \r",
        "3224 \r",
        "3225 \r",
        "3226 "
       ]
      },
      {
       "output_type": "stream",
       "stream": "stdout",
       "text": [
        "\r",
        "3227 \r",
        "3228 \r",
        "3229 \r",
        "3230 \r",
        "3231 \r",
        "3232 \r",
        "3233 \r",
        "3234 \r",
        "3235 \r",
        "3236 \r",
        "3237 \r",
        "3238 \r",
        "3239 \r",
        "3240 \r",
        "3241 \r",
        "3242 \r",
        "3243 \r",
        "3244 \r",
        "3245 \r",
        "3246 \r",
        "3247 "
       ]
      },
      {
       "output_type": "stream",
       "stream": "stdout",
       "text": [
        "\r",
        "3248 \r",
        "3249 \r",
        "3250 \r",
        "3251 \r",
        "3252 \r",
        "3253 \r",
        "3254 \r",
        "3255 \r",
        "3256 "
       ]
      },
      {
       "output_type": "stream",
       "stream": "stdout",
       "text": [
        "\r",
        "3257 "
       ]
      },
      {
       "output_type": "stream",
       "stream": "stdout",
       "text": [
        "\r",
        "3258 \r",
        "3259 \r",
        "3260 \r",
        "3261 \r",
        "3262 \r",
        "3263 \r",
        "3264 \r",
        "3265 \r",
        "3266 \r",
        "3267 \r",
        "3268 \r",
        "3269 \r",
        "3270 \r",
        "3271 \r",
        "3272 \r",
        "3273 \r",
        "3274 \r",
        "3275 \r",
        "3276 \r",
        "3277 \r",
        "3278 \r",
        "3279 \r",
        "3280 \r",
        "3281 \r",
        "3282 \r",
        "3283 \r",
        "3284 \r",
        "3285 \r",
        "3286 \r",
        "3287 \r",
        "3288 \r",
        "3289 \r",
        "3290 \r",
        "3291 \r",
        "3292 \r",
        "3293 \r",
        "3294 \r",
        "3295 \r",
        "3296 \r",
        "3297 \r",
        "3298 \r",
        "3299 \r",
        "3300 \r",
        "3301 \r",
        "3302 \r",
        "3303 \r",
        "3304 \r",
        "3305 \r",
        "3306 \r",
        "3307 \r",
        "3308 \r",
        "3309 \r",
        "3310 \r",
        "3311 \r",
        "3312 \r",
        "3313 \r",
        "3314 \r",
        "3315 \r",
        "3316 \r",
        "3317 \r",
        "3318 \r",
        "3319 \r",
        "3320 \r",
        "3321 \r",
        "3322 \r",
        "3323 \r",
        "3324 \r",
        "3325 \r",
        "3326 \r",
        "3327 \r",
        "3328 \r",
        "3329 \r",
        "3330 \r",
        "3331 \r",
        "3332 \r",
        "3333 \r",
        "3334 \r",
        "3335 \r",
        "3336 \r",
        "3337 \r",
        "3338 \r",
        "3339 \r",
        "3340 \r",
        "3341 \r",
        "3342 \r",
        "3343 \r",
        "3344 "
       ]
      },
      {
       "output_type": "stream",
       "stream": "stdout",
       "text": [
        "\r",
        "3345 "
       ]
      },
      {
       "output_type": "stream",
       "stream": "stdout",
       "text": [
        "\r",
        "3346 \r",
        "3347 \r",
        "3348 \r",
        "3349 \r",
        "3350 \r",
        "3351 \r",
        "3352 \r",
        "3353 \r",
        "3354 \r",
        "3355 \r",
        "3356 \r",
        "3357 \r",
        "3358 \r",
        "3359 \r",
        "3360 \r",
        "3361 \r",
        "3362 \r",
        "3363 \r",
        "3364 \r",
        "3365 \r",
        "3366 \r",
        "3367 \r",
        "3368 \r",
        "3369 \r",
        "3370 \r",
        "3371 \r",
        "3372 \r",
        "3373 \r",
        "3374 "
       ]
      },
      {
       "output_type": "stream",
       "stream": "stdout",
       "text": [
        "\r",
        "3375 \r",
        "3376 \r",
        "3377 \r",
        "3378 \r",
        "3379 \r",
        "3380 \r",
        "3381 \r",
        "3382 \r",
        "3383 \r",
        "3384 \r",
        "3385 "
       ]
      },
      {
       "output_type": "stream",
       "stream": "stdout",
       "text": [
        "\r",
        "3386 \r",
        "3387 \r",
        "3388 \r",
        "3389 \r",
        "3390 \r",
        "3391 \r",
        "3392 \r",
        "3393 \r",
        "3394 \r",
        "3395 \r",
        "3396 \r",
        "3397 \r",
        "3398 "
       ]
      },
      {
       "output_type": "stream",
       "stream": "stdout",
       "text": [
        "\r",
        "3399 \r",
        "3400 \r",
        "3401 \r",
        "3402 \r",
        "3403 \r",
        "3404 \r",
        "3405 \r",
        "3406 \r",
        "3407 \r",
        "3408 \r",
        "3409 \r",
        "3410 \r",
        "3411 \r",
        "3412 "
       ]
      },
      {
       "output_type": "stream",
       "stream": "stdout",
       "text": [
        "\r",
        "3413 \r",
        "3414 \r",
        "3415 \r",
        "3416 \r",
        "3417 "
       ]
      },
      {
       "output_type": "stream",
       "stream": "stdout",
       "text": [
        "\r",
        "3418 \r",
        "3419 \r",
        "3420 \r",
        "3421 \r",
        "3422 \r",
        "3423 "
       ]
      },
      {
       "output_type": "stream",
       "stream": "stdout",
       "text": [
        "\r",
        "3424 \r",
        "3425 \r",
        "3426 \r",
        "3427 \r",
        "3428 \r",
        "3429 \r",
        "3430 \r",
        "3431 \r",
        "3432 \r",
        "3433 \r",
        "3434 \r",
        "3435 \r",
        "3436 \r",
        "3437 \r",
        "3438 \r",
        "3439 \r",
        "3440 "
       ]
      },
      {
       "output_type": "stream",
       "stream": "stdout",
       "text": [
        "\r",
        "3441 \r",
        "3442 \r",
        "3443 \r",
        "3444 \r",
        "3445 \r",
        "3446 "
       ]
      },
      {
       "output_type": "stream",
       "stream": "stdout",
       "text": [
        "\r",
        "3447 \r",
        "3448 \r",
        "3449 \r",
        "3450 \r",
        "3451 \r",
        "3452 \r",
        "3453 \r",
        "3454 \r",
        "3455 \r",
        "3456 \r",
        "3457 \r",
        "3458 \r",
        "3459 \r",
        "3460 \r",
        "3461 \r",
        "3462 \r",
        "3463 \r",
        "3464 \r",
        "3465 \r",
        "3466 \r",
        "3467 \r",
        "3468 \r",
        "3469 \r",
        "3470 \r",
        "3471 \r",
        "3472 \r",
        "3473 \r",
        "3474 \r",
        "3475 \r",
        "3476 \r",
        "3477 \r",
        "3478 \r",
        "3479 \r",
        "3480 \r",
        "3481 \r",
        "3482 \r",
        "3483 \r",
        "3484 \r",
        "3485 \r",
        "3486 \r",
        "3487 \r",
        "3488 \r",
        "3489 \r",
        "3490 \r",
        "3491 \r",
        "3492 \r",
        "3493 \r",
        "3494 \r",
        "3495 \r",
        "3496 \r",
        "3497 \r",
        "3498 \r",
        "3499 \r",
        "3500 \r",
        "3501 \r",
        "3502 \r",
        "3503 \r",
        "3504 \r",
        "3505 \r",
        "3506 \r",
        "3507 \r",
        "3508 \r",
        "3509 "
       ]
      },
      {
       "output_type": "stream",
       "stream": "stdout",
       "text": [
        "\r",
        "3510 \r",
        "3511 \r",
        "3512 \r",
        "3513 "
       ]
      },
      {
       "output_type": "stream",
       "stream": "stdout",
       "text": [
        "\r",
        "3514 \r",
        "3515 \r",
        "3516 \r",
        "3517 \r",
        "3518 \r",
        "3519 \r",
        "3520 \r",
        "3521 \r",
        "3522 \r",
        "3523 \r",
        "3524 \r",
        "3525 \r",
        "3526 \r",
        "3527 \r",
        "3528 \r",
        "3529 "
       ]
      },
      {
       "output_type": "stream",
       "stream": "stdout",
       "text": [
        "\r",
        "3530 \r",
        "3531 \r",
        "3532 \r",
        "3533 \r",
        "3534 "
       ]
      },
      {
       "output_type": "stream",
       "stream": "stdout",
       "text": [
        "\r",
        "3535 \r",
        "3536 \r",
        "3537 \r",
        "3538 \r",
        "3539 \r",
        "3540 \r",
        "3541 \r",
        "3542 \r",
        "3543 \r",
        "3544 \r",
        "3545 \r",
        "3546 \r",
        "3547 \r",
        "3548 "
       ]
      },
      {
       "output_type": "stream",
       "stream": "stdout",
       "text": [
        "\r",
        "3549 \r",
        "3550 \r",
        "3551 \r",
        "3552 \r",
        "3553 \r",
        "3554 \r",
        "3555 "
       ]
      },
      {
       "output_type": "stream",
       "stream": "stdout",
       "text": [
        "\r",
        "3556 "
       ]
      },
      {
       "output_type": "stream",
       "stream": "stdout",
       "text": [
        "\r",
        "3557 \r",
        "3558 \r",
        "3559 \r",
        "3560 \r",
        "3561 \r",
        "3562 \r",
        "3563 \r",
        "3564 \r",
        "3565 \r",
        "3566 \r",
        "3567 \r",
        "3568 \r",
        "3569 \r",
        "3570 \r",
        "3571 \r",
        "3572 \r",
        "3573 \r",
        "3574 \r",
        "3575 \r",
        "3576 \r",
        "3577 \r",
        "3578 \r",
        "3579 \r",
        "3580 "
       ]
      },
      {
       "output_type": "stream",
       "stream": "stdout",
       "text": [
        "\r",
        "3581 \r",
        "3582 \r",
        "3583 \r",
        "3584 \r",
        "3585 \r",
        "3586 \r",
        "3587 "
       ]
      },
      {
       "output_type": "stream",
       "stream": "stdout",
       "text": [
        "\r",
        "3588 \r",
        "3589 \r",
        "3590 \r",
        "3591 "
       ]
      },
      {
       "output_type": "stream",
       "stream": "stdout",
       "text": [
        "\r",
        "3592 \r",
        "3593 \r",
        "3594 \r",
        "3595 \r",
        "3596 \r",
        "3597 \r",
        "3598 \r",
        "3599 \r",
        "3600 \r",
        "3601 \r",
        "3602 \r",
        "3603 "
       ]
      },
      {
       "output_type": "stream",
       "stream": "stdout",
       "text": [
        "\r",
        "3604 \r",
        "3605 \r",
        "3606 \r",
        "3607 \r",
        "3608 \r",
        "3609 "
       ]
      },
      {
       "output_type": "stream",
       "stream": "stdout",
       "text": [
        "\r",
        "3610 \r",
        "3611 \r",
        "3612 \r",
        "3613 "
       ]
      },
      {
       "output_type": "stream",
       "stream": "stdout",
       "text": [
        "\r",
        "3614 \r",
        "3615 \r",
        "3616 \r",
        "3617 \r",
        "3618 \r",
        "3619 \r",
        "3620 \r",
        "3621 \r",
        "3622 \r",
        "3623 \r",
        "3624 \r",
        "3625 "
       ]
      },
      {
       "output_type": "stream",
       "stream": "stdout",
       "text": [
        "\r",
        "3626 \r",
        "3627 \r",
        "3628 \r",
        "3629 \r",
        "3630 \r",
        "3631 \r",
        "3632 \r",
        "3633 \r",
        "3634 \r",
        "3635 \r",
        "3636 \r",
        "3637 \r",
        "3638 "
       ]
      },
      {
       "output_type": "stream",
       "stream": "stdout",
       "text": [
        "\r",
        "3639 \r",
        "3640 \r",
        "3641 \r",
        "3642 \r",
        "3643 \r",
        "3644 \r",
        "3645 \r",
        "3646 \r",
        "3647 \r",
        "3648 \r",
        "3649 \r",
        "3650 \r",
        "3651 \r",
        "3652 "
       ]
      },
      {
       "output_type": "stream",
       "stream": "stdout",
       "text": [
        "\r",
        "3653 \r",
        "3654 \r",
        "3655 \r",
        "3656 \r",
        "3657 \r",
        "3658 \r",
        "3659 \r",
        "3660 \r",
        "3661 \r",
        "3662 "
       ]
      },
      {
       "output_type": "stream",
       "stream": "stdout",
       "text": [
        "\r",
        "3663 "
       ]
      },
      {
       "output_type": "stream",
       "stream": "stdout",
       "text": [
        "\r",
        "3664 \r",
        "3665 \r",
        "3666 \r",
        "3667 \r",
        "3668 \r",
        "3669 \r",
        "3670 \r",
        "3671 \r",
        "3672 \r",
        "3673 \r",
        "3674 \r",
        "3675 \r",
        "3676 \r",
        "3677 \r",
        "3678 \r",
        "3679 \r",
        "3680 \r",
        "3681 \r",
        "3682 \r",
        "3683 \r",
        "3684 \r",
        "3685 \r",
        "3686 \r",
        "3687 \r",
        "3688 \r",
        "3689 \r",
        "3690 \r",
        "3691 \r",
        "3692 \r",
        "3693 \r",
        "3694 "
       ]
      },
      {
       "output_type": "stream",
       "stream": "stdout",
       "text": [
        "\r",
        "3695 \r",
        "3696 \r",
        "3697 \r",
        "3698 \r",
        "3699 \r",
        "3700 \r",
        "3701 \r",
        "3702 \r",
        "3703 \r",
        "3704 \r",
        "3705 \r",
        "3706 \r",
        "3707 \r",
        "3708 \r",
        "3709 \r",
        "3710 \r",
        "3711 \r",
        "3712 \r",
        "3713 \r",
        "3714 \r",
        "3715 \r",
        "3716 \r",
        "3717 \r",
        "3718 \r",
        "3719 \r",
        "3720 \r",
        "3721 \r",
        "3722 \r",
        "3723 \r",
        "3724 \r",
        "3725 \r",
        "3726 \r",
        "3727 \r",
        "3728 \r",
        "3729 \r",
        "3730 \r",
        "3731 \r",
        "3732 \r",
        "3733 \r",
        "3734 \r",
        "3735 \r",
        "3736 \r",
        "3737 \r",
        "3738 \r",
        "3739 \r",
        "3740 \r",
        "3741 \r",
        "3742 \r",
        "3743 \r",
        "3744 \r",
        "3745 \r",
        "3746 \r",
        "3747 \r",
        "3748 \r",
        "3749 \r",
        "3750 \r",
        "3751 \r",
        "3752 \r",
        "3753 \r",
        "3754 \r",
        "3755 \r",
        "3756 \r",
        "3757 \r",
        "3758 \r",
        "3759 \r",
        "3760 \r",
        "3761 \r",
        "3762 \r",
        "3763 \r",
        "3764 \r",
        "3765 \r",
        "3766 \r",
        "3767 \r",
        "3768 \r",
        "3769 \r",
        "3770 \r",
        "3771 "
       ]
      },
      {
       "output_type": "stream",
       "stream": "stdout",
       "text": [
        "\r",
        "3772 \r",
        "3773 \r",
        "3774 \r",
        "3775 \r",
        "3776 \r",
        "3777 \r",
        "3778 \r",
        "3779 \r",
        "3780 \r",
        "3781 \r",
        "3782 \r",
        "3783 \r",
        "3784 \r",
        "3785 \r",
        "3786 \r",
        "3787 \r",
        "3788 \r",
        "3789 \r",
        "3790 \r",
        "3791 \r",
        "3792 \r",
        "3793 \r",
        "3794 \r",
        "3795 \r",
        "3796 \r",
        "3797 \r",
        "3798 \r",
        "3799 \r",
        "3800 \r",
        "3801 \r",
        "3802 \r",
        "3803 \r",
        "3804 \r",
        "3805 \r",
        "3806 \r",
        "3807 \r",
        "3808 \r",
        "3809 \r",
        "3810 \r",
        "3811 \r",
        "3812 \r",
        "3813 \r",
        "3814 \r",
        "3815 \r",
        "3816 \r",
        "3817 \r",
        "3818 \r",
        "3819 \r",
        "3820 "
       ]
      },
      {
       "output_type": "stream",
       "stream": "stdout",
       "text": [
        "\r",
        "3821 \r",
        "3822 \r",
        "3823 \r",
        "3824 \r",
        "3825 \r",
        "3826 \r",
        "3827 \r",
        "3828 \r",
        "3829 "
       ]
      },
      {
       "output_type": "stream",
       "stream": "stdout",
       "text": [
        "\r",
        "3830 \r",
        "3831 \r",
        "3832 \r",
        "3833 \r",
        "3834 \r",
        "3835 \r",
        "3836 \r",
        "3837 \r",
        "3838 "
       ]
      },
      {
       "output_type": "stream",
       "stream": "stdout",
       "text": [
        "\r",
        "3839 \r",
        "3840 \r",
        "3841 \r",
        "3842 \r",
        "3843 \r",
        "3844 \r",
        "3845 "
       ]
      },
      {
       "output_type": "stream",
       "stream": "stdout",
       "text": [
        "\r",
        "3846 \r",
        "3847 \r",
        "3848 \r",
        "3849 \r",
        "3850 \r",
        "3851 \r",
        "3852 \r",
        "3853 \r",
        "3854 \r",
        "3855 \r",
        "3856 \r",
        "3857 \r",
        "3858 \r",
        "3859 "
       ]
      },
      {
       "output_type": "stream",
       "stream": "stdout",
       "text": [
        "\r",
        "3860 \r",
        "3861 \r",
        "3862 \r",
        "3863 \r",
        "3864 \r",
        "3865 \r",
        "3866 \r",
        "3867 \r",
        "3868 \r",
        "3869 \r",
        "3870 \r",
        "3871 \r",
        "3872 \r",
        "3873 \r",
        "3874 \r",
        "3875 \r",
        "3876 \r",
        "3877 \r",
        "3878 \r",
        "3879 \r",
        "3880 \r",
        "3881 \r",
        "3882 \r",
        "3883 \r",
        "3884 "
       ]
      },
      {
       "output_type": "stream",
       "stream": "stdout",
       "text": [
        "\r",
        "3885 "
       ]
      },
      {
       "output_type": "stream",
       "stream": "stdout",
       "text": [
        "\r",
        "3886 \r",
        "3887 \r",
        "3888 \r",
        "3889 \r",
        "3890 \r",
        "3891 \r",
        "3892 \r",
        "3893 \r",
        "3894 \r",
        "3895 \r",
        "3896 \r",
        "3897 \r",
        "3898 \r",
        "3899 \r",
        "3900 \r",
        "3901 \r",
        "3902 \r",
        "3903 \r",
        "3904 \r",
        "3905 \r",
        "3906 \r",
        "3907 \r",
        "3908 \r",
        "3909 \r",
        "3910 \r",
        "3911 \r",
        "3912 \r",
        "3913 \r",
        "3914 \r",
        "3915 \r",
        "3916 \r",
        "3917 \r",
        "3918 \r",
        "3919 \r",
        "3920 \r",
        "3921 \r",
        "3922 \r",
        "3923 \r",
        "3924 \r",
        "3925 \r",
        "3926 \r",
        "3927 \r",
        "3928 \r",
        "3929 \r",
        "3930 \r",
        "3931 \r",
        "3932 \r",
        "3933 \r",
        "3934 \r",
        "3935 \r",
        "3936 \r",
        "3937 \r",
        "3938 \r",
        "3939 \r",
        "3940 \r",
        "3941 \r",
        "3942 \r",
        "3943 \r",
        "3944 \r",
        "3945 \r",
        "3946 \r",
        "3947 \r",
        "3948 \r",
        "3949 \r",
        "3950 \r",
        "3951 \r",
        "3952 \r",
        "3953 \r",
        "3954 \r",
        "3955 \r",
        "3956 \r",
        "3957 \r",
        "3958 \r",
        "3959 \r",
        "3960 \r",
        "3961 \r",
        "3962 \r",
        "3963 \r",
        "3964 \r",
        "3965 \r",
        "3966 \r",
        "3967 \r",
        "3968 \r",
        "3969 \r",
        "3970 \r",
        "3971 \r",
        "3972 \r",
        "3973 \r",
        "3974 \r",
        "3975 \r",
        "3976 \r",
        "3977 \r",
        "3978 \r",
        "3979 \r",
        "3980 \r",
        "3981 \r",
        "3982 \r",
        "3983 \r",
        "3984 \r",
        "3985 \r",
        "3986 \r",
        "3987 \r",
        "3988 "
       ]
      },
      {
       "output_type": "stream",
       "stream": "stdout",
       "text": [
        "\r",
        "3989 \r",
        "3990 \r",
        "3991 \r",
        "3992 \r",
        "3993 \r",
        "3994 \r",
        "3995 \r",
        "3996 \r",
        "3997 \r",
        "3998 \r",
        "3999 \r",
        "4000 \r",
        "4001 \r",
        "4002 \r",
        "4003 \r",
        "4004 \r",
        "4005 \r",
        "4006 \r",
        "4007 \r",
        "4008 \r",
        "4009 \r",
        "4010 \r",
        "4011 \r",
        "4012 \r",
        "4013 \r",
        "4014 \r",
        "4015 \r",
        "4016 \r",
        "4017 \r",
        "4018 \r",
        "4019 \r",
        "4020 \r",
        "4021 \r",
        "4022 \r",
        "4023 \r",
        "4024 \r",
        "4025 \r",
        "4026 \r",
        "4027 \r",
        "4028 \r",
        "4029 \r",
        "4030 \r",
        "4031 \r",
        "4032 \r",
        "4033 \r",
        "4034 \r",
        "4035 \r",
        "4036 \r",
        "4037 \r",
        "4038 \r",
        "4039 \r",
        "4040 \r",
        "4041 \r",
        "4042 \r",
        "4043 \r",
        "4044 \r",
        "4045 \r",
        "4046 \r",
        "4047 \r",
        "4048 \r",
        "4049 \r",
        "4050 \r",
        "4051 \r",
        "4052 \r",
        "4053 \r",
        "4054 \r",
        "4055 \r",
        "4056 \r",
        "4057 \r",
        "4058 \r",
        "4059 \r",
        "4060 \r",
        "4061 \r",
        "4062 \r",
        "4063 \r",
        "4064 \r",
        "4065 \r",
        "4066 \r",
        "4067 \r",
        "4068 \r",
        "4069 \r",
        "4070 \r",
        "4071 \r",
        "4072 \r",
        "4073 \r",
        "4074 \r",
        "4075 \r",
        "4076 \r",
        "4077 \r",
        "4078 \r",
        "4079 \r",
        "4080 \r",
        "4081 \r",
        "4082 \r",
        "4083 \r",
        "4084 \r",
        "4085 \r",
        "4086 \r",
        "4087 \r",
        "4088 \r",
        "4089 \r",
        "4090 \r",
        "4091 \r",
        "4092 \r",
        "4093 \r",
        "4094 \r",
        "4095 \r",
        "4096 \r",
        "4097 \r",
        "4098 \r",
        "4099 \r",
        "4100 \r",
        "4101 \r",
        "4102 \r",
        "4103 \r",
        "4104 \r",
        "4105 "
       ]
      },
      {
       "output_type": "stream",
       "stream": "stdout",
       "text": [
        "\r",
        "4106 \r",
        "4107 \r",
        "4108 \r",
        "4109 \r",
        "4110 \r",
        "4111 \r",
        "4112 \r",
        "4113 "
       ]
      },
      {
       "output_type": "stream",
       "stream": "stdout",
       "text": [
        "\r",
        "4114 \r",
        "4115 \r",
        "4116 \r",
        "4117 \r",
        "4118 \r",
        "4119 \r",
        "4120 \r",
        "4121 \r",
        "4122 \r",
        "4123 \r",
        "4124 \r",
        "4125 \r",
        "4126 \r",
        "4127 \r",
        "4128 \r",
        "4129 \r",
        "4130 \r",
        "4131 \r",
        "4132 \r",
        "4133 \r",
        "4134 \r",
        "4135 \r",
        "4136 \r",
        "4137 \r",
        "4138 \r",
        "4139 \r",
        "4140 \r",
        "4141 \r",
        "4142 \r",
        "4143 \r",
        "4144 \r",
        "4145 \r",
        "4146 \r",
        "4147 \r",
        "4148 \r",
        "4149 \r",
        "4150 \r",
        "4151 \r",
        "4152 \r",
        "4153 \r",
        "4154 \r",
        "4155 \r",
        "4156 \r",
        "4157 \r",
        "4158 \r",
        "4159 \r",
        "4160 \r",
        "4161 \r",
        "4162 \r",
        "4163 \r",
        "4164 \r",
        "4165 \r",
        "4166 \r",
        "4167 \r",
        "4168 \r",
        "4169 \r",
        "4170 \r",
        "4171 \r",
        "4172 \r",
        "4173 \r",
        "4174 \r",
        "4175 \r",
        "4176 \r",
        "4177 \r",
        "4178 \r",
        "4179 \r",
        "4180 \r",
        "4181 \r",
        "4182 \r",
        "4183 \r",
        "4184 \r",
        "4185 \r",
        "4186 \r",
        "4187 \r",
        "4188 \r",
        "4189 \r",
        "4190 \r",
        "4191 \r",
        "4192 \r",
        "4193 \r",
        "4194 \r",
        "4195 \r",
        "4196 \r",
        "4197 \r",
        "4198 \r",
        "4199 \r",
        "4200 \r",
        "4201 \r",
        "4202 \r",
        "4203 \r",
        "4204 \r",
        "4205 \r",
        "4206 \r",
        "4207 \r",
        "4208 \r",
        "4209 \r",
        "4210 \r",
        "4211 \r",
        "4212 \r",
        "4213 \r",
        "4214 \r",
        "4215 "
       ]
      },
      {
       "output_type": "stream",
       "stream": "stdout",
       "text": [
        "\r",
        "4216 \r",
        "4217 \r",
        "4218 \r",
        "4219 \r",
        "4220 \r",
        "4221 \r",
        "4222 \r",
        "4223 \r",
        "4224 \r",
        "4225 \r",
        "4226 \r",
        "4227 \r",
        "4228 \r",
        "4229 \r",
        "4230 \r",
        "4231 \r",
        "4232 \r",
        "4233 \r",
        "4234 \r",
        "4235 \r",
        "4236 \r",
        "4237 \r",
        "4238 \r",
        "4239 \r",
        "4240 \r",
        "4241 \r",
        "4242 \r",
        "4243 \r",
        "4244 \r",
        "4245 \r",
        "4246 \r",
        "4247 \r",
        "4248 \r",
        "4249 \r",
        "4250 \r",
        "4251 \r",
        "4252 \r",
        "4253 \r",
        "4254 \r",
        "4255 \r",
        "4256 \r",
        "4257 \r",
        "4258 \r",
        "4259 \r",
        "4260 \r",
        "4261 \r",
        "4262 "
       ]
      },
      {
       "output_type": "stream",
       "stream": "stdout",
       "text": [
        "\r",
        "4263 \r",
        "4264 \r",
        "4265 \r",
        "4266 \r",
        "4267 \r",
        "4268 \r",
        "4269 \r",
        "4270 \r",
        "4271 \r",
        "4272 \r",
        "4273 \r",
        "4274 \r",
        "4275 \r",
        "4276 \r",
        "4277 \r",
        "4278 \r",
        "4279 \r",
        "4280 \r",
        "4281 \r",
        "4282 \r",
        "4283 \r",
        "4284 \r",
        "4285 \r",
        "4286 \r",
        "4287 \r",
        "4288 \r",
        "4289 \r",
        "4290 \r",
        "4291 \r",
        "4292 \r",
        "4293 \r",
        "4294 \r",
        "4295 \r",
        "4296 \r",
        "4297 \r",
        "4298 \r",
        "4299 \r",
        "4300 \r",
        "4301 \r",
        "4302 \r",
        "4303 \r",
        "4304 \r",
        "4305 "
       ]
      },
      {
       "output_type": "stream",
       "stream": "stdout",
       "text": [
        "\r",
        "4306 \r",
        "4307 \r",
        "4308 \r",
        "4309 \r",
        "4310 \r",
        "4311 "
       ]
      },
      {
       "output_type": "stream",
       "stream": "stdout",
       "text": [
        "\r",
        "4312 \r",
        "4313 \r",
        "4314 \r",
        "4315 \r",
        "4316 \r",
        "4317 \r",
        "4318 "
       ]
      },
      {
       "output_type": "stream",
       "stream": "stdout",
       "text": [
        "\r",
        "4319 "
       ]
      },
      {
       "output_type": "stream",
       "stream": "stdout",
       "text": [
        "\r",
        "4320 "
       ]
      },
      {
       "output_type": "stream",
       "stream": "stdout",
       "text": [
        "\r",
        "4321 \r",
        "4322 \r",
        "4323 \r",
        "4324 \r",
        "4325 \r",
        "4326 \r",
        "4327 \r",
        "4328 \r",
        "4329 \r",
        "4330 \r",
        "4331 \r",
        "4332 "
       ]
      },
      {
       "output_type": "stream",
       "stream": "stdout",
       "text": [
        "\r",
        "4333 \r",
        "4334 \r",
        "4335 "
       ]
      },
      {
       "output_type": "stream",
       "stream": "stdout",
       "text": [
        "\r",
        "4336 \r",
        "4337 \r",
        "4338 \r",
        "4339 \r",
        "4340 \r",
        "4341 \r",
        "4342 \r",
        "4343 \r",
        "4344 \r",
        "4345 \r",
        "4346 \r",
        "4347 \r",
        "4348 \r",
        "4349 \r",
        "4350 \r",
        "4351 \r",
        "4352 \r",
        "4353 \r",
        "4354 \r",
        "4355 \r",
        "4356 \r",
        "4357 \r",
        "4358 \r",
        "4359 \r",
        "4360 \r",
        "4361 \r",
        "4362 \r",
        "4363 \r",
        "4364 \r",
        "4365 \r",
        "4366 \r",
        "4367 \r",
        "4368 \r",
        "4369 \r",
        "4370 \r",
        "4371 \r",
        "4372 \r",
        "4373 \r",
        "4374 \r",
        "4375 \r",
        "4376 \r",
        "4377 \r",
        "4378 \r",
        "4379 \r",
        "4380 \r",
        "4381 \r",
        "4382 \r",
        "4383 \r",
        "4384 \r",
        "4385 \r",
        "4386 \r",
        "4387 \r",
        "4388 \r",
        "4389 \r",
        "4390 \r",
        "4391 \r",
        "4392 \r",
        "4393 \r",
        "4394 \r",
        "4395 \r",
        "4396 \r",
        "4397 \r",
        "4398 \r",
        "4399 \r",
        "4400 \r",
        "4401 \r",
        "4402 \r",
        "4403 \r",
        "4404 \r",
        "4405 \r",
        "4406 \r",
        "4407 \r",
        "4408 \r",
        "4409 \r",
        "4410 \r",
        "4411 \r",
        "4412 \r",
        "4413 \r",
        "4414 \r",
        "4415 \r",
        "4416 \r",
        "4417 \r",
        "4418 \r",
        "4419 \r",
        "4420 \r",
        "4421 \r",
        "4422 \r",
        "4423 \r",
        "4424 \r",
        "4425 \r",
        "4426 \r",
        "4427 \r",
        "4428 \r",
        "4429 \r",
        "4430 \r",
        "4431 \r",
        "4432 \r",
        "4433 "
       ]
      },
      {
       "output_type": "stream",
       "stream": "stdout",
       "text": [
        "\r",
        "4434 \r",
        "4435 \r",
        "4436 \r",
        "4437 \r",
        "4438 \r",
        "4439 \r",
        "4440 \r",
        "4441 \r",
        "4442 \r",
        "4443 \r",
        "4444 \r",
        "4445 "
       ]
      },
      {
       "output_type": "stream",
       "stream": "stdout",
       "text": [
        "\r",
        "4446 \r",
        "4447 \r",
        "4448 \r",
        "4449 \r",
        "4450 \r",
        "4451 \r",
        "4452 \r",
        "4453 \r",
        "4454 \r",
        "4455 \r",
        "4456 \r",
        "4457 \r",
        "4458 \r",
        "4459 \r",
        "4460 \r",
        "4461 \r",
        "4462 \r",
        "4463 \r",
        "4464 \r",
        "4465 \r",
        "4466 \r",
        "4467 \r",
        "4468 \r",
        "4469 \r",
        "4470 \r",
        "4471 \r",
        "4472 \r",
        "4473 \r",
        "4474 \r",
        "4475 \r",
        "4476 \r",
        "4477 \r",
        "4478 \r",
        "4479 \r",
        "4480 \r",
        "4481 \r",
        "4482 \r",
        "4483 \r",
        "4484 \r",
        "4485 \r",
        "4486 "
       ]
      },
      {
       "output_type": "stream",
       "stream": "stdout",
       "text": [
        "\r",
        "4487 \r",
        "4488 \r",
        "4489 \r",
        "4490 \r",
        "4491 \r",
        "4492 \r",
        "4493 \r",
        "4494 \r",
        "4495 \r",
        "4496 \r",
        "4497 \r",
        "4498 \r",
        "4499 \r",
        "4500 \r",
        "4501 \r",
        "4502 \r",
        "4503 \r",
        "4504 \r",
        "4505 \r",
        "4506 \r",
        "4507 \r",
        "4508 \r",
        "4509 \r",
        "4510 \r",
        "4511 \r",
        "4512 \r",
        "4513 \r",
        "4514 \r",
        "4515 \r",
        "4516 \r",
        "4517 \r",
        "4518 \r",
        "4519 \r",
        "4520 \r",
        "4521 \r",
        "4522 \r",
        "4523 \r",
        "4524 \r",
        "4525 \r",
        "4526 \r",
        "4527 \r",
        "4528 \r",
        "4529 \r",
        "4530 \r",
        "4531 \r",
        "4532 \r",
        "4533 \r",
        "4534 \r",
        "4535 \r",
        "4536 \r",
        "4537 \r",
        "4538 \r",
        "4539 \r",
        "4540 \r",
        "4541 \r",
        "4542 \r",
        "4543 \r",
        "4544 \r",
        "4545 \r",
        "4546 \r",
        "4547 \r",
        "4548 \r",
        "4549 \r",
        "4550 \r",
        "4551 \r",
        "4552 \r",
        "4553 \r",
        "4554 \r",
        "4555 \r",
        "4556 \r",
        "4557 \r",
        "4558 \r",
        "4559 \r",
        "4560 \r",
        "4561 \r",
        "4562 \r",
        "4563 \r",
        "4564 \r",
        "4565 \r",
        "4566 \r",
        "4567 "
       ]
      },
      {
       "output_type": "stream",
       "stream": "stdout",
       "text": [
        "\r",
        "4568 \r",
        "4569 \r",
        "4570 \r",
        "4571 \r",
        "4572 \r",
        "4573 \r",
        "4574 \r",
        "4575 \r",
        "4576 \r",
        "4577 \r",
        "4578 \r",
        "4579 \r",
        "4580 \r",
        "4581 \r",
        "4582 \r",
        "4583 \r",
        "4584 \r",
        "4585 \r",
        "4586 \r",
        "4587 \r",
        "4588 \r",
        "4589 \r",
        "4590 \r",
        "4591 \r",
        "4592 \r",
        "4593 \r",
        "4594 \r",
        "4595 \r",
        "4596 \r",
        "4597 \r",
        "4598 \r",
        "4599 \r",
        "4600 \r",
        "4601 \r",
        "4602 \r",
        "4603 \r",
        "4604 \r",
        "4605 \r",
        "4606 \r",
        "4607 \r",
        "4608 \r",
        "4609 \r",
        "4610 \r",
        "4611 \r",
        "4612 \r",
        "4613 \r",
        "4614 \r",
        "4615 \r",
        "4616 \r",
        "4617 \r",
        "4618 \r",
        "4619 \r",
        "4620 \r",
        "4621 \r",
        "4622 \r",
        "4623 \r",
        "4624 \r",
        "4625 \r",
        "4626 \r",
        "4627 \r",
        "4628 \r",
        "4629 \r",
        "4630 \r",
        "4631 \r",
        "4632 \r",
        "4633 \r",
        "4634 \r",
        "4635 \r",
        "4636 \r",
        "4637 \r",
        "4638 \r",
        "4639 \r",
        "4640 \r",
        "4641 \r",
        "4642 \r",
        "4643 \r",
        "4644 \r",
        "4645 \r",
        "4646 \r",
        "4647 \r",
        "4648 \r",
        "4649 \r",
        "4650 \r",
        "4651 \r",
        "4652 \r",
        "4653 \r",
        "4654 \r",
        "4655 \r",
        "4656 \r",
        "4657 \r",
        "4658 \r",
        "4659 \r",
        "4660 \r",
        "4661 \r",
        "4662 \r",
        "4663 \r",
        "4664 \r",
        "4665 \r",
        "4666 \r",
        "4667 \r",
        "4668 \r",
        "4669 \r",
        "4670 \r",
        "4671 \r",
        "4672 \r",
        "4673 \r",
        "4674 \r",
        "4675 \r",
        "4676 \r",
        "4677 \r",
        "4678 \r",
        "4679 \r",
        "4680 \r",
        "4681 \r",
        "4682 \r",
        "4683 \r",
        "4684 \r",
        "4685 \r",
        "4686 \r",
        "4687 \r",
        "4688 \r",
        "4689 \r",
        "4690 \r",
        "4691 \r",
        "4692 \r",
        "4693 \r",
        "4694 \r",
        "4695 \r",
        "4696 \r",
        "4697 \r",
        "4698 \r",
        "4699 \r",
        "4700 \r",
        "4701 \r",
        "4702 \r",
        "4703 \r",
        "4704 \r",
        "4705 \r",
        "4706 \r",
        "4707 \r",
        "4708 \r",
        "4709 \r",
        "4710 \r",
        "4711 \r",
        "4712 \r",
        "4713 \r",
        "4714 \r",
        "4715 \r",
        "4716 \r",
        "4717 \r",
        "4718 \r",
        "4719 \r",
        "4720 \r",
        "4721 \r",
        "4722 \r",
        "4723 \r",
        "4724 \r",
        "4725 \r",
        "4726 \r",
        "4727 \r",
        "4728 \r",
        "4729 \r",
        "4730 \r",
        "4731 \r",
        "4732 \r",
        "4733 "
       ]
      },
      {
       "output_type": "stream",
       "stream": "stdout",
       "text": [
        "\r",
        "4734 \r",
        "4735 \r",
        "4736 \r",
        "4737 \r",
        "4738 "
       ]
      },
      {
       "output_type": "stream",
       "stream": "stdout",
       "text": [
        "\r",
        "4739 \r",
        "4740 "
       ]
      },
      {
       "output_type": "stream",
       "stream": "stdout",
       "text": [
        "\r",
        "4741 "
       ]
      },
      {
       "output_type": "stream",
       "stream": "stdout",
       "text": [
        "\r",
        "4742 \r",
        "4743 \r",
        "4744 \r",
        "4745 \r",
        "4746 \r",
        "4747 \r",
        "4748 \r",
        "4749 \r",
        "4750 \r",
        "4751 \r",
        "4752 \r",
        "4753 \r",
        "4754 \r",
        "4755 \r",
        "4756 \r",
        "4757 \r",
        "4758 \r",
        "4759 \r",
        "4760 \r",
        "4761 \r",
        "4762 \r",
        "4763 \r",
        "4764 \r",
        "4765 \r",
        "4766 \r",
        "4767 \r",
        "4768 \r",
        "4769 \r",
        "4770 \r",
        "4771 \r",
        "4772 \r",
        "4773 \r",
        "4774 \r",
        "4775 \r",
        "4776 \r",
        "4777 \r",
        "4778 \r",
        "4779 \r",
        "4780 \r",
        "4781 \r",
        "4782 \r",
        "4783 \r",
        "4784 \r",
        "4785 \r",
        "4786 \r",
        "4787 \r",
        "4788 \r",
        "4789 \r",
        "4790 \r",
        "4791 \r",
        "4792 \r",
        "4793 \r",
        "4794 \r",
        "4795 \r",
        "4796 \r",
        "4797 \r",
        "4798 \r",
        "4799 \r",
        "4800 \r",
        "4801 \r",
        "4802 \r",
        "4803 \r",
        "4804 \r",
        "4805 \r",
        "4806 "
       ]
      },
      {
       "output_type": "stream",
       "stream": "stdout",
       "text": [
        "\r",
        "4807 \r",
        "4808 \r",
        "4809 \r",
        "4810 \r",
        "4811 \r",
        "4812 \r",
        "4813 \r",
        "4814 \r",
        "4815 \r",
        "4816 \r",
        "4817 \r",
        "4818 \r",
        "4819 \r",
        "4820 \r",
        "4821 \r",
        "4822 \r",
        "4823 \r",
        "4824 \r",
        "4825 \r",
        "4826 \r",
        "4827 \r",
        "4828 \r",
        "4829 \r",
        "4830 \r",
        "4831 \r",
        "4832 \r",
        "4833 \r",
        "4834 \r",
        "4835 \r",
        "4836 \r",
        "4837 \r",
        "4838 \r",
        "4839 \r",
        "4840 \r",
        "4841 \r",
        "4842 \r",
        "4843 \r",
        "4844 \r",
        "4845 \r",
        "4846 \r",
        "4847 \r",
        "4848 \r",
        "4849 \r",
        "4850 \r",
        "4851 \r",
        "4852 \r",
        "4853 \r",
        "4854 \r",
        "4855 \r",
        "4856 \r",
        "4857 \r",
        "4858 \r",
        "4859 \r",
        "4860 \r",
        "4861 "
       ]
      },
      {
       "output_type": "stream",
       "stream": "stdout",
       "text": [
        "\r",
        "4862 \r",
        "4863 \r",
        "4864 \r",
        "4865 \r",
        "4866 \r",
        "4867 \r",
        "4868 \r",
        "4869 \r",
        "4870 \r",
        "4871 \r",
        "4872 \r",
        "4873 \r",
        "4874 \r",
        "4875 \r",
        "4876 \r",
        "4877 \r",
        "4878 \r",
        "4879 \r",
        "4880 \r",
        "4881 \r",
        "4882 \r",
        "4883 \r",
        "4884 \r",
        "4885 \r",
        "4886 \r",
        "4887 \r",
        "4888 \r",
        "4889 \r",
        "4890 \r",
        "4891 \r",
        "4892 \r",
        "4893 \r",
        "4894 \r",
        "4895 \r",
        "4896 \r",
        "4897 \r",
        "4898 \r",
        "4899 \r",
        "4900 \r",
        "4901 \r",
        "4902 \r",
        "4903 \r",
        "4904 \r",
        "4905 \r",
        "4906 \r",
        "4907 \r",
        "4908 \r",
        "4909 \r",
        "4910 \r",
        "4911 \r",
        "4912 \r",
        "4913 \r",
        "4914 \r",
        "4915 \r",
        "4916 \r",
        "4917 \r",
        "4918 \r",
        "4919 \r",
        "4920 \r",
        "4921 \r",
        "4922 \r",
        "4923 \r",
        "4924 \r",
        "4925 \r",
        "4926 \r",
        "4927 \r",
        "4928 \r",
        "4929 \r",
        "4930 \r",
        "4931 \r",
        "4932 \r",
        "4933 \r",
        "4934 \r",
        "4935 \r",
        "4936 \r",
        "4937 \r",
        "4938 \r",
        "4939 \r",
        "4940 \r",
        "4941 \r",
        "4942 \r",
        "4943 \r",
        "4944 \r",
        "4945 \r",
        "4946 \r",
        "4947 \r",
        "4948 \r",
        "4949 \r",
        "4950 \r",
        "4951 \r",
        "4952 \r",
        "4953 \r",
        "4954 \r",
        "4955 \r",
        "4956 \r",
        "4957 \r",
        "4958 \r",
        "4959 \r",
        "4960 \r",
        "4961 \r",
        "4962 \r",
        "4963 \r",
        "4964 \r",
        "4965 \r",
        "4966 \r",
        "4967 \r",
        "4968 \r",
        "4969 \r",
        "4970 \r",
        "4971 \r",
        "4972 \r",
        "4973 \r",
        "4974 \r",
        "4975 \r",
        "4976 \r",
        "4977 \r",
        "4978 \r",
        "4979 \r",
        "4980 \r",
        "4981 \r",
        "4982 \r",
        "4983 "
       ]
      },
      {
       "output_type": "stream",
       "stream": "stdout",
       "text": [
        "\r",
        "4984 \r",
        "4985 \r",
        "4986 \r",
        "4987 \r",
        "4988 \r",
        "4989 \r",
        "4990 \r",
        "4991 \r",
        "4992 \r",
        "4993 \r",
        "4994 \r",
        "4995 \r",
        "4996 \r",
        "4997 \r",
        "4998 \r",
        "4999 \r",
        "5000 \r",
        "5001 \r",
        "5002 \r",
        "5003 \r",
        "5004 \r",
        "5005 \r",
        "5006 \r",
        "5007 \r",
        "5008 \r",
        "5009 \r",
        "5010 \r",
        "5011 \r",
        "5012 \r",
        "5013 \r",
        "5014 \r",
        "5015 \r",
        "5016 \r",
        "5017 \r",
        "5018 \r",
        "5019 \r",
        "5020 \r",
        "5021 \r",
        "5022 \r",
        "5023 \r",
        "5024 \r",
        "5025 \r",
        "5026 \r",
        "5027 \r",
        "5028 \r",
        "5029 \r",
        "5030 \r",
        "5031 \r",
        "5032 \r",
        "5033 \r",
        "5034 \r",
        "5035 \r",
        "5036 \r",
        "5037 \r",
        "5038 \r",
        "5039 \r",
        "5040 \r",
        "5041 \r",
        "5042 \r",
        "5043 \r",
        "5044 \r",
        "5045 \r",
        "5046 \r",
        "5047 \r",
        "5048 \r",
        "5049 \r",
        "5050 \r",
        "5051 \r",
        "5052 \r",
        "5053 \r",
        "5054 \r",
        "5055 \r",
        "5056 \r",
        "5057 \r",
        "5058 \r",
        "5059 \r",
        "5060 \r",
        "5061 \r",
        "5062 \r",
        "5063 \r",
        "5064 \r",
        "5065 \r",
        "5066 \r",
        "5067 \r",
        "5068 \r",
        "5069 "
       ]
      },
      {
       "output_type": "stream",
       "stream": "stdout",
       "text": [
        "\r",
        "5070 \r",
        "5071 \r",
        "5072 \r",
        "5073 \r",
        "5074 \r",
        "5075 \r",
        "5076 \r",
        "5077 \r",
        "5078 \r",
        "5079 \r",
        "5080 \r",
        "5081 "
       ]
      },
      {
       "output_type": "stream",
       "stream": "stdout",
       "text": [
        "\r",
        "5082 \r",
        "5083 \r",
        "5084 \r",
        "5085 \r",
        "5086 \r",
        "5087 \r",
        "5088 \r",
        "5089 \r",
        "5090 \r",
        "5091 \r",
        "5092 \r",
        "5093 \r",
        "5094 \r",
        "5095 \r",
        "5096 \r",
        "5097 \r",
        "5098 \r",
        "5099 \r",
        "5100 \r",
        "5101 \r",
        "5102 \r",
        "5103 \r",
        "5104 \r",
        "5105 \r",
        "5106 \r",
        "5107 \r",
        "5108 \r",
        "5109 \r",
        "5110 \r",
        "5111 \r",
        "5112 \r",
        "5113 \r",
        "5114 \r",
        "5115 \r",
        "5116 \r",
        "5117 \r",
        "5118 \r",
        "5119 \r",
        "5120 \r",
        "5121 \r",
        "5122 \r",
        "5123 \r",
        "5124 \r",
        "5125 \r",
        "5126 \r",
        "5127 \r",
        "5128 \r",
        "5129 \r",
        "5130 \r",
        "5131 \r",
        "5132 \r",
        "5133 \r",
        "5134 \r",
        "5135 \r",
        "5136 \r",
        "5137 \r",
        "5138 \r",
        "5139 \r",
        "5140 \r",
        "5141 \r",
        "5142 \r",
        "5143 \r",
        "5144 \r",
        "5145 \r",
        "5146 \r",
        "5147 \r",
        "5148 \r",
        "5149 \r",
        "5150 \r",
        "5151 \r",
        "5152 \r",
        "5153 \r",
        "5154 \r",
        "5155 \r",
        "5156 \r",
        "5157 \r",
        "5158 \r",
        "5159 \r",
        "5160 \r",
        "5161 \r",
        "5162 \r",
        "5163 \r",
        "5164 \r",
        "5165 \r",
        "5166 \r",
        "5167 \r",
        "5168 \r",
        "5169 \r",
        "5170 \r",
        "5171 \r",
        "5172 \r",
        "5173 \r",
        "5174 \r",
        "5175 \r",
        "5176 \r",
        "5177 \r",
        "5178 \r",
        "5179 \r",
        "5180 \r",
        "5181 \r",
        "5182 \r",
        "5183 \r",
        "5184 \r",
        "5185 \r",
        "5186 \r",
        "5187 \r",
        "5188 \r",
        "5189 \r",
        "5190 \r",
        "5191 \r",
        "5192 \r",
        "5193 \r",
        "5194 \r",
        "5195 \r",
        "5196 \r",
        "5197 \r",
        "5198 \r",
        "5199 \r",
        "5200 \r",
        "5201 \r",
        "5202 \r",
        "5203 \r",
        "5204 \r",
        "5205 \r",
        "5206 \r",
        "5207 \r",
        "5208 \r",
        "5209 \r",
        "5210 \r",
        "5211 \r",
        "5212 \r",
        "5213 \r",
        "5214 \r",
        "5215 \r",
        "5216 "
       ]
      },
      {
       "output_type": "stream",
       "stream": "stdout",
       "text": [
        "\r",
        "5217 \r",
        "5218 \r",
        "5219 \r",
        "5220 \r",
        "5221 \r",
        "5222 \r",
        "5223 \r",
        "5224 \r",
        "5225 \r",
        "5226 \r",
        "5227 \r",
        "5228 \r",
        "5229 \r",
        "5230 \r",
        "5231 \r",
        "5232 \r",
        "5233 \r",
        "5234 \r",
        "5235 \r",
        "5236 \r",
        "5237 \r",
        "5238 \r",
        "5239 \r",
        "5240 \r",
        "5241 \r",
        "5242 \r",
        "5243 \r",
        "5244 \r",
        "5245 \r",
        "5246 \r",
        "5247 \r",
        "5248 \r",
        "5249 \r",
        "5250 \r",
        "5251 \r",
        "5252 \r",
        "5253 \r",
        "5254 \r",
        "5255 \r",
        "5256 \r",
        "5257 \r",
        "5258 \r",
        "5259 \r",
        "5260 \r",
        "5261 \r",
        "5262 \r",
        "5263 \r",
        "5264 \r",
        "5265 \r",
        "5266 \r",
        "5267 \r",
        "5268 \r",
        "5269 \r",
        "5270 \r",
        "5271 \r",
        "5272 \r",
        "5273 \r",
        "5274 \r",
        "5275 \r",
        "5276 \r",
        "5277 \r",
        "5278 \r",
        "5279 \r",
        "5280 \r",
        "5281 \r",
        "5282 \r",
        "5283 \r",
        "5284 \r",
        "5285 \r",
        "5286 \r",
        "5287 \r",
        "5288 \r",
        "5289 \r",
        "5290 \r",
        "5291 \r",
        "5292 \r",
        "5293 \r",
        "5294 \r",
        "5295 \r",
        "5296 \r",
        "5297 \r",
        "5298 \r",
        "5299 \r",
        "5300 \r",
        "5301 \r",
        "5302 \r",
        "5303 \r",
        "5304 \r",
        "5305 \r",
        "5306 \r",
        "5307 \r",
        "5308 \r",
        "5309 \r",
        "5310 \r",
        "5311 \r",
        "5312 \r",
        "5313 \r",
        "5314 \r",
        "5315 \r",
        "5316 \r",
        "5317 \r",
        "5318 \r",
        "5319 \r",
        "5320 \r",
        "5321 \r",
        "5322 \r",
        "5323 \r",
        "5324 \r",
        "5325 \r",
        "5326 \r",
        "5327 \r",
        "5328 \r",
        "5329 \r",
        "5330 \r",
        "5331 \r",
        "5332 \r",
        "5333 \r",
        "5334 \r",
        "5335 \r",
        "5336 \r",
        "5337 \r",
        "5338 \r",
        "5339 \r",
        "5340 \r",
        "5341 \r",
        "5342 \r",
        "5343 \r",
        "5344 \r",
        "5345 \r",
        "5346 \r",
        "5347 \r",
        "5348 \r",
        "5349 \r",
        "5350 \r",
        "5351 \r",
        "5352 \r",
        "5353 \r",
        "5354 \r",
        "5355 \r",
        "5356 \r",
        "5357 \r",
        "5358 \r",
        "5359 \r",
        "5360 \r",
        "5361 \r",
        "5362 \r",
        "5363 \r",
        "5364 \r",
        "5365 \r",
        "5366 \r",
        "5367 \r",
        "5368 \r",
        "5369 \r",
        "5370 \r",
        "5371 \r",
        "5372 \r",
        "5373 \r",
        "5374 \r",
        "5375 \r",
        "5376 \r",
        "5377 \r",
        "5378 \r",
        "5379 \r",
        "5380 \r",
        "5381 \r",
        "5382 \r",
        "5383 \r",
        "5384 \r",
        "5385 \r",
        "5386 \r",
        "5387 \r",
        "5388 \r",
        "5389 \r",
        "5390 \r",
        "5391 \r",
        "5392 \r",
        "5393 \r",
        "5394 \r",
        "5395 \r",
        "5396 \r",
        "5397 \r",
        "5398 "
       ]
      },
      {
       "output_type": "stream",
       "stream": "stdout",
       "text": [
        "\r",
        "5399 \r",
        "5400 \r",
        "5401 \r",
        "5402 \r",
        "5403 \r",
        "5404 \r",
        "5405 \r",
        "5406 \r",
        "5407 \r",
        "5408 \r",
        "5409 \r",
        "5410 \r",
        "5411 \r",
        "5412 \r",
        "5413 \r",
        "5414 \r",
        "5415 \r",
        "5416 \r",
        "5417 \r",
        "5418 \r",
        "5419 \r",
        "5420 \r",
        "5421 \r",
        "5422 \r",
        "5423 \r",
        "5424 \r",
        "5425 \r",
        "5426 \r",
        "5427 \r",
        "5428 \r",
        "5429 "
       ]
      },
      {
       "output_type": "stream",
       "stream": "stdout",
       "text": [
        "\r",
        "5430 \r",
        "5431 \r",
        "5432 "
       ]
      },
      {
       "output_type": "stream",
       "stream": "stdout",
       "text": [
        "\r",
        "5433 \r",
        "5434 \r",
        "5435 "
       ]
      },
      {
       "output_type": "stream",
       "stream": "stdout",
       "text": [
        "\r",
        "5436 \r",
        "5437 \r",
        "5438 \r",
        "5439 \r",
        "5440 \r",
        "5441 \r",
        "5442 "
       ]
      },
      {
       "output_type": "stream",
       "stream": "stdout",
       "text": [
        "\r",
        "5443 \r",
        "5444 \r",
        "5445 \r",
        "5446 \r",
        "5447 \r",
        "5448 \r",
        "5449 \r",
        "5450 \r",
        "5451 \r",
        "5452 \r",
        "5453 \r",
        "5454 \r",
        "5455 \r",
        "5456 \r",
        "5457 \r",
        "5458 \r",
        "5459 \r",
        "5460 "
       ]
      },
      {
       "output_type": "stream",
       "stream": "stdout",
       "text": [
        "\r",
        "5461 \r",
        "5462 \r",
        "5463 \r",
        "5464 \r",
        "5465 \r",
        "5466 "
       ]
      },
      {
       "output_type": "stream",
       "stream": "stdout",
       "text": [
        "\r",
        "5467 \r",
        "5468 \r",
        "5469 \r",
        "5470 \r",
        "5471 \r",
        "5472 \r",
        "5473 \r",
        "5474 \r",
        "5475 \r",
        "5476 \r",
        "5477 \r",
        "5478 \r",
        "5479 \r",
        "5480 \r",
        "5481 \r",
        "5482 \r",
        "5483 \r",
        "5484 \r",
        "5485 \r",
        "5486 \r",
        "5487 \r",
        "5488 \r",
        "5489 \r",
        "5490 \r",
        "5491 \r",
        "5492 \r",
        "5493 \r",
        "5494 \r",
        "5495 \r",
        "5496 \r",
        "5497 \r",
        "5498 \r",
        "5499 \r",
        "5500 \r",
        "5501 \r",
        "5502 \r",
        "5503 \r",
        "5504 \r",
        "5505 \r",
        "5506 \r",
        "5507 \r",
        "5508 \r",
        "5509 "
       ]
      },
      {
       "output_type": "stream",
       "stream": "stdout",
       "text": [
        "\r",
        "5510 \r",
        "5511 \r",
        "5512 \r",
        "5513 \r",
        "5514 \r",
        "5515 \r",
        "5516 \r",
        "5517 \r",
        "5518 \r",
        "5519 \r",
        "5520 \r",
        "5521 \r",
        "5522 \r",
        "5523 \r",
        "5524 \r",
        "5525 \r",
        "5526 \r",
        "5527 \r",
        "5528 \r",
        "5529 \r",
        "5530 \r",
        "5531 \r",
        "5532 \r",
        "5533 \r",
        "5534 \r",
        "5535 \r",
        "5536 \r",
        "5537 \r",
        "5538 \r",
        "5539 \r",
        "5540 \r",
        "5541 \r",
        "5542 \r",
        "5543 \r",
        "5544 \r",
        "5545 \r",
        "5546 \r",
        "5547 \r",
        "5548 \r",
        "5549 \r",
        "5550 \r",
        "5551 \r",
        "5552 \r",
        "5553 \r",
        "5554 \r",
        "5555 \r",
        "5556 \r",
        "5557 \r",
        "5558 \r",
        "5559 \r",
        "5560 \r",
        "5561 \r",
        "5562 \r",
        "5563 \r",
        "5564 \r",
        "5565 \r",
        "5566 \r",
        "5567 \r",
        "5568 \r",
        "5569 \r",
        "5570 \r",
        "5571 \r",
        "5572 \r",
        "5573 \r",
        "5574 \r",
        "5575 \r",
        "5576 \r",
        "5577 \r",
        "5578 \r",
        "5579 \r",
        "5580 \r",
        "5581 \r",
        "5582 \r",
        "5583 \r",
        "5584 \r",
        "5585 \r",
        "5586 \r",
        "5587 \r",
        "5588 \r",
        "5589 \r",
        "5590 \r",
        "5591 \r",
        "5592 \r",
        "5593 \r",
        "5594 \r",
        "5595 \r",
        "5596 \r",
        "5597 \r",
        "5598 "
       ]
      },
      {
       "output_type": "stream",
       "stream": "stdout",
       "text": [
        "\r",
        "5599 \r",
        "5600 \r",
        "5601 \r",
        "5602 \r",
        "5603 \r",
        "5604 \r",
        "5605 \r",
        "5606 \r",
        "5607 \r",
        "5608 \r",
        "5609 \r",
        "5610 \r",
        "5611 \r",
        "5612 \r",
        "5613 \r",
        "5614 \r",
        "5615 \r",
        "5616 \r",
        "5617 \r",
        "5618 \r",
        "5619 \r",
        "5620 \r",
        "5621 \r",
        "5622 \r",
        "5623 \r",
        "5624 \r",
        "5625 \r",
        "5626 \r",
        "5627 \r",
        "5628 \r",
        "5629 \r",
        "5630 \r",
        "5631 \r",
        "5632 \r",
        "5633 \r",
        "5634 \r",
        "5635 \r",
        "5636 \r",
        "5637 \r",
        "5638 \r",
        "5639 \r",
        "5640 \r",
        "5641 \r",
        "5642 \r",
        "5643 \r",
        "5644 "
       ]
      },
      {
       "output_type": "stream",
       "stream": "stdout",
       "text": [
        "\r",
        "5645 \r",
        "5646 "
       ]
      },
      {
       "output_type": "stream",
       "stream": "stdout",
       "text": [
        "\r",
        "5647 \r",
        "5648 \r",
        "5649 \r",
        "5650 \r",
        "5651 \r",
        "5652 "
       ]
      },
      {
       "output_type": "stream",
       "stream": "stdout",
       "text": [
        "\r",
        "5653 \r",
        "5654 \r",
        "5655 "
       ]
      },
      {
       "output_type": "stream",
       "stream": "stdout",
       "text": [
        "\r",
        "5656 "
       ]
      },
      {
       "output_type": "stream",
       "stream": "stdout",
       "text": [
        "\r",
        "5657 \r",
        "5658 \r",
        "5659 \r",
        "5660 \r",
        "5661 \r",
        "5662 \r",
        "5663 \r",
        "5664 \r",
        "5665 \r",
        "5666 \r",
        "5667 \r",
        "5668 \r",
        "5669 \r",
        "5670 "
       ]
      },
      {
       "output_type": "stream",
       "stream": "stdout",
       "text": [
        "\r",
        "5671 \r",
        "5672 \r",
        "5673 \r",
        "5674 \r",
        "5675 \r",
        "5676 \r",
        "5677 \r",
        "5678 \r",
        "5679 "
       ]
      },
      {
       "output_type": "stream",
       "stream": "stdout",
       "text": [
        "\r",
        "5680 \r",
        "5681 \r",
        "5682 \r",
        "5683 "
       ]
      },
      {
       "output_type": "stream",
       "stream": "stdout",
       "text": [
        "\r",
        "5684 \r",
        "5685 \r",
        "5686 \r",
        "5687 \r",
        "5688 \r",
        "5689 \r",
        "5690 \r",
        "5691 \r",
        "5692 \r",
        "5693 \r",
        "5694 \r",
        "5695 \r",
        "5696 \r",
        "5697 \r",
        "5698 \r",
        "5699 \r",
        "5700 \r",
        "5701 \r",
        "5702 \r",
        "5703 \r",
        "5704 \r",
        "5705 \r",
        "5706 \r",
        "5707 \r",
        "5708 \r",
        "5709 \r",
        "5710 \r",
        "5711 \r",
        "5712 \r",
        "5713 \r",
        "5714 "
       ]
      },
      {
       "output_type": "stream",
       "stream": "stdout",
       "text": [
        "\r",
        "5715 \r",
        "5716 \r",
        "5717 \r",
        "5718 \r",
        "5719 \r",
        "5720 \r",
        "5721 \r",
        "5722 \r",
        "5723 \r",
        "5724 \r",
        "5725 \r",
        "5726 \r",
        "5727 "
       ]
      },
      {
       "output_type": "stream",
       "stream": "stdout",
       "text": [
        "\r",
        "5728 "
       ]
      },
      {
       "output_type": "stream",
       "stream": "stdout",
       "text": [
        "\r",
        "5729 \r",
        "5730 \r",
        "5731 "
       ]
      },
      {
       "output_type": "stream",
       "stream": "stdout",
       "text": [
        "\r",
        "5732 \r",
        "5733 "
       ]
      },
      {
       "output_type": "stream",
       "stream": "stdout",
       "text": [
        "\r",
        "5734 \r",
        "5735 \r",
        "5736 \r",
        "5737 \r",
        "5738 \r",
        "5739 \r",
        "5740 \r",
        "5741 \r",
        "5742 \r",
        "5743 \r",
        "5744 \r",
        "5745 \r",
        "5746 \r",
        "5747 \r",
        "5748 \r",
        "5749 \r",
        "5750 \r",
        "5751 \r",
        "5752 \r",
        "5753 \r",
        "5754 \r",
        "5755 \r",
        "5756 \r",
        "5757 \r",
        "5758 \r",
        "5759 \r",
        "5760 \r",
        "5761 \r",
        "5762 \r",
        "5763 \r",
        "5764 \r",
        "5765 \r",
        "5766 \r",
        "5767 \r",
        "5768 \r",
        "5769 \r",
        "5770 \r",
        "5771 \r",
        "5772 \r",
        "5773 \r",
        "5774 \r",
        "5775 \r",
        "5776 \r",
        "5777 \r",
        "5778 \r",
        "5779 \r",
        "5780 \r",
        "5781 \r",
        "5782 \r",
        "5783 \r",
        "5784 \r",
        "5785 \r",
        "5786 \r",
        "5787 \r",
        "5788 \r",
        "5789 \r",
        "5790 \r",
        "5791 \r",
        "5792 \r",
        "5793 \r",
        "5794 \r",
        "5795 "
       ]
      },
      {
       "output_type": "stream",
       "stream": "stdout",
       "text": [
        "\r",
        "5796 \r",
        "5797 \r",
        "5798 \r",
        "5799 \r",
        "5800 \r",
        "5801 \r",
        "5802 \r",
        "5803 \r",
        "5804 \r",
        "5805 \r",
        "5806 \r",
        "5807 \r",
        "5808 \r",
        "5809 \r",
        "5810 \r",
        "5811 \r",
        "5812 \r",
        "5813 \r",
        "5814 \r",
        "5815 \r",
        "5816 \r",
        "5817 \r",
        "5818 \r",
        "5819 \r",
        "5820 \r",
        "5821 \r",
        "5822 \r",
        "5823 \r",
        "5824 \r",
        "5825 \r",
        "5826 \r",
        "5827 \r",
        "5828 \r",
        "5829 \r",
        "5830 \r",
        "5831 \r",
        "5832 \r",
        "5833 \r",
        "5834 \r",
        "5835 \r",
        "5836 \r",
        "5837 \r",
        "5838 \r",
        "5839 "
       ]
      },
      {
       "output_type": "stream",
       "stream": "stdout",
       "text": [
        "\r",
        "5840 \r",
        "5841 \r",
        "5842 \r",
        "5843 \r",
        "5844 \r",
        "5845 \r",
        "5846 \r",
        "5847 \r",
        "5848 \r",
        "5849 \r",
        "5850 \r",
        "5851 \r",
        "5852 \r",
        "5853 \r",
        "5854 \r",
        "5855 \r",
        "5856 \r",
        "5857 \r",
        "5858 \r",
        "5859 \r",
        "5860 \r",
        "5861 \r",
        "5862 \r",
        "5863 \r",
        "5864 \r",
        "5865 \r",
        "5866 \r",
        "5867 \r",
        "5868 \r",
        "5869 \r",
        "5870 \r",
        "5871 \r",
        "5872 \r",
        "5873 \r",
        "5874 \r",
        "5875 \r",
        "5876 \r",
        "5877 \r",
        "5878 \r",
        "5879 \r",
        "5880 \r",
        "5881 \r",
        "5882 \r",
        "5883 \r",
        "5884 \r",
        "5885 \r",
        "5886 \r",
        "5887 \r",
        "5888 \r",
        "5889 \r",
        "5890 \r",
        "5891 \r",
        "5892 \r",
        "5893 \r",
        "5894 \r",
        "5895 "
       ]
      },
      {
       "output_type": "stream",
       "stream": "stdout",
       "text": [
        "\r",
        "5896 \r",
        "5897 "
       ]
      },
      {
       "output_type": "stream",
       "stream": "stdout",
       "text": [
        "\r",
        "5898 \r",
        "5899 \r",
        "5900 \r",
        "5901 \r",
        "5902 \r",
        "5903 \r",
        "5904 \r",
        "5905 \r",
        "5906 \r",
        "5907 \r",
        "5908 \r",
        "5909 \r",
        "5910 \r",
        "5911 \r",
        "5912 \r",
        "5913 \r",
        "5914 \r",
        "5915 \r",
        "5916 \r",
        "5917 \r",
        "5918 \r",
        "5919 \r",
        "5920 \r",
        "5921 \r",
        "5922 \r",
        "5923 \r",
        "5924 \r",
        "5925 \r",
        "5926 \r",
        "5927 \r",
        "5928 \r",
        "5929 \r",
        "5930 \r",
        "5931 \r",
        "5932 \r",
        "5933 \r",
        "5934 \r",
        "5935 \r",
        "5936 \r",
        "5937 \r",
        "5938 \r",
        "5939 \r",
        "5940 \r",
        "5941 \r",
        "5942 \r",
        "5943 \r",
        "5944 \r",
        "5945 \r",
        "5946 \r",
        "5947 \r",
        "5948 \r",
        "5949 \r",
        "5950 \r",
        "5951 \r",
        "5952 \r",
        "5953 \r",
        "5954 \r",
        "5955 \r",
        "5956 \r",
        "5957 \r",
        "5958 \r",
        "5959 \r",
        "5960 \r",
        "5961 \r",
        "5962 \r",
        "5963 \r",
        "5964 \r",
        "5965 \r",
        "5966 \r",
        "5967 \r",
        "5968 \r",
        "5969 \r",
        "5970 \r",
        "5971 \r",
        "5972 \r",
        "5973 \r",
        "5974 \r",
        "5975 \r",
        "5976 \r",
        "5977 \r",
        "5978 \r",
        "5979 \r",
        "5980 \r",
        "5981 \r",
        "5982 \r",
        "5983 \r",
        "5984 \r",
        "5985 \r",
        "5986 \r",
        "5987 \r",
        "5988 \r",
        "5989 \r",
        "5990 \r",
        "5991 \r",
        "5992 \r",
        "5993 \r",
        "5994 \r",
        "5995 \r",
        "5996 \r",
        "5997 \r",
        "5998 \r",
        "5999 \r",
        "6000 \r",
        "6001 \r",
        "6002 \r",
        "6003 \r",
        "6004 \r",
        "6005 \r",
        "6006 \r",
        "6007 "
       ]
      },
      {
       "output_type": "stream",
       "stream": "stdout",
       "text": [
        "\r",
        "6008 "
       ]
      },
      {
       "output_type": "stream",
       "stream": "stdout",
       "text": [
        "\r",
        "6009 \r",
        "6010 \r",
        "6011 \r",
        "6012 \r",
        "6013 \r",
        "6014 \r",
        "6015 \r",
        "6016 \r",
        "6017 \r",
        "6018 \r",
        "6019 \r",
        "6020 \r",
        "6021 \r",
        "6022 \r",
        "6023 \r",
        "6024 \r",
        "6025 \r",
        "6026 \r",
        "6027 \r",
        "6028 \r",
        "6029 \r",
        "6030 \r",
        "6031 \r",
        "6032 \r",
        "6033 \r",
        "6034 "
       ]
      },
      {
       "output_type": "stream",
       "stream": "stdout",
       "text": [
        "\r",
        "6035 \r",
        "6036 \r",
        "6037 \r",
        "6038 \r",
        "6039 \r",
        "6040 \r",
        "6041 \r",
        "6042 \r",
        "6043 \r",
        "6044 \r",
        "6045 \r",
        "6046 \r",
        "6047 \r",
        "6048 \r",
        "6049 \r",
        "6050 \r",
        "6051 \r",
        "6052 \r",
        "6053 \r",
        "6054 \r",
        "6055 \r",
        "6056 \r",
        "6057 \r",
        "6058 \r",
        "6059 \r",
        "6060 \r",
        "6061 \r",
        "6062 \r",
        "6063 \r",
        "6064 \r",
        "6065 \r",
        "6066 \r",
        "6067 \r",
        "6068 \r",
        "6069 \r",
        "6070 \r",
        "6071 \r",
        "6072 \r",
        "6073 \r",
        "6074 \r",
        "6075 \r",
        "6076 \r",
        "6077 \r",
        "6078 \r",
        "6079 \r",
        "6080 \r",
        "6081 \r",
        "6082 \r",
        "6083 \r",
        "6084 \r",
        "6085 \r",
        "6086 \r",
        "6087 \r",
        "6088 \r",
        "6089 \r",
        "6090 \r",
        "6091 \r",
        "6092 "
       ]
      },
      {
       "output_type": "stream",
       "stream": "stdout",
       "text": [
        "\r",
        "6093 \r",
        "6094 \r",
        "6095 \r",
        "6096 \r",
        "6097 \r",
        "6098 \r",
        "6099 \r",
        "6100 \r",
        "6101 \r",
        "6102 "
       ]
      },
      {
       "output_type": "stream",
       "stream": "stdout",
       "text": [
        "\r",
        "6103 \r",
        "6104 \r",
        "6105 \r",
        "6106 \r",
        "6107 \r",
        "6108 \r",
        "6109 \r",
        "6110 \r",
        "6111 \r",
        "6112 \r",
        "6113 \r",
        "6114 \r",
        "6115 \r",
        "6116 \r",
        "6117 \r",
        "6118 \r",
        "6119 \r",
        "6120 \r",
        "6121 \r",
        "6122 \r",
        "6123 \r",
        "6124 \r",
        "6125 \r",
        "6126 \r",
        "6127 \r",
        "6128 \r",
        "6129 \r",
        "6130 \r",
        "6131 \r",
        "6132 \r",
        "6133 \r",
        "6134 \r",
        "6135 \r",
        "6136 \r",
        "6137 "
       ]
      },
      {
       "output_type": "stream",
       "stream": "stdout",
       "text": [
        "\r",
        "6138 \r",
        "6139 \r",
        "6140 \r",
        "6141 \r",
        "6142 \r",
        "6143 \r",
        "6144 \r",
        "6145 \r",
        "6146 \r",
        "6147 \r",
        "6148 \r",
        "6149 \r",
        "6150 \r",
        "6151 \r",
        "6152 \r",
        "6153 \r",
        "6154 \r",
        "6155 \r",
        "6156 \r",
        "6157 \r",
        "6158 \r",
        "6159 \r",
        "6160 \r",
        "6161 \r",
        "6162 \r",
        "6163 \r",
        "6164 \r",
        "6165 \r",
        "6166 \r",
        "6167 \r",
        "6168 \r",
        "6169 \r",
        "6170 \r",
        "6171 \r",
        "6172 \r",
        "6173 \r",
        "6174 \r",
        "6175 \r",
        "6176 \r",
        "6177 \r",
        "6178 \r",
        "6179 \r",
        "6180 \r",
        "6181 \r",
        "6182 \r",
        "6183 \r",
        "6184 \r",
        "6185 \r",
        "6186 \r",
        "6187 \r",
        "6188 \r",
        "6189 \r",
        "6190 \r",
        "6191 \r",
        "6192 \r",
        "6193 \r",
        "6194 \r",
        "6195 \r",
        "6196 \r",
        "6197 \r",
        "6198 \r",
        "6199 \r",
        "6200 \r",
        "6201 \r",
        "6202 "
       ]
      },
      {
       "output_type": "stream",
       "stream": "stdout",
       "text": [
        "\r",
        "6203 \r",
        "6204 \r",
        "6205 \r",
        "6206 \r",
        "6207 \r",
        "6208 \r",
        "6209 \r",
        "6210 \r",
        "6211 \r",
        "6212 \r",
        "6213 \r",
        "6214 \r",
        "6215 \r",
        "6216 \r",
        "6217 \r",
        "6218 \r",
        "6219 \r",
        "6220 \r",
        "6221 \r",
        "6222 \r",
        "6223 \r",
        "6224 \r",
        "6225 \r",
        "6226 \r",
        "6227 \r",
        "6228 \r",
        "6229 \r",
        "6230 \r",
        "6231 \r",
        "6232 \r",
        "6233 \r",
        "6234 \r",
        "6235 \r",
        "6236 \r",
        "6237 \r",
        "6238 \r",
        "6239 \r",
        "6240 \r",
        "6241 \r",
        "6242 \r",
        "6243 \r",
        "6244 \r",
        "6245 \r",
        "6246 \r",
        "6247 \r",
        "6248 \r",
        "6249 \r",
        "6250 \r",
        "6251 \r",
        "6252 \r",
        "6253 \r",
        "6254 \r",
        "6255 "
       ]
      },
      {
       "output_type": "stream",
       "stream": "stdout",
       "text": [
        "\r",
        "6256 \r",
        "6257 \r",
        "6258 \r",
        "6259 \r",
        "6260 \r",
        "6261 \r",
        "6262 \r",
        "6263 \r",
        "6264 \r",
        "6265 \r",
        "6266 \r",
        "6267 "
       ]
      },
      {
       "output_type": "stream",
       "stream": "stdout",
       "text": [
        "\r",
        "6268 \r",
        "6269 \r",
        "6270 \r",
        "6271 \r",
        "6272 \r",
        "6273 \r",
        "6274 \r",
        "6275 \r",
        "6276 \r",
        "6277 \r",
        "6278 \r",
        "6279 \r",
        "6280 \r",
        "6281 \r",
        "6282 \r",
        "6283 \r",
        "6284 \r",
        "6285 \r",
        "6286 \r",
        "6287 "
       ]
      },
      {
       "output_type": "stream",
       "stream": "stdout",
       "text": [
        "\r",
        "6288 \r",
        "6289 \r",
        "6290 \r",
        "6291 \r",
        "6292 \r",
        "6293 \r",
        "6294 \r",
        "6295 \r",
        "6296 \r",
        "6297 \r",
        "6298 \r",
        "6299 \r",
        "6300 \r",
        "6301 \r",
        "6302 \r",
        "6303 \r",
        "6304 "
       ]
      },
      {
       "output_type": "stream",
       "stream": "stdout",
       "text": [
        "\r",
        "6305 \r",
        "6306 \r",
        "6307 \r",
        "6308 \r",
        "6309 \r",
        "6310 \r",
        "6311 \r",
        "6312 \r",
        "6313 \r",
        "6314 \r",
        "6315 \r",
        "6316 \r",
        "6317 \r",
        "6318 \r",
        "6319 \r",
        "6320 "
       ]
      },
      {
       "output_type": "stream",
       "stream": "stdout",
       "text": [
        "\r",
        "6321 \r",
        "6322 \r",
        "6323 "
       ]
      },
      {
       "output_type": "stream",
       "stream": "stdout",
       "text": [
        "\r",
        "6324 \r",
        "6325 \r",
        "6326 \r",
        "6327 \r",
        "6328 \r",
        "6329 \r",
        "6330 \r",
        "6331 \r",
        "6332 "
       ]
      },
      {
       "output_type": "stream",
       "stream": "stdout",
       "text": [
        "\r",
        "6333 "
       ]
      },
      {
       "output_type": "stream",
       "stream": "stdout",
       "text": [
        "\r",
        "6334 \r",
        "6335 \r",
        "6336 \r",
        "6337 \r",
        "6338 \r",
        "6339 "
       ]
      },
      {
       "output_type": "stream",
       "stream": "stdout",
       "text": [
        "\r",
        "6340 \r",
        "6341 \r",
        "6342 \r",
        "6343 \r",
        "6344 \r",
        "6345 \r",
        "6346 \r",
        "6347 \r",
        "6348 \r",
        "6349 \r",
        "6350 \r",
        "6351 \r",
        "6352 \r",
        "6353 \r",
        "6354 \r",
        "6355 \r",
        "6356 \r",
        "6357 \r",
        "6358 \r",
        "6359 \r",
        "6360 \r",
        "6361 \r",
        "6362 \r",
        "6363 \r",
        "6364 \r",
        "6365 \r",
        "6366 \r",
        "6367 \r",
        "6368 \r",
        "6369 \r",
        "6370 \r",
        "6371 \r",
        "6372 \r",
        "6373 \r",
        "6374 \r",
        "6375 \r",
        "6376 \r",
        "6377 \r",
        "6378 \r",
        "6379 \r",
        "6380 \r",
        "6381 "
       ]
      },
      {
       "output_type": "stream",
       "stream": "stdout",
       "text": [
        "\r",
        "6382 \r",
        "6383 \r",
        "6384 \r",
        "6385 \r",
        "6386 "
       ]
      },
      {
       "output_type": "stream",
       "stream": "stdout",
       "text": [
        "\r",
        "6387 \r",
        "6388 \r",
        "6389 \r",
        "6390 \r",
        "6391 \r",
        "6392 \r",
        "6393 \r",
        "6394 \r",
        "6395 \r",
        "6396 \r",
        "6397 \r",
        "6398 \r",
        "6399 "
       ]
      },
      {
       "output_type": "stream",
       "stream": "stdout",
       "text": [
        "\r",
        "6400 \r",
        "6401 \r",
        "6402 \r",
        "6403 \r",
        "6404 \r",
        "6405 \r",
        "6406 \n",
        "indexing downstream reaches..."
       ]
      },
      {
       "output_type": "stream",
       "stream": "stdout",
       "text": [
        "\n",
        "Adding new SFR segments and renumbering reaches... (may be slow for large datasets)"
       ]
      },
      {
       "output_type": "stream",
       "stream": "stdout",
       "text": [
        "\n",
        "\r",
        "0% \r",
        "0% \r",
        "0% \r",
        "0% \r",
        "0% \r",
        "0% \r",
        "0% \r",
        "0% "
       ]
      },
      {
       "output_type": "stream",
       "stream": "stdout",
       "text": [
        "\r",
        "0% \r",
        "0% \r",
        "0% \r",
        "0% \r",
        "0% \r",
        "0% \r",
        "0% "
       ]
      },
      {
       "output_type": "stream",
       "stream": "stdout",
       "text": [
        "\r",
        "0% \r",
        "0% \r",
        "0% \r",
        "0% \r",
        "0% \r",
        "0% \r",
        "0% \r",
        "0% "
       ]
      },
      {
       "output_type": "stream",
       "stream": "stdout",
       "text": [
        "\r",
        "0% \r",
        "0% \r",
        "0% \r",
        "0% \r",
        "0% \r",
        "0% \r",
        "0% \r",
        "0% \r",
        "0% \r",
        "0% \r",
        "0% \r",
        "0% \r",
        "0% \r",
        "0% \r",
        "0% \r",
        "0% \r",
        "0% \r",
        "0% "
       ]
      },
      {
       "output_type": "stream",
       "stream": "stdout",
       "text": [
        "\r",
        "0% \r",
        "0% \r",
        "0% \r",
        "0% \r",
        "0% \r",
        "0% "
       ]
      },
      {
       "output_type": "stream",
       "stream": "stdout",
       "text": [
        "\r",
        "0% \r",
        "0% \r",
        "0% \r",
        "0% \r",
        "0% \r",
        "0% \r",
        "0% \r",
        "0% \r",
        "0% \r",
        "0% \r",
        "0% "
       ]
      },
      {
       "output_type": "stream",
       "stream": "stdout",
       "text": [
        "\r",
        "0% \r",
        "0% \r",
        "0% \r",
        "0% "
       ]
      },
      {
       "output_type": "stream",
       "stream": "stdout",
       "text": [
        "\r",
        "0% \r",
        "0% \r",
        "0% \r",
        "1% \r",
        "1% \r",
        "1% \r",
        "1% \r",
        "1% \r",
        "1% \r",
        "1% "
       ]
      },
      {
       "output_type": "stream",
       "stream": "stdout",
       "text": [
        "\r",
        "1% \r",
        "1% \r",
        "1% \r",
        "1% \r",
        "1% \r",
        "1% \r",
        "1% \r",
        "1% \r",
        "1% \r",
        "1% \r",
        "1% \r",
        "1% \r",
        "1% \r",
        "1% \r",
        "1% \r",
        "1% \r",
        "1% "
       ]
      },
      {
       "output_type": "stream",
       "stream": "stdout",
       "text": [
        "\r",
        "1% \r",
        "1% \r",
        "1% \r",
        "1% \r",
        "1% \r",
        "1% \r",
        "1% \r",
        "1% \r",
        "1% \r",
        "1% \r",
        "1% \r",
        "1% "
       ]
      },
      {
       "output_type": "stream",
       "stream": "stdout",
       "text": [
        "\r",
        "1% \r",
        "1% "
       ]
      },
      {
       "output_type": "stream",
       "stream": "stdout",
       "text": [
        "\r",
        "1% \r",
        "1% \r",
        "1% \r",
        "1% \r",
        "1% \r",
        "1% \r",
        "1% \r",
        "1% \r",
        "1% \r",
        "1% \r",
        "1% \r",
        "1% \r",
        "1% \r",
        "1% \r",
        "1% \r",
        "1% \r",
        "1% \r",
        "1% \r",
        "1% \r",
        "1% \r",
        "1% \r",
        "1% \r",
        "1% "
       ]
      },
      {
       "output_type": "stream",
       "stream": "stdout",
       "text": [
        "\r",
        "1% \r",
        "1% \r",
        "1% \r",
        "2% \r",
        "2% \r",
        "2% \r",
        "2% \r",
        "2% \r",
        "2% \r",
        "2% \r",
        "2% \r",
        "2% \r",
        "2% \r",
        "2% \r",
        "2% \r",
        "2% "
       ]
      },
      {
       "output_type": "stream",
       "stream": "stdout",
       "text": [
        "\r",
        "2% \r",
        "2% \r",
        "2% \r",
        "2% \r",
        "2% \r",
        "2% \r",
        "2% \r",
        "2% \r",
        "2% \r",
        "2% \r",
        "2% \r",
        "2% \r",
        "2% \r",
        "2% "
       ]
      },
      {
       "output_type": "stream",
       "stream": "stdout",
       "text": [
        "\r",
        "2% \r",
        "2% \r",
        "2% \r",
        "2% \r",
        "2% \r",
        "2% \r",
        "2% \r",
        "2% \r",
        "2% \r",
        "2% \r",
        "2% \r",
        "2% \r",
        "2% \r",
        "2% \r",
        "2% \r",
        "2% \r",
        "2% "
       ]
      },
      {
       "output_type": "stream",
       "stream": "stdout",
       "text": [
        "\r",
        "2% \r",
        "2% \r",
        "2% \r",
        "2% \r",
        "2% \r",
        "2% \r",
        "2% \r",
        "2% \r",
        "2% \r",
        "2% "
       ]
      },
      {
       "output_type": "stream",
       "stream": "stdout",
       "text": [
        "\r",
        "2% \r",
        "2% \r",
        "2% \r",
        "2% \r",
        "2% \r",
        "2% \r",
        "2% \r",
        "2% \r",
        "2% \r",
        "2% \r",
        "3% \r",
        "3% \r",
        "3% "
       ]
      },
      {
       "output_type": "stream",
       "stream": "stdout",
       "text": [
        "\r",
        "3% \r",
        "3% \r",
        "3% \r",
        "3% \r",
        "3% \r",
        "3% \r",
        "3% \r",
        "3% \r",
        "3% \r",
        "3% "
       ]
      },
      {
       "output_type": "stream",
       "stream": "stdout",
       "text": [
        "\r",
        "3% \r",
        "3% \r",
        "3% \r",
        "3% \r",
        "3% \r",
        "3% \r",
        "3% \r",
        "3% \r",
        "3% \r",
        "3% \r",
        "3% "
       ]
      },
      {
       "output_type": "stream",
       "stream": "stdout",
       "text": [
        "\r",
        "3% \r",
        "3% \r",
        "3% \r",
        "3% \r",
        "3% \r",
        "3% \r",
        "3% \r",
        "3% "
       ]
      },
      {
       "output_type": "stream",
       "stream": "stdout",
       "text": [
        "\r",
        "3% \r",
        "3% \r",
        "3% \r",
        "3% \r",
        "3% \r",
        "3% "
       ]
      },
      {
       "output_type": "stream",
       "stream": "stdout",
       "text": [
        "\r",
        "3% \r",
        "3% \r",
        "3% \r",
        "3% \r",
        "3% \r",
        "3% \r",
        "3% "
       ]
      },
      {
       "output_type": "stream",
       "stream": "stdout",
       "text": [
        "\r",
        "3% \r",
        "3% \r",
        "3% \r",
        "3% \r",
        "3% \r",
        "3% \r",
        "3% \r",
        "3% \r",
        "3% \r",
        "3% \r",
        "3% "
       ]
      },
      {
       "output_type": "stream",
       "stream": "stdout",
       "text": [
        "\r",
        "3% \r",
        "3% \r",
        "3% \r",
        "3% \r",
        "3% \r",
        "3% \r",
        "3% \r",
        "3% "
       ]
      },
      {
       "output_type": "stream",
       "stream": "stdout",
       "text": [
        "\r",
        "4% \r",
        "4% \r",
        "4% \r",
        "4% \r",
        "4% \r",
        "4% \r",
        "4% \r",
        "4% \r",
        "4% \r",
        "4% "
       ]
      },
      {
       "output_type": "stream",
       "stream": "stdout",
       "text": [
        "\r",
        "4% \r",
        "4% \r",
        "4% \r",
        "4% \r",
        "4% \r",
        "4% \r",
        "4% \r",
        "4% \r",
        "4% \r",
        "4% \r",
        "4% \r",
        "4% \r",
        "4% \r",
        "4% \r",
        "4% "
       ]
      },
      {
       "output_type": "stream",
       "stream": "stdout",
       "text": [
        "\r",
        "4% \r",
        "4% \r",
        "4% \r",
        "4% \r",
        "4% \r",
        "4% \r",
        "4% \r",
        "4% \r",
        "4% \r",
        "4% \r",
        "4% \r",
        "4% \r",
        "4% \r",
        "4% \r",
        "4% \r",
        "4% \r",
        "4% \r",
        "4% \r",
        "4% \r",
        "4% \r",
        "4% \r",
        "4% "
       ]
      },
      {
       "output_type": "stream",
       "stream": "stdout",
       "text": [
        "\r",
        "4% \r",
        "4% \r",
        "4% \r",
        "4% \r",
        "4% \r",
        "4% \r",
        "4% "
       ]
      },
      {
       "output_type": "stream",
       "stream": "stdout",
       "text": [
        "\r",
        "4% \r",
        "4% \r",
        "4% \r",
        "4% \r",
        "4% \r",
        "4% \r",
        "4% \r",
        "4% \r",
        "4% \r",
        "4% \r",
        "5% "
       ]
      },
      {
       "output_type": "stream",
       "stream": "stdout",
       "text": [
        "\r",
        "5% \r",
        "5% \r",
        "5% \r",
        "5% \r",
        "5% \r",
        "5% \r",
        "5% "
       ]
      },
      {
       "output_type": "stream",
       "stream": "stdout",
       "text": [
        "\r",
        "5% \r",
        "5% \r",
        "5% \r",
        "5% \r",
        "5% \r",
        "5% \r",
        "5% \r",
        "5% \r",
        "5% \r",
        "5% \r",
        "5% \r",
        "5% \r",
        "5% \r",
        "5% \r",
        "5% "
       ]
      },
      {
       "output_type": "stream",
       "stream": "stdout",
       "text": [
        "\r",
        "5% \r",
        "5% \r",
        "5% \r",
        "5% \r",
        "5% \r",
        "5% \r",
        "5% \r",
        "5% \r",
        "5% \r",
        "5% \r",
        "5% \r",
        "5% \r",
        "5% \r",
        "5% \r",
        "5% \r",
        "5% \r",
        "5% \r",
        "5% \r",
        "5% \r",
        "5% \r",
        "5% "
       ]
      },
      {
       "output_type": "stream",
       "stream": "stdout",
       "text": [
        "\r",
        "5% \r",
        "5% \r",
        "5% \r",
        "5% \r",
        "5% \r",
        "5% \r",
        "5% \r",
        "5% \r",
        "5% \r",
        "5% \r",
        "5% "
       ]
      },
      {
       "output_type": "stream",
       "stream": "stdout",
       "text": [
        "\r",
        "5% \r",
        "5% \r",
        "5% \r",
        "5% \r",
        "5% \r",
        "5% \r",
        "5% \r",
        "5% "
       ]
      },
      {
       "output_type": "stream",
       "stream": "stdout",
       "text": [
        "\r",
        "5% \r",
        "6% \r",
        "6% \r",
        "6% \r",
        "6% \r",
        "6% \r",
        "6% \r",
        "6% \r",
        "6% \r",
        "6% \r",
        "6% \r",
        "6% \r",
        "6% "
       ]
      },
      {
       "output_type": "stream",
       "stream": "stdout",
       "text": [
        "\r",
        "6% "
       ]
      },
      {
       "output_type": "stream",
       "stream": "stdout",
       "text": [
        "\r",
        "6% \r",
        "6% "
       ]
      },
      {
       "output_type": "stream",
       "stream": "stdout",
       "text": [
        "\r",
        "6% \r",
        "6% \r",
        "6% \r",
        "6% \r",
        "6% \r",
        "6% \r",
        "6% \r",
        "6% \r",
        "6% \r",
        "6% \r",
        "6% \r",
        "6% \r",
        "6% \r",
        "6% \r",
        "6% \r",
        "6% \r",
        "6% \r",
        "6% \r",
        "6% "
       ]
      },
      {
       "output_type": "stream",
       "stream": "stdout",
       "text": [
        "\r",
        "6% \r",
        "6% "
       ]
      },
      {
       "output_type": "stream",
       "stream": "stdout",
       "text": [
        "\r",
        "6% "
       ]
      },
      {
       "output_type": "stream",
       "stream": "stdout",
       "text": [
        "\r",
        "6% \r",
        "6% "
       ]
      },
      {
       "output_type": "stream",
       "stream": "stdout",
       "text": [
        "\r",
        "6% "
       ]
      },
      {
       "output_type": "stream",
       "stream": "stdout",
       "text": [
        "\r",
        "6% \r",
        "6% \r",
        "6% "
       ]
      },
      {
       "output_type": "stream",
       "stream": "stdout",
       "text": [
        "\r",
        "6% "
       ]
      },
      {
       "output_type": "stream",
       "stream": "stdout",
       "text": [
        "\r",
        "6% \r",
        "6% \r",
        "6% "
       ]
      },
      {
       "output_type": "stream",
       "stream": "stdout",
       "text": [
        "\r",
        "6% "
       ]
      },
      {
       "output_type": "stream",
       "stream": "stdout",
       "text": [
        "\r",
        "6% \r",
        "6% "
       ]
      },
      {
       "output_type": "stream",
       "stream": "stdout",
       "text": [
        "\r",
        "6% "
       ]
      },
      {
       "output_type": "stream",
       "stream": "stdout",
       "text": [
        "\r",
        "6% \r",
        "6% \r",
        "6% \r",
        "6% "
       ]
      },
      {
       "output_type": "stream",
       "stream": "stdout",
       "text": [
        "\r",
        "6% \r",
        "6% \r",
        "6% \r",
        "6% \r",
        "6% "
       ]
      },
      {
       "output_type": "stream",
       "stream": "stdout",
       "text": [
        "\r",
        "6% "
       ]
      },
      {
       "output_type": "stream",
       "stream": "stdout",
       "text": [
        "\r",
        "6% \r",
        "6% \r",
        "6% "
       ]
      },
      {
       "output_type": "stream",
       "stream": "stdout",
       "text": [
        "\r",
        "7% "
       ]
      },
      {
       "output_type": "stream",
       "stream": "stdout",
       "text": [
        "\r",
        "7% \r",
        "7% "
       ]
      },
      {
       "output_type": "stream",
       "stream": "stdout",
       "text": [
        "\r",
        "7% \r",
        "7% \r",
        "7% "
       ]
      },
      {
       "output_type": "stream",
       "stream": "stdout",
       "text": [
        "\r",
        "7% \r",
        "7% "
       ]
      },
      {
       "output_type": "stream",
       "stream": "stdout",
       "text": [
        "\r",
        "7% \r",
        "7% "
       ]
      },
      {
       "output_type": "stream",
       "stream": "stdout",
       "text": [
        "\r",
        "7% \r",
        "7% \r",
        "7% "
       ]
      },
      {
       "output_type": "stream",
       "stream": "stdout",
       "text": [
        "\r",
        "7% \r",
        "7% \r",
        "7% \r",
        "7% \r",
        "7% "
       ]
      },
      {
       "output_type": "stream",
       "stream": "stdout",
       "text": [
        "\r",
        "7% \r",
        "7% \r",
        "7% \r",
        "7% "
       ]
      },
      {
       "output_type": "stream",
       "stream": "stdout",
       "text": [
        "\r",
        "7% "
       ]
      },
      {
       "output_type": "stream",
       "stream": "stdout",
       "text": [
        "\r",
        "7% \r",
        "7% \r",
        "7% \r",
        "7% "
       ]
      },
      {
       "output_type": "stream",
       "stream": "stdout",
       "text": [
        "\r",
        "7% \r",
        "7% \r",
        "7% \r",
        "7% \r",
        "7% \r",
        "7% "
       ]
      },
      {
       "output_type": "stream",
       "stream": "stdout",
       "text": [
        "\r",
        "7% \r",
        "7% \r",
        "7% \r",
        "7% \r",
        "7% "
       ]
      },
      {
       "output_type": "stream",
       "stream": "stdout",
       "text": [
        "\r",
        "7% \r",
        "7% "
       ]
      },
      {
       "output_type": "stream",
       "stream": "stdout",
       "text": [
        "\r",
        "7% \r",
        "7% \r",
        "7% \r",
        "7% \r",
        "7% \r",
        "7% \r",
        "7% "
       ]
      },
      {
       "output_type": "stream",
       "stream": "stdout",
       "text": [
        "\r",
        "7% \r",
        "7% \r",
        "7% \r",
        "7% \r",
        "7% "
       ]
      },
      {
       "output_type": "stream",
       "stream": "stdout",
       "text": [
        "\r",
        "7% \r",
        "7% "
       ]
      },
      {
       "output_type": "stream",
       "stream": "stdout",
       "text": [
        "\r",
        "7% \r",
        "7% \r",
        "7% \r",
        "7% \r",
        "7% \r",
        "7% \r",
        "7% \r",
        "7% "
       ]
      },
      {
       "output_type": "stream",
       "stream": "stdout",
       "text": [
        "\r",
        "7% \r",
        "7% \r",
        "8% \r",
        "8% \r",
        "8% \r",
        "8% \r",
        "8% \r",
        "8% \r",
        "8% \r",
        "8% \r",
        "8% "
       ]
      },
      {
       "output_type": "stream",
       "stream": "stdout",
       "text": [
        "\r",
        "8% \r",
        "8% \r",
        "8% \r",
        "8% \r",
        "8% \r",
        "8% \r",
        "8% "
       ]
      },
      {
       "output_type": "stream",
       "stream": "stdout",
       "text": [
        "\r",
        "8% \r",
        "8% \r",
        "8% \r",
        "8% \r",
        "8% \r",
        "8% \r",
        "8% "
       ]
      },
      {
       "output_type": "stream",
       "stream": "stdout",
       "text": [
        "\r",
        "8% \r",
        "8% \r",
        "8% \r",
        "8% \r",
        "8% \r",
        "8% \r",
        "8% \r",
        "8% "
       ]
      },
      {
       "output_type": "stream",
       "stream": "stdout",
       "text": [
        "\r",
        "8% \r",
        "8% \r",
        "8% \r",
        "8% \r",
        "8% \r",
        "8% \r",
        "8% \r",
        "8% \r",
        "8% \r",
        "8% \r",
        "8% "
       ]
      },
      {
       "output_type": "stream",
       "stream": "stdout",
       "text": [
        "\r",
        "8% \r",
        "8% \r",
        "8% \r",
        "8% \r",
        "8% \r",
        "8% "
       ]
      },
      {
       "output_type": "stream",
       "stream": "stdout",
       "text": [
        "\r",
        "8% \r",
        "8% \r",
        "8% \r",
        "8% \r",
        "8% \r",
        "8% \r",
        "8% \r",
        "8% \r",
        "8% "
       ]
      },
      {
       "output_type": "stream",
       "stream": "stdout",
       "text": [
        "\r",
        "8% \r",
        "8% \r",
        "8% \r",
        "8% \r",
        "8% \r",
        "8% \r",
        "8% \r",
        "9% \r",
        "9% \r",
        "9% \r",
        "9% \r",
        "9% \r",
        "9% \r",
        "9% \r",
        "9% "
       ]
      },
      {
       "output_type": "stream",
       "stream": "stdout",
       "text": [
        "\r",
        "9% \r",
        "9% \r",
        "9% \r",
        "9% \r",
        "9% \r",
        "9% \r",
        "9% \r",
        "9% \r",
        "9% \r",
        "9% \r",
        "9% "
       ]
      },
      {
       "output_type": "stream",
       "stream": "stdout",
       "text": [
        "\r",
        "9% \r",
        "9% \r",
        "9% \r",
        "9% \r",
        "9% \r",
        "9% \r",
        "9% \r",
        "9% \r",
        "9% \r",
        "9% "
       ]
      },
      {
       "output_type": "stream",
       "stream": "stdout",
       "text": [
        "\r",
        "9% \r",
        "9% \r",
        "9% \r",
        "9% \r",
        "9% \r",
        "9% \r",
        "9% \r",
        "9% "
       ]
      },
      {
       "output_type": "stream",
       "stream": "stdout",
       "text": [
        "\r",
        "9% \r",
        "9% \r",
        "9% \r",
        "9% \r",
        "9% \r",
        "9% \r",
        "9% \r",
        "9% \r",
        "9% \r",
        "9% \r",
        "9% \r",
        "9% "
       ]
      },
      {
       "output_type": "stream",
       "stream": "stdout",
       "text": [
        "\r",
        "9% \r",
        "9% \r",
        "9% \r",
        "9% "
       ]
      },
      {
       "output_type": "stream",
       "stream": "stdout",
       "text": [
        "\r",
        "9% \r",
        "9% \r",
        "9% \r",
        "9% \r",
        "9% \r",
        "9% \r",
        "9% \r",
        "9% \r",
        "9% \r",
        "9% \r",
        "9% \r",
        "10% \r",
        "10% \r",
        "10% "
       ]
      },
      {
       "output_type": "stream",
       "stream": "stdout",
       "text": [
        "\r",
        "10% \r",
        "10% \r",
        "10% \r",
        "10% \r",
        "10% \r",
        "10% \r",
        "10% "
       ]
      },
      {
       "output_type": "stream",
       "stream": "stdout",
       "text": [
        "\r",
        "10% \r",
        "10% \r",
        "10% \r",
        "10% \r",
        "10% \r",
        "10% \r",
        "10% \r",
        "10% \r",
        "10% \r",
        "10% \r",
        "10% \r",
        "10% \r",
        "10% "
       ]
      },
      {
       "output_type": "stream",
       "stream": "stdout",
       "text": [
        "\r",
        "10% \r",
        "10% "
       ]
      },
      {
       "output_type": "stream",
       "stream": "stdout",
       "text": [
        "\r",
        "10% \r",
        "10% \r",
        "10% "
       ]
      },
      {
       "output_type": "stream",
       "stream": "stdout",
       "text": [
        "\r",
        "10% \r",
        "10% \r",
        "10% "
       ]
      },
      {
       "output_type": "stream",
       "stream": "stdout",
       "text": [
        "\r",
        "10% "
       ]
      },
      {
       "output_type": "stream",
       "stream": "stdout",
       "text": [
        "\r",
        "10% \r",
        "10% \r",
        "10% \r",
        "10% \r",
        "10% \r",
        "10% \r",
        "10% \r",
        "10% \r",
        "10% \r",
        "10% \r",
        "10% \r",
        "10% "
       ]
      },
      {
       "output_type": "stream",
       "stream": "stdout",
       "text": [
        "\r",
        "10% \r",
        "10% "
       ]
      },
      {
       "output_type": "stream",
       "stream": "stdout",
       "text": [
        "\r",
        "10% \r",
        "10% \r",
        "10% \r",
        "10% \r",
        "10% \r",
        "10% \r",
        "10% "
       ]
      },
      {
       "output_type": "stream",
       "stream": "stdout",
       "text": [
        "\r",
        "10% \r",
        "10% \r",
        "10% \r",
        "10% \r",
        "10% \r",
        "10% "
       ]
      },
      {
       "output_type": "stream",
       "stream": "stdout",
       "text": [
        "\r",
        "10% \r",
        "10% \r",
        "10% "
       ]
      },
      {
       "output_type": "stream",
       "stream": "stdout",
       "text": [
        "\r",
        "10% \r",
        "10% \r",
        "11% \r",
        "11% "
       ]
      },
      {
       "output_type": "stream",
       "stream": "stdout",
       "text": [
        "\r",
        "11% \r",
        "11% \r",
        "11% \r",
        "11% "
       ]
      },
      {
       "output_type": "stream",
       "stream": "stdout",
       "text": [
        "\r",
        "11% \r",
        "11% \r",
        "11% \r",
        "11% "
       ]
      },
      {
       "output_type": "stream",
       "stream": "stdout",
       "text": [
        "\r",
        "11% \r",
        "11% \r",
        "11% \r",
        "11% \r",
        "11% \r",
        "11% \r",
        "11% \r",
        "11% \r",
        "11% "
       ]
      },
      {
       "output_type": "stream",
       "stream": "stdout",
       "text": [
        "\r",
        "11% \r",
        "11% "
       ]
      },
      {
       "output_type": "stream",
       "stream": "stdout",
       "text": [
        "\r",
        "11% \r",
        "11% "
       ]
      },
      {
       "output_type": "stream",
       "stream": "stdout",
       "text": [
        "\r",
        "11% \r",
        "11% \r",
        "11% "
       ]
      },
      {
       "output_type": "stream",
       "stream": "stdout",
       "text": [
        "\r",
        "11% \r",
        "11% "
       ]
      },
      {
       "output_type": "stream",
       "stream": "stdout",
       "text": [
        "\r",
        "11% \r",
        "11% "
       ]
      },
      {
       "output_type": "stream",
       "stream": "stdout",
       "text": [
        "\r",
        "11% \r",
        "11% "
       ]
      },
      {
       "output_type": "stream",
       "stream": "stdout",
       "text": [
        "\r",
        "11% \r",
        "11% "
       ]
      },
      {
       "output_type": "stream",
       "stream": "stdout",
       "text": [
        "\r",
        "11% \r",
        "11% \r",
        "11% \r",
        "11% \r",
        "11% \r",
        "11% \r",
        "11% \r",
        "11% \r",
        "11% \r",
        "11% \r",
        "11% "
       ]
      },
      {
       "output_type": "stream",
       "stream": "stdout",
       "text": [
        "\r",
        "11% \r",
        "11% \r",
        "11% \r",
        "11% \r",
        "11% \r",
        "11% \r",
        "11% \r",
        "11% \r",
        "11% \r",
        "11% \r",
        "11% \r",
        "11% \r",
        "11% \r",
        "11% \r",
        "11% \r",
        "11% "
       ]
      },
      {
       "output_type": "stream",
       "stream": "stdout",
       "text": [
        "\r",
        "11% \r",
        "11% \r",
        "11% \r",
        "12% "
       ]
      },
      {
       "output_type": "stream",
       "stream": "stdout",
       "text": [
        "\r",
        "12% \r",
        "12% \r",
        "12% "
       ]
      },
      {
       "output_type": "stream",
       "stream": "stdout",
       "text": [
        "\r",
        "12% \r",
        "12% \r",
        "12% \r",
        "12% \r",
        "12% \r",
        "12% \r",
        "12% \r",
        "12% \r",
        "12% "
       ]
      },
      {
       "output_type": "stream",
       "stream": "stdout",
       "text": [
        "\r",
        "12% \r",
        "12% \r",
        "12% \r",
        "12% \r",
        "12% "
       ]
      },
      {
       "output_type": "stream",
       "stream": "stdout",
       "text": [
        "\r",
        "12% "
       ]
      },
      {
       "output_type": "stream",
       "stream": "stdout",
       "text": [
        "\r",
        "12% \r",
        "12% \r",
        "12% \r",
        "12% \r",
        "12% \r",
        "12% \r",
        "12% "
       ]
      },
      {
       "output_type": "stream",
       "stream": "stdout",
       "text": [
        "\r",
        "12% \r",
        "12% \r",
        "12% \r",
        "12% \r",
        "12% \r",
        "12% \r",
        "12% "
       ]
      },
      {
       "output_type": "stream",
       "stream": "stdout",
       "text": [
        "\r",
        "12% \r",
        "12% \r",
        "12% "
       ]
      },
      {
       "output_type": "stream",
       "stream": "stdout",
       "text": [
        "\r",
        "12% \r",
        "12% \r",
        "12% \r",
        "12% \r",
        "12% \r",
        "12% \r",
        "12% \r",
        "12% \r",
        "12% \r",
        "12% \r",
        "12% "
       ]
      },
      {
       "output_type": "stream",
       "stream": "stdout",
       "text": [
        "\r",
        "12% \r",
        "12% \r",
        "12% \r",
        "12% \r",
        "12% \r",
        "12% \r",
        "12% \r",
        "12% \r",
        "12% \r",
        "12% \r",
        "12% "
       ]
      },
      {
       "output_type": "stream",
       "stream": "stdout",
       "text": [
        "\r",
        "12% \r",
        "12% \r",
        "12% \r",
        "12% \r",
        "12% \r",
        "12% \r",
        "13% \r",
        "13% \r",
        "13% \r",
        "13% \r",
        "13% \r",
        "13% "
       ]
      },
      {
       "output_type": "stream",
       "stream": "stdout",
       "text": [
        "\r",
        "13% \r",
        "13% \r",
        "13% \r",
        "13% \r",
        "13% "
       ]
      },
      {
       "output_type": "stream",
       "stream": "stdout",
       "text": [
        "\r",
        "13% \r",
        "13% \r",
        "13% \r",
        "13% \r",
        "13% \r",
        "13% \r",
        "13% \r",
        "13% "
       ]
      },
      {
       "output_type": "stream",
       "stream": "stdout",
       "text": [
        "\r",
        "13% \r",
        "13% \r",
        "13% "
       ]
      },
      {
       "output_type": "stream",
       "stream": "stdout",
       "text": [
        "\r",
        "13% \r",
        "13% \r",
        "13% "
       ]
      },
      {
       "output_type": "stream",
       "stream": "stdout",
       "text": [
        "\r",
        "13% \r",
        "13% \r",
        "13% "
       ]
      },
      {
       "output_type": "stream",
       "stream": "stdout",
       "text": [
        "\r",
        "13% \r",
        "13% \r",
        "13% \r",
        "13% \r",
        "13% "
       ]
      },
      {
       "output_type": "stream",
       "stream": "stdout",
       "text": [
        "\r",
        "13% "
       ]
      },
      {
       "output_type": "stream",
       "stream": "stdout",
       "text": [
        "\r",
        "13% \r",
        "13% \r",
        "13% \r",
        "13% \r",
        "13% \r",
        "13% \r",
        "13% \r",
        "13% "
       ]
      },
      {
       "output_type": "stream",
       "stream": "stdout",
       "text": [
        "\r",
        "13% \r",
        "13% \r",
        "13% \r",
        "13% \r",
        "13% \r",
        "13% \r",
        "13% \r",
        "13% "
       ]
      },
      {
       "output_type": "stream",
       "stream": "stdout",
       "text": [
        "\r",
        "13% \r",
        "13% \r",
        "13% \r",
        "13% \r",
        "13% \r",
        "13% \r",
        "13% \r",
        "13% \r",
        "13% \r",
        "13% \r",
        "13% \r",
        "13% "
       ]
      },
      {
       "output_type": "stream",
       "stream": "stdout",
       "text": [
        "\r",
        "13% \r",
        "13% \r",
        "14% \r",
        "14% \r",
        "14% \r",
        "14% "
       ]
      },
      {
       "output_type": "stream",
       "stream": "stdout",
       "text": [
        "\r",
        "14% \r",
        "14% \r",
        "14% \r",
        "14% \r",
        "14% \r",
        "14% "
       ]
      },
      {
       "output_type": "stream",
       "stream": "stdout",
       "text": [
        "\r",
        "14% \r",
        "14% \r",
        "14% \r",
        "14% \r",
        "14% \r",
        "14% \r",
        "14% \r",
        "14% \r",
        "14% \r",
        "14% \r",
        "14% \r",
        "14% \r",
        "14% \r",
        "14% "
       ]
      },
      {
       "output_type": "stream",
       "stream": "stdout",
       "text": [
        "\r",
        "14% "
       ]
      },
      {
       "output_type": "stream",
       "stream": "stdout",
       "text": [
        "\r",
        "14% \r",
        "14% "
       ]
      },
      {
       "output_type": "stream",
       "stream": "stdout",
       "text": [
        "\r",
        "14% \r",
        "14% "
       ]
      },
      {
       "output_type": "stream",
       "stream": "stdout",
       "text": [
        "\r",
        "14% \r",
        "14% "
       ]
      },
      {
       "output_type": "stream",
       "stream": "stdout",
       "text": [
        "\r",
        "14% \r",
        "14% \r",
        "14% \r",
        "14% \r",
        "14% "
       ]
      },
      {
       "output_type": "stream",
       "stream": "stdout",
       "text": [
        "\r",
        "14% \r",
        "14% \r",
        "14% \r",
        "14% "
       ]
      },
      {
       "output_type": "stream",
       "stream": "stdout",
       "text": [
        "\r",
        "14% \r",
        "14% \r",
        "14% \r",
        "14% \r",
        "14% \r",
        "14% "
       ]
      },
      {
       "output_type": "stream",
       "stream": "stdout",
       "text": [
        "\r",
        "14% \r",
        "14% \r",
        "14% \r",
        "14% \r",
        "14% \r",
        "14% \r",
        "14% "
       ]
      },
      {
       "output_type": "stream",
       "stream": "stdout",
       "text": [
        "\r",
        "14% \r",
        "14% \r",
        "14% "
       ]
      },
      {
       "output_type": "stream",
       "stream": "stdout",
       "text": [
        "\r",
        "14% \r",
        "14% \r",
        "14% "
       ]
      },
      {
       "output_type": "stream",
       "stream": "stdout",
       "text": [
        "\r",
        "14% \r",
        "14% "
       ]
      },
      {
       "output_type": "stream",
       "stream": "stdout",
       "text": [
        "\r",
        "14% \r",
        "14% "
       ]
      },
      {
       "output_type": "stream",
       "stream": "stdout",
       "text": [
        "\r",
        "14% "
       ]
      },
      {
       "output_type": "stream",
       "stream": "stdout",
       "text": [
        "\r",
        "14% \r",
        "15% \r",
        "15% \r",
        "15% \r",
        "15% \r",
        "15% \r",
        "15% \r",
        "15% \r",
        "15% \r",
        "15% \r",
        "15% \r",
        "15% \r",
        "15% \r",
        "15% \r",
        "15% \r",
        "15% \r",
        "15% \r",
        "15% \r",
        "15% \r",
        "15% \r",
        "15% \r",
        "15% \r",
        "15% \r",
        "15% \r",
        "15% \r",
        "15% \r",
        "15% \r",
        "15% \r",
        "15% \r",
        "15% \r",
        "15% \r",
        "15% "
       ]
      },
      {
       "output_type": "stream",
       "stream": "stdout",
       "text": [
        "\r",
        "15% \r",
        "15% \r",
        "15% \r",
        "15% \r",
        "15% \r",
        "15% \r",
        "15% \r",
        "15% \r",
        "15% \r",
        "15% \r",
        "15% \r",
        "15% \r",
        "15% \r",
        "15% "
       ]
      },
      {
       "output_type": "stream",
       "stream": "stdout",
       "text": [
        "\r",
        "15% \r",
        "15% \r",
        "15% \r",
        "15% \r",
        "15% \r",
        "15% \r",
        "15% \r",
        "15% \r",
        "15% \r",
        "15% \r",
        "15% \r",
        "15% \r",
        "15% \r",
        "15% "
       ]
      },
      {
       "output_type": "stream",
       "stream": "stdout",
       "text": [
        "\r",
        "15% \r",
        "15% \r",
        "15% \r",
        "15% \r",
        "15% \r",
        "16% "
       ]
      },
      {
       "output_type": "stream",
       "stream": "stdout",
       "text": [
        "\r",
        "16% \r",
        "16% \r",
        "16% "
       ]
      },
      {
       "output_type": "stream",
       "stream": "stdout",
       "text": [
        "\r",
        "16% \r",
        "16% \r",
        "16% \r",
        "16% "
       ]
      },
      {
       "output_type": "stream",
       "stream": "stdout",
       "text": [
        "\r",
        "16% \r",
        "16% \r",
        "16% \r",
        "16% \r",
        "16% \r",
        "16% \r",
        "16% \r",
        "16% \r",
        "16% \r",
        "16% \r",
        "16% \r",
        "16% \r",
        "16% \r",
        "16% \r",
        "16% \r",
        "16% "
       ]
      },
      {
       "output_type": "stream",
       "stream": "stdout",
       "text": [
        "\r",
        "16% \r",
        "16% \r",
        "16% \r",
        "16% \r",
        "16% \r",
        "16% \r",
        "16% \r",
        "16% \r",
        "16% \r",
        "16% \r",
        "16% \r",
        "16% \r",
        "16% \r",
        "16% "
       ]
      },
      {
       "output_type": "stream",
       "stream": "stdout",
       "text": [
        "\r",
        "16% \r",
        "16% \r",
        "16% \r",
        "16% \r",
        "16% \r",
        "16% \r",
        "16% \r",
        "16% \r",
        "16% \r",
        "16% "
       ]
      },
      {
       "output_type": "stream",
       "stream": "stdout",
       "text": [
        "\r",
        "16% \r",
        "16% "
       ]
      },
      {
       "output_type": "stream",
       "stream": "stdout",
       "text": [
        "\r",
        "16% \r",
        "16% \r",
        "16% \r",
        "16% \r",
        "16% \r",
        "16% \r",
        "16% \r",
        "16% \r",
        "16% \r",
        "16% \r",
        "16% \r",
        "16% "
       ]
      },
      {
       "output_type": "stream",
       "stream": "stdout",
       "text": [
        "\r",
        "16% \r",
        "16% \r",
        "17% \r",
        "17% \r",
        "17% \r",
        "17% \r",
        "17% \r",
        "17% \r",
        "17% \r",
        "17% \r",
        "17% "
       ]
      },
      {
       "output_type": "stream",
       "stream": "stdout",
       "text": [
        "\r",
        "17% \r",
        "17% "
       ]
      },
      {
       "output_type": "stream",
       "stream": "stdout",
       "text": [
        "\r",
        "17% \r",
        "17% \r",
        "17% \r",
        "17% \r",
        "17% \r",
        "17% \r",
        "17% \r",
        "17% \r",
        "17% \r",
        "17% \r",
        "17% \r",
        "17% \r",
        "17% "
       ]
      },
      {
       "output_type": "stream",
       "stream": "stdout",
       "text": [
        "\r",
        "17% \r",
        "17% \r",
        "17% \r",
        "17% \r",
        "17% \r",
        "17% \r",
        "17% \r",
        "17% \r",
        "17% \r",
        "17% \r",
        "17% \r",
        "17% \r",
        "17% "
       ]
      },
      {
       "output_type": "stream",
       "stream": "stdout",
       "text": [
        "\r",
        "17% \r",
        "17% \r",
        "17% \r",
        "17% \r",
        "17% \r",
        "17% \r",
        "17% \r",
        "17% \r",
        "17% \r",
        "17% \r",
        "17% \r",
        "17% \r",
        "17% \r",
        "17% "
       ]
      },
      {
       "output_type": "stream",
       "stream": "stdout",
       "text": [
        "\r",
        "17% \r",
        "17% \r",
        "17% \r",
        "17% \r",
        "17% \r",
        "17% \r",
        "17% \r",
        "17% \r",
        "17% "
       ]
      },
      {
       "output_type": "stream",
       "stream": "stdout",
       "text": [
        "\r",
        "17% \r",
        "17% \r",
        "17% \r",
        "17% \r",
        "18% \r",
        "18% \r",
        "18% \r",
        "18% \r",
        "18% \r",
        "18% \r",
        "18% \r",
        "18% \r",
        "18% "
       ]
      },
      {
       "output_type": "stream",
       "stream": "stdout",
       "text": [
        "\r",
        "18% \r",
        "18% \r",
        "18% \r",
        "18% \r",
        "18% "
       ]
      },
      {
       "output_type": "stream",
       "stream": "stdout",
       "text": [
        "\r",
        "18% \r",
        "18% \r",
        "18% \r",
        "18% \r",
        "18% "
       ]
      },
      {
       "output_type": "stream",
       "stream": "stdout",
       "text": [
        "\r",
        "18% \r",
        "18% \r",
        "18% \r",
        "18% \r",
        "18% \r",
        "18% \r",
        "18% \r",
        "18% "
       ]
      },
      {
       "output_type": "stream",
       "stream": "stdout",
       "text": [
        "\r",
        "18% \r",
        "18% \r",
        "18% \r",
        "18% \r",
        "18% \r",
        "18% \r",
        "18% \r",
        "18% \r",
        "18% \r",
        "18% \r",
        "18% \r",
        "18% \r",
        "18% \r",
        "18% "
       ]
      },
      {
       "output_type": "stream",
       "stream": "stdout",
       "text": [
        "\r",
        "18% \r",
        "18% \r",
        "18% \r",
        "18% \r",
        "18% \r",
        "18% \r",
        "18% \r",
        "18% \r",
        "18% \r",
        "18% \r",
        "18% \r",
        "18% "
       ]
      },
      {
       "output_type": "stream",
       "stream": "stdout",
       "text": [
        "\r",
        "18% \r",
        "18% \r",
        "18% \r",
        "18% \r",
        "18% \r",
        "18% "
       ]
      },
      {
       "output_type": "stream",
       "stream": "stdout",
       "text": [
        "\r",
        "18% \r",
        "18% \r",
        "18% \r",
        "18% \r",
        "18% \r",
        "19% \r",
        "19% \r",
        "19% "
       ]
      },
      {
       "output_type": "stream",
       "stream": "stdout",
       "text": [
        "\r",
        "19% \r",
        "19% \r",
        "19% \r",
        "19% \r",
        "19% \r",
        "19% \r",
        "19% "
       ]
      },
      {
       "output_type": "stream",
       "stream": "stdout",
       "text": [
        "\r",
        "19% \r",
        "19% "
       ]
      },
      {
       "output_type": "stream",
       "stream": "stdout",
       "text": [
        "\r",
        "19% \r",
        "19% \r",
        "19% \r",
        "19% \r",
        "19% \r",
        "19% \r",
        "19% "
       ]
      },
      {
       "output_type": "stream",
       "stream": "stdout",
       "text": [
        "\r",
        "19% \r",
        "19% \r",
        "19% \r",
        "19% \r",
        "19% \r",
        "19% "
       ]
      },
      {
       "output_type": "stream",
       "stream": "stdout",
       "text": [
        "\r",
        "19% \r",
        "19% \r",
        "19% \r",
        "19% \r",
        "19% \r",
        "19% "
       ]
      },
      {
       "output_type": "stream",
       "stream": "stdout",
       "text": [
        "\r",
        "19% \r",
        "19% \r",
        "19% \r",
        "19% \r",
        "19% "
       ]
      },
      {
       "output_type": "stream",
       "stream": "stdout",
       "text": [
        "\r",
        "19% \r",
        "19% \r",
        "19% \r",
        "19% \r",
        "19% \r",
        "19% \r",
        "19% \r",
        "19% \r",
        "19% \r",
        "19% \r",
        "19% \r",
        "19% \r",
        "19% \r",
        "19% \r",
        "19% \r",
        "19% \r",
        "19% "
       ]
      },
      {
       "output_type": "stream",
       "stream": "stdout",
       "text": [
        "\r",
        "19% "
       ]
      },
      {
       "output_type": "stream",
       "stream": "stdout",
       "text": [
        "\r",
        "19% \r",
        "19% \r",
        "19% \r",
        "19% \r",
        "19% "
       ]
      },
      {
       "output_type": "stream",
       "stream": "stdout",
       "text": [
        "\r",
        "19% \r",
        "19% \r",
        "19% "
       ]
      },
      {
       "output_type": "stream",
       "stream": "stdout",
       "text": [
        "\r",
        "19% \r",
        "19% \r",
        "20% \r",
        "20% "
       ]
      },
      {
       "output_type": "stream",
       "stream": "stdout",
       "text": [
        "\r",
        "20% \r",
        "20% \r",
        "20% \r",
        "20% \r",
        "20% \r",
        "20% \r",
        "20% "
       ]
      },
      {
       "output_type": "stream",
       "stream": "stdout",
       "text": [
        "\r",
        "20% \r",
        "20% \r",
        "20% \r",
        "20% \r",
        "20% \r",
        "20% \r",
        "20% \r",
        "20% \r",
        "20% \r",
        "20% \r",
        "20% \r",
        "20% \r",
        "20% \r",
        "20% \r",
        "20% \r",
        "20% \r",
        "20% \r",
        "20% \r",
        "20% \r",
        "20% \r",
        "20% \r",
        "20% \r",
        "20% \r",
        "20% \r",
        "20% \r",
        "20% \r",
        "20% \r",
        "20% \r",
        "20% \r",
        "20% \r",
        "20% \r",
        "20% \r",
        "20% \r",
        "20% \r",
        "20% \r",
        "20% \r",
        "20% \r",
        "20% \r",
        "20% \r",
        "20% \r",
        "20% \r",
        "20% \r",
        "20% "
       ]
      },
      {
       "output_type": "stream",
       "stream": "stdout",
       "text": [
        "\r",
        "20% \r",
        "20% \r",
        "20% \r",
        "20% \r",
        "20% \r",
        "20% \r",
        "20% "
       ]
      },
      {
       "output_type": "stream",
       "stream": "stdout",
       "text": [
        "\r",
        "20% \r",
        "20% \r",
        "20% \r",
        "20% \r",
        "20% \r",
        "21% \r",
        "21% \r",
        "21% "
       ]
      },
      {
       "output_type": "stream",
       "stream": "stdout",
       "text": [
        "\r",
        "21% \r",
        "21% \r",
        "21% \r",
        "21% "
       ]
      },
      {
       "output_type": "stream",
       "stream": "stdout",
       "text": [
        "\r",
        "21% \r",
        "21% \r",
        "21% \r",
        "21% \r",
        "21% \r",
        "21% \r",
        "21% "
       ]
      },
      {
       "output_type": "stream",
       "stream": "stdout",
       "text": [
        "\r",
        "21% \r",
        "21% \r",
        "21% "
       ]
      },
      {
       "output_type": "stream",
       "stream": "stdout",
       "text": [
        "\r",
        "21% \r",
        "21% \r",
        "21% \r",
        "21% \r",
        "21% \r",
        "21% \r",
        "21% \r",
        "21% \r",
        "21% \r",
        "21% \r",
        "21% \r",
        "21% "
       ]
      },
      {
       "output_type": "stream",
       "stream": "stdout",
       "text": [
        "\r",
        "21% \r",
        "21% \r",
        "21% \r",
        "21% \r",
        "21% \r",
        "21% \r",
        "21% \r",
        "21% \r",
        "21% \r",
        "21% \r",
        "21% \r",
        "21% "
       ]
      },
      {
       "output_type": "stream",
       "stream": "stdout",
       "text": [
        "\r",
        "21% \r",
        "21% \r",
        "21% \r",
        "21% \r",
        "21% \r",
        "21% \r",
        "21% "
       ]
      },
      {
       "output_type": "stream",
       "stream": "stdout",
       "text": [
        "\r",
        "21% \r",
        "21% \r",
        "21% \r",
        "21% \r",
        "21% \r",
        "21% \r",
        "21% \r",
        "21% "
       ]
      },
      {
       "output_type": "stream",
       "stream": "stdout",
       "text": [
        "\r",
        "21% \r",
        "21% \r",
        "21% \r",
        "21% \r",
        "21% \r",
        "21% "
       ]
      },
      {
       "output_type": "stream",
       "stream": "stdout",
       "text": [
        "\r",
        "21% \r",
        "21% \r",
        "22% \r",
        "22% \r",
        "22% \r",
        "22% \r",
        "22% \r",
        "22% \r",
        "22% "
       ]
      },
      {
       "output_type": "stream",
       "stream": "stdout",
       "text": [
        "\r",
        "22% \r",
        "22% \r",
        "22% "
       ]
      },
      {
       "output_type": "stream",
       "stream": "stdout",
       "text": [
        "\r",
        "22% \r",
        "22% "
       ]
      },
      {
       "output_type": "stream",
       "stream": "stdout",
       "text": [
        "\r",
        "22% \r",
        "22% \r",
        "22% "
       ]
      },
      {
       "output_type": "stream",
       "stream": "stdout",
       "text": [
        "\r",
        "22% "
       ]
      },
      {
       "output_type": "stream",
       "stream": "stdout",
       "text": [
        "\r",
        "22% \r",
        "22% \r",
        "22% \r",
        "22% \r",
        "22% "
       ]
      },
      {
       "output_type": "stream",
       "stream": "stdout",
       "text": [
        "\r",
        "22% \r",
        "22% "
       ]
      },
      {
       "output_type": "stream",
       "stream": "stdout",
       "text": [
        "\r",
        "22% \r",
        "22% "
       ]
      },
      {
       "output_type": "stream",
       "stream": "stdout",
       "text": [
        "\r",
        "22% \r",
        "22% "
       ]
      },
      {
       "output_type": "stream",
       "stream": "stdout",
       "text": [
        "\r",
        "22% \r",
        "22% \r",
        "22% \r",
        "22% "
       ]
      },
      {
       "output_type": "stream",
       "stream": "stdout",
       "text": [
        "\r",
        "22% \r",
        "22% \r",
        "22% \r",
        "22% "
       ]
      },
      {
       "output_type": "stream",
       "stream": "stdout",
       "text": [
        "\r",
        "22% \r",
        "22% \r",
        "22% \r",
        "22% \r",
        "22% "
       ]
      },
      {
       "output_type": "stream",
       "stream": "stdout",
       "text": [
        "\r",
        "22% \r",
        "22% "
       ]
      },
      {
       "output_type": "stream",
       "stream": "stdout",
       "text": [
        "\r",
        "22% "
       ]
      },
      {
       "output_type": "stream",
       "stream": "stdout",
       "text": [
        "\r",
        "22% \r",
        "22% "
       ]
      },
      {
       "output_type": "stream",
       "stream": "stdout",
       "text": [
        "\r",
        "22% \r",
        "22% \r",
        "22% \r",
        "22% "
       ]
      },
      {
       "output_type": "stream",
       "stream": "stdout",
       "text": [
        "\r",
        "22% \r",
        "22% \r",
        "22% \r",
        "22% \r",
        "22% \r",
        "22% "
       ]
      },
      {
       "output_type": "stream",
       "stream": "stdout",
       "text": [
        "\r",
        "22% \r",
        "22% \r",
        "22% \r",
        "22% \r",
        "22% \r",
        "22% \r",
        "22% \r",
        "22% \r",
        "22% \r",
        "23% \r",
        "23% \r",
        "23% \r",
        "23% \r",
        "23% "
       ]
      },
      {
       "output_type": "stream",
       "stream": "stdout",
       "text": [
        "\r",
        "23% \r",
        "23% \r",
        "23% \r",
        "23% \r",
        "23% \r",
        "23% \r",
        "23% \r",
        "23% "
       ]
      },
      {
       "output_type": "stream",
       "stream": "stdout",
       "text": [
        "\r",
        "23% \r",
        "23% \r",
        "23% \r",
        "23% \r",
        "23% "
       ]
      },
      {
       "output_type": "stream",
       "stream": "stdout",
       "text": [
        "\r",
        "23% \r",
        "23% \r",
        "23% \r",
        "23% \r",
        "23% \r",
        "23% \r",
        "23% \r",
        "23% \r",
        "23% \r",
        "23% \r",
        "23% "
       ]
      },
      {
       "output_type": "stream",
       "stream": "stdout",
       "text": [
        "\r",
        "23% \r",
        "23% \r",
        "23% \r",
        "23% \r",
        "23% \r",
        "23% \r",
        "23% \r",
        "23% \r",
        "23% \r",
        "23% \r",
        "23% \r",
        "23% "
       ]
      },
      {
       "output_type": "stream",
       "stream": "stdout",
       "text": [
        "\r",
        "23% \r",
        "23% \r",
        "23% \r",
        "23% \r",
        "23% \r",
        "23% \r",
        "23% \r",
        "23% \r",
        "23% \r",
        "23% \r",
        "23% \r",
        "23% \r",
        "23% \r",
        "23% \r",
        "23% \r",
        "23% \r",
        "23% \r",
        "23% \r",
        "23% \r",
        "23% \r",
        "23% \r",
        "23% \r",
        "23% \r",
        "24% \r",
        "24% \r",
        "24% \r",
        "24% \r",
        "24% \r",
        "24% \r",
        "24% \r",
        "24% \r",
        "24% \r",
        "24% \r",
        "24% \r",
        "24% "
       ]
      },
      {
       "output_type": "stream",
       "stream": "stdout",
       "text": [
        "\r",
        "24% \r",
        "24% \r",
        "24% \r",
        "24% \r",
        "24% \r",
        "24% \r",
        "24% \r",
        "24% \r",
        "24% \r",
        "24% \r",
        "24% \r",
        "24% \r",
        "24% \r",
        "24% \r",
        "24% \r",
        "24% \r",
        "24% \r",
        "24% "
       ]
      },
      {
       "output_type": "stream",
       "stream": "stdout",
       "text": [
        "\r",
        "24% \r",
        "24% \r",
        "24% "
       ]
      },
      {
       "output_type": "stream",
       "stream": "stdout",
       "text": [
        "\r",
        "24% "
       ]
      },
      {
       "output_type": "stream",
       "stream": "stdout",
       "text": [
        "\r",
        "24% \r",
        "24% "
       ]
      },
      {
       "output_type": "stream",
       "stream": "stdout",
       "text": [
        "\r",
        "24% "
       ]
      },
      {
       "output_type": "stream",
       "stream": "stdout",
       "text": [
        "\r",
        "24% \r",
        "24% \r",
        "24% "
       ]
      },
      {
       "output_type": "stream",
       "stream": "stdout",
       "text": [
        "\r",
        "24% \r",
        "24% \r",
        "24% \r",
        "24% \r",
        "24% \r",
        "24% \r",
        "24% \r",
        "24% \r",
        "24% \r",
        "24% \r",
        "24% "
       ]
      },
      {
       "output_type": "stream",
       "stream": "stdout",
       "text": [
        "\r",
        "24% \r",
        "24% \r",
        "24% \r",
        "24% \r",
        "24% \r",
        "24% \r",
        "24% \r",
        "24% \r",
        "24% \r",
        "24% \r",
        "24% \r",
        "24% "
       ]
      },
      {
       "output_type": "stream",
       "stream": "stdout",
       "text": [
        "\r",
        "24% \r",
        "25% \r",
        "25% \r",
        "25% \r",
        "25% \r",
        "25% \r",
        "25% \r",
        "25% \r",
        "25% \r",
        "25% \r",
        "25% \r",
        "25% \r",
        "25% "
       ]
      },
      {
       "output_type": "stream",
       "stream": "stdout",
       "text": [
        "\r",
        "25% \r",
        "25% \r",
        "25% \r",
        "25% \r",
        "25% "
       ]
      },
      {
       "output_type": "stream",
       "stream": "stdout",
       "text": [
        "\r",
        "25% \r",
        "25% \r",
        "25% \r",
        "25% \r",
        "25% \r",
        "25% \r",
        "25% \r",
        "25% \r",
        "25% \r",
        "25% \r",
        "25% \r",
        "25% "
       ]
      },
      {
       "output_type": "stream",
       "stream": "stdout",
       "text": [
        "\r",
        "25% \r",
        "25% \r",
        "25% \r",
        "25% "
       ]
      },
      {
       "output_type": "stream",
       "stream": "stdout",
       "text": [
        "\r",
        "25% \r",
        "25% \r",
        "25% \r",
        "25% \r",
        "25% \r",
        "25% \r",
        "25% \r",
        "25% \r",
        "25% "
       ]
      },
      {
       "output_type": "stream",
       "stream": "stdout",
       "text": [
        "\r",
        "25% \r",
        "25% \r",
        "25% \r",
        "25% \r",
        "25% "
       ]
      },
      {
       "output_type": "stream",
       "stream": "stdout",
       "text": [
        "\r",
        "25% \r",
        "25% \r",
        "25% \r",
        "25% \r",
        "25% \r",
        "25% \r",
        "25% "
       ]
      },
      {
       "output_type": "stream",
       "stream": "stdout",
       "text": [
        "\r",
        "25% \r",
        "25% \r",
        "25% \r",
        "25% \r",
        "25% "
       ]
      },
      {
       "output_type": "stream",
       "stream": "stdout",
       "text": [
        "\r",
        "25% \r",
        "25% \r",
        "25% \r",
        "25% \r",
        "25% \r",
        "26% \r",
        "26% \r",
        "26% "
       ]
      },
      {
       "output_type": "stream",
       "stream": "stdout",
       "text": [
        "\r",
        "26% \r",
        "26% \r",
        "26% \r",
        "26% \r",
        "26% \r",
        "26% \r",
        "26% \r",
        "26% \r",
        "26% \r",
        "26% \r",
        "26% \r",
        "26% \r",
        "26% \r",
        "26% \r",
        "26% \r",
        "26% \r",
        "26% "
       ]
      },
      {
       "output_type": "stream",
       "stream": "stdout",
       "text": [
        "\r",
        "26% \r",
        "26% \r",
        "26% \r",
        "26% \r",
        "26% \r",
        "26% \r",
        "26% "
       ]
      },
      {
       "output_type": "stream",
       "stream": "stdout",
       "text": [
        "\r",
        "26% \r",
        "26% \r",
        "26% \r",
        "26% \r",
        "26% \r",
        "26% \r",
        "26% \r",
        "26% \r",
        "26% \r",
        "26% \r",
        "26% \r",
        "26% \r",
        "26% \r",
        "26% \r",
        "26% \r",
        "26% \r",
        "26% "
       ]
      },
      {
       "output_type": "stream",
       "stream": "stdout",
       "text": [
        "\r",
        "26% \r",
        "26% \r",
        "26% \r",
        "26% \r",
        "26% \r",
        "26% \r",
        "26% \r",
        "26% \r",
        "26% \r",
        "26% \r",
        "26% \r",
        "26% \r",
        "26% \r",
        "26% \r",
        "26% \r",
        "26% "
       ]
      },
      {
       "output_type": "stream",
       "stream": "stdout",
       "text": [
        "\r",
        "26% \r",
        "26% \r",
        "26% \r",
        "26% \r",
        "27% \r",
        "27% \r",
        "27% \r",
        "27% "
       ]
      },
      {
       "output_type": "stream",
       "stream": "stdout",
       "text": [
        "\r",
        "27% \r",
        "27% \r",
        "27% "
       ]
      },
      {
       "output_type": "stream",
       "stream": "stdout",
       "text": [
        "\r",
        "27% \r",
        "27% \r",
        "27% \r",
        "27% \r",
        "27% \r",
        "27% "
       ]
      },
      {
       "output_type": "stream",
       "stream": "stdout",
       "text": [
        "\r",
        "27% \r",
        "27% \r",
        "27% \r",
        "27% "
       ]
      },
      {
       "output_type": "stream",
       "stream": "stdout",
       "text": [
        "\r",
        "27% \r",
        "27% \r",
        "27% "
       ]
      },
      {
       "output_type": "stream",
       "stream": "stdout",
       "text": [
        "\r",
        "27% \r",
        "27% \r",
        "27% \r",
        "27% \r",
        "27% \r",
        "27% \r",
        "27% \r",
        "27% "
       ]
      },
      {
       "output_type": "stream",
       "stream": "stdout",
       "text": [
        "\r",
        "27% \r",
        "27% \r",
        "27% \r",
        "27% \r",
        "27% \r",
        "27% \r",
        "27% \r",
        "27% \r",
        "27% \r",
        "27% \r",
        "27% \r",
        "27% \r",
        "27% \r",
        "27% \r",
        "27% \r",
        "27% \r",
        "27% \r",
        "27% \r",
        "27% "
       ]
      },
      {
       "output_type": "stream",
       "stream": "stdout",
       "text": [
        "\r",
        "27% \r",
        "27% \r",
        "27% \r",
        "27% \r",
        "27% \r",
        "27% \r",
        "27% \r",
        "27% \r",
        "27% \r",
        "27% \r",
        "27% \r",
        "27% \r",
        "27% "
       ]
      },
      {
       "output_type": "stream",
       "stream": "stdout",
       "text": [
        "\r",
        "27% \r",
        "27% \r",
        "27% \r",
        "27% \r",
        "28% \r",
        "28% \r",
        "28% \r",
        "28% \r",
        "28% \r",
        "28% \r",
        "28% "
       ]
      },
      {
       "output_type": "stream",
       "stream": "stdout",
       "text": [
        "\r",
        "28% \r",
        "28% \r",
        "28% \r",
        "28% \r",
        "28% \r",
        "28% \r",
        "28% \r",
        "28% \r",
        "28% "
       ]
      },
      {
       "output_type": "stream",
       "stream": "stdout",
       "text": [
        "\r",
        "28% \r",
        "28% "
       ]
      },
      {
       "output_type": "stream",
       "stream": "stdout",
       "text": [
        "\r",
        "28% \r",
        "28% \r",
        "28% \r",
        "28% \r",
        "28% \r",
        "28% \r",
        "28% \r",
        "28% "
       ]
      },
      {
       "output_type": "stream",
       "stream": "stdout",
       "text": [
        "\r",
        "28% \r",
        "28% \r",
        "28% \r",
        "28% \r",
        "28% "
       ]
      },
      {
       "output_type": "stream",
       "stream": "stdout",
       "text": [
        "\r",
        "28% \r",
        "28% \r",
        "28% \r",
        "28% \r",
        "28% \r",
        "28% \r",
        "28% \r",
        "28% \r",
        "28% \r",
        "28% "
       ]
      },
      {
       "output_type": "stream",
       "stream": "stdout",
       "text": [
        "\r",
        "28% \r",
        "28% \r",
        "28% \r",
        "28% \r",
        "28% \r",
        "28% \r",
        "28% \r",
        "28% "
       ]
      },
      {
       "output_type": "stream",
       "stream": "stdout",
       "text": [
        "\r",
        "28% \r",
        "28% \r",
        "28% \r",
        "28% \r",
        "28% \r",
        "28% "
       ]
      },
      {
       "output_type": "stream",
       "stream": "stdout",
       "text": [
        "\r",
        "28% \r",
        "28% \r",
        "28% \r",
        "28% \r",
        "28% "
       ]
      },
      {
       "output_type": "stream",
       "stream": "stdout",
       "text": [
        "\r",
        "28% \r",
        "28% "
       ]
      },
      {
       "output_type": "stream",
       "stream": "stdout",
       "text": [
        "\r",
        "28% \r",
        "28% \r",
        "28% \r",
        "29% \r",
        "29% \r",
        "29% \r",
        "29% \r",
        "29% "
       ]
      },
      {
       "output_type": "stream",
       "stream": "stdout",
       "text": [
        "\r",
        "29% \r",
        "29% \r",
        "29% \r",
        "29% \r",
        "29% "
       ]
      },
      {
       "output_type": "stream",
       "stream": "stdout",
       "text": [
        "\r",
        "29% \r",
        "29% \r",
        "29% "
       ]
      },
      {
       "output_type": "stream",
       "stream": "stdout",
       "text": [
        "\r",
        "29% \r",
        "29% \r",
        "29% \r",
        "29% \r",
        "29% \r",
        "29% \r",
        "29% "
       ]
      },
      {
       "output_type": "stream",
       "stream": "stdout",
       "text": [
        "\r",
        "29% \r",
        "29% \r",
        "29% \r",
        "29% \r",
        "29% \r",
        "29% \r",
        "29% \r",
        "29% \r",
        "29% \r",
        "29% \r",
        "29% \r",
        "29% \r",
        "29% "
       ]
      },
      {
       "output_type": "stream",
       "stream": "stdout",
       "text": [
        "\r",
        "29% \r",
        "29% \r",
        "29% \r",
        "29% \r",
        "29% "
       ]
      },
      {
       "output_type": "stream",
       "stream": "stdout",
       "text": [
        "\r",
        "29% \r",
        "29% \r",
        "29% "
       ]
      },
      {
       "output_type": "stream",
       "stream": "stdout",
       "text": [
        "\r",
        "29% \r",
        "29% "
       ]
      },
      {
       "output_type": "stream",
       "stream": "stdout",
       "text": [
        "\r",
        "29% \r",
        "29% "
       ]
      },
      {
       "output_type": "stream",
       "stream": "stdout",
       "text": [
        "\r",
        "29% "
       ]
      },
      {
       "output_type": "stream",
       "stream": "stdout",
       "text": [
        "\r",
        "29% \r",
        "29% \r",
        "29% "
       ]
      },
      {
       "output_type": "stream",
       "stream": "stdout",
       "text": [
        "\r",
        "29% \r",
        "29% "
       ]
      },
      {
       "output_type": "stream",
       "stream": "stdout",
       "text": [
        "\r",
        "29% \r",
        "29% \r",
        "29% "
       ]
      },
      {
       "output_type": "stream",
       "stream": "stdout",
       "text": [
        "\r",
        "29% \r",
        "29% "
       ]
      },
      {
       "output_type": "stream",
       "stream": "stdout",
       "text": [
        "\r",
        "29% "
       ]
      },
      {
       "output_type": "stream",
       "stream": "stdout",
       "text": [
        "\r",
        "29% "
       ]
      },
      {
       "output_type": "stream",
       "stream": "stdout",
       "text": [
        "\r",
        "29% \r",
        "29% \r",
        "29% "
       ]
      },
      {
       "output_type": "stream",
       "stream": "stdout",
       "text": [
        "\r",
        "29% \r",
        "29% \r",
        "29% "
       ]
      },
      {
       "output_type": "stream",
       "stream": "stdout",
       "text": [
        "\r",
        "30% \r",
        "30% \r",
        "30% \r",
        "30% \r",
        "30% \r",
        "30% \r",
        "30% "
       ]
      },
      {
       "output_type": "stream",
       "stream": "stdout",
       "text": [
        "\r",
        "30% \r",
        "30% \r",
        "30% \r",
        "30% \r",
        "30% \r",
        "30% "
       ]
      },
      {
       "output_type": "stream",
       "stream": "stdout",
       "text": [
        "\r",
        "30% \r",
        "30% "
       ]
      },
      {
       "output_type": "stream",
       "stream": "stdout",
       "text": [
        "\r",
        "30% \r",
        "30% \r",
        "30% \r",
        "30% \r",
        "30% \r",
        "30% \r",
        "30% \r",
        "30% \r",
        "30% \r",
        "30% "
       ]
      },
      {
       "output_type": "stream",
       "stream": "stdout",
       "text": [
        "\r",
        "30% \r",
        "30% \r",
        "30% "
       ]
      },
      {
       "output_type": "stream",
       "stream": "stdout",
       "text": [
        "\r",
        "30% \r",
        "30% \r",
        "30% \r",
        "30% "
       ]
      },
      {
       "output_type": "stream",
       "stream": "stdout",
       "text": [
        "\r",
        "30% \r",
        "30% \r",
        "30% "
       ]
      },
      {
       "output_type": "stream",
       "stream": "stdout",
       "text": [
        "\r",
        "30% \r",
        "30% "
       ]
      },
      {
       "output_type": "stream",
       "stream": "stdout",
       "text": [
        "\r",
        "30% "
       ]
      },
      {
       "output_type": "stream",
       "stream": "stdout",
       "text": [
        "\r",
        "30% \r",
        "30% "
       ]
      },
      {
       "output_type": "stream",
       "stream": "stdout",
       "text": [
        "\r",
        "30% \r",
        "30% "
       ]
      },
      {
       "output_type": "stream",
       "stream": "stdout",
       "text": [
        "\r",
        "30% \r",
        "30% "
       ]
      },
      {
       "output_type": "stream",
       "stream": "stdout",
       "text": [
        "\r",
        "30% \r",
        "30% \r",
        "30% \r",
        "30% \r",
        "30% \r",
        "30% \r",
        "30% \r",
        "30% \r",
        "30% \r",
        "30% \r",
        "30% \r",
        "30% \r",
        "30% \r",
        "30% "
       ]
      },
      {
       "output_type": "stream",
       "stream": "stdout",
       "text": [
        "\r",
        "30% \r",
        "30% \r",
        "30% \r",
        "30% \r",
        "30% \r",
        "30% \r",
        "31% \r",
        "31% "
       ]
      },
      {
       "output_type": "stream",
       "stream": "stdout",
       "text": [
        "\r",
        "31% \r",
        "31% \r",
        "31% \r",
        "31% "
       ]
      },
      {
       "output_type": "stream",
       "stream": "stdout",
       "text": [
        "\r",
        "31% \r",
        "31% \r",
        "31% \r",
        "31% \r",
        "31% \r",
        "31% \r",
        "31% \r",
        "31% \r",
        "31% \r",
        "31% "
       ]
      },
      {
       "output_type": "stream",
       "stream": "stdout",
       "text": [
        "\r",
        "31% \r",
        "31% \r",
        "31% \r",
        "31% \r",
        "31% \r",
        "31% \r",
        "31% \r",
        "31% \r",
        "31% "
       ]
      },
      {
       "output_type": "stream",
       "stream": "stdout",
       "text": [
        "\r",
        "31% \r",
        "31% \r",
        "31% \r",
        "31% \r",
        "31% \r",
        "31% \r",
        "31% \r",
        "31% \r",
        "31% "
       ]
      },
      {
       "output_type": "stream",
       "stream": "stdout",
       "text": [
        "\r",
        "31% \r",
        "31% \r",
        "31% \r",
        "31% \r",
        "31% \r",
        "31% \r",
        "31% \r",
        "31% "
       ]
      },
      {
       "output_type": "stream",
       "stream": "stdout",
       "text": [
        "\r",
        "31% \r",
        "31% \r",
        "31% \r",
        "31% \r",
        "31% \r",
        "31% \r",
        "31% \r",
        "31% \r",
        "31% \r",
        "31% \r",
        "31% \r",
        "31% \r",
        "31% \r",
        "31% \r",
        "31% \r",
        "31% \r",
        "31% \r",
        "31% "
       ]
      },
      {
       "output_type": "stream",
       "stream": "stdout",
       "text": [
        "\r",
        "31% \r",
        "31% \r",
        "31% \r",
        "31% \r",
        "32% \r",
        "32% \r",
        "32% \r",
        "32% \r",
        "32% \r",
        "32% \r",
        "32% \r",
        "32% \r",
        "32% \r",
        "32% \r",
        "32% \r",
        "32% \r",
        "32% \r",
        "32% "
       ]
      },
      {
       "output_type": "stream",
       "stream": "stdout",
       "text": [
        "\r",
        "32% \r",
        "32% \r",
        "32% \r",
        "32% \r",
        "32% \r",
        "32% \r",
        "32% \r",
        "32% \r",
        "32% \r",
        "32% "
       ]
      },
      {
       "output_type": "stream",
       "stream": "stdout",
       "text": [
        "\r",
        "32% \r",
        "32% \r",
        "32% \r",
        "32% \r",
        "32% \r",
        "32% \r",
        "32% \r",
        "32% \r",
        "32% \r",
        "32% \r",
        "32% \r",
        "32% \r",
        "32% \r",
        "32% \r",
        "32% \r",
        "32% \r",
        "32% \r",
        "32% \r",
        "32% "
       ]
      },
      {
       "output_type": "stream",
       "stream": "stdout",
       "text": [
        "\r",
        "32% \r",
        "32% \r",
        "32% \r",
        "32% \r",
        "32% \r",
        "32% \r",
        "32% \r",
        "32% \r",
        "32% \r",
        "32% \r",
        "32% \r",
        "32% \r",
        "32% "
       ]
      },
      {
       "output_type": "stream",
       "stream": "stdout",
       "text": [
        "\r",
        "32% \r",
        "32% \r",
        "32% \r",
        "32% \r",
        "32% \r",
        "32% \r",
        "32% \r",
        "32% \r",
        "33% \r",
        "33% \r",
        "33% \r",
        "33% \r",
        "33% \r",
        "33% \r",
        "33% \r",
        "33% \r",
        "33% \r",
        "33% \r",
        "33% \r",
        "33% "
       ]
      },
      {
       "output_type": "stream",
       "stream": "stdout",
       "text": [
        "\r",
        "33% \r",
        "33% \r",
        "33% \r",
        "33% "
       ]
      },
      {
       "output_type": "stream",
       "stream": "stdout",
       "text": [
        "\r",
        "33% \r",
        "33% \r",
        "33% \r",
        "33% \r",
        "33% \r",
        "33% \r",
        "33% \r",
        "33% \r",
        "33% "
       ]
      },
      {
       "output_type": "stream",
       "stream": "stdout",
       "text": [
        "\r",
        "33% \r",
        "33% \r",
        "33% \r",
        "33% \r",
        "33% \r",
        "33% \r",
        "33% \r",
        "33% \r",
        "33% "
       ]
      },
      {
       "output_type": "stream",
       "stream": "stdout",
       "text": [
        "\r",
        "33% \r",
        "33% \r",
        "33% \r",
        "33% \r",
        "33% \r",
        "33% \r",
        "33% \r",
        "33% "
       ]
      },
      {
       "output_type": "stream",
       "stream": "stdout",
       "text": [
        "\r",
        "33% \r",
        "33% \r",
        "33% \r",
        "33% \r",
        "33% \r",
        "33% "
       ]
      },
      {
       "output_type": "stream",
       "stream": "stdout",
       "text": [
        "\r",
        "33% \r",
        "33% \r",
        "33% \r",
        "33% "
       ]
      },
      {
       "output_type": "stream",
       "stream": "stdout",
       "text": [
        "\r",
        "33% \r",
        "33% \r",
        "33% \r",
        "33% \r",
        "33% "
       ]
      },
      {
       "output_type": "stream",
       "stream": "stdout",
       "text": [
        "\r",
        "33% \r",
        "33% \r",
        "33% \r",
        "33% "
       ]
      },
      {
       "output_type": "stream",
       "stream": "stdout",
       "text": [
        "\r",
        "33% \r",
        "33% \r",
        "33% \r",
        "34% \r",
        "34% \r",
        "34% \r",
        "34% "
       ]
      },
      {
       "output_type": "stream",
       "stream": "stdout",
       "text": [
        "\r",
        "34% \r",
        "34% \r",
        "34% \r",
        "34% \r",
        "34% \r",
        "34% \r",
        "34% \r",
        "34% \r",
        "34% \r",
        "34% \r",
        "34% \r",
        "34% \r",
        "34% \r",
        "34% \r",
        "34% \r",
        "34% \r",
        "34% \r",
        "34% \r",
        "34% "
       ]
      },
      {
       "output_type": "stream",
       "stream": "stdout",
       "text": [
        "\r",
        "34% \r",
        "34% \r",
        "34% \r",
        "34% \r",
        "34% \r",
        "34% \r",
        "34% \r",
        "34% \r",
        "34% \r",
        "34% \r",
        "34% \r",
        "34% \r",
        "34% \r",
        "34% \r",
        "34% \r",
        "34% \r",
        "34% "
       ]
      },
      {
       "output_type": "stream",
       "stream": "stdout",
       "text": [
        "\r",
        "34% \r",
        "34% \r",
        "34% \r",
        "34% \r",
        "34% \r",
        "34% \r",
        "34% "
       ]
      },
      {
       "output_type": "stream",
       "stream": "stdout",
       "text": [
        "\r",
        "34% \r",
        "34% \r",
        "34% \r",
        "34% \r",
        "34% "
       ]
      },
      {
       "output_type": "stream",
       "stream": "stdout",
       "text": [
        "\r",
        "34% \r",
        "34% \r",
        "34% \r",
        "34% \r",
        "34% "
       ]
      },
      {
       "output_type": "stream",
       "stream": "stdout",
       "text": [
        "\r",
        "34% \r",
        "34% \r",
        "34% \r",
        "34% \r",
        "34% \r",
        "34% \r",
        "34% \r",
        "35% \r",
        "35% \r",
        "35% \r",
        "35% \r",
        "35% \r",
        "35% \r",
        "35% \r",
        "35% \r",
        "35% "
       ]
      },
      {
       "output_type": "stream",
       "stream": "stdout",
       "text": [
        "\r",
        "35% \r",
        "35% \r",
        "35% \r",
        "35% \r",
        "35% "
       ]
      },
      {
       "output_type": "stream",
       "stream": "stdout",
       "text": [
        "\r",
        "35% \r",
        "35% \r",
        "35% \r",
        "35% \r",
        "35% \r",
        "35% "
       ]
      },
      {
       "output_type": "stream",
       "stream": "stdout",
       "text": [
        "\r",
        "35% \r",
        "35% \r",
        "35% \r",
        "35% \r",
        "35% "
       ]
      },
      {
       "output_type": "stream",
       "stream": "stdout",
       "text": [
        "\r",
        "35% \r",
        "35% \r",
        "35% \r",
        "35% \r",
        "35% \r",
        "35% \r",
        "35% \r",
        "35% \r",
        "35% \r",
        "35% \r",
        "35% \r",
        "35% "
       ]
      },
      {
       "output_type": "stream",
       "stream": "stdout",
       "text": [
        "\r",
        "35% \r",
        "35% \r",
        "35% "
       ]
      },
      {
       "output_type": "stream",
       "stream": "stdout",
       "text": [
        "\r",
        "35% \r",
        "35% \r",
        "35% \r",
        "35% \r",
        "35% \r",
        "35% \r",
        "35% \r",
        "35% \r",
        "35% \r",
        "35% \r",
        "35% \r",
        "35% "
       ]
      },
      {
       "output_type": "stream",
       "stream": "stdout",
       "text": [
        "\r",
        "35% "
       ]
      },
      {
       "output_type": "stream",
       "stream": "stdout",
       "text": [
        "\r",
        "35% "
       ]
      },
      {
       "output_type": "stream",
       "stream": "stdout",
       "text": [
        "\r",
        "35% "
       ]
      },
      {
       "output_type": "stream",
       "stream": "stdout",
       "text": [
        "\r",
        "35% \r",
        "35% "
       ]
      },
      {
       "output_type": "stream",
       "stream": "stdout",
       "text": [
        "\r",
        "35% \r",
        "35% \r",
        "35% "
       ]
      },
      {
       "output_type": "stream",
       "stream": "stdout",
       "text": [
        "\r",
        "35% \r",
        "35% "
       ]
      },
      {
       "output_type": "stream",
       "stream": "stdout",
       "text": [
        "\r",
        "35% "
       ]
      },
      {
       "output_type": "stream",
       "stream": "stdout",
       "text": [
        "\r",
        "35% \r",
        "36% \r",
        "36% "
       ]
      },
      {
       "output_type": "stream",
       "stream": "stdout",
       "text": [
        "\r",
        "36% "
       ]
      },
      {
       "output_type": "stream",
       "stream": "stdout",
       "text": [
        "\r",
        "36% \r",
        "36% \r",
        "36% "
       ]
      },
      {
       "output_type": "stream",
       "stream": "stdout",
       "text": [
        "\r",
        "36% \r",
        "36% "
       ]
      },
      {
       "output_type": "stream",
       "stream": "stdout",
       "text": [
        "\r",
        "36% \r",
        "36% \r",
        "36% "
       ]
      },
      {
       "output_type": "stream",
       "stream": "stdout",
       "text": [
        "\r",
        "36% \r",
        "36% "
       ]
      },
      {
       "output_type": "stream",
       "stream": "stdout",
       "text": [
        "\r",
        "36% \r",
        "36% \r",
        "36% \r",
        "36% \r",
        "36% "
       ]
      },
      {
       "output_type": "stream",
       "stream": "stdout",
       "text": [
        "\r",
        "36% \r",
        "36% "
       ]
      },
      {
       "output_type": "stream",
       "stream": "stdout",
       "text": [
        "\r",
        "36% \r",
        "36% \r",
        "36% "
       ]
      },
      {
       "output_type": "stream",
       "stream": "stdout",
       "text": [
        "\r",
        "36% \r",
        "36% "
       ]
      },
      {
       "output_type": "stream",
       "stream": "stdout",
       "text": [
        "\r",
        "36% \r",
        "36% "
       ]
      },
      {
       "output_type": "stream",
       "stream": "stdout",
       "text": [
        "\r",
        "36% "
       ]
      },
      {
       "output_type": "stream",
       "stream": "stdout",
       "text": [
        "\r",
        "36% \r",
        "36% "
       ]
      },
      {
       "output_type": "stream",
       "stream": "stdout",
       "text": [
        "\r",
        "36% "
       ]
      },
      {
       "output_type": "stream",
       "stream": "stdout",
       "text": [
        "\r",
        "36% "
       ]
      },
      {
       "output_type": "stream",
       "stream": "stdout",
       "text": [
        "\r",
        "36% \r",
        "36% "
       ]
      },
      {
       "output_type": "stream",
       "stream": "stdout",
       "text": [
        "\r",
        "36% "
       ]
      },
      {
       "output_type": "stream",
       "stream": "stdout",
       "text": [
        "\r",
        "36% "
       ]
      },
      {
       "output_type": "stream",
       "stream": "stdout",
       "text": [
        "\r",
        "36% \r",
        "36% "
       ]
      },
      {
       "output_type": "stream",
       "stream": "stdout",
       "text": [
        "\r",
        "36% \r",
        "36% \r",
        "36% "
       ]
      },
      {
       "output_type": "stream",
       "stream": "stdout",
       "text": [
        "\r",
        "36% "
       ]
      },
      {
       "output_type": "stream",
       "stream": "stdout",
       "text": [
        "\r",
        "36% \r",
        "36% "
       ]
      },
      {
       "output_type": "stream",
       "stream": "stdout",
       "text": [
        "\r",
        "36% \r",
        "36% \r",
        "36% "
       ]
      },
      {
       "output_type": "stream",
       "stream": "stdout",
       "text": [
        "\r",
        "36% \r",
        "36% "
       ]
      },
      {
       "output_type": "stream",
       "stream": "stdout",
       "text": [
        "\r",
        "36% \r",
        "36% "
       ]
      },
      {
       "output_type": "stream",
       "stream": "stdout",
       "text": [
        "\r",
        "36% \r",
        "36% \r",
        "36% "
       ]
      },
      {
       "output_type": "stream",
       "stream": "stdout",
       "text": [
        "\r",
        "36% \r",
        "36% \r",
        "36% "
       ]
      },
      {
       "output_type": "stream",
       "stream": "stdout",
       "text": [
        "\r",
        "36% \r",
        "36% \r",
        "36% "
       ]
      },
      {
       "output_type": "stream",
       "stream": "stdout",
       "text": [
        "\r",
        "36% \r",
        "36% "
       ]
      },
      {
       "output_type": "stream",
       "stream": "stdout",
       "text": [
        "\r",
        "36% "
       ]
      },
      {
       "output_type": "stream",
       "stream": "stdout",
       "text": [
        "\r",
        "36% \r",
        "37% "
       ]
      },
      {
       "output_type": "stream",
       "stream": "stdout",
       "text": [
        "\r",
        "37% \r",
        "37% \r",
        "37% \r",
        "37% \r",
        "37% "
       ]
      },
      {
       "output_type": "stream",
       "stream": "stdout",
       "text": [
        "\r",
        "37% \r",
        "37% "
       ]
      },
      {
       "output_type": "stream",
       "stream": "stdout",
       "text": [
        "\r",
        "37% \r",
        "37% "
       ]
      },
      {
       "output_type": "stream",
       "stream": "stdout",
       "text": [
        "\r",
        "37% \r",
        "37% "
       ]
      },
      {
       "output_type": "stream",
       "stream": "stdout",
       "text": [
        "\r",
        "37% \r",
        "37% \r",
        "37% \r",
        "37% "
       ]
      },
      {
       "output_type": "stream",
       "stream": "stdout",
       "text": [
        "\r",
        "37% \r",
        "37% "
       ]
      },
      {
       "output_type": "stream",
       "stream": "stdout",
       "text": [
        "\r",
        "37% \r",
        "37% \r",
        "37% "
       ]
      },
      {
       "output_type": "stream",
       "stream": "stdout",
       "text": [
        "\r",
        "37% \r",
        "37% \r",
        "37% \r",
        "37% "
       ]
      },
      {
       "output_type": "stream",
       "stream": "stdout",
       "text": [
        "\r",
        "37% \r",
        "37% \r",
        "37% \r",
        "37% \r",
        "37% \r",
        "37% \r",
        "37% \r",
        "37% \r",
        "37% \r",
        "37% \r",
        "37% "
       ]
      },
      {
       "output_type": "stream",
       "stream": "stdout",
       "text": [
        "\r",
        "37% \r",
        "37% \r",
        "37% \r",
        "37% \r",
        "37% \r",
        "37% \r",
        "37% \r",
        "37% \r",
        "37% "
       ]
      },
      {
       "output_type": "stream",
       "stream": "stdout",
       "text": [
        "\r",
        "37% \r",
        "37% \r",
        "37% \r",
        "37% "
       ]
      },
      {
       "output_type": "stream",
       "stream": "stdout",
       "text": [
        "\r",
        "37% "
       ]
      },
      {
       "output_type": "stream",
       "stream": "stdout",
       "text": [
        "\r",
        "37% \r",
        "37% \r",
        "37% \r",
        "37% \r",
        "37% \r",
        "37% \r",
        "37% "
       ]
      },
      {
       "output_type": "stream",
       "stream": "stdout",
       "text": [
        "\r",
        "37% \r",
        "37% \r",
        "37% \r",
        "37% \r",
        "37% \r",
        "37% \r",
        "37% \r",
        "38% \r",
        "38% \r",
        "38% \r",
        "38% \r",
        "38% \r",
        "38% \r",
        "38% \r",
        "38% \r",
        "38% \r",
        "38% \r",
        "38% "
       ]
      },
      {
       "output_type": "stream",
       "stream": "stdout",
       "text": [
        "\r",
        "38% \r",
        "38% \r",
        "38% \r",
        "38% \r",
        "38% \r",
        "38% \r",
        "38% \r",
        "38% \r",
        "38% \r",
        "38% \r",
        "38% "
       ]
      },
      {
       "output_type": "stream",
       "stream": "stdout",
       "text": [
        "\r",
        "38% "
       ]
      },
      {
       "output_type": "stream",
       "stream": "stdout",
       "text": [
        "\r",
        "38% "
       ]
      },
      {
       "output_type": "stream",
       "stream": "stdout",
       "text": [
        "\r",
        "38% \r",
        "38% \r",
        "38% "
       ]
      },
      {
       "output_type": "stream",
       "stream": "stdout",
       "text": [
        "\r",
        "38% \r",
        "38% "
       ]
      },
      {
       "output_type": "stream",
       "stream": "stdout",
       "text": [
        "\r",
        "38% \r",
        "38% \r",
        "38% \r",
        "38% "
       ]
      },
      {
       "output_type": "stream",
       "stream": "stdout",
       "text": [
        "\r",
        "38% \r",
        "38% \r",
        "38% "
       ]
      },
      {
       "output_type": "stream",
       "stream": "stdout",
       "text": [
        "\r",
        "38% "
       ]
      },
      {
       "output_type": "stream",
       "stream": "stdout",
       "text": [
        "\r",
        "38% \r",
        "38% \r",
        "38% "
       ]
      },
      {
       "output_type": "stream",
       "stream": "stdout",
       "text": [
        "\r",
        "38% \r",
        "38% \r",
        "38% "
       ]
      },
      {
       "output_type": "stream",
       "stream": "stdout",
       "text": [
        "\r",
        "38% \r",
        "38% "
       ]
      },
      {
       "output_type": "stream",
       "stream": "stdout",
       "text": [
        "\r",
        "38% \r",
        "38% "
       ]
      },
      {
       "output_type": "stream",
       "stream": "stdout",
       "text": [
        "\r",
        "38% "
       ]
      },
      {
       "output_type": "stream",
       "stream": "stdout",
       "text": [
        "\r",
        "38% \r",
        "38% "
       ]
      },
      {
       "output_type": "stream",
       "stream": "stdout",
       "text": [
        "\r",
        "38% "
       ]
      },
      {
       "output_type": "stream",
       "stream": "stdout",
       "text": [
        "\r",
        "38% "
       ]
      },
      {
       "output_type": "stream",
       "stream": "stdout",
       "text": [
        "\r",
        "38% \r",
        "38% \r",
        "38% "
       ]
      },
      {
       "output_type": "stream",
       "stream": "stdout",
       "text": [
        "\r",
        "38% \r",
        "38% \r",
        "38% \r",
        "38% \r",
        "38% \r",
        "38% \r",
        "38% \r",
        "38% \r",
        "38% "
       ]
      },
      {
       "output_type": "stream",
       "stream": "stdout",
       "text": [
        "\r",
        "39% \r",
        "39% \r",
        "39% \r",
        "39% \r",
        "39% \r",
        "39% "
       ]
      },
      {
       "output_type": "stream",
       "stream": "stdout",
       "text": [
        "\r",
        "39% \r",
        "39% \r",
        "39% \r",
        "39% "
       ]
      },
      {
       "output_type": "stream",
       "stream": "stdout",
       "text": [
        "\r",
        "39% \r",
        "39% \r",
        "39% "
       ]
      },
      {
       "output_type": "stream",
       "stream": "stdout",
       "text": [
        "\r",
        "39% "
       ]
      },
      {
       "output_type": "stream",
       "stream": "stdout",
       "text": [
        "\r",
        "39% "
       ]
      },
      {
       "output_type": "stream",
       "stream": "stdout",
       "text": [
        "\r",
        "39% "
       ]
      },
      {
       "output_type": "stream",
       "stream": "stdout",
       "text": [
        "\r",
        "39% \r",
        "39% "
       ]
      },
      {
       "output_type": "stream",
       "stream": "stdout",
       "text": [
        "\r",
        "39% \r",
        "39% \r",
        "39% "
       ]
      },
      {
       "output_type": "stream",
       "stream": "stdout",
       "text": [
        "\r",
        "39% \r",
        "39% "
       ]
      },
      {
       "output_type": "stream",
       "stream": "stdout",
       "text": [
        "\r",
        "39% \r",
        "39% \r",
        "39% "
       ]
      },
      {
       "output_type": "stream",
       "stream": "stdout",
       "text": [
        "\r",
        "39% \r",
        "39% \r",
        "39% \r",
        "39% \r",
        "39% \r",
        "39% \r",
        "39% \r",
        "39% \r",
        "39% \r",
        "39% \r",
        "39% "
       ]
      },
      {
       "output_type": "stream",
       "stream": "stdout",
       "text": [
        "\r",
        "39% \r",
        "39% \r",
        "39% \r",
        "39% \r",
        "39% \r",
        "39% \r",
        "39% \r",
        "39% "
       ]
      },
      {
       "output_type": "stream",
       "stream": "stdout",
       "text": [
        "\r",
        "39% \r",
        "39% \r",
        "39% \r",
        "39% \r",
        "39% \r",
        "39% \r",
        "39% \r",
        "39% \r",
        "39% \r",
        "39% \r",
        "39% "
       ]
      },
      {
       "output_type": "stream",
       "stream": "stdout",
       "text": [
        "\r",
        "39% "
       ]
      },
      {
       "output_type": "stream",
       "stream": "stdout",
       "text": [
        "\r",
        "39% \r",
        "39% \r",
        "39% \r",
        "39% \r",
        "39% \r",
        "39% "
       ]
      },
      {
       "output_type": "stream",
       "stream": "stdout",
       "text": [
        "\r",
        "39% \r",
        "40% \r",
        "40% \r",
        "40% \r",
        "40% \r",
        "40% \r",
        "40% \r",
        "40% \r",
        "40% "
       ]
      },
      {
       "output_type": "stream",
       "stream": "stdout",
       "text": [
        "\r",
        "40% \r",
        "40% \r",
        "40% \r",
        "40% "
       ]
      },
      {
       "output_type": "stream",
       "stream": "stdout",
       "text": [
        "\r",
        "40% "
       ]
      },
      {
       "output_type": "stream",
       "stream": "stdout",
       "text": [
        "\r",
        "40% \r",
        "40% \r",
        "40% "
       ]
      },
      {
       "output_type": "stream",
       "stream": "stdout",
       "text": [
        "\r",
        "40% "
       ]
      },
      {
       "output_type": "stream",
       "stream": "stdout",
       "text": [
        "\r",
        "40% \r",
        "40% "
       ]
      },
      {
       "output_type": "stream",
       "stream": "stdout",
       "text": [
        "\r",
        "40% \r",
        "40% "
       ]
      },
      {
       "output_type": "stream",
       "stream": "stdout",
       "text": [
        "\r",
        "40% \r",
        "40% "
       ]
      },
      {
       "output_type": "stream",
       "stream": "stdout",
       "text": [
        "\r",
        "40% \r",
        "40% \r",
        "40% "
       ]
      },
      {
       "output_type": "stream",
       "stream": "stdout",
       "text": [
        "\r",
        "40% \r",
        "40% "
       ]
      },
      {
       "output_type": "stream",
       "stream": "stdout",
       "text": [
        "\r",
        "40% "
       ]
      },
      {
       "output_type": "stream",
       "stream": "stdout",
       "text": [
        "\r",
        "40% "
       ]
      },
      {
       "output_type": "stream",
       "stream": "stdout",
       "text": [
        "\r",
        "40% "
       ]
      },
      {
       "output_type": "stream",
       "stream": "stdout",
       "text": [
        "\r",
        "40% \r",
        "40% "
       ]
      },
      {
       "output_type": "stream",
       "stream": "stdout",
       "text": [
        "\r",
        "40% \r",
        "40% \r",
        "40% \r",
        "40% "
       ]
      },
      {
       "output_type": "stream",
       "stream": "stdout",
       "text": [
        "\r",
        "40% \r",
        "40% \r",
        "40% \r",
        "40% \r",
        "40% \r",
        "40% \r",
        "40% \r",
        "40% \r",
        "40% \r",
        "40% \r",
        "40% \r",
        "40% "
       ]
      },
      {
       "output_type": "stream",
       "stream": "stdout",
       "text": [
        "\r",
        "40% \r",
        "40% \r",
        "40% \r",
        "40% \r",
        "40% \r",
        "40% "
       ]
      },
      {
       "output_type": "stream",
       "stream": "stdout",
       "text": [
        "\r",
        "40% \r",
        "40% \r",
        "40% \r",
        "40% \r",
        "40% "
       ]
      },
      {
       "output_type": "stream",
       "stream": "stdout",
       "text": [
        "\r",
        "40% "
       ]
      },
      {
       "output_type": "stream",
       "stream": "stdout",
       "text": [
        "\r",
        "40% \r",
        "40% \r",
        "40% \r",
        "41% \r",
        "41% \r",
        "41% \r",
        "41% \r",
        "41% \r",
        "41% \r",
        "41% \r",
        "41% "
       ]
      },
      {
       "output_type": "stream",
       "stream": "stdout",
       "text": [
        "\r",
        "41% \r",
        "41% \r",
        "41% \r",
        "41% "
       ]
      },
      {
       "output_type": "stream",
       "stream": "stdout",
       "text": [
        "\r",
        "41% \r",
        "41% \r",
        "41% \r",
        "41% \r",
        "41% \r",
        "41% "
       ]
      },
      {
       "output_type": "stream",
       "stream": "stdout",
       "text": [
        "\r",
        "41% \r",
        "41% \r",
        "41% \r",
        "41% "
       ]
      },
      {
       "output_type": "stream",
       "stream": "stdout",
       "text": [
        "\r",
        "41% \r",
        "41% \r",
        "41% \r",
        "41% \r",
        "41% \r",
        "41% \r",
        "41% \r",
        "41% \r",
        "41% \r",
        "41% \r",
        "41% \r",
        "41% "
       ]
      },
      {
       "output_type": "stream",
       "stream": "stdout",
       "text": [
        "\r",
        "41% \r",
        "41% \r",
        "41% "
       ]
      },
      {
       "output_type": "stream",
       "stream": "stdout",
       "text": [
        "\r",
        "41% \r",
        "41% \r",
        "41% \r",
        "41% "
       ]
      },
      {
       "output_type": "stream",
       "stream": "stdout",
       "text": [
        "\r",
        "41% \r",
        "41% \r",
        "41% \r",
        "41% "
       ]
      },
      {
       "output_type": "stream",
       "stream": "stdout",
       "text": [
        "\r",
        "41% \r",
        "41% "
       ]
      },
      {
       "output_type": "stream",
       "stream": "stdout",
       "text": [
        "\r",
        "41% \r",
        "41% "
       ]
      },
      {
       "output_type": "stream",
       "stream": "stdout",
       "text": [
        "\r",
        "41% \r",
        "41% "
       ]
      },
      {
       "output_type": "stream",
       "stream": "stdout",
       "text": [
        "\r",
        "41% \r",
        "41% "
       ]
      },
      {
       "output_type": "stream",
       "stream": "stdout",
       "text": [
        "\r",
        "41% \r",
        "41% "
       ]
      },
      {
       "output_type": "stream",
       "stream": "stdout",
       "text": [
        "\r",
        "41% "
       ]
      },
      {
       "output_type": "stream",
       "stream": "stdout",
       "text": [
        "\r",
        "41% \r",
        "41% \r",
        "41% "
       ]
      },
      {
       "output_type": "stream",
       "stream": "stdout",
       "text": [
        "\r",
        "41% "
       ]
      },
      {
       "output_type": "stream",
       "stream": "stdout",
       "text": [
        "\r",
        "41% "
       ]
      },
      {
       "output_type": "stream",
       "stream": "stdout",
       "text": [
        "\r",
        "41% "
       ]
      },
      {
       "output_type": "stream",
       "stream": "stdout",
       "text": [
        "\r",
        "41% "
       ]
      },
      {
       "output_type": "stream",
       "stream": "stdout",
       "text": [
        "\r",
        "41% \r",
        "42% "
       ]
      },
      {
       "output_type": "stream",
       "stream": "stdout",
       "text": [
        "\r",
        "42% "
       ]
      },
      {
       "output_type": "stream",
       "stream": "stdout",
       "text": [
        "\r",
        "42% \r",
        "42% \r",
        "42% "
       ]
      },
      {
       "output_type": "stream",
       "stream": "stdout",
       "text": [
        "\r",
        "42% "
       ]
      },
      {
       "output_type": "stream",
       "stream": "stdout",
       "text": [
        "\r",
        "42% "
       ]
      },
      {
       "output_type": "stream",
       "stream": "stdout",
       "text": [
        "\r",
        "42% \r",
        "42% "
       ]
      },
      {
       "output_type": "stream",
       "stream": "stdout",
       "text": [
        "\r",
        "42% \r",
        "42% \r",
        "42% \r",
        "42% "
       ]
      },
      {
       "output_type": "stream",
       "stream": "stdout",
       "text": [
        "\r",
        "42% \r",
        "42% \r",
        "42% \r",
        "42% "
       ]
      },
      {
       "output_type": "stream",
       "stream": "stdout",
       "text": [
        "\r",
        "42% \r",
        "42% "
       ]
      },
      {
       "output_type": "stream",
       "stream": "stdout",
       "text": [
        "\r",
        "42% \r",
        "42% \r",
        "42% "
       ]
      },
      {
       "output_type": "stream",
       "stream": "stdout",
       "text": [
        "\r",
        "42% \r",
        "42% \r",
        "42% \r",
        "42% "
       ]
      },
      {
       "output_type": "stream",
       "stream": "stdout",
       "text": [
        "\r",
        "42% "
       ]
      },
      {
       "output_type": "stream",
       "stream": "stdout",
       "text": [
        "\r",
        "42% \r",
        "42% \r",
        "42% \r",
        "42% \r",
        "42% \r",
        "42% \r",
        "42% \r",
        "42% \r",
        "42% "
       ]
      },
      {
       "output_type": "stream",
       "stream": "stdout",
       "text": [
        "\r",
        "42% \r",
        "42% \r",
        "42% \r",
        "42% \r",
        "42% \r",
        "42% \r",
        "42% \r",
        "42% \r",
        "42% \r",
        "42% \r",
        "42% "
       ]
      },
      {
       "output_type": "stream",
       "stream": "stdout",
       "text": [
        "\r",
        "42% \r",
        "42% \r",
        "42% \r",
        "42% \r",
        "42% "
       ]
      },
      {
       "output_type": "stream",
       "stream": "stdout",
       "text": [
        "\r",
        "42% "
       ]
      },
      {
       "output_type": "stream",
       "stream": "stdout",
       "text": [
        "\r",
        "42% "
       ]
      },
      {
       "output_type": "stream",
       "stream": "stdout",
       "text": [
        "\r",
        "42% \r",
        "42% "
       ]
      },
      {
       "output_type": "stream",
       "stream": "stdout",
       "text": [
        "\r",
        "42% \r",
        "42% \r",
        "42% "
       ]
      },
      {
       "output_type": "stream",
       "stream": "stdout",
       "text": [
        "\r",
        "42% \r",
        "42% \r",
        "42% \r",
        "42% "
       ]
      },
      {
       "output_type": "stream",
       "stream": "stdout",
       "text": [
        "\r",
        "42% \r",
        "42% "
       ]
      },
      {
       "output_type": "stream",
       "stream": "stdout",
       "text": [
        "\r",
        "43% "
       ]
      },
      {
       "output_type": "stream",
       "stream": "stdout",
       "text": [
        "\r",
        "43% \r",
        "43% \r",
        "43% "
       ]
      },
      {
       "output_type": "stream",
       "stream": "stdout",
       "text": [
        "\r",
        "43% \r",
        "43% \r",
        "43% \r",
        "43% \r",
        "43% \r",
        "43% \r",
        "43% "
       ]
      },
      {
       "output_type": "stream",
       "stream": "stdout",
       "text": [
        "\r",
        "43% \r",
        "43% "
       ]
      },
      {
       "output_type": "stream",
       "stream": "stdout",
       "text": [
        "\r",
        "43% \r",
        "43% \r",
        "43% \r",
        "43% "
       ]
      },
      {
       "output_type": "stream",
       "stream": "stdout",
       "text": [
        "\r",
        "43% \r",
        "43% \r",
        "43% \r",
        "43% \r",
        "43% \r",
        "43% \r",
        "43% "
       ]
      },
      {
       "output_type": "stream",
       "stream": "stdout",
       "text": [
        "\r",
        "43% \r",
        "43% \r",
        "43% "
       ]
      },
      {
       "output_type": "stream",
       "stream": "stdout",
       "text": [
        "\r",
        "43% \r",
        "43% \r",
        "43% "
       ]
      },
      {
       "output_type": "stream",
       "stream": "stdout",
       "text": [
        "\r",
        "43% \r",
        "43% "
       ]
      },
      {
       "output_type": "stream",
       "stream": "stdout",
       "text": [
        "\r",
        "43% \r",
        "43% \r",
        "43% \r",
        "43% "
       ]
      },
      {
       "output_type": "stream",
       "stream": "stdout",
       "text": [
        "\r",
        "43% \r",
        "43% \r",
        "43% \r",
        "43% "
       ]
      },
      {
       "output_type": "stream",
       "stream": "stdout",
       "text": [
        "\r",
        "43% \r",
        "43% \r",
        "43% \r",
        "43% \r",
        "43% "
       ]
      },
      {
       "output_type": "stream",
       "stream": "stdout",
       "text": [
        "\r",
        "43% \r",
        "43% \r",
        "43% \r",
        "43% \r",
        "43% \r",
        "43% \r",
        "43% "
       ]
      },
      {
       "output_type": "stream",
       "stream": "stdout",
       "text": [
        "\r",
        "43% \r",
        "43% \r",
        "43% "
       ]
      },
      {
       "output_type": "stream",
       "stream": "stdout",
       "text": [
        "\r",
        "43% \r",
        "43% "
       ]
      },
      {
       "output_type": "stream",
       "stream": "stdout",
       "text": [
        "\r",
        "43% \r",
        "43% "
       ]
      },
      {
       "output_type": "stream",
       "stream": "stdout",
       "text": [
        "\r",
        "43% \r",
        "43% "
       ]
      },
      {
       "output_type": "stream",
       "stream": "stdout",
       "text": [
        "\r",
        "43% \r",
        "43% "
       ]
      },
      {
       "output_type": "stream",
       "stream": "stdout",
       "text": [
        "\r",
        "43% \r",
        "44% \r",
        "44% "
       ]
      },
      {
       "output_type": "stream",
       "stream": "stdout",
       "text": [
        "\r",
        "44% \r",
        "44% "
       ]
      },
      {
       "output_type": "stream",
       "stream": "stdout",
       "text": [
        "\r",
        "44% "
       ]
      },
      {
       "output_type": "stream",
       "stream": "stdout",
       "text": [
        "\r",
        "44% \r",
        "44% "
       ]
      },
      {
       "output_type": "stream",
       "stream": "stdout",
       "text": [
        "\r",
        "44% \r",
        "44% "
       ]
      },
      {
       "output_type": "stream",
       "stream": "stdout",
       "text": [
        "\r",
        "44% \r",
        "44% \r",
        "44% "
       ]
      },
      {
       "output_type": "stream",
       "stream": "stdout",
       "text": [
        "\r",
        "44% \r",
        "44% \r",
        "44% \r",
        "44% \r",
        "44% \r",
        "44% \r",
        "44% \r",
        "44% \r",
        "44% \r",
        "44% "
       ]
      },
      {
       "output_type": "stream",
       "stream": "stdout",
       "text": [
        "\r",
        "44% \r",
        "44% \r",
        "44% \r",
        "44% \r",
        "44% "
       ]
      },
      {
       "output_type": "stream",
       "stream": "stdout",
       "text": [
        "\r",
        "44% \r",
        "44% \r",
        "44% \r",
        "44% \r",
        "44% \r",
        "44% "
       ]
      },
      {
       "output_type": "stream",
       "stream": "stdout",
       "text": [
        "\r",
        "44% \r",
        "44% "
       ]
      },
      {
       "output_type": "stream",
       "stream": "stdout",
       "text": [
        "\r",
        "44% \r",
        "44% \r",
        "44% \r",
        "44% \r",
        "44% \r",
        "44% \r",
        "44% \r",
        "44% "
       ]
      },
      {
       "output_type": "stream",
       "stream": "stdout",
       "text": [
        "\r",
        "44% \r",
        "44% \r",
        "44% \r",
        "44% \r",
        "44% \r",
        "44% "
       ]
      },
      {
       "output_type": "stream",
       "stream": "stdout",
       "text": [
        "\r",
        "44% \r",
        "44% "
       ]
      },
      {
       "output_type": "stream",
       "stream": "stdout",
       "text": [
        "\r",
        "44% \r",
        "44% "
       ]
      },
      {
       "output_type": "stream",
       "stream": "stdout",
       "text": [
        "\r",
        "44% \r",
        "44% \r",
        "44% "
       ]
      },
      {
       "output_type": "stream",
       "stream": "stdout",
       "text": [
        "\r",
        "44% "
       ]
      },
      {
       "output_type": "stream",
       "stream": "stdout",
       "text": [
        "\r",
        "44% \r",
        "44% "
       ]
      },
      {
       "output_type": "stream",
       "stream": "stdout",
       "text": [
        "\r",
        "44% "
       ]
      },
      {
       "output_type": "stream",
       "stream": "stdout",
       "text": [
        "\r",
        "44% "
       ]
      },
      {
       "output_type": "stream",
       "stream": "stdout",
       "text": [
        "\r",
        "44% \r",
        "44% \r",
        "44% "
       ]
      },
      {
       "output_type": "stream",
       "stream": "stdout",
       "text": [
        "\r",
        "45% "
       ]
      },
      {
       "output_type": "stream",
       "stream": "stdout",
       "text": [
        "\r",
        "45% "
       ]
      },
      {
       "output_type": "stream",
       "stream": "stdout",
       "text": [
        "\r",
        "45% \r",
        "45% "
       ]
      },
      {
       "output_type": "stream",
       "stream": "stdout",
       "text": [
        "\r",
        "45% \r",
        "45% \r",
        "45% "
       ]
      },
      {
       "output_type": "stream",
       "stream": "stdout",
       "text": [
        "\r",
        "45% \r",
        "45% "
       ]
      },
      {
       "output_type": "stream",
       "stream": "stdout",
       "text": [
        "\r",
        "45% "
       ]
      },
      {
       "output_type": "stream",
       "stream": "stdout",
       "text": [
        "\r",
        "45% \r",
        "45% "
       ]
      },
      {
       "output_type": "stream",
       "stream": "stdout",
       "text": [
        "\r",
        "45% \r",
        "45% "
       ]
      },
      {
       "output_type": "stream",
       "stream": "stdout",
       "text": [
        "\r",
        "45% "
       ]
      },
      {
       "output_type": "stream",
       "stream": "stdout",
       "text": [
        "\r",
        "45% \r",
        "45% \r",
        "45% "
       ]
      },
      {
       "output_type": "stream",
       "stream": "stdout",
       "text": [
        "\r",
        "45% "
       ]
      },
      {
       "output_type": "stream",
       "stream": "stdout",
       "text": [
        "\r",
        "45% \r",
        "45% \r",
        "45% \r",
        "45% \r",
        "45% \r",
        "45% \r",
        "45% "
       ]
      },
      {
       "output_type": "stream",
       "stream": "stdout",
       "text": [
        "\r",
        "45% \r",
        "45% \r",
        "45% \r",
        "45% \r",
        "45% \r",
        "45% \r",
        "45% \r",
        "45% "
       ]
      },
      {
       "output_type": "stream",
       "stream": "stdout",
       "text": [
        "\r",
        "45% \r",
        "45% \r",
        "45% \r",
        "45% \r",
        "45% \r",
        "45% \r",
        "45% \r",
        "45% \r",
        "45% "
       ]
      },
      {
       "output_type": "stream",
       "stream": "stdout",
       "text": [
        "\r",
        "45% \r",
        "45% \r",
        "45% \r",
        "45% \r",
        "45% \r",
        "45% \r",
        "45% \r",
        "45% "
       ]
      },
      {
       "output_type": "stream",
       "stream": "stdout",
       "text": [
        "\r",
        "45% \r",
        "45% \r",
        "45% "
       ]
      },
      {
       "output_type": "stream",
       "stream": "stdout",
       "text": [
        "\r",
        "45% \r",
        "45% \r",
        "45% "
       ]
      },
      {
       "output_type": "stream",
       "stream": "stdout",
       "text": [
        "\r",
        "45% \r",
        "45% \r",
        "45% "
       ]
      },
      {
       "output_type": "stream",
       "stream": "stdout",
       "text": [
        "\r",
        "45% \r",
        "45% \r",
        "45% \r",
        "45% \r",
        "46% \r",
        "46% \r",
        "46% "
       ]
      },
      {
       "output_type": "stream",
       "stream": "stdout",
       "text": [
        "\r",
        "46% \r",
        "46% \r",
        "46% \r",
        "46% "
       ]
      },
      {
       "output_type": "stream",
       "stream": "stdout",
       "text": [
        "\r",
        "46% \r",
        "46% \r",
        "46% \r",
        "46% \r",
        "46% \r",
        "46% \r",
        "46% \r",
        "46% \r",
        "46% "
       ]
      },
      {
       "output_type": "stream",
       "stream": "stdout",
       "text": [
        "\r",
        "46% \r",
        "46% \r",
        "46% \r",
        "46% "
       ]
      },
      {
       "output_type": "stream",
       "stream": "stdout",
       "text": [
        "\r",
        "46% \r",
        "46% \r",
        "46% "
       ]
      },
      {
       "output_type": "stream",
       "stream": "stdout",
       "text": [
        "\r",
        "46% \r",
        "46% "
       ]
      },
      {
       "output_type": "stream",
       "stream": "stdout",
       "text": [
        "\r",
        "46% \r",
        "46% \r",
        "46% \r",
        "46% \r",
        "46% \r",
        "46% "
       ]
      },
      {
       "output_type": "stream",
       "stream": "stdout",
       "text": [
        "\r",
        "46% "
       ]
      },
      {
       "output_type": "stream",
       "stream": "stdout",
       "text": [
        "\r",
        "46% \r",
        "46% "
       ]
      },
      {
       "output_type": "stream",
       "stream": "stdout",
       "text": [
        "\r",
        "46% \r",
        "46% \r",
        "46% \r",
        "46% "
       ]
      },
      {
       "output_type": "stream",
       "stream": "stdout",
       "text": [
        "\r",
        "46% \r",
        "46% \r",
        "46% "
       ]
      },
      {
       "output_type": "stream",
       "stream": "stdout",
       "text": [
        "\r",
        "46% \r",
        "46% \r",
        "46% "
       ]
      },
      {
       "output_type": "stream",
       "stream": "stdout",
       "text": [
        "\r",
        "46% \r",
        "46% \r",
        "46% \r",
        "46% \r",
        "46% "
       ]
      },
      {
       "output_type": "stream",
       "stream": "stdout",
       "text": [
        "\r",
        "46% \r",
        "46% "
       ]
      },
      {
       "output_type": "stream",
       "stream": "stdout",
       "text": [
        "\r",
        "46% \r",
        "46% \r",
        "46% "
       ]
      },
      {
       "output_type": "stream",
       "stream": "stdout",
       "text": [
        "\r",
        "46% "
       ]
      },
      {
       "output_type": "stream",
       "stream": "stdout",
       "text": [
        "\r",
        "46% "
       ]
      },
      {
       "output_type": "stream",
       "stream": "stdout",
       "text": [
        "\r",
        "46% "
       ]
      },
      {
       "output_type": "stream",
       "stream": "stdout",
       "text": [
        "\r",
        "46% \r",
        "46% \r",
        "46% "
       ]
      },
      {
       "output_type": "stream",
       "stream": "stdout",
       "text": [
        "\r",
        "46% \r",
        "46% \r",
        "46% "
       ]
      },
      {
       "output_type": "stream",
       "stream": "stdout",
       "text": [
        "\r",
        "46% "
       ]
      },
      {
       "output_type": "stream",
       "stream": "stdout",
       "text": [
        "\r",
        "47% "
       ]
      },
      {
       "output_type": "stream",
       "stream": "stdout",
       "text": [
        "\r",
        "47% \r",
        "47% "
       ]
      },
      {
       "output_type": "stream",
       "stream": "stdout",
       "text": [
        "\r",
        "47% \r",
        "47% "
       ]
      },
      {
       "output_type": "stream",
       "stream": "stdout",
       "text": [
        "\r",
        "47% "
       ]
      },
      {
       "output_type": "stream",
       "stream": "stdout",
       "text": [
        "\r",
        "47% "
       ]
      },
      {
       "output_type": "stream",
       "stream": "stdout",
       "text": [
        "\r",
        "47% \r",
        "47% "
       ]
      },
      {
       "output_type": "stream",
       "stream": "stdout",
       "text": [
        "\r",
        "47% \r",
        "47% "
       ]
      },
      {
       "output_type": "stream",
       "stream": "stdout",
       "text": [
        "\r",
        "47% \r",
        "47% \r",
        "47% \r",
        "47% "
       ]
      },
      {
       "output_type": "stream",
       "stream": "stdout",
       "text": [
        "\r",
        "47% \r",
        "47% "
       ]
      },
      {
       "output_type": "stream",
       "stream": "stdout",
       "text": [
        "\r",
        "47% \r",
        "47% "
       ]
      },
      {
       "output_type": "stream",
       "stream": "stdout",
       "text": [
        "\r",
        "47% \r",
        "47% \r",
        "47% "
       ]
      },
      {
       "output_type": "stream",
       "stream": "stdout",
       "text": [
        "\r",
        "47% \r",
        "47% "
       ]
      },
      {
       "output_type": "stream",
       "stream": "stdout",
       "text": [
        "\r",
        "47% "
       ]
      },
      {
       "output_type": "stream",
       "stream": "stdout",
       "text": [
        "\r",
        "47% \r",
        "47% "
       ]
      },
      {
       "output_type": "stream",
       "stream": "stdout",
       "text": [
        "\r",
        "47% "
       ]
      },
      {
       "output_type": "stream",
       "stream": "stdout",
       "text": [
        "\r",
        "47% \r",
        "47% "
       ]
      },
      {
       "output_type": "stream",
       "stream": "stdout",
       "text": [
        "\r",
        "47% "
       ]
      },
      {
       "output_type": "stream",
       "stream": "stdout",
       "text": [
        "\r",
        "47% \r",
        "47% \r",
        "47% "
       ]
      },
      {
       "output_type": "stream",
       "stream": "stdout",
       "text": [
        "\r",
        "47% \r",
        "47% "
       ]
      },
      {
       "output_type": "stream",
       "stream": "stdout",
       "text": [
        "\r",
        "47% "
       ]
      },
      {
       "output_type": "stream",
       "stream": "stdout",
       "text": [
        "\r",
        "47% \r",
        "47% "
       ]
      },
      {
       "output_type": "stream",
       "stream": "stdout",
       "text": [
        "\r",
        "47% \r",
        "47% "
       ]
      },
      {
       "output_type": "stream",
       "stream": "stdout",
       "text": [
        "\r",
        "47% \r",
        "47% "
       ]
      },
      {
       "output_type": "stream",
       "stream": "stdout",
       "text": [
        "\r",
        "47% \r",
        "47% "
       ]
      },
      {
       "output_type": "stream",
       "stream": "stdout",
       "text": [
        "\r",
        "47% \r",
        "47% "
       ]
      },
      {
       "output_type": "stream",
       "stream": "stdout",
       "text": [
        "\r",
        "47% "
       ]
      },
      {
       "output_type": "stream",
       "stream": "stdout",
       "text": [
        "\r",
        "47% \r",
        "47% \r",
        "47% \r",
        "47% "
       ]
      },
      {
       "output_type": "stream",
       "stream": "stdout",
       "text": [
        "\r",
        "47% \r",
        "47% \r",
        "47% \r",
        "47% \r",
        "47% \r",
        "47% "
       ]
      },
      {
       "output_type": "stream",
       "stream": "stdout",
       "text": [
        "\r",
        "47% \r",
        "47% \r",
        "47% \r",
        "47% \r",
        "47% \r",
        "47% \r",
        "48% \r",
        "48% \r",
        "48% "
       ]
      },
      {
       "output_type": "stream",
       "stream": "stdout",
       "text": [
        "\r",
        "48% \r",
        "48% \r",
        "48% \r",
        "48% \r",
        "48% \r",
        "48% "
       ]
      },
      {
       "output_type": "stream",
       "stream": "stdout",
       "text": [
        "\r",
        "48% \r",
        "48% \r",
        "48% \r",
        "48% \r",
        "48% \r",
        "48% \r",
        "48% "
       ]
      },
      {
       "output_type": "stream",
       "stream": "stdout",
       "text": [
        "\r",
        "48% "
       ]
      },
      {
       "output_type": "stream",
       "stream": "stdout",
       "text": [
        "\r",
        "48% \r",
        "48% "
       ]
      },
      {
       "output_type": "stream",
       "stream": "stdout",
       "text": [
        "\r",
        "48% "
       ]
      },
      {
       "output_type": "stream",
       "stream": "stdout",
       "text": [
        "\r",
        "48% \r",
        "48% "
       ]
      },
      {
       "output_type": "stream",
       "stream": "stdout",
       "text": [
        "\r",
        "48% "
       ]
      },
      {
       "output_type": "stream",
       "stream": "stdout",
       "text": [
        "\r",
        "48% \r",
        "48% "
       ]
      },
      {
       "output_type": "stream",
       "stream": "stdout",
       "text": [
        "\r",
        "48% "
       ]
      },
      {
       "output_type": "stream",
       "stream": "stdout",
       "text": [
        "\r",
        "48% \r",
        "48% "
       ]
      },
      {
       "output_type": "stream",
       "stream": "stdout",
       "text": [
        "\r",
        "48% \r",
        "48% "
       ]
      },
      {
       "output_type": "stream",
       "stream": "stdout",
       "text": [
        "\r",
        "48% \r",
        "48% \r",
        "48% \r",
        "48% "
       ]
      },
      {
       "output_type": "stream",
       "stream": "stdout",
       "text": [
        "\r",
        "48% \r",
        "48% "
       ]
      },
      {
       "output_type": "stream",
       "stream": "stdout",
       "text": [
        "\r",
        "48% "
       ]
      },
      {
       "output_type": "stream",
       "stream": "stdout",
       "text": [
        "\r",
        "48% \r",
        "48% "
       ]
      },
      {
       "output_type": "stream",
       "stream": "stdout",
       "text": [
        "\r",
        "48% "
       ]
      },
      {
       "output_type": "stream",
       "stream": "stdout",
       "text": [
        "\r",
        "48% \r",
        "48% "
       ]
      },
      {
       "output_type": "stream",
       "stream": "stdout",
       "text": [
        "\r",
        "48% "
       ]
      },
      {
       "output_type": "stream",
       "stream": "stdout",
       "text": [
        "\r",
        "48% "
       ]
      },
      {
       "output_type": "stream",
       "stream": "stdout",
       "text": [
        "\r",
        "48% \r",
        "48% "
       ]
      },
      {
       "output_type": "stream",
       "stream": "stdout",
       "text": [
        "\r",
        "48% "
       ]
      },
      {
       "output_type": "stream",
       "stream": "stdout",
       "text": [
        "\r",
        "48% \r",
        "48% \r",
        "48% "
       ]
      },
      {
       "output_type": "stream",
       "stream": "stdout",
       "text": [
        "\r",
        "48% "
       ]
      },
      {
       "output_type": "stream",
       "stream": "stdout",
       "text": [
        "\r",
        "48% "
       ]
      },
      {
       "output_type": "stream",
       "stream": "stdout",
       "text": [
        "\r",
        "48% "
       ]
      },
      {
       "output_type": "stream",
       "stream": "stdout",
       "text": [
        "\r",
        "48% \r",
        "48% "
       ]
      },
      {
       "output_type": "stream",
       "stream": "stdout",
       "text": [
        "\r",
        "48% \r",
        "48% \r",
        "48% \r",
        "48% \r",
        "48% \r",
        "48% \r",
        "48% \r",
        "48% \r",
        "48% \r",
        "49% "
       ]
      },
      {
       "output_type": "stream",
       "stream": "stdout",
       "text": [
        "\r",
        "49% \r",
        "49% \r",
        "49% \r",
        "49% \r",
        "49% \r",
        "49% \r",
        "49% \r",
        "49% \r",
        "49% \r",
        "49% "
       ]
      },
      {
       "output_type": "stream",
       "stream": "stdout",
       "text": [
        "\r",
        "49% \r",
        "49% \r",
        "49% \r",
        "49% \r",
        "49% \r",
        "49% \r",
        "49% \r",
        "49% \r",
        "49% \r",
        "49% "
       ]
      },
      {
       "output_type": "stream",
       "stream": "stdout",
       "text": [
        "\r",
        "49% \r",
        "49% \r",
        "49% \r",
        "49% \r",
        "49% \r",
        "49% \r",
        "49% \r",
        "49% \r",
        "49% \r",
        "49% \r",
        "49% \r",
        "49% "
       ]
      },
      {
       "output_type": "stream",
       "stream": "stdout",
       "text": [
        "\r",
        "49% \r",
        "49% \r",
        "49% \r",
        "49% \r",
        "49% "
       ]
      },
      {
       "output_type": "stream",
       "stream": "stdout",
       "text": [
        "\r",
        "49% \r",
        "49% \r",
        "49% \r",
        "49% "
       ]
      },
      {
       "output_type": "stream",
       "stream": "stdout",
       "text": [
        "\r",
        "49% \r",
        "49% \r",
        "49% \r",
        "49% \r",
        "49% \r",
        "49% \r",
        "49% \r",
        "49% \r",
        "49% \r",
        "49% \r",
        "49% \r",
        "49% \r",
        "49% \r",
        "49% \r",
        "49% \r",
        "49% \r",
        "49% \r",
        "49% \r",
        "49% \r",
        "49% \r",
        "49% \r",
        "49% \r",
        "50% "
       ]
      },
      {
       "output_type": "stream",
       "stream": "stdout",
       "text": [
        "\r",
        "50% \r",
        "50% \r",
        "50% \r",
        "50% \r",
        "50% \r",
        "50% \r",
        "50% \r",
        "50% "
       ]
      },
      {
       "output_type": "stream",
       "stream": "stdout",
       "text": [
        "\r",
        "50% \r",
        "50% \r",
        "50% \r",
        "50% \r",
        "50% \r",
        "50% "
       ]
      },
      {
       "output_type": "stream",
       "stream": "stdout",
       "text": [
        "\r",
        "50% \r",
        "50% \r",
        "50% "
       ]
      },
      {
       "output_type": "stream",
       "stream": "stdout",
       "text": [
        "\r",
        "50% \r",
        "50% \r",
        "50% "
       ]
      },
      {
       "output_type": "stream",
       "stream": "stdout",
       "text": [
        "\r",
        "50% \r",
        "50% \r",
        "50% \r",
        "50% \r",
        "50% "
       ]
      },
      {
       "output_type": "stream",
       "stream": "stdout",
       "text": [
        "\r",
        "50% \r",
        "50% "
       ]
      },
      {
       "output_type": "stream",
       "stream": "stdout",
       "text": [
        "\r",
        "50% \r",
        "50% \r",
        "50% \r",
        "50% \r",
        "50% \r",
        "50% \r",
        "50% "
       ]
      },
      {
       "output_type": "stream",
       "stream": "stdout",
       "text": [
        "\r",
        "50% \r",
        "50% \r",
        "50% \r",
        "50% \r",
        "50% \r",
        "50% \r",
        "50% \r",
        "50% \r",
        "50% "
       ]
      },
      {
       "output_type": "stream",
       "stream": "stdout",
       "text": [
        "\r",
        "50% \r",
        "50% \r",
        "50% "
       ]
      },
      {
       "output_type": "stream",
       "stream": "stdout",
       "text": [
        "\r",
        "50% \r",
        "50% \r",
        "50% "
       ]
      },
      {
       "output_type": "stream",
       "stream": "stdout",
       "text": [
        "\r",
        "50% \r",
        "50% "
       ]
      },
      {
       "output_type": "stream",
       "stream": "stdout",
       "text": [
        "\r",
        "50% "
       ]
      },
      {
       "output_type": "stream",
       "stream": "stdout",
       "text": [
        "\r",
        "50% "
       ]
      },
      {
       "output_type": "stream",
       "stream": "stdout",
       "text": [
        "\r",
        "50% \r",
        "50% \r",
        "50% \r",
        "50% \r",
        "50% "
       ]
      },
      {
       "output_type": "stream",
       "stream": "stdout",
       "text": [
        "\r",
        "50% \r",
        "50% \r",
        "50% \r",
        "50% \r",
        "50% \r",
        "51% \r",
        "51% \r",
        "51% "
       ]
      },
      {
       "output_type": "stream",
       "stream": "stdout",
       "text": [
        "\r",
        "51% \r",
        "51% \r",
        "51% "
       ]
      },
      {
       "output_type": "stream",
       "stream": "stdout",
       "text": [
        "\r",
        "51% \r",
        "51% \r",
        "51% \r",
        "51% \r",
        "51% \r",
        "51% \r",
        "51% \r",
        "51% \r",
        "51% \r",
        "51% "
       ]
      },
      {
       "output_type": "stream",
       "stream": "stdout",
       "text": [
        "\r",
        "51% \r",
        "51% \r",
        "51% \r",
        "51% \r",
        "51% \r",
        "51% \r",
        "51% \r",
        "51% "
       ]
      },
      {
       "output_type": "stream",
       "stream": "stdout",
       "text": [
        "\r",
        "51% \r",
        "51% \r",
        "51% \r",
        "51% \r",
        "51% \r",
        "51% \r",
        "51% "
       ]
      },
      {
       "output_type": "stream",
       "stream": "stdout",
       "text": [
        "\r",
        "51% \r",
        "51% \r",
        "51% \r",
        "51% \r",
        "51% \r",
        "51% \r",
        "51% \r",
        "51% \r",
        "51% \r",
        "51% "
       ]
      },
      {
       "output_type": "stream",
       "stream": "stdout",
       "text": [
        "\r",
        "51% \r",
        "51% \r",
        "51% \r",
        "51% \r",
        "51% \r",
        "51% \r",
        "51% \r",
        "51% \r",
        "51% \r",
        "51% \r",
        "51% \r",
        "51% \r",
        "51% \r",
        "51% \r",
        "51% \r",
        "51% "
       ]
      },
      {
       "output_type": "stream",
       "stream": "stdout",
       "text": [
        "\r",
        "51% \r",
        "51% \r",
        "51% \r",
        "51% \r",
        "51% \r",
        "51% \r",
        "51% "
       ]
      },
      {
       "output_type": "stream",
       "stream": "stdout",
       "text": [
        "\r",
        "52% \r",
        "52% \r",
        "52% \r",
        "52% \r",
        "52% \r",
        "52% \r",
        "52% \r",
        "52% \r",
        "52% \r",
        "52% "
       ]
      },
      {
       "output_type": "stream",
       "stream": "stdout",
       "text": [
        "\r",
        "52% \r",
        "52% \r",
        "52% "
       ]
      },
      {
       "output_type": "stream",
       "stream": "stdout",
       "text": [
        "\r",
        "52% "
       ]
      },
      {
       "output_type": "stream",
       "stream": "stdout",
       "text": [
        "\r",
        "52% \r",
        "52% \r",
        "52% \r",
        "52% \r",
        "52% "
       ]
      },
      {
       "output_type": "stream",
       "stream": "stdout",
       "text": [
        "\r",
        "52% \r",
        "52% \r",
        "52% "
       ]
      },
      {
       "output_type": "stream",
       "stream": "stdout",
       "text": [
        "\r",
        "52% \r",
        "52% \r",
        "52% \r",
        "52% \r",
        "52% \r",
        "52% \r",
        "52% \r",
        "52% \r",
        "52% \r",
        "52% "
       ]
      },
      {
       "output_type": "stream",
       "stream": "stdout",
       "text": [
        "\r",
        "52% \r",
        "52% \r",
        "52% \r",
        "52% \r",
        "52% \r",
        "52% \r",
        "52% \r",
        "52% \r",
        "52% \r",
        "52% "
       ]
      },
      {
       "output_type": "stream",
       "stream": "stdout",
       "text": [
        "\r",
        "52% "
       ]
      },
      {
       "output_type": "stream",
       "stream": "stdout",
       "text": [
        "\r",
        "52% "
       ]
      },
      {
       "output_type": "stream",
       "stream": "stdout",
       "text": [
        "\r",
        "52% \r",
        "52% \r",
        "52% \r",
        "52% "
       ]
      },
      {
       "output_type": "stream",
       "stream": "stdout",
       "text": [
        "\r",
        "52% \r",
        "52% "
       ]
      },
      {
       "output_type": "stream",
       "stream": "stdout",
       "text": [
        "\r",
        "52% \r",
        "52% \r",
        "52% \r",
        "52% "
       ]
      },
      {
       "output_type": "stream",
       "stream": "stdout",
       "text": [
        "\r",
        "52% "
       ]
      },
      {
       "output_type": "stream",
       "stream": "stdout",
       "text": [
        "\r",
        "52% \r",
        "52% \r",
        "52% "
       ]
      },
      {
       "output_type": "stream",
       "stream": "stdout",
       "text": [
        "\r",
        "52% \r",
        "52% "
       ]
      },
      {
       "output_type": "stream",
       "stream": "stdout",
       "text": [
        "\r",
        "52% \r",
        "52% "
       ]
      },
      {
       "output_type": "stream",
       "stream": "stdout",
       "text": [
        "\r",
        "52% \r",
        "52% \r",
        "53% "
       ]
      },
      {
       "output_type": "stream",
       "stream": "stdout",
       "text": [
        "\r",
        "53% \r",
        "53% "
       ]
      },
      {
       "output_type": "stream",
       "stream": "stdout",
       "text": [
        "\r",
        "53% \r",
        "53% \r",
        "53% "
       ]
      },
      {
       "output_type": "stream",
       "stream": "stdout",
       "text": [
        "\r",
        "53% "
       ]
      },
      {
       "output_type": "stream",
       "stream": "stdout",
       "text": [
        "\r",
        "53% "
       ]
      },
      {
       "output_type": "stream",
       "stream": "stdout",
       "text": [
        "\r",
        "53% \r",
        "53% "
       ]
      },
      {
       "output_type": "stream",
       "stream": "stdout",
       "text": [
        "\r",
        "53% \r",
        "53% \r",
        "53% \r",
        "53% \r",
        "53% \r",
        "53% "
       ]
      },
      {
       "output_type": "stream",
       "stream": "stdout",
       "text": [
        "\r",
        "53% "
       ]
      },
      {
       "output_type": "stream",
       "stream": "stdout",
       "text": [
        "\r",
        "53% \r",
        "53% "
       ]
      },
      {
       "output_type": "stream",
       "stream": "stdout",
       "text": [
        "\r",
        "53% \r",
        "53% \r",
        "53% "
       ]
      },
      {
       "output_type": "stream",
       "stream": "stdout",
       "text": [
        "\r",
        "53% \r",
        "53% \r",
        "53% \r",
        "53% \r",
        "53% \r",
        "53% "
       ]
      },
      {
       "output_type": "stream",
       "stream": "stdout",
       "text": [
        "\r",
        "53% \r",
        "53% \r",
        "53% \r",
        "53% \r",
        "53% \r",
        "53% \r",
        "53% "
       ]
      },
      {
       "output_type": "stream",
       "stream": "stdout",
       "text": [
        "\r",
        "53% \r",
        "53% \r",
        "53% \r",
        "53% \r",
        "53% \r",
        "53% "
       ]
      },
      {
       "output_type": "stream",
       "stream": "stdout",
       "text": [
        "\r",
        "53% \r",
        "53% \r",
        "53% "
       ]
      },
      {
       "output_type": "stream",
       "stream": "stdout",
       "text": [
        "\r",
        "53% \r",
        "53% \r",
        "53% \r",
        "53% \r",
        "53% "
       ]
      },
      {
       "output_type": "stream",
       "stream": "stdout",
       "text": [
        "\r",
        "53% "
       ]
      },
      {
       "output_type": "stream",
       "stream": "stdout",
       "text": [
        "\r",
        "53% \r",
        "53% \r",
        "53% "
       ]
      },
      {
       "output_type": "stream",
       "stream": "stdout",
       "text": [
        "\r",
        "53% \r",
        "53% \r",
        "53% \r",
        "53% \r",
        "53% "
       ]
      },
      {
       "output_type": "stream",
       "stream": "stdout",
       "text": [
        "\r",
        "53% \r",
        "53% \r",
        "53% \r",
        "53% \r",
        "53% \r",
        "53% \r",
        "54% \r",
        "54% \r",
        "54% \r",
        "54% "
       ]
      },
      {
       "output_type": "stream",
       "stream": "stdout",
       "text": [
        "\r",
        "54% \r",
        "54% \r",
        "54% \r",
        "54% \r",
        "54% \r",
        "54% \r",
        "54% \r",
        "54% \r",
        "54% "
       ]
      },
      {
       "output_type": "stream",
       "stream": "stdout",
       "text": [
        "\r",
        "54% \r",
        "54% \r",
        "54% \r",
        "54% \r",
        "54% \r",
        "54% \r",
        "54% \r",
        "54% \r",
        "54% \r",
        "54% \r",
        "54% \r",
        "54% \r",
        "54% \r",
        "54% \r",
        "54% "
       ]
      },
      {
       "output_type": "stream",
       "stream": "stdout",
       "text": [
        "\r",
        "54% \r",
        "54% \r",
        "54% \r",
        "54% \r",
        "54% \r",
        "54% \r",
        "54% \r",
        "54% \r",
        "54% "
       ]
      },
      {
       "output_type": "stream",
       "stream": "stdout",
       "text": [
        "\r",
        "54% \r",
        "54% \r",
        "54% \r",
        "54% \r",
        "54% \r",
        "54% "
       ]
      },
      {
       "output_type": "stream",
       "stream": "stdout",
       "text": [
        "\r",
        "54% \r",
        "54% \r",
        "54% \r",
        "54% "
       ]
      },
      {
       "output_type": "stream",
       "stream": "stdout",
       "text": [
        "\r",
        "54% \r",
        "54% \r",
        "54% \r",
        "54% "
       ]
      },
      {
       "output_type": "stream",
       "stream": "stdout",
       "text": [
        "\r",
        "54% \r",
        "54% "
       ]
      },
      {
       "output_type": "stream",
       "stream": "stdout",
       "text": [
        "\r",
        "54% "
       ]
      },
      {
       "output_type": "stream",
       "stream": "stdout",
       "text": [
        "\r",
        "54% "
       ]
      },
      {
       "output_type": "stream",
       "stream": "stdout",
       "text": [
        "\r",
        "54% \r",
        "54% \r",
        "54% "
       ]
      },
      {
       "output_type": "stream",
       "stream": "stdout",
       "text": [
        "\r",
        "54% \r",
        "54% \r",
        "54% \r",
        "54% "
       ]
      },
      {
       "output_type": "stream",
       "stream": "stdout",
       "text": [
        "\r",
        "54% \r",
        "54% "
       ]
      },
      {
       "output_type": "stream",
       "stream": "stdout",
       "text": [
        "\r",
        "55% \r",
        "55% \r",
        "55% \r",
        "55% "
       ]
      },
      {
       "output_type": "stream",
       "stream": "stdout",
       "text": [
        "\r",
        "55% \r",
        "55% "
       ]
      },
      {
       "output_type": "stream",
       "stream": "stdout",
       "text": [
        "\r",
        "55% \r",
        "55% \r",
        "55% \r",
        "55% "
       ]
      },
      {
       "output_type": "stream",
       "stream": "stdout",
       "text": [
        "\r",
        "55% "
       ]
      },
      {
       "output_type": "stream",
       "stream": "stdout",
       "text": [
        "\r",
        "55% \r",
        "55% \r",
        "55% \r",
        "55% \r",
        "55% \r",
        "55% "
       ]
      },
      {
       "output_type": "stream",
       "stream": "stdout",
       "text": [
        "\r",
        "55% \r",
        "55% \r",
        "55% "
       ]
      },
      {
       "output_type": "stream",
       "stream": "stdout",
       "text": [
        "\r",
        "55% \r",
        "55% "
       ]
      },
      {
       "output_type": "stream",
       "stream": "stdout",
       "text": [
        "\r",
        "55% \r",
        "55% "
       ]
      },
      {
       "output_type": "stream",
       "stream": "stdout",
       "text": [
        "\r",
        "55% "
       ]
      },
      {
       "output_type": "stream",
       "stream": "stdout",
       "text": [
        "\r",
        "55% \r",
        "55% \r",
        "55% \r",
        "55% \r",
        "55% "
       ]
      },
      {
       "output_type": "stream",
       "stream": "stdout",
       "text": [
        "\r",
        "55% \r",
        "55% "
       ]
      },
      {
       "output_type": "stream",
       "stream": "stdout",
       "text": [
        "\r",
        "55% "
       ]
      },
      {
       "output_type": "stream",
       "stream": "stdout",
       "text": [
        "\r",
        "55% \r",
        "55% "
       ]
      },
      {
       "output_type": "stream",
       "stream": "stdout",
       "text": [
        "\r",
        "55% \r",
        "55% \r",
        "55% "
       ]
      },
      {
       "output_type": "stream",
       "stream": "stdout",
       "text": [
        "\r",
        "55% \r",
        "55% \r",
        "55% "
       ]
      },
      {
       "output_type": "stream",
       "stream": "stdout",
       "text": [
        "\r",
        "55% \r",
        "55% \r",
        "55% "
       ]
      },
      {
       "output_type": "stream",
       "stream": "stdout",
       "text": [
        "\r",
        "55% \r",
        "55% \r",
        "55% \r",
        "55% "
       ]
      },
      {
       "output_type": "stream",
       "stream": "stdout",
       "text": [
        "\r",
        "55% \r",
        "55% \r",
        "55% \r",
        "55% \r",
        "55% \r",
        "55% \r",
        "55% \r",
        "55% "
       ]
      },
      {
       "output_type": "stream",
       "stream": "stdout",
       "text": [
        "\r",
        "55% \r",
        "55% \r",
        "55% "
       ]
      },
      {
       "output_type": "stream",
       "stream": "stdout",
       "text": [
        "\r",
        "55% \r",
        "55% \r",
        "55% \r",
        "55% \r",
        "55% "
       ]
      },
      {
       "output_type": "stream",
       "stream": "stdout",
       "text": [
        "\r",
        "56% \r",
        "56% \r",
        "56% \r",
        "56% "
       ]
      },
      {
       "output_type": "stream",
       "stream": "stdout",
       "text": [
        "\r",
        "56% "
       ]
      },
      {
       "output_type": "stream",
       "stream": "stdout",
       "text": [
        "\r",
        "56% \r",
        "56% \r",
        "56% \r",
        "56% \r",
        "56% \r",
        "56% \r",
        "56% "
       ]
      },
      {
       "output_type": "stream",
       "stream": "stdout",
       "text": [
        "\r",
        "56% \r",
        "56% \r",
        "56% \r",
        "56% "
       ]
      },
      {
       "output_type": "stream",
       "stream": "stdout",
       "text": [
        "\r",
        "56% "
       ]
      },
      {
       "output_type": "stream",
       "stream": "stdout",
       "text": [
        "\r",
        "56% \r",
        "56% "
       ]
      },
      {
       "output_type": "stream",
       "stream": "stdout",
       "text": [
        "\r",
        "56% \r",
        "56% \r",
        "56% "
       ]
      },
      {
       "output_type": "stream",
       "stream": "stdout",
       "text": [
        "\r",
        "56% "
       ]
      },
      {
       "output_type": "stream",
       "stream": "stdout",
       "text": [
        "\r",
        "56% "
       ]
      },
      {
       "output_type": "stream",
       "stream": "stdout",
       "text": [
        "\r",
        "56% \r",
        "56% "
       ]
      },
      {
       "output_type": "stream",
       "stream": "stdout",
       "text": [
        "\r",
        "56% \r",
        "56% \r",
        "56% "
       ]
      },
      {
       "output_type": "stream",
       "stream": "stdout",
       "text": [
        "\r",
        "56% \r",
        "56% \r",
        "56% "
       ]
      },
      {
       "output_type": "stream",
       "stream": "stdout",
       "text": [
        "\r",
        "56% \r",
        "56% "
       ]
      },
      {
       "output_type": "stream",
       "stream": "stdout",
       "text": [
        "\r",
        "56% \r",
        "56% \r",
        "56% "
       ]
      },
      {
       "output_type": "stream",
       "stream": "stdout",
       "text": [
        "\r",
        "56% \r",
        "56% "
       ]
      },
      {
       "output_type": "stream",
       "stream": "stdout",
       "text": [
        "\r",
        "56% \r",
        "56% \r",
        "56% "
       ]
      },
      {
       "output_type": "stream",
       "stream": "stdout",
       "text": [
        "\r",
        "56% \r",
        "56% \r",
        "56% "
       ]
      },
      {
       "output_type": "stream",
       "stream": "stdout",
       "text": [
        "\r",
        "56% \r",
        "56% \r",
        "56% \r",
        "56% \r",
        "56% \r",
        "56% "
       ]
      },
      {
       "output_type": "stream",
       "stream": "stdout",
       "text": [
        "\r",
        "56% \r",
        "56% \r",
        "56% \r",
        "56% "
       ]
      },
      {
       "output_type": "stream",
       "stream": "stdout",
       "text": [
        "\r",
        "56% \r",
        "56% \r",
        "56% "
       ]
      },
      {
       "output_type": "stream",
       "stream": "stdout",
       "text": [
        "\r",
        "56% \r",
        "56% \r",
        "56% "
       ]
      },
      {
       "output_type": "stream",
       "stream": "stdout",
       "text": [
        "\r",
        "56% \r",
        "56% "
       ]
      },
      {
       "output_type": "stream",
       "stream": "stdout",
       "text": [
        "\r",
        "56% \r",
        "57% \r",
        "57% \r",
        "57% "
       ]
      },
      {
       "output_type": "stream",
       "stream": "stdout",
       "text": [
        "\r",
        "57% \r",
        "57% \r",
        "57% "
       ]
      },
      {
       "output_type": "stream",
       "stream": "stdout",
       "text": [
        "\r",
        "57% \r",
        "57% \r",
        "57% \r",
        "57% "
       ]
      },
      {
       "output_type": "stream",
       "stream": "stdout",
       "text": [
        "\r",
        "57% "
       ]
      },
      {
       "output_type": "stream",
       "stream": "stdout",
       "text": [
        "\r",
        "57% "
       ]
      },
      {
       "output_type": "stream",
       "stream": "stdout",
       "text": [
        "\r",
        "57% \r",
        "57% \r",
        "57% \r",
        "57% \r",
        "57% \r",
        "57% \r",
        "57% \r",
        "57% \r",
        "57% \r",
        "57% \r",
        "57% \r",
        "57% \r",
        "57% \r",
        "57% "
       ]
      },
      {
       "output_type": "stream",
       "stream": "stdout",
       "text": [
        "\r",
        "57% \r",
        "57% \r",
        "57% \r",
        "57% \r",
        "57% \r",
        "57% \r",
        "57% \r",
        "57% \r",
        "57% \r",
        "57% \r",
        "57% \r",
        "57% \r",
        "57% \r",
        "57% \r",
        "57% "
       ]
      },
      {
       "output_type": "stream",
       "stream": "stdout",
       "text": [
        "\r",
        "57% \r",
        "57% "
       ]
      },
      {
       "output_type": "stream",
       "stream": "stdout",
       "text": [
        "\r",
        "57% \r",
        "57% \r",
        "57% \r",
        "57% \r",
        "57% \r",
        "57% \r",
        "57% "
       ]
      },
      {
       "output_type": "stream",
       "stream": "stdout",
       "text": [
        "\r",
        "57% \r",
        "57% \r",
        "57% \r",
        "57% \r",
        "57% \r",
        "57% \r",
        "57% "
       ]
      },
      {
       "output_type": "stream",
       "stream": "stdout",
       "text": [
        "\r",
        "57% \r",
        "57% \r",
        "57% \r",
        "57% \r",
        "57% \r",
        "57% "
       ]
      },
      {
       "output_type": "stream",
       "stream": "stdout",
       "text": [
        "\r",
        "57% \r",
        "57% \r",
        "58% \r",
        "58% \r",
        "58% \r",
        "58% \r",
        "58% \r",
        "58% \r",
        "58% \r",
        "58% "
       ]
      },
      {
       "output_type": "stream",
       "stream": "stdout",
       "text": [
        "\r",
        "58% \r",
        "58% \r",
        "58% \r",
        "58% \r",
        "58% \r",
        "58% \r",
        "58% "
       ]
      },
      {
       "output_type": "stream",
       "stream": "stdout",
       "text": [
        "\r",
        "58% \r",
        "58% \r",
        "58% \r",
        "58% \r",
        "58% \r",
        "58% \r",
        "58% \r",
        "58% "
       ]
      },
      {
       "output_type": "stream",
       "stream": "stdout",
       "text": [
        "\r",
        "58% \r",
        "58% \r",
        "58% \r",
        "58% \r",
        "58% \r",
        "58% \r",
        "58% "
       ]
      },
      {
       "output_type": "stream",
       "stream": "stdout",
       "text": [
        "\r",
        "58% \r",
        "58% \r",
        "58% \r",
        "58% \r",
        "58% \r",
        "58% \r",
        "58% \r",
        "58% \r",
        "58% \r",
        "58% \r",
        "58% \r",
        "58% \r",
        "58% \r",
        "58% \r",
        "58% \r",
        "58% "
       ]
      },
      {
       "output_type": "stream",
       "stream": "stdout",
       "text": [
        "\r",
        "58% \r",
        "58% \r",
        "58% \r",
        "58% \r",
        "58% \r",
        "58% \r",
        "58% \r",
        "58% "
       ]
      },
      {
       "output_type": "stream",
       "stream": "stdout",
       "text": [
        "\r",
        "58% \r",
        "58% \r",
        "58% \r",
        "58% "
       ]
      },
      {
       "output_type": "stream",
       "stream": "stdout",
       "text": [
        "\r",
        "58% \r",
        "58% \r",
        "58% \r",
        "58% \r",
        "58% \r",
        "58% \r",
        "59% \r",
        "59% "
       ]
      },
      {
       "output_type": "stream",
       "stream": "stdout",
       "text": [
        "\r",
        "59% \r",
        "59% \r",
        "59% \r",
        "59% \r",
        "59% \r",
        "59% \r",
        "59% \r",
        "59% \r",
        "59% \r",
        "59% \r",
        "59% "
       ]
      },
      {
       "output_type": "stream",
       "stream": "stdout",
       "text": [
        "\r",
        "59% \r",
        "59% \r",
        "59% \r",
        "59% \r",
        "59% \r",
        "59% \r",
        "59% \r",
        "59% \r",
        "59% \r",
        "59% \r",
        "59% \r",
        "59% \r",
        "59% \r",
        "59% "
       ]
      },
      {
       "output_type": "stream",
       "stream": "stdout",
       "text": [
        "\r",
        "59% \r",
        "59% \r",
        "59% \r",
        "59% "
       ]
      },
      {
       "output_type": "stream",
       "stream": "stdout",
       "text": [
        "\r",
        "59% \r",
        "59% \r",
        "59% \r",
        "59% \r",
        "59% \r",
        "59% \r",
        "59% \r",
        "59% \r",
        "59% "
       ]
      },
      {
       "output_type": "stream",
       "stream": "stdout",
       "text": [
        "\r",
        "59% \r",
        "59% \r",
        "59% \r",
        "59% \r",
        "59% "
       ]
      },
      {
       "output_type": "stream",
       "stream": "stdout",
       "text": [
        "\r",
        "59% \r",
        "59% \r",
        "59% \r",
        "59% "
       ]
      },
      {
       "output_type": "stream",
       "stream": "stdout",
       "text": [
        "\r",
        "59% \r",
        "59% \r",
        "59% \r",
        "59% "
       ]
      },
      {
       "output_type": "stream",
       "stream": "stdout",
       "text": [
        "\r",
        "59% \r",
        "59% "
       ]
      },
      {
       "output_type": "stream",
       "stream": "stdout",
       "text": [
        "\r",
        "59% "
       ]
      },
      {
       "output_type": "stream",
       "stream": "stdout",
       "text": [
        "\r",
        "59% \r",
        "59% "
       ]
      },
      {
       "output_type": "stream",
       "stream": "stdout",
       "text": [
        "\r",
        "59% \r",
        "59% \r",
        "59% "
       ]
      },
      {
       "output_type": "stream",
       "stream": "stdout",
       "text": [
        "\r",
        "59% \r",
        "59% "
       ]
      },
      {
       "output_type": "stream",
       "stream": "stdout",
       "text": [
        "\r",
        "59% \r",
        "60% "
       ]
      },
      {
       "output_type": "stream",
       "stream": "stdout",
       "text": [
        "\r",
        "60% \r",
        "60% "
       ]
      },
      {
       "output_type": "stream",
       "stream": "stdout",
       "text": [
        "\r",
        "60% \r",
        "60% \r",
        "60% "
       ]
      },
      {
       "output_type": "stream",
       "stream": "stdout",
       "text": [
        "\r",
        "60% "
       ]
      },
      {
       "output_type": "stream",
       "stream": "stdout",
       "text": [
        "\r",
        "60% \r",
        "60% "
       ]
      },
      {
       "output_type": "stream",
       "stream": "stdout",
       "text": [
        "\r",
        "60% \r",
        "60% "
       ]
      },
      {
       "output_type": "stream",
       "stream": "stdout",
       "text": [
        "\r",
        "60% \r",
        "60% "
       ]
      },
      {
       "output_type": "stream",
       "stream": "stdout",
       "text": [
        "\r",
        "60% \r",
        "60% \r",
        "60% \r",
        "60% \r",
        "60% \r",
        "60% \r",
        "60% \r",
        "60% \r",
        "60% \r",
        "60% \r",
        "60% \r",
        "60% \r",
        "60% "
       ]
      },
      {
       "output_type": "stream",
       "stream": "stdout",
       "text": [
        "\r",
        "60% \r",
        "60% \r",
        "60% "
       ]
      },
      {
       "output_type": "stream",
       "stream": "stdout",
       "text": [
        "\r",
        "60% \r",
        "60% \r",
        "60% "
       ]
      },
      {
       "output_type": "stream",
       "stream": "stdout",
       "text": [
        "\r",
        "60% \r",
        "60% \r",
        "60% \r",
        "60% \r",
        "60% \r",
        "60% \r",
        "60% \r",
        "60% "
       ]
      },
      {
       "output_type": "stream",
       "stream": "stdout",
       "text": [
        "\r",
        "60% "
       ]
      },
      {
       "output_type": "stream",
       "stream": "stdout",
       "text": [
        "\r",
        "60% \r",
        "60% \r",
        "60% "
       ]
      },
      {
       "output_type": "stream",
       "stream": "stdout",
       "text": [
        "\r",
        "60% \r",
        "60% \r",
        "60% \r",
        "60% \r",
        "60% \r",
        "60% \r",
        "60% \r",
        "60% \r",
        "60% \r",
        "60% "
       ]
      },
      {
       "output_type": "stream",
       "stream": "stdout",
       "text": [
        "\r",
        "60% \r",
        "60% \r",
        "60% \r",
        "60% \r",
        "60% \r",
        "60% \r",
        "60% \r",
        "60% \r",
        "60% \r",
        "60% \r",
        "61% \r",
        "61% \r",
        "61% \r",
        "61% \r",
        "61% \r",
        "61% \r",
        "61% \r",
        "61% \r",
        "61% \r",
        "61% \r",
        "61% \r",
        "61% \r",
        "61% \r",
        "61% \r",
        "61% \r",
        "61% \r",
        "61% \r",
        "61% \r",
        "61% \r",
        "61% \r",
        "61% \r",
        "61% \r",
        "61% \r",
        "61% \r",
        "61% \r",
        "61% \r",
        "61% \r",
        "61% \r",
        "61% \r",
        "61% \r",
        "61% \r",
        "61% \r",
        "61% \r",
        "61% \r",
        "61% \r",
        "61% \r",
        "61% \r",
        "61% \r",
        "61% \r",
        "61% \r",
        "61% \r",
        "61% \r",
        "61% \r",
        "61% \r",
        "61% \r",
        "61% \r",
        "61% \r",
        "61% \r",
        "61% \r",
        "61% \r",
        "61% \r",
        "61% \r",
        "61% \r",
        "61% \r",
        "61% \r",
        "61% \r",
        "61% \r",
        "61% \r",
        "61% \r",
        "61% \r",
        "61% \r",
        "61% \r",
        "61% \r",
        "61% \r",
        "62% \r",
        "62% \r",
        "62% \r",
        "62% \r",
        "62% \r",
        "62% \r",
        "62% \r",
        "62% \r",
        "62% \r",
        "62% \r",
        "62% \r",
        "62% \r",
        "62% \r",
        "62% \r",
        "62% \r",
        "62% \r",
        "62% \r",
        "62% "
       ]
      },
      {
       "output_type": "stream",
       "stream": "stdout",
       "text": [
        "\r",
        "62% \r",
        "62% \r",
        "62% \r",
        "62% \r",
        "62% \r",
        "62% \r",
        "62% \r",
        "62% \r",
        "62% \r",
        "62% \r",
        "62% \r",
        "62% \r",
        "62% \r",
        "62% \r",
        "62% \r",
        "62% \r",
        "62% \r",
        "62% \r",
        "62% \r",
        "62% \r",
        "62% \r",
        "62% \r",
        "62% \r",
        "62% \r",
        "62% \r",
        "62% \r",
        "62% \r",
        "62% \r",
        "62% \r",
        "62% \r",
        "62% \r",
        "62% \r",
        "62% \r",
        "62% \r",
        "62% \r",
        "62% \r",
        "62% \r",
        "62% \r",
        "62% \r",
        "62% \r",
        "62% \r",
        "62% \r",
        "62% \r",
        "62% \r",
        "62% \r",
        "62% \r",
        "63% \r",
        "63% \r",
        "63% \r",
        "63% \r",
        "63% \r",
        "63% \r",
        "63% \r",
        "63% \r",
        "63% \r",
        "63% \r",
        "63% \r",
        "63% \r",
        "63% \r",
        "63% \r",
        "63% \r",
        "63% \r",
        "63% \r",
        "63% \r",
        "63% "
       ]
      },
      {
       "output_type": "stream",
       "stream": "stdout",
       "text": [
        "\r",
        "63% \r",
        "63% \r",
        "63% \r",
        "63% \r",
        "63% \r",
        "63% \r",
        "63% \r",
        "63% \r",
        "63% \r",
        "63% \r",
        "63% \r",
        "63% \r",
        "63% \r",
        "63% \r",
        "63% \r",
        "63% \r",
        "63% \r",
        "63% \r",
        "63% \r",
        "63% \r",
        "63% \r",
        "63% \r",
        "63% \r",
        "63% \r",
        "63% \r",
        "63% "
       ]
      },
      {
       "output_type": "stream",
       "stream": "stdout",
       "text": [
        "\r",
        "63% \r",
        "63% \r",
        "63% \r",
        "63% \r",
        "63% \r",
        "63% \r",
        "63% \r",
        "63% \r",
        "63% \r",
        "63% \r",
        "63% \r",
        "63% \r",
        "63% \r",
        "63% \r",
        "63% \r",
        "63% \r",
        "63% \r",
        "63% \r",
        "63% \r",
        "64% \r",
        "64% \r",
        "64% \r",
        "64% \r",
        "64% \r",
        "64% \r",
        "64% \r",
        "64% \r",
        "64% \r",
        "64% \r",
        "64% \r",
        "64% \r",
        "64% "
       ]
      },
      {
       "output_type": "stream",
       "stream": "stdout",
       "text": [
        "\r",
        "64% \r",
        "64% "
       ]
      },
      {
       "output_type": "stream",
       "stream": "stdout",
       "text": [
        "\r",
        "64% \r",
        "64% \r",
        "64% \r",
        "64% \r",
        "64% \r",
        "64% \r",
        "64% \r",
        "64% \r",
        "64% \r",
        "64% \r",
        "64% \r",
        "64% \r",
        "64% \r",
        "64% \r",
        "64% \r",
        "64% \r",
        "64% \r",
        "64% \r",
        "64% \r",
        "64% \r",
        "64% \r",
        "64% \r",
        "64% \r",
        "64% \r",
        "64% \r",
        "64% \r",
        "64% \r",
        "64% \r",
        "64% \r",
        "64% \r",
        "64% \r",
        "64% \r",
        "64% \r",
        "64% \r",
        "64% \r",
        "64% "
       ]
      },
      {
       "output_type": "stream",
       "stream": "stdout",
       "text": [
        "\r",
        "64% \r",
        "64% \r",
        "64% \r",
        "64% \r",
        "64% \r",
        "64% \r",
        "64% \r",
        "64% \r",
        "64% \r",
        "64% \r",
        "64% \r",
        "64% \r",
        "64% \r",
        "65% \r",
        "65% \r",
        "65% \r",
        "65% \r",
        "65% \r",
        "65% \r",
        "65% \r",
        "65% \r",
        "65% "
       ]
      },
      {
       "output_type": "stream",
       "stream": "stdout",
       "text": [
        "\r",
        "65% \r",
        "65% \r",
        "65% \r",
        "65% \r",
        "65% "
       ]
      },
      {
       "output_type": "stream",
       "stream": "stdout",
       "text": [
        "\r",
        "65% \r",
        "65% \r",
        "65% \r",
        "65% \r",
        "65% \r",
        "65% \r",
        "65% \r",
        "65% "
       ]
      },
      {
       "output_type": "stream",
       "stream": "stdout",
       "text": [
        "\r",
        "65% \r",
        "65% \r",
        "65% \r",
        "65% \r",
        "65% \r",
        "65% "
       ]
      },
      {
       "output_type": "stream",
       "stream": "stdout",
       "text": [
        "\r",
        "65% \r",
        "65% \r",
        "65% \r",
        "65% \r",
        "65% \r",
        "65% \r",
        "65% \r",
        "65% \r",
        "65% \r",
        "65% \r",
        "65% \r",
        "65% \r",
        "65% \r",
        "65% "
       ]
      },
      {
       "output_type": "stream",
       "stream": "stdout",
       "text": [
        "\r",
        "65% \r",
        "65% \r",
        "65% \r",
        "65% \r",
        "65% \r",
        "65% \r",
        "65% \r",
        "65% \r",
        "65% "
       ]
      },
      {
       "output_type": "stream",
       "stream": "stdout",
       "text": [
        "\r",
        "65% \r",
        "65% \r",
        "65% \r",
        "65% \r",
        "65% \r",
        "65% \r",
        "65% \r",
        "65% \r",
        "65% \r",
        "65% \r",
        "65% "
       ]
      },
      {
       "output_type": "stream",
       "stream": "stdout",
       "text": [
        "\r",
        "65% \r",
        "65% \r",
        "66% \r",
        "66% \r",
        "66% \r",
        "66% \r",
        "66% \r",
        "66% \r",
        "66% \r",
        "66% \r",
        "66% \r",
        "66% \r",
        "66% \r",
        "66% \r",
        "66% \r",
        "66% \r",
        "66% \r",
        "66% \r",
        "66% \r",
        "66% \r",
        "66% \r",
        "66% \r",
        "66% \r",
        "66% \r",
        "66% "
       ]
      },
      {
       "output_type": "stream",
       "stream": "stdout",
       "text": [
        "\r",
        "66% \r",
        "66% \r",
        "66% \r",
        "66% \r",
        "66% \r",
        "66% \r",
        "66% \r",
        "66% \r",
        "66% \r",
        "66% \r",
        "66% \r",
        "66% \r",
        "66% \r",
        "66% \r",
        "66% "
       ]
      },
      {
       "output_type": "stream",
       "stream": "stdout",
       "text": [
        "\r",
        "66% \r",
        "66% \r",
        "66% \r",
        "66% \r",
        "66% \r",
        "66% \r",
        "66% \r",
        "66% \r",
        "66% \r",
        "66% \r",
        "66% \r",
        "66% \r",
        "66% \r",
        "66% \r",
        "66% \r",
        "66% \r",
        "66% \r",
        "66% \r",
        "66% \r",
        "66% \r",
        "66% \r",
        "66% "
       ]
      },
      {
       "output_type": "stream",
       "stream": "stdout",
       "text": [
        "\r",
        "66% \r",
        "66% \r",
        "66% \r",
        "66% \r",
        "67% \r",
        "67% "
       ]
      },
      {
       "output_type": "stream",
       "stream": "stdout",
       "text": [
        "\r",
        "67% \r",
        "67% \r",
        "67% \r",
        "67% "
       ]
      },
      {
       "output_type": "stream",
       "stream": "stdout",
       "text": [
        "\r",
        "67% \r",
        "67% "
       ]
      },
      {
       "output_type": "stream",
       "stream": "stdout",
       "text": [
        "\r",
        "67% "
       ]
      },
      {
       "output_type": "stream",
       "stream": "stdout",
       "text": [
        "\r",
        "67% \r",
        "67% \r",
        "67% \r",
        "67% \r",
        "67% \r",
        "67% "
       ]
      },
      {
       "output_type": "stream",
       "stream": "stdout",
       "text": [
        "\r",
        "67% \r",
        "67% "
       ]
      },
      {
       "output_type": "stream",
       "stream": "stdout",
       "text": [
        "\r",
        "67% \r",
        "67% \r",
        "67% "
       ]
      },
      {
       "output_type": "stream",
       "stream": "stdout",
       "text": [
        "\r",
        "67% \r",
        "67% \r",
        "67% \r",
        "67% \r",
        "67% \r",
        "67% "
       ]
      },
      {
       "output_type": "stream",
       "stream": "stdout",
       "text": [
        "\r",
        "67% "
       ]
      },
      {
       "output_type": "stream",
       "stream": "stdout",
       "text": [
        "\r",
        "67% "
       ]
      },
      {
       "output_type": "stream",
       "stream": "stdout",
       "text": [
        "\r",
        "67% \r",
        "67% "
       ]
      },
      {
       "output_type": "stream",
       "stream": "stdout",
       "text": [
        "\r",
        "67% \r",
        "67% \r",
        "67% \r",
        "67% \r",
        "67% \r",
        "67% \r",
        "67% \r",
        "67% "
       ]
      },
      {
       "output_type": "stream",
       "stream": "stdout",
       "text": [
        "\r",
        "67% \r",
        "67% \r",
        "67% \r",
        "67% "
       ]
      },
      {
       "output_type": "stream",
       "stream": "stdout",
       "text": [
        "\r",
        "67% "
       ]
      },
      {
       "output_type": "stream",
       "stream": "stdout",
       "text": [
        "\r",
        "67% \r",
        "67% \r",
        "67% \r",
        "67% \r",
        "67% \r",
        "67% \r",
        "67% \r",
        "67% \r",
        "67% "
       ]
      },
      {
       "output_type": "stream",
       "stream": "stdout",
       "text": [
        "\r",
        "67% \r",
        "67% \r",
        "67% \r",
        "67% \r",
        "67% \r",
        "67% \r",
        "67% \r",
        "67% \r",
        "67% \r",
        "67% \r",
        "67% \r",
        "67% \r",
        "68% \r",
        "68% \r",
        "68% \r",
        "68% \r",
        "68% \r",
        "68% \r",
        "68% \r",
        "68% \r",
        "68% \r",
        "68% "
       ]
      },
      {
       "output_type": "stream",
       "stream": "stdout",
       "text": [
        "\r",
        "68% \r",
        "68% \r",
        "68% \r",
        "68% \r",
        "68% \r",
        "68% \r",
        "68% \r",
        "68% \r",
        "68% \r",
        "68% \r",
        "68% \r",
        "68% "
       ]
      },
      {
       "output_type": "stream",
       "stream": "stdout",
       "text": [
        "\r",
        "68% \r",
        "68% \r",
        "68% \r",
        "68% \r",
        "68% \r",
        "68% \r",
        "68% \r",
        "68% \r",
        "68% \r",
        "68% \r",
        "68% \r",
        "68% \r",
        "68% \r",
        "68% \r",
        "68% \r",
        "68% \r",
        "68% \r",
        "68% \r",
        "68% \r",
        "68% \r",
        "68% \r",
        "68% \r",
        "68% \r",
        "68% \r",
        "68% \r",
        "68% "
       ]
      },
      {
       "output_type": "stream",
       "stream": "stdout",
       "text": [
        "\r",
        "68% \r",
        "68% \r",
        "68% \r",
        "68% \r",
        "68% \r",
        "68% \r",
        "68% \r",
        "68% \r",
        "68% \r",
        "68% \r",
        "68% \r",
        "68% \r",
        "68% \r",
        "68% \r",
        "68% "
       ]
      },
      {
       "output_type": "stream",
       "stream": "stdout",
       "text": [
        "\r",
        "68% \r",
        "69% \r",
        "69% "
       ]
      },
      {
       "output_type": "stream",
       "stream": "stdout",
       "text": [
        "\r",
        "69% \r",
        "69% \r",
        "69% \r",
        "69% \r",
        "69% \r",
        "69% \r",
        "69% "
       ]
      },
      {
       "output_type": "stream",
       "stream": "stdout",
       "text": [
        "\r",
        "69% \r",
        "69% \r",
        "69% \r",
        "69% "
       ]
      },
      {
       "output_type": "stream",
       "stream": "stdout",
       "text": [
        "\r",
        "69% \r",
        "69% \r",
        "69% "
       ]
      },
      {
       "output_type": "stream",
       "stream": "stdout",
       "text": [
        "\r",
        "69% "
       ]
      },
      {
       "output_type": "stream",
       "stream": "stdout",
       "text": [
        "\r",
        "69% \r",
        "69% \r",
        "69% \r",
        "69% \r",
        "69% \r",
        "69% \r",
        "69% \r",
        "69% "
       ]
      },
      {
       "output_type": "stream",
       "stream": "stdout",
       "text": [
        "\r",
        "69% \r",
        "69% \r",
        "69% \r",
        "69% \r",
        "69% \r",
        "69% \r",
        "69% \r",
        "69% \r",
        "69% \r",
        "69% \r",
        "69% "
       ]
      },
      {
       "output_type": "stream",
       "stream": "stdout",
       "text": [
        "\r",
        "69% \r",
        "69% \r",
        "69% "
       ]
      },
      {
       "output_type": "stream",
       "stream": "stdout",
       "text": [
        "\r",
        "69% \r",
        "69% \r",
        "69% \r",
        "69% \r",
        "69% \r",
        "69% \r",
        "69% \r",
        "69% \r",
        "69% \r",
        "69% \r",
        "69% \r",
        "69% "
       ]
      },
      {
       "output_type": "stream",
       "stream": "stdout",
       "text": [
        "\r",
        "69% \r",
        "69% \r",
        "69% \r",
        "69% \r",
        "69% \r",
        "69% \r",
        "69% \r",
        "69% \r",
        "69% \r",
        "69% \r",
        "69% \r",
        "69% \r",
        "69% \r",
        "70% \r",
        "70% "
       ]
      },
      {
       "output_type": "stream",
       "stream": "stdout",
       "text": [
        "\r",
        "70% \r",
        "70% \r",
        "70% \r",
        "70% \r",
        "70% \r",
        "70% \r",
        "70% \r",
        "70% \r",
        "70% \r",
        "70% \r",
        "70% \r",
        "70% \r",
        "70% \r",
        "70% \r",
        "70% \r",
        "70% \r",
        "70% \r",
        "70% \r",
        "70% \r",
        "70% \r",
        "70% \r",
        "70% \r",
        "70% \r",
        "70% \r",
        "70% \r",
        "70% \r",
        "70% \r",
        "70% \r",
        "70% \r",
        "70% \r",
        "70% \r",
        "70% \r",
        "70% \r",
        "70% \r",
        "70% \r",
        "70% \r",
        "70% \r",
        "70% \r",
        "70% \r",
        "70% \r",
        "70% \r",
        "70% \r",
        "70% "
       ]
      },
      {
       "output_type": "stream",
       "stream": "stdout",
       "text": [
        "\r",
        "70% \r",
        "70% \r",
        "70% \r",
        "70% \r",
        "70% \r",
        "70% \r",
        "70% \r",
        "70% "
       ]
      },
      {
       "output_type": "stream",
       "stream": "stdout",
       "text": [
        "\r",
        "70% \r",
        "70% \r",
        "70% \r",
        "70% \r",
        "70% \r",
        "70% \r",
        "70% \r",
        "70% \r",
        "70% \r",
        "70% \r",
        "70% \r",
        "71% \r",
        "71% \r",
        "71% "
       ]
      },
      {
       "output_type": "stream",
       "stream": "stdout",
       "text": [
        "\r",
        "71% \r",
        "71% \r",
        "71% \r",
        "71% \r",
        "71% \r",
        "71% \r",
        "71% \r",
        "71% \r",
        "71% \r",
        "71% \r",
        "71% \r",
        "71% \r",
        "71% \r",
        "71% \r",
        "71% \r",
        "71% "
       ]
      },
      {
       "output_type": "stream",
       "stream": "stdout",
       "text": [
        "\r",
        "71% \r",
        "71% \r",
        "71% \r",
        "71% \r",
        "71% \r",
        "71% \r",
        "71% \r",
        "71% \r",
        "71% \r",
        "71% \r",
        "71% \r",
        "71% \r",
        "71% \r",
        "71% \r",
        "71% "
       ]
      },
      {
       "output_type": "stream",
       "stream": "stdout",
       "text": [
        "\r",
        "71% \r",
        "71% \r",
        "71% \r",
        "71% \r",
        "71% \r",
        "71% \r",
        "71% \r",
        "71% \r",
        "71% \r",
        "71% \r",
        "71% \r",
        "71% \r",
        "71% \r",
        "71% \r",
        "71% \r",
        "71% "
       ]
      },
      {
       "output_type": "stream",
       "stream": "stdout",
       "text": [
        "\r",
        "71% \r",
        "71% \r",
        "71% \r",
        "71% \r",
        "71% \r",
        "71% \r",
        "71% \r",
        "71% \r",
        "71% \r",
        "71% \r",
        "71% \r",
        "71% \r",
        "71% \r",
        "71% \r",
        "71% \r",
        "72% \r",
        "72% \r",
        "72% \r",
        "72% \r",
        "72% \r",
        "72% \r",
        "72% \r",
        "72% \r",
        "72% \r",
        "72% \r",
        "72% \r",
        "72% \r",
        "72% \r",
        "72% \r",
        "72% \r",
        "72% \r",
        "72% \r",
        "72% \r",
        "72% \r",
        "72% \r",
        "72% \r",
        "72% \r",
        "72% \r",
        "72% \r",
        "72% \r",
        "72% \r",
        "72% \r",
        "72% \r",
        "72% \r",
        "72% \r",
        "72% \r",
        "72% \r",
        "72% \r",
        "72% \r",
        "72% "
       ]
      },
      {
       "output_type": "stream",
       "stream": "stdout",
       "text": [
        "\r",
        "72% \r",
        "72% \r",
        "72% \r",
        "72% \r",
        "72% \r",
        "72% \r",
        "72% \r",
        "72% \r",
        "72% \r",
        "72% \r",
        "72% \r",
        "72% \r",
        "72% \r",
        "72% \r",
        "72% \r",
        "72% \r",
        "72% \r",
        "72% \r",
        "72% \r",
        "72% \r",
        "72% \r",
        "72% "
       ]
      },
      {
       "output_type": "stream",
       "stream": "stdout",
       "text": [
        "\r",
        "72% \r",
        "72% "
       ]
      },
      {
       "output_type": "stream",
       "stream": "stdout",
       "text": [
        "\r",
        "72% \r",
        "72% \r",
        "72% \r",
        "72% \r",
        "72% \r",
        "73% \r",
        "73% \r",
        "73% \r",
        "73% \r",
        "73% \r",
        "73% \r",
        "73% \r",
        "73% \r",
        "73% \r",
        "73% \r",
        "73% \r",
        "73% \r",
        "73% \r",
        "73% \r",
        "73% "
       ]
      },
      {
       "output_type": "stream",
       "stream": "stdout",
       "text": [
        "\r",
        "73% \r",
        "73% \r",
        "73% \r",
        "73% \r",
        "73% \r",
        "73% \r",
        "73% \r",
        "73% \r",
        "73% \r",
        "73% \r",
        "73% \r",
        "73% \r",
        "73% \r",
        "73% \r",
        "73% \r",
        "73% \r",
        "73% \r",
        "73% \r",
        "73% \r",
        "73% \r",
        "73% \r",
        "73% \r",
        "73% \r",
        "73% \r",
        "73% "
       ]
      },
      {
       "output_type": "stream",
       "stream": "stdout",
       "text": [
        "\r",
        "73% \r",
        "73% \r",
        "73% \r",
        "73% \r",
        "73% "
       ]
      },
      {
       "output_type": "stream",
       "stream": "stdout",
       "text": [
        "\r",
        "73% \r",
        "73% \r",
        "73% \r",
        "73% \r",
        "73% \r",
        "73% \r",
        "73% \r",
        "73% \r",
        "73% \r",
        "73% \r",
        "73% \r",
        "73% \r",
        "73% \r",
        "73% \r",
        "73% \r",
        "73% \r",
        "73% "
       ]
      },
      {
       "output_type": "stream",
       "stream": "stdout",
       "text": [
        "\r",
        "73% "
       ]
      },
      {
       "output_type": "stream",
       "stream": "stdout",
       "text": [
        "\r",
        "73% \r",
        "74% \r",
        "74% \r",
        "74% "
       ]
      },
      {
       "output_type": "stream",
       "stream": "stdout",
       "text": [
        "\r",
        "74% \r",
        "74% \r",
        "74% \r",
        "74% \r",
        "74% \r",
        "74% "
       ]
      },
      {
       "output_type": "stream",
       "stream": "stdout",
       "text": [
        "\r",
        "74% \r",
        "74% \r",
        "74% \r",
        "74% \r",
        "74% \r",
        "74% \r",
        "74% \r",
        "74% \r",
        "74% "
       ]
      },
      {
       "output_type": "stream",
       "stream": "stdout",
       "text": [
        "\r",
        "74% \r",
        "74% \r",
        "74% \r",
        "74% \r",
        "74% \r",
        "74% \r",
        "74% \r",
        "74% "
       ]
      },
      {
       "output_type": "stream",
       "stream": "stdout",
       "text": [
        "\r",
        "74% \r",
        "74% \r",
        "74% \r",
        "74% \r",
        "74% "
       ]
      },
      {
       "output_type": "stream",
       "stream": "stdout",
       "text": [
        "\r",
        "74% \r",
        "74% \r",
        "74% \r",
        "74% \r",
        "74% \r",
        "74% \r",
        "74% \r",
        "74% \r",
        "74% \r",
        "74% \r",
        "74% \r",
        "74% \r",
        "74% \r",
        "74% \r",
        "74% \r",
        "74% \r",
        "74% \r",
        "74% \r",
        "74% \r",
        "74% \r",
        "74% \r",
        "74% "
       ]
      },
      {
       "output_type": "stream",
       "stream": "stdout",
       "text": [
        "\r",
        "74% \r",
        "74% \r",
        "74% \r",
        "74% \r",
        "74% \r",
        "74% \r",
        "74% \r",
        "74% \r",
        "74% \r",
        "74% \r",
        "74% \r",
        "75% \r",
        "75% \r",
        "75% \r",
        "75% \r",
        "75% \r",
        "75% \r",
        "75% \r",
        "75% "
       ]
      },
      {
       "output_type": "stream",
       "stream": "stdout",
       "text": [
        "\r",
        "75% \r",
        "75% \r",
        "75% \r",
        "75% \r",
        "75% \r",
        "75% \r",
        "75% \r",
        "75% \r",
        "75% \r",
        "75% \r",
        "75% \r",
        "75% \r",
        "75% \r",
        "75% \r",
        "75% \r",
        "75% \r",
        "75% \r",
        "75% \r",
        "75% \r",
        "75% \r",
        "75% \r",
        "75% "
       ]
      },
      {
       "output_type": "stream",
       "stream": "stdout",
       "text": [
        "\r",
        "75% \r",
        "75% \r",
        "75% \r",
        "75% \r",
        "75% \r",
        "75% \r",
        "75% \r",
        "75% \r",
        "75% "
       ]
      },
      {
       "output_type": "stream",
       "stream": "stdout",
       "text": [
        "\r",
        "75% \r",
        "75% \r",
        "75% \r",
        "75% \r",
        "75% \r",
        "75% \r",
        "75% \r",
        "75% \r",
        "75% \r",
        "75% \r",
        "75% \r",
        "75% \r",
        "75% \r",
        "75% \r",
        "75% \r",
        "75% "
       ]
      },
      {
       "output_type": "stream",
       "stream": "stdout",
       "text": [
        "\r",
        "75% "
       ]
      },
      {
       "output_type": "stream",
       "stream": "stdout",
       "text": [
        "\r",
        "75% \r",
        "75% \r",
        "75% \r",
        "75% \r",
        "75% \r",
        "75% "
       ]
      },
      {
       "output_type": "stream",
       "stream": "stdout",
       "text": [
        "\r",
        "75% \r",
        "75% \r",
        "76% \r",
        "76% \r",
        "76% "
       ]
      },
      {
       "output_type": "stream",
       "stream": "stdout",
       "text": [
        "\r",
        "76% \r",
        "76% \r",
        "76% \r",
        "76% \r",
        "76% \r",
        "76% \r",
        "76% \r",
        "76% \r",
        "76% \r",
        "76% \r",
        "76% \r",
        "76% "
       ]
      },
      {
       "output_type": "stream",
       "stream": "stdout",
       "text": [
        "\r",
        "76% \r",
        "76% \r",
        "76% \r",
        "76% \r",
        "76% \r",
        "76% \r",
        "76% \r",
        "76% \r",
        "76% \r",
        "76% \r",
        "76% \r",
        "76% \r",
        "76% \r",
        "76% \r",
        "76% \r",
        "76% \r",
        "76% \r",
        "76% \r",
        "76% \r",
        "76% \r",
        "76% \r",
        "76% \r",
        "76% \r",
        "76% \r",
        "76% \r",
        "76% \r",
        "76% \r",
        "76% \r",
        "76% \r",
        "76% \r",
        "76% \r",
        "76% \r",
        "76% \r",
        "76% \r",
        "76% \r",
        "76% "
       ]
      },
      {
       "output_type": "stream",
       "stream": "stdout",
       "text": [
        "\r",
        "76% \r",
        "76% \r",
        "76% \r",
        "76% \r",
        "76% \r",
        "76% \r",
        "76% \r",
        "76% \r",
        "76% \r",
        "76% \r",
        "76% "
       ]
      },
      {
       "output_type": "stream",
       "stream": "stdout",
       "text": [
        "\r",
        "76% \r",
        "76% \r",
        "77% \r",
        "77% \r",
        "77% \r",
        "77% \r",
        "77% \r",
        "77% \r",
        "77% \r",
        "77% \r",
        "77% \r",
        "77% \r",
        "77% \r",
        "77% \r",
        "77% \r",
        "77% \r",
        "77% \r",
        "77% \r",
        "77% \r",
        "77% \r",
        "77% \r",
        "77% \r",
        "77% \r",
        "77% \r",
        "77% \r",
        "77% \r",
        "77% \r",
        "77% \r",
        "77% \r",
        "77% "
       ]
      },
      {
       "output_type": "stream",
       "stream": "stdout",
       "text": [
        "\r",
        "77% \r",
        "77% \r",
        "77% \r",
        "77% \r",
        "77% \r",
        "77% \r",
        "77% \r",
        "77% \r",
        "77% \r",
        "77% \r",
        "77% \r",
        "77% \r",
        "77% \r",
        "77% \r",
        "77% \r",
        "77% \r",
        "77% \r",
        "77% \r",
        "77% \r",
        "77% \r",
        "77% \r",
        "77% \r",
        "77% "
       ]
      },
      {
       "output_type": "stream",
       "stream": "stdout",
       "text": [
        "\r",
        "77% \r",
        "77% \r",
        "77% \r",
        "77% \r",
        "77% \r",
        "77% \r",
        "77% \r",
        "77% \r",
        "77% \r",
        "77% \r",
        "77% \r",
        "77% \r",
        "77% \r",
        "78% \r",
        "78% \r",
        "78% \r",
        "78% "
       ]
      },
      {
       "output_type": "stream",
       "stream": "stdout",
       "text": [
        "\r",
        "78% \r",
        "78% \r",
        "78% \r",
        "78% \r",
        "78% \r",
        "78% \r",
        "78% \r",
        "78% \r",
        "78% "
       ]
      },
      {
       "output_type": "stream",
       "stream": "stdout",
       "text": [
        "\r",
        "78% \r",
        "78% \r",
        "78% \r",
        "78% \r",
        "78% \r",
        "78% \r",
        "78% \r",
        "78% "
       ]
      },
      {
       "output_type": "stream",
       "stream": "stdout",
       "text": [
        "\r",
        "78% \r",
        "78% "
       ]
      },
      {
       "output_type": "stream",
       "stream": "stdout",
       "text": [
        "\r",
        "78% \r",
        "78% \r",
        "78% \r",
        "78% "
       ]
      },
      {
       "output_type": "stream",
       "stream": "stdout",
       "text": [
        "\r",
        "78% \r",
        "78% \r",
        "78% \r",
        "78% \r",
        "78% "
       ]
      },
      {
       "output_type": "stream",
       "stream": "stdout",
       "text": [
        "\r",
        "78% \r",
        "78% \r",
        "78% \r",
        "78% \r",
        "78% \r",
        "78% \r",
        "78% \r",
        "78% \r",
        "78% \r",
        "78% \r",
        "78% \r",
        "78% \r",
        "78% \r",
        "78% \r",
        "78% \r",
        "78% \r",
        "78% \r",
        "78% \r",
        "78% \r",
        "78% \r",
        "78% \r",
        "78% \r",
        "78% \r",
        "78% \r",
        "78% \r",
        "78% \r",
        "78% \r",
        "78% \r",
        "78% \r",
        "78% \r",
        "78% \r",
        "78% \r",
        "79% \r",
        "79% \r",
        "79% "
       ]
      },
      {
       "output_type": "stream",
       "stream": "stdout",
       "text": [
        "\r",
        "79% \r",
        "79% \r",
        "79% \r",
        "79% \r",
        "79% \r",
        "79% \r",
        "79% "
       ]
      },
      {
       "output_type": "stream",
       "stream": "stdout",
       "text": [
        "\r",
        "79% \r",
        "79% \r",
        "79% \r",
        "79% \r",
        "79% \r",
        "79% \r",
        "79% \r",
        "79% \r",
        "79% \r",
        "79% "
       ]
      },
      {
       "output_type": "stream",
       "stream": "stdout",
       "text": [
        "\r",
        "79% \r",
        "79% \r",
        "79% \r",
        "79% \r",
        "79% "
       ]
      },
      {
       "output_type": "stream",
       "stream": "stdout",
       "text": [
        "\r",
        "79% \r",
        "79% \r",
        "79% \r",
        "79% \r",
        "79% "
       ]
      },
      {
       "output_type": "stream",
       "stream": "stdout",
       "text": [
        "\r",
        "79% \r",
        "79% \r",
        "79% \r",
        "79% \r",
        "79% \r",
        "79% \r",
        "79% \r",
        "79% \r",
        "79% \r",
        "79% \r",
        "79% \r",
        "79% \r",
        "79% \r",
        "79% \r",
        "79% \r",
        "79% \r",
        "79% \r",
        "79% \r",
        "79% \r",
        "79% \r",
        "79% \r",
        "79% \r",
        "79% \r",
        "79% \r",
        "79% \r",
        "79% \r",
        "79% \r",
        "79% \r",
        "79% \r",
        "79% \r",
        "79% \r",
        "79% \r",
        "79% "
       ]
      },
      {
       "output_type": "stream",
       "stream": "stdout",
       "text": [
        "\r",
        "79% \r",
        "80% \r",
        "80% \r",
        "80% \r",
        "80% \r",
        "80% \r",
        "80% "
       ]
      },
      {
       "output_type": "stream",
       "stream": "stdout",
       "text": [
        "\r",
        "80% \r",
        "80% \r",
        "80% \r",
        "80% \r",
        "80% \r",
        "80% \r",
        "80% \r",
        "80% \r",
        "80% \r",
        "80% \r",
        "80% \r",
        "80% \r",
        "80% \r",
        "80% \r",
        "80% \r",
        "80% "
       ]
      },
      {
       "output_type": "stream",
       "stream": "stdout",
       "text": [
        "\r",
        "80% \r",
        "80% \r",
        "80% \r",
        "80% \r",
        "80% \r",
        "80% \r",
        "80% \r",
        "80% \r",
        "80% \r",
        "80% \r",
        "80% \r",
        "80% \r",
        "80% \r",
        "80% \r",
        "80% \r",
        "80% \r",
        "80% \r",
        "80% \r",
        "80% \r",
        "80% \r",
        "80% \r",
        "80% \r",
        "80% \r",
        "80% \r",
        "80% "
       ]
      },
      {
       "output_type": "stream",
       "stream": "stdout",
       "text": [
        "\r",
        "80% \r",
        "80% \r",
        "80% \r",
        "80% \r",
        "80% \r",
        "80% \r",
        "80% \r",
        "80% \r",
        "80% \r",
        "80% \r",
        "80% \r",
        "80% "
       ]
      },
      {
       "output_type": "stream",
       "stream": "stdout",
       "text": [
        "\r",
        "80% \r",
        "80% \r",
        "80% \r",
        "80% \r",
        "80% \r",
        "81% \r",
        "81% \r",
        "81% \r",
        "81% \r",
        "81% \r",
        "81% \r",
        "81% \r",
        "81% \r",
        "81% \r",
        "81% \r",
        "81% \r",
        "81% \r",
        "81% \r",
        "81% \r",
        "81% \r",
        "81% \r",
        "81% \r",
        "81% \r",
        "81% \r",
        "81% \r",
        "81% \r",
        "81% "
       ]
      },
      {
       "output_type": "stream",
       "stream": "stdout",
       "text": [
        "\r",
        "81% \r",
        "81% \r",
        "81% \r",
        "81% \r",
        "81% \r",
        "81% \r",
        "81% \r",
        "81% \r",
        "81% \r",
        "81% \r",
        "81% \r",
        "81% \r",
        "81% \r",
        "81% \r",
        "81% \r",
        "81% "
       ]
      },
      {
       "output_type": "stream",
       "stream": "stdout",
       "text": [
        "\r",
        "81% \r",
        "81% \r",
        "81% \r",
        "81% \r",
        "81% \r",
        "81% \r",
        "81% \r",
        "81% \r",
        "81% \r",
        "81% \r",
        "81% \r",
        "81% \r",
        "81% \r",
        "81% \r",
        "81% \r",
        "81% "
       ]
      },
      {
       "output_type": "stream",
       "stream": "stdout",
       "text": [
        "\r",
        "81% \r",
        "81% \r",
        "81% \r",
        "81% \r",
        "81% \r",
        "81% \r",
        "81% \r",
        "81% \r",
        "81% \r",
        "81% \r",
        "82% \r",
        "82% \r",
        "82% \r",
        "82% \r",
        "82% \r",
        "82% \r",
        "82% \r",
        "82% \r",
        "82% \r",
        "82% \r",
        "82% \r",
        "82% \r",
        "82% \r",
        "82% \r",
        "82% \r",
        "82% \r",
        "82% \r",
        "82% \r",
        "82% \r",
        "82% "
       ]
      },
      {
       "output_type": "stream",
       "stream": "stdout",
       "text": [
        "\r",
        "82% \r",
        "82% \r",
        "82% \r",
        "82% \r",
        "82% \r",
        "82% \r",
        "82% \r",
        "82% \r",
        "82% \r",
        "82% \r",
        "82% \r",
        "82% \r",
        "82% \r",
        "82% \r",
        "82% \r",
        "82% \r",
        "82% \r",
        "82% \r",
        "82% \r",
        "82% \r",
        "82% \r",
        "82% \r",
        "82% \r",
        "82% \r",
        "82% \r",
        "82% \r",
        "82% \r",
        "82% \r",
        "82% \r",
        "82% \r",
        "82% \r",
        "82% \r",
        "82% \r",
        "82% \r",
        "82% \r",
        "82% \r",
        "82% \r",
        "82% \r",
        "82% \r",
        "82% \r",
        "82% \r",
        "82% \r",
        "82% \r",
        "82% \r",
        "83% \r",
        "83% \r",
        "83% \r",
        "83% \r",
        "83% \r",
        "83% \r",
        "83% \r",
        "83% \r",
        "83% \r",
        "83% \r",
        "83% "
       ]
      },
      {
       "output_type": "stream",
       "stream": "stdout",
       "text": [
        "\r",
        "83% \r",
        "83% \r",
        "83% \r",
        "83% "
       ]
      },
      {
       "output_type": "stream",
       "stream": "stdout",
       "text": [
        "\r",
        "83% \r",
        "83% \r",
        "83% \r",
        "83% \r",
        "83% \r",
        "83% \r",
        "83% \r",
        "83% \r",
        "83% "
       ]
      },
      {
       "output_type": "stream",
       "stream": "stdout",
       "text": [
        "\r",
        "83% \r",
        "83% \r",
        "83% \r",
        "83% \r",
        "83% \r",
        "83% \r",
        "83% \r",
        "83% \r",
        "83% \r",
        "83% \r",
        "83% \r",
        "83% \r",
        "83% "
       ]
      },
      {
       "output_type": "stream",
       "stream": "stdout",
       "text": [
        "\r",
        "83% \r",
        "83% \r",
        "83% \r",
        "83% \r",
        "83% \r",
        "83% \r",
        "83% \r",
        "83% \r",
        "83% \r",
        "83% \r",
        "83% \r",
        "83% \r",
        "83% \r",
        "83% \r",
        "83% \r",
        "83% \r",
        "83% \r",
        "83% \r",
        "83% \r",
        "83% \r",
        "83% \r",
        "83% \r",
        "83% \r",
        "83% \r",
        "83% \r",
        "83% \r",
        "83% \r",
        "84% \r",
        "84% \r",
        "84% \r",
        "84% "
       ]
      },
      {
       "output_type": "stream",
       "stream": "stdout",
       "text": [
        "\r",
        "84% \r",
        "84% \r",
        "84% \r",
        "84% \r",
        "84% \r",
        "84% \r",
        "84% \r",
        "84% \r",
        "84% \r",
        "84% \r",
        "84% \r",
        "84% \r",
        "84% "
       ]
      },
      {
       "output_type": "stream",
       "stream": "stdout",
       "text": [
        "\r",
        "84% \r",
        "84% \r",
        "84% \r",
        "84% \r",
        "84% \r",
        "84% \r",
        "84% \r",
        "84% \r",
        "84% "
       ]
      },
      {
       "output_type": "stream",
       "stream": "stdout",
       "text": [
        "\r",
        "84% \r",
        "84% \r",
        "84% \r",
        "84% \r",
        "84% \r",
        "84% \r",
        "84% \r",
        "84% "
       ]
      },
      {
       "output_type": "stream",
       "stream": "stdout",
       "text": [
        "\r",
        "84% \r",
        "84% \r",
        "84% \r",
        "84% \r",
        "84% \r",
        "84% \r",
        "84% \r",
        "84% \r",
        "84% \r",
        "84% "
       ]
      },
      {
       "output_type": "stream",
       "stream": "stdout",
       "text": [
        "\r",
        "84% \r",
        "84% \r",
        "84% \r",
        "84% "
       ]
      },
      {
       "output_type": "stream",
       "stream": "stdout",
       "text": [
        "\r",
        "84% \r",
        "84% \r",
        "84% "
       ]
      },
      {
       "output_type": "stream",
       "stream": "stdout",
       "text": [
        "\r",
        "84% \r",
        "84% \r",
        "84% "
       ]
      },
      {
       "output_type": "stream",
       "stream": "stdout",
       "text": [
        "\r",
        "84% \r",
        "84% \r",
        "84% "
       ]
      },
      {
       "output_type": "stream",
       "stream": "stdout",
       "text": [
        "\r",
        "84% \r",
        "84% \r",
        "84% \r",
        "84% "
       ]
      },
      {
       "output_type": "stream",
       "stream": "stdout",
       "text": [
        "\r",
        "84% \r",
        "84% \r",
        "84% \r",
        "85% \r",
        "85% \r",
        "85% "
       ]
      },
      {
       "output_type": "stream",
       "stream": "stdout",
       "text": [
        "\r",
        "85% \r",
        "85% \r",
        "85% \r",
        "85% \r",
        "85% \r",
        "85% \r",
        "85% "
       ]
      },
      {
       "output_type": "stream",
       "stream": "stdout",
       "text": [
        "\r",
        "85% \r",
        "85% \r",
        "85% "
       ]
      },
      {
       "output_type": "stream",
       "stream": "stdout",
       "text": [
        "\r",
        "85% \r",
        "85% "
       ]
      },
      {
       "output_type": "stream",
       "stream": "stdout",
       "text": [
        "\r",
        "85% \r",
        "85% \r",
        "85% \r",
        "85% \r",
        "85% "
       ]
      },
      {
       "output_type": "stream",
       "stream": "stdout",
       "text": [
        "\r",
        "85% \r",
        "85% \r",
        "85% \r",
        "85% "
       ]
      },
      {
       "output_type": "stream",
       "stream": "stdout",
       "text": [
        "\r",
        "85% \r",
        "85% \r",
        "85% \r",
        "85% \r",
        "85% \r",
        "85% \r",
        "85% \r",
        "85% \r",
        "85% "
       ]
      },
      {
       "output_type": "stream",
       "stream": "stdout",
       "text": [
        "\r",
        "85% \r",
        "85% \r",
        "85% \r",
        "85% \r",
        "85% \r",
        "85% \r",
        "85% "
       ]
      },
      {
       "output_type": "stream",
       "stream": "stdout",
       "text": [
        "\r",
        "85% \r",
        "85% \r",
        "85% \r",
        "85% \r",
        "85% \r",
        "85% "
       ]
      },
      {
       "output_type": "stream",
       "stream": "stdout",
       "text": [
        "\r",
        "85% \r",
        "85% \r",
        "85% \r",
        "85% \r",
        "85% \r",
        "85% \r",
        "85% \r",
        "85% \r",
        "85% \r",
        "85% \r",
        "85% \r",
        "85% "
       ]
      },
      {
       "output_type": "stream",
       "stream": "stdout",
       "text": [
        "\r",
        "85% \r",
        "85% \r",
        "85% \r",
        "85% \r",
        "85% \r",
        "85% \r",
        "85% \r",
        "86% \r",
        "86% \r",
        "86% \r",
        "86% \r",
        "86% \r",
        "86% \r",
        "86% \r",
        "86% \r",
        "86% \r",
        "86% \r",
        "86% \r",
        "86% \r",
        "86% \r",
        "86% \r",
        "86% \r",
        "86% \r",
        "86% \r",
        "86% \r",
        "86% \r",
        "86% \r",
        "86% \r",
        "86% \r",
        "86% \r",
        "86% \r",
        "86% \r",
        "86% \r",
        "86% \r",
        "86% \r",
        "86% \r",
        "86% \r",
        "86% \r",
        "86% "
       ]
      },
      {
       "output_type": "stream",
       "stream": "stdout",
       "text": [
        "\r",
        "86% \r",
        "86% \r",
        "86% \r",
        "86% \r",
        "86% \r",
        "86% \r",
        "86% \r",
        "86% \r",
        "86% \r",
        "86% \r",
        "86% \r",
        "86% \r",
        "86% \r",
        "86% \r",
        "86% "
       ]
      },
      {
       "output_type": "stream",
       "stream": "stdout",
       "text": [
        "\r",
        "86% \r",
        "86% \r",
        "86% \r",
        "86% \r",
        "86% \r",
        "86% \r",
        "86% \r",
        "86% \r",
        "86% \r",
        "86% \r",
        "86% \r",
        "86% \r",
        "86% \r",
        "86% \r",
        "86% \r",
        "86% \r",
        "86% \r",
        "87% \r",
        "87% \r",
        "87% \r",
        "87% \r",
        "87% \r",
        "87% \r",
        "87% \r",
        "87% \r",
        "87% \r",
        "87% \r",
        "87% \r",
        "87% \r",
        "87% \r",
        "87% \r",
        "87% \r",
        "87% \r",
        "87% \r",
        "87% "
       ]
      },
      {
       "output_type": "stream",
       "stream": "stdout",
       "text": [
        "\r",
        "87% \r",
        "87% \r",
        "87% \r",
        "87% \r",
        "87% \r",
        "87% \r",
        "87% \r",
        "87% "
       ]
      },
      {
       "output_type": "stream",
       "stream": "stdout",
       "text": [
        "\r",
        "87% \r",
        "87% \r",
        "87% \r",
        "87% \r",
        "87% \r",
        "87% \r",
        "87% \r",
        "87% \r",
        "87% \r",
        "87% \r",
        "87% \r",
        "87% \r",
        "87% \r",
        "87% \r",
        "87% \r",
        "87% "
       ]
      },
      {
       "output_type": "stream",
       "stream": "stdout",
       "text": [
        "\r",
        "87% "
       ]
      },
      {
       "output_type": "stream",
       "stream": "stdout",
       "text": [
        "\r",
        "87% \r",
        "87% \r",
        "87% \r",
        "87% \r",
        "87% \r",
        "87% \r",
        "87% \r",
        "87% \r",
        "87% \r",
        "87% \r",
        "87% \r",
        "87% \r",
        "87% \r",
        "87% \r",
        "87% \r",
        "87% \r",
        "87% \r",
        "87% \r",
        "87% \r",
        "87% \r",
        "87% \r",
        "88% \r",
        "88% \r",
        "88% \r",
        "88% \r",
        "88% "
       ]
      },
      {
       "output_type": "stream",
       "stream": "stdout",
       "text": [
        "\r",
        "88% "
       ]
      },
      {
       "output_type": "stream",
       "stream": "stdout",
       "text": [
        "\r",
        "88% "
       ]
      },
      {
       "output_type": "stream",
       "stream": "stdout",
       "text": [
        "\r",
        "88% "
       ]
      },
      {
       "output_type": "stream",
       "stream": "stdout",
       "text": [
        "\r",
        "88% \r",
        "88% "
       ]
      },
      {
       "output_type": "stream",
       "stream": "stdout",
       "text": [
        "\r",
        "88% \r",
        "88% "
       ]
      },
      {
       "output_type": "stream",
       "stream": "stdout",
       "text": [
        "\r",
        "88% \r",
        "88% "
       ]
      },
      {
       "output_type": "stream",
       "stream": "stdout",
       "text": [
        "\r",
        "88% \r",
        "88% "
       ]
      },
      {
       "output_type": "stream",
       "stream": "stdout",
       "text": [
        "\r",
        "88% "
       ]
      },
      {
       "output_type": "stream",
       "stream": "stdout",
       "text": [
        "\r",
        "88% "
       ]
      },
      {
       "output_type": "stream",
       "stream": "stdout",
       "text": [
        "\r",
        "88% \r",
        "88% "
       ]
      },
      {
       "output_type": "stream",
       "stream": "stdout",
       "text": [
        "\r",
        "88% \r",
        "88% \r",
        "88% "
       ]
      },
      {
       "output_type": "stream",
       "stream": "stdout",
       "text": [
        "\r",
        "88% \r",
        "88% \r",
        "88% \r",
        "88% \r",
        "88% \r",
        "88% \r",
        "88% \r",
        "88% \r",
        "88% "
       ]
      },
      {
       "output_type": "stream",
       "stream": "stdout",
       "text": [
        "\r",
        "88% \r",
        "88% "
       ]
      },
      {
       "output_type": "stream",
       "stream": "stdout",
       "text": [
        "\r",
        "88% \r",
        "88% "
       ]
      },
      {
       "output_type": "stream",
       "stream": "stdout",
       "text": [
        "\r",
        "88% \r",
        "88% \r",
        "88% \r",
        "88% "
       ]
      },
      {
       "output_type": "stream",
       "stream": "stdout",
       "text": [
        "\r",
        "88% "
       ]
      },
      {
       "output_type": "stream",
       "stream": "stdout",
       "text": [
        "\r",
        "88% \r",
        "88% \r",
        "88% "
       ]
      },
      {
       "output_type": "stream",
       "stream": "stdout",
       "text": [
        "\r",
        "88% "
       ]
      },
      {
       "output_type": "stream",
       "stream": "stdout",
       "text": [
        "\r",
        "88% \r",
        "88% \r",
        "88% \r",
        "88% \r",
        "88% \r",
        "88% "
       ]
      },
      {
       "output_type": "stream",
       "stream": "stdout",
       "text": [
        "\r",
        "88% \r",
        "88% \r",
        "88% \r",
        "88% \r",
        "88% \r",
        "88% \r",
        "88% \r",
        "88% \r",
        "88% "
       ]
      },
      {
       "output_type": "stream",
       "stream": "stdout",
       "text": [
        "\r",
        "88% \r",
        "88% \r",
        "88% \r",
        "88% \r",
        "89% "
       ]
      },
      {
       "output_type": "stream",
       "stream": "stdout",
       "text": [
        "\r",
        "89% \r",
        "89% \r",
        "89% \r",
        "89% \r",
        "89% \r",
        "89% \r",
        "89% \r",
        "89% \r",
        "89% \r",
        "89% "
       ]
      },
      {
       "output_type": "stream",
       "stream": "stdout",
       "text": [
        "\r",
        "89% \r",
        "89% \r",
        "89% \r",
        "89% "
       ]
      },
      {
       "output_type": "stream",
       "stream": "stdout",
       "text": [
        "\r",
        "89% \r",
        "89% \r",
        "89% \r",
        "89% \r",
        "89% \r",
        "89% \r",
        "89% \r",
        "89% \r",
        "89% \r",
        "89% "
       ]
      },
      {
       "output_type": "stream",
       "stream": "stdout",
       "text": [
        "\r",
        "89% \r",
        "89% \r",
        "89% \r",
        "89% "
       ]
      },
      {
       "output_type": "stream",
       "stream": "stdout",
       "text": [
        "\r",
        "89% \r",
        "89% "
       ]
      },
      {
       "output_type": "stream",
       "stream": "stdout",
       "text": [
        "\r",
        "89% \r",
        "89% \r",
        "89% \r",
        "89% \r",
        "89% \r",
        "89% \r",
        "89% \r",
        "89% \r",
        "89% \r",
        "89% \r",
        "89% \r",
        "89% \r",
        "89% \r",
        "89% \r",
        "89% \r",
        "89% \r",
        "89% \r",
        "89% \r",
        "89% \r",
        "89% \r",
        "89% \r",
        "89% \r",
        "89% \r",
        "89% \r",
        "89% \r",
        "89% \r",
        "89% \r",
        "89% \r",
        "89% \r",
        "89% \r",
        "89% \r",
        "89% \r",
        "89% \r",
        "90% \r",
        "90% \r",
        "90% \r",
        "90% "
       ]
      },
      {
       "output_type": "stream",
       "stream": "stdout",
       "text": [
        "\r",
        "90% \r",
        "90% \r",
        "90% \r",
        "90% \r",
        "90% \r",
        "90% \r",
        "90% \r",
        "90% \r",
        "90% \r",
        "90% \r",
        "90% \r",
        "90% \r",
        "90% \r",
        "90% \r",
        "90% \r",
        "90% \r",
        "90% \r",
        "90% \r",
        "90% \r",
        "90% \r",
        "90% \r",
        "90% \r",
        "90% \r",
        "90% \r",
        "90% "
       ]
      },
      {
       "output_type": "stream",
       "stream": "stdout",
       "text": [
        "\r",
        "90% \r",
        "90% \r",
        "90% \r",
        "90% \r",
        "90% \r",
        "90% \r",
        "90% \r",
        "90% \r",
        "90% \r",
        "90% \r",
        "90% \r",
        "90% \r",
        "90% \r",
        "90% \r",
        "90% \r",
        "90% \r",
        "90% \r",
        "90% \r",
        "90% \r",
        "90% \r",
        "90% \r",
        "90% \r",
        "90% \r",
        "90% \r",
        "90% \r",
        "90% \r",
        "90% "
       ]
      },
      {
       "output_type": "stream",
       "stream": "stdout",
       "text": [
        "\r",
        "90% \r",
        "90% \r",
        "90% \r",
        "90% \r",
        "90% \r",
        "90% \r",
        "90% \r",
        "90% \r",
        "91% \r",
        "91% \r",
        "91% "
       ]
      },
      {
       "output_type": "stream",
       "stream": "stdout",
       "text": [
        "\r",
        "91% \r",
        "91% \r",
        "91% \r",
        "91% \r",
        "91% \r",
        "91% "
       ]
      },
      {
       "output_type": "stream",
       "stream": "stdout",
       "text": [
        "\r",
        "91% \r",
        "91% \r",
        "91% \r",
        "91% \r",
        "91% \r",
        "91% \r",
        "91% \r",
        "91% \r",
        "91% \r",
        "91% \r",
        "91% \r",
        "91% \r",
        "91% \r",
        "91% \r",
        "91% "
       ]
      },
      {
       "output_type": "stream",
       "stream": "stdout",
       "text": [
        "\r",
        "91% \r",
        "91% \r",
        "91% \r",
        "91% \r",
        "91% \r",
        "91% \r",
        "91% \r",
        "91% \r",
        "91% \r",
        "91% \r",
        "91% \r",
        "91% \r",
        "91% \r",
        "91% \r",
        "91% \r",
        "91% \r",
        "91% \r",
        "91% \r",
        "91% \r",
        "91% \r",
        "91% \r",
        "91% \r",
        "91% \r",
        "91% \r",
        "91% \r",
        "91% \r",
        "91% \r",
        "91% \r",
        "91% \r",
        "91% "
       ]
      },
      {
       "output_type": "stream",
       "stream": "stdout",
       "text": [
        "\r",
        "91% \r",
        "91% \r",
        "91% \r",
        "91% \r",
        "91% \r",
        "91% \r",
        "91% \r",
        "91% \r",
        "91% "
       ]
      },
      {
       "output_type": "stream",
       "stream": "stdout",
       "text": [
        "\r",
        "91% \r",
        "92% "
       ]
      },
      {
       "output_type": "stream",
       "stream": "stdout",
       "text": [
        "\r",
        "92% \r",
        "92% "
       ]
      },
      {
       "output_type": "stream",
       "stream": "stdout",
       "text": [
        "\r",
        "92% \r",
        "92% \r",
        "92% \r",
        "92% \r",
        "92% \r",
        "92% \r",
        "92% \r",
        "92% \r",
        "92% \r",
        "92% \r",
        "92% \r",
        "92% \r",
        "92% \r",
        "92% \r",
        "92% \r",
        "92% \r",
        "92% \r",
        "92% \r",
        "92% \r",
        "92% \r",
        "92% \r",
        "92% \r",
        "92% \r",
        "92% \r",
        "92% \r",
        "92% \r",
        "92% "
       ]
      },
      {
       "output_type": "stream",
       "stream": "stdout",
       "text": [
        "\r",
        "92% \r",
        "92% \r",
        "92% \r",
        "92% "
       ]
      },
      {
       "output_type": "stream",
       "stream": "stdout",
       "text": [
        "\r",
        "92% \r",
        "92% \r",
        "92% \r",
        "92% \r",
        "92% \r",
        "92% \r",
        "92% \r",
        "92% \r",
        "92% \r",
        "92% \r",
        "92% \r",
        "92% \r",
        "92% \r",
        "92% \r",
        "92% \r",
        "92% \r",
        "92% \r",
        "92% \r",
        "92% \r",
        "92% \r",
        "92% \r",
        "92% \r",
        "92% \r",
        "92% \r",
        "92% \r",
        "92% \r",
        "92% \r",
        "92% \r",
        "92% \r",
        "92% \r",
        "93% \r",
        "93% \r",
        "93% \r",
        "93% \r",
        "93% \r",
        "93% \r",
        "93% \r",
        "93% \r",
        "93% \r",
        "93% \r",
        "93% \r",
        "93% \r",
        "93% \r",
        "93% \r",
        "93% \r",
        "93% \r",
        "93% \r",
        "93% \r",
        "93% \r",
        "93% \r",
        "93% \r",
        "93% \r",
        "93% \r",
        "93% \r",
        "93% "
       ]
      },
      {
       "output_type": "stream",
       "stream": "stdout",
       "text": [
        "\r",
        "93% \r",
        "93% \r",
        "93% \r",
        "93% \r",
        "93% \r",
        "93% \r",
        "93% \r",
        "93% \r",
        "93% \r",
        "93% \r",
        "93% \r",
        "93% \r",
        "93% \r",
        "93% \r",
        "93% \r",
        "93% \r",
        "93% "
       ]
      },
      {
       "output_type": "stream",
       "stream": "stdout",
       "text": [
        "\r",
        "93% \r",
        "93% \r",
        "93% \r",
        "93% \r",
        "93% \r",
        "93% \r",
        "93% "
       ]
      },
      {
       "output_type": "stream",
       "stream": "stdout",
       "text": [
        "\r",
        "93% "
       ]
      },
      {
       "output_type": "stream",
       "stream": "stdout",
       "text": [
        "\r",
        "93% \r",
        "93% \r",
        "93% \r",
        "93% \r",
        "93% \r",
        "93% \r",
        "93% \r",
        "93% \r",
        "93% \r",
        "93% \r",
        "93% "
       ]
      },
      {
       "output_type": "stream",
       "stream": "stdout",
       "text": [
        "\r",
        "93% \r",
        "93% \r",
        "93% \r",
        "94% \r",
        "94% \r",
        "94% \r",
        "94% \r",
        "94% \r",
        "94% "
       ]
      },
      {
       "output_type": "stream",
       "stream": "stdout",
       "text": [
        "\r",
        "94% \r",
        "94% \r",
        "94% "
       ]
      },
      {
       "output_type": "stream",
       "stream": "stdout",
       "text": [
        "\r",
        "94% \r",
        "94% \r",
        "94% "
       ]
      },
      {
       "output_type": "stream",
       "stream": "stdout",
       "text": [
        "\r",
        "94% \r",
        "94% \r",
        "94% \r",
        "94% \r",
        "94% \r",
        "94% \r",
        "94% \r",
        "94% \r",
        "94% \r",
        "94% \r",
        "94% "
       ]
      },
      {
       "output_type": "stream",
       "stream": "stdout",
       "text": [
        "\r",
        "94% \r",
        "94% "
       ]
      },
      {
       "output_type": "stream",
       "stream": "stdout",
       "text": [
        "\r",
        "94% \r",
        "94% \r",
        "94% \r",
        "94% \r",
        "94% \r",
        "94% \r",
        "94% \r",
        "94% \r",
        "94% \r",
        "94% \r",
        "94% \r",
        "94% \r",
        "94% \r",
        "94% \r",
        "94% \r",
        "94% \r",
        "94% "
       ]
      },
      {
       "output_type": "stream",
       "stream": "stdout",
       "text": [
        "\r",
        "94% \r",
        "94% \r",
        "94% \r",
        "94% \r",
        "94% \r",
        "94% \r",
        "94% \r",
        "94% \r",
        "94% \r",
        "94% \r",
        "94% \r",
        "94% \r",
        "94% \r",
        "94% \r",
        "94% \r",
        "94% \r",
        "94% \r",
        "94% \r",
        "94% \r",
        "94% \r",
        "94% \r",
        "94% \r",
        "95% \r",
        "95% "
       ]
      },
      {
       "output_type": "stream",
       "stream": "stdout",
       "text": [
        "\r",
        "95% \r",
        "95% \r",
        "95% \r",
        "95% \r",
        "95% \r",
        "95% \r",
        "95% \r",
        "95% \r",
        "95% \r",
        "95% \r",
        "95% \r",
        "95% \r",
        "95% "
       ]
      },
      {
       "output_type": "stream",
       "stream": "stdout",
       "text": [
        "\r",
        "95% "
       ]
      },
      {
       "output_type": "stream",
       "stream": "stdout",
       "text": [
        "\r",
        "95% \r",
        "95% \r",
        "95% \r",
        "95% \r",
        "95% "
       ]
      },
      {
       "output_type": "stream",
       "stream": "stdout",
       "text": [
        "\r",
        "95% \r",
        "95% \r",
        "95% \r",
        "95% \r",
        "95% \r",
        "95% "
       ]
      },
      {
       "output_type": "stream",
       "stream": "stdout",
       "text": [
        "\r",
        "95% \r",
        "95% \r",
        "95% \r",
        "95% \r",
        "95% \r",
        "95% \r",
        "95% "
       ]
      },
      {
       "output_type": "stream",
       "stream": "stdout",
       "text": [
        "\r",
        "95% \r",
        "95% \r",
        "95% \r",
        "95% \r",
        "95% \r",
        "95% \r",
        "95% \r",
        "95% \r",
        "95% \r",
        "95% \r",
        "95% \r",
        "95% \r",
        "95% "
       ]
      },
      {
       "output_type": "stream",
       "stream": "stdout",
       "text": [
        "\r",
        "95% \r",
        "95% "
       ]
      },
      {
       "output_type": "stream",
       "stream": "stdout",
       "text": [
        "\r",
        "95% \r",
        "95% "
       ]
      },
      {
       "output_type": "stream",
       "stream": "stdout",
       "text": [
        "\r",
        "95% \r",
        "95% \r",
        "95% \r",
        "95% \r",
        "95% \r",
        "95% \r",
        "95% \r",
        "95% \r",
        "95% \r",
        "95% \r",
        "95% \r",
        "95% \r",
        "95% \r",
        "96% \r",
        "96% "
       ]
      },
      {
       "output_type": "stream",
       "stream": "stdout",
       "text": [
        "\r",
        "96% \r",
        "96% \r",
        "96% \r",
        "96% \r",
        "96% \r",
        "96% \r",
        "96% "
       ]
      },
      {
       "output_type": "stream",
       "stream": "stdout",
       "text": [
        "\r",
        "96% \r",
        "96% \r",
        "96% "
       ]
      },
      {
       "output_type": "stream",
       "stream": "stdout",
       "text": [
        "\r",
        "96% \r",
        "96% \r",
        "96% \r",
        "96% \r",
        "96% \r",
        "96% "
       ]
      },
      {
       "output_type": "stream",
       "stream": "stdout",
       "text": [
        "\r",
        "96% \r",
        "96% \r",
        "96% \r",
        "96% \r",
        "96% \r",
        "96% \r",
        "96% \r",
        "96% "
       ]
      },
      {
       "output_type": "stream",
       "stream": "stdout",
       "text": [
        "\r",
        "96% \r",
        "96% \r",
        "96% "
       ]
      },
      {
       "output_type": "stream",
       "stream": "stdout",
       "text": [
        "\r",
        "96% \r",
        "96% \r",
        "96% \r",
        "96% \r",
        "96% \r",
        "96% "
       ]
      },
      {
       "output_type": "stream",
       "stream": "stdout",
       "text": [
        "\r",
        "96% \r",
        "96% \r",
        "96% \r",
        "96% \r",
        "96% \r",
        "96% \r",
        "96% \r",
        "96% \r",
        "96% \r",
        "96% "
       ]
      },
      {
       "output_type": "stream",
       "stream": "stdout",
       "text": [
        "\r",
        "96% \r",
        "96% \r",
        "96% "
       ]
      },
      {
       "output_type": "stream",
       "stream": "stdout",
       "text": [
        "\r",
        "96% \r",
        "96% \r",
        "96% \r",
        "96% \r",
        "96% \r",
        "96% \r",
        "96% \r",
        "96% \r",
        "96% "
       ]
      },
      {
       "output_type": "stream",
       "stream": "stdout",
       "text": [
        "\r",
        "96% \r",
        "96% \r",
        "96% \r",
        "96% \r",
        "96% \r",
        "96% \r",
        "96% "
       ]
      },
      {
       "output_type": "stream",
       "stream": "stdout",
       "text": [
        "\r",
        "97% \r",
        "97% \r",
        "97% \r",
        "97% \r",
        "97% \r",
        "97% \r",
        "97% \r",
        "97% "
       ]
      },
      {
       "output_type": "stream",
       "stream": "stdout",
       "text": [
        "\r",
        "97% \r",
        "97% \r",
        "97% \r",
        "97% \r",
        "97% \r",
        "97% \r",
        "97% \r",
        "97% \r",
        "97% \r",
        "97% "
       ]
      },
      {
       "output_type": "stream",
       "stream": "stdout",
       "text": [
        "\r",
        "97% \r",
        "97% \r",
        "97% \r",
        "97% \r",
        "97% \r",
        "97% \r",
        "97% \r",
        "97% \r",
        "97% \r",
        "97% \r",
        "97% "
       ]
      },
      {
       "output_type": "stream",
       "stream": "stdout",
       "text": [
        "\r",
        "97% \r",
        "97% \r",
        "97% \r",
        "97% \r",
        "97% \r",
        "97% \r",
        "97% \r",
        "97% \r",
        "97% \r",
        "97% "
       ]
      },
      {
       "output_type": "stream",
       "stream": "stdout",
       "text": [
        "\r",
        "97% \r",
        "97% "
       ]
      },
      {
       "output_type": "stream",
       "stream": "stdout",
       "text": [
        "\r",
        "97% \r",
        "97% \r",
        "97% \r",
        "97% "
       ]
      },
      {
       "output_type": "stream",
       "stream": "stdout",
       "text": [
        "\r",
        "97% \r",
        "97% "
       ]
      },
      {
       "output_type": "stream",
       "stream": "stdout",
       "text": [
        "\r",
        "97% \r",
        "97% \r",
        "97% "
       ]
      },
      {
       "output_type": "stream",
       "stream": "stdout",
       "text": [
        "\r",
        "97% \r",
        "97% \r",
        "97% "
       ]
      },
      {
       "output_type": "stream",
       "stream": "stdout",
       "text": [
        "\r",
        "97% \r",
        "97% \r",
        "97% \r",
        "97% \r",
        "97% \r",
        "97% \r",
        "97% \r",
        "97% \r",
        "97% \r",
        "97% \r",
        "97% \r",
        "98% \r",
        "98% \r",
        "98% \r",
        "98% \r",
        "98% \r",
        "98% "
       ]
      },
      {
       "output_type": "stream",
       "stream": "stdout",
       "text": [
        "\r",
        "98% \r",
        "98% \r",
        "98% "
       ]
      },
      {
       "output_type": "stream",
       "stream": "stdout",
       "text": [
        "\r",
        "98% \r",
        "98% \r",
        "98% \r",
        "98% "
       ]
      },
      {
       "output_type": "stream",
       "stream": "stdout",
       "text": [
        "\r",
        "98% \r",
        "98% \r",
        "98% \r",
        "98% "
       ]
      },
      {
       "output_type": "stream",
       "stream": "stdout",
       "text": [
        "\r",
        "98% \r",
        "98% \r",
        "98% "
       ]
      },
      {
       "output_type": "stream",
       "stream": "stdout",
       "text": [
        "\r",
        "98% \r",
        "98% "
       ]
      },
      {
       "output_type": "stream",
       "stream": "stdout",
       "text": [
        "\r",
        "98% \r",
        "98% "
       ]
      },
      {
       "output_type": "stream",
       "stream": "stdout",
       "text": [
        "\r",
        "98% \r",
        "98% "
       ]
      },
      {
       "output_type": "stream",
       "stream": "stdout",
       "text": [
        "\r",
        "98% \r",
        "98% \r",
        "98% \r",
        "98% "
       ]
      },
      {
       "output_type": "stream",
       "stream": "stdout",
       "text": [
        "\r",
        "98% \r",
        "98% \r",
        "98% "
       ]
      },
      {
       "output_type": "stream",
       "stream": "stdout",
       "text": [
        "\r",
        "98% \r",
        "98% "
       ]
      },
      {
       "output_type": "stream",
       "stream": "stdout",
       "text": [
        "\r",
        "98% \r",
        "98% \r",
        "98% \r",
        "98% "
       ]
      },
      {
       "output_type": "stream",
       "stream": "stdout",
       "text": [
        "\r",
        "98% \r",
        "98% \r",
        "98% "
       ]
      },
      {
       "output_type": "stream",
       "stream": "stdout",
       "text": [
        "\r",
        "98% "
       ]
      },
      {
       "output_type": "stream",
       "stream": "stdout",
       "text": [
        "\r",
        "98% \r",
        "98% \r",
        "98% "
       ]
      },
      {
       "output_type": "stream",
       "stream": "stdout",
       "text": [
        "\r",
        "98% \r",
        "98% \r",
        "98% "
       ]
      },
      {
       "output_type": "stream",
       "stream": "stdout",
       "text": [
        "\r",
        "98% "
       ]
      },
      {
       "output_type": "stream",
       "stream": "stdout",
       "text": [
        "\r",
        "98% \r",
        "98% \r",
        "98% "
       ]
      },
      {
       "output_type": "stream",
       "stream": "stdout",
       "text": [
        "\r",
        "98% "
       ]
      },
      {
       "output_type": "stream",
       "stream": "stdout",
       "text": [
        "\r",
        "98% "
       ]
      },
      {
       "output_type": "stream",
       "stream": "stdout",
       "text": [
        "\r",
        "98% \r",
        "98% "
       ]
      },
      {
       "output_type": "stream",
       "stream": "stdout",
       "text": [
        "\r",
        "98% "
       ]
      },
      {
       "output_type": "stream",
       "stream": "stdout",
       "text": [
        "\r",
        "98% \r",
        "98% "
       ]
      },
      {
       "output_type": "stream",
       "stream": "stdout",
       "text": [
        "\r",
        "98% "
       ]
      },
      {
       "output_type": "stream",
       "stream": "stdout",
       "text": [
        "\r",
        "98% \r",
        "98% \r",
        "98% \r",
        "99% \r",
        "99% \r",
        "99% \r",
        "99% \r",
        "99% \r",
        "99% \r",
        "99% \r",
        "99% \r",
        "99% \r",
        "99% \r",
        "99% "
       ]
      },
      {
       "output_type": "stream",
       "stream": "stdout",
       "text": [
        "\r",
        "99% \r",
        "99% \r",
        "99% \r",
        "99% \r",
        "99% \r",
        "99% \r",
        "99% \r",
        "99% \r",
        "99% \r",
        "99% \r",
        "99% \r",
        "99% \r",
        "99% \r",
        "99% "
       ]
      },
      {
       "output_type": "stream",
       "stream": "stdout",
       "text": [
        "\r",
        "99% \r",
        "99% \r",
        "99% \r",
        "99% "
       ]
      },
      {
       "output_type": "stream",
       "stream": "stdout",
       "text": [
        "\r",
        "99% \r",
        "99% \r",
        "99% \r",
        "99% \r",
        "99% \r",
        "99% "
       ]
      },
      {
       "output_type": "stream",
       "stream": "stdout",
       "text": [
        "\r",
        "99% \r",
        "99% \r",
        "99% \r",
        "99% "
       ]
      },
      {
       "output_type": "stream",
       "stream": "stdout",
       "text": [
        "\r",
        "99% \r",
        "99% \r",
        "99% \r",
        "99% \r",
        "99% "
       ]
      },
      {
       "output_type": "stream",
       "stream": "stdout",
       "text": [
        "\r",
        "99% \r",
        "99% \r",
        "99% \r",
        "99% "
       ]
      },
      {
       "output_type": "stream",
       "stream": "stdout",
       "text": [
        "\r",
        "99% \r",
        "99% \r",
        "99% \r",
        "99% \r",
        "99% \r",
        "99% \r",
        "99% "
       ]
      },
      {
       "output_type": "stream",
       "stream": "stdout",
       "text": [
        "\r",
        "99% \r",
        "99% "
       ]
      },
      {
       "output_type": "stream",
       "stream": "stdout",
       "text": [
        "\r",
        "99% "
       ]
      },
      {
       "output_type": "stream",
       "stream": "stdout",
       "text": [
        "\r",
        "99% \r",
        "99% "
       ]
      },
      {
       "output_type": "stream",
       "stream": "stdout",
       "text": [
        "\r",
        "99% \r",
        "99% \r",
        "99% \r",
        "99% \n",
        "Done\n"
       ]
      }
     ],
     "prompt_number": 22
    },
    {
     "cell_type": "markdown",
     "metadata": {},
     "source": [
      "####Run the diagnostics to make sure everything checks out\n",
      "there are more backwards segments because we have more segments. The number of bad elevations is probably reduced somewhat because only differences within segments are tested- with more segments, some of the rises in elevation were probably pushed to gaps between segments"
     ]
    },
    {
     "cell_type": "code",
     "collapsed": false,
     "input": [
      "sfr.run_diagnostics()"
     ],
     "language": "python",
     "metadata": {},
     "outputs": [
      {
       "output_type": "stream",
       "stream": "stdout",
       "text": [
        "Checking for continuity in segment and reach numbering...\n",
        "passed."
       ]
      },
      {
       "output_type": "stream",
       "stream": "stdout",
       "text": [
        "\n",
        "Checking for circular routing...\n",
        "passed."
       ]
      },
      {
       "output_type": "stream",
       "stream": "stdout",
       "text": [
        "\n",
        "Checking for model cells with multiple non-zero SFR conductances...\n",
        "passed."
       ]
      },
      {
       "output_type": "stream",
       "stream": "stdout",
       "text": [
        "\n",
        "Checking Mat1 for downstream rises in streambed elevation...\n",
        "Found 1426 instances of bad elevations, see elevation_increases.csv\n",
        "Checking Mat1 for segments with reach 1 higher than last reach ..."
       ]
      },
      {
       "output_type": "stream",
       "stream": "stdout",
       "text": [
        "\n",
        "Found 83 segments with lower reach 1, see Mat1_backwards_segments.csv"
       ]
      },
      {
       "output_type": "stream",
       "stream": "stdout",
       "text": [
        "\n",
        "Checking for MODFLOW altitude errors..."
       ]
      },
      {
       "output_type": "stream",
       "stream": "stdout",
       "text": [
        "\n",
        "passed."
       ]
      },
      {
       "output_type": "stream",
       "stream": "stdout",
       "text": [
        "\n"
       ]
      }
     ],
     "prompt_number": 23
    },
    {
     "cell_type": "markdown",
     "metadata": {},
     "source": [
      "####Assign an outlet to each SFR reach\n",
      "(allows for routing to be checked with shapefile; would like to eventually add some kind of diagnostic that looks for outlets in the interior of the SFR network (i.e., breaks in the routing))"
     ]
    },
    {
     "cell_type": "code",
     "collapsed": false,
     "input": [
      "sfr.plot_routing()"
     ],
     "language": "python",
     "metadata": {},
     "outputs": [
      {
       "output_type": "stream",
       "stream": "stdout",
       "text": [
        "Done, Mat1 updated with outlet information; saved to SFR_GWVmat1_FWPvert1000ft.txt.\n"
       ]
      },
      {
       "metadata": {},
       "output_type": "display_data",
       "png": "[encoded data removed]",
       "text": [
        "<matplotlib.figure.Figure at 0x10d87bfd0>"
       ]
      }
     ],
     "prompt_number": 24
    },
    {
     "cell_type": "markdown",
     "metadata": {},
     "source": [
      "####Write output\n",
      "Assuming your old package ran, I would think this would also run in MODFLOW, despite the elevation issues"
     ]
    },
    {
     "cell_type": "code",
     "collapsed": false,
     "input": [
      "sfr.write_shapefile(outshp='FWP_sfr.shp', prj='SFR_cellinfo_FWPvert1000ft.prj')\n",
      "\n",
      "sfr.write_tables(basename='FWP')"
     ],
     "language": "python",
     "metadata": {},
     "outputs": [
      {
       "output_type": "stream",
       "stream": "stdout",
       "text": [
        "writing FWP_sfr.shp...\n"
       ]
      }
     ],
     "prompt_number": 25
    },
    {
     "cell_type": "code",
     "collapsed": false,
     "input": [
      "sfr.write_sfr_package(basename='FWP')"
     ],
     "language": "python",
     "metadata": {},
     "outputs": [
      {
       "output_type": "stream",
       "stream": "stdout",
       "text": [
        "writing FWP.sfr\n",
        "Done"
       ]
      },
      {
       "output_type": "stream",
       "stream": "stdout",
       "text": [
        "\n"
       ]
      }
     ],
     "prompt_number": 26
    },
    {
     "cell_type": "markdown",
     "metadata": {},
     "source": [
      "####Read Mat1 and 2 back in to new SFRmaker object"
     ]
    },
    {
     "cell_type": "code",
     "collapsed": false,
     "input": [
      "sfr = SFRdata(Mat1='FWPmat1.csv', Mat2='FWPmat2.csv',\n",
      "              mfnam='FWPvert_ORIGINAL.nam', mfdis='FWPvert_ORIGINAL.dis', GIS_mult=1)"
     ],
     "language": "python",
     "metadata": {},
     "outputs": [
      {
       "output_type": "stream",
       "stream": "stdout",
       "text": [
        "FWPvert_ORIGINAL.dis\n",
        "\n",
        " not valid, workspace-folder was changed to /Users/aleaf/Documents/NAWQA\n",
        "\n",
        "Parsing the namefile --> FWPvert_ORIGINAL.nam\n",
        "Setting filehandles:\n",
        "Loading DIS file with 1 layers, 930 rows, 650 columns, and 1 stress periods\n",
        "   loading laycbd...\n",
        "   loading delr...\n",
        "   loading delc...\n",
        "   loading top...\n",
        "   loading botm..."
       ]
      },
      {
       "output_type": "stream",
       "stream": "stdout",
       "text": [
        "\n",
        "   loading stress period data..."
       ]
      },
      {
       "output_type": "stream",
       "stream": "stdout",
       "text": [
        "\n"
       ]
      }
     ],
     "prompt_number": 27
    },
    {
     "cell_type": "markdown",
     "metadata": {},
     "source": [
      "####Example of one of the downstream rises in elevation"
     ]
    },
    {
     "cell_type": "code",
     "collapsed": false,
     "input": [
      "sfr.m1.ix[sfr.m1.segment == 14634, 'top_streambed'].plot()"
     ],
     "language": "python",
     "metadata": {},
     "outputs": [
      {
       "metadata": {},
       "output_type": "pyout",
       "prompt_number": 28,
       "text": [
        "<matplotlib.axes._subplots.AxesSubplot at 0x1293ef490>"
       ]
      },
      {
       "metadata": {},
       "output_type": "display_data",
       "png": "[encoded data removed]",
       "text": [
        "<matplotlib.figure.Figure at 0x1293efb90>"
       ]
      }
     ],
     "prompt_number": 28
    },
    {
     "cell_type": "code",
     "collapsed": false,
     "input": [],
     "language": "python",
     "metadata": {},
     "outputs": [],
     "prompt_number": 28
    }
   ],
   "metadata": {}
  }
 ]
}