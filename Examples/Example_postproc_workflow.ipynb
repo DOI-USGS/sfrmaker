{
 "cells": [
  {
   "cell_type": "markdown",
   "metadata": {},
   "source": [
    "###Example workflow for SFRmaker post-processing module\n",
    "Requires Mat1 and Mat2 tables, as produced by the methods in **sfr_classes.py** (e.g. via the example **main** scripts)  \n",
    "Also requires **flopy**, for reading the MODFLOW DIS file (https://github.com/modflowpy/flopy)"
   ]
  },
  {
   "cell_type": "code",
   "execution_count": 1,
   "metadata": {
    "collapsed": false
   },
   "outputs": [],
   "source": [
    "import sys\n",
    "#sys.path.append('../Documents/GitHub/SFR')\n",
    "sys.path.append('D:\\ATLData\\Documents\\GitHub\\SFR')\n",
    "import numpy as np\n",
    "import pandas as pd\n",
    "import matplotlib.pyplot as plt\n",
    "from rasterstats import zonal_stats\n",
    "from postproc import *\n",
    "import sfr_plots\n",
    "\n",
    "%matplotlib inline"
   ]
  },
  {
   "cell_type": "markdown",
   "metadata": {},
   "source": [
    "####Instantiate SFR object"
   ]
  },
  {
   "cell_type": "code",
   "execution_count": 2,
   "metadata": {
    "collapsed": false
   },
   "outputs": [
    {
     "name": "stdout",
     "output_type": "stream",
     "text": [
      "GWV\\LPR_PP2_1_12_15_adjusted_to_streambed.dis\n",
      "Parsing the namefile --> GWV\\LPR_PP2_1_12_15.nam\n",
      "Setting filehandles:\n"
     ]
    }
   ],
   "source": [
    "sfr = SFRdata(Mat1='SFRoutput/Mat1.csv',Mat2='SFRoutput/Mat2_elevs_edited.csv',\n",
    "             mfpath='GWV', mfnam='LPR_PP2_1_12_15.nam', mfdis='LPR_PP2_1_12_15_adjusted_to_streambed.dis',\n",
    "             xll=1795400, yll=1424400)"
   ]
  },
  {
   "cell_type": "markdown",
   "metadata": {},
   "source": [
    "####Get initial streambed top elevations from DEM  \n",
    "* elevations are computed using the rasterstats package (<https://github.com/perrygeo/python-raster-stats>)\n",
    "* minimum elevations from the dem are taken as the default"
   ]
  },
  {
   "cell_type": "code",
   "execution_count": 3,
   "metadata": {
    "collapsed": false
   },
   "outputs": [
    {
     "name": "stdout",
     "output_type": "stream",
     "text": [
      "computing cell geometries...\n",
      "computing zonal statistics...\n",
      "Updating min/max elevations in Mat2 from elevations in Mat1...\n",
      "DEM min elevations assigned to top_streambed column in m1\n"
     ]
    }
   ],
   "source": [
    "sfr.reset_m1_streambed_top_from_dem(dem='input/dem10mwtm_ft')"
   ]
  },
  {
   "cell_type": "markdown",
   "metadata": {},
   "source": [
    "####Incorporate field measurements of ditch elevation by replacing elevation values obtained from the DEM  \n",
    "* for each field measurement, the closest SFR cell within a distance of 200 m was established\n",
    "* the streambed top / land surface elevation at this SFR cell was replaced with the field value"
   ]
  },
  {
   "cell_type": "code",
   "execution_count": null,
   "metadata": {
    "collapsed": false
   },
   "outputs": [],
   "source": [
    "sfr.incorporate_field_elevations(shpfile='shps/MNF_PKJ_ditch_elevs.shp', elevs_field='elev_ft', distance_tol=200)"
   ]
  },
  {
   "cell_type": "markdown",
   "metadata": {},
   "source": [
    "####The map_confluences method compiles a dataframe of all SFR confluences, with node, streambed elevations, and segments \n",
    "* Elevation values in Mat2 are updated to be consistent with the *lowest* value at each confluence"
   ]
  },
  {
   "cell_type": "code",
   "execution_count": 6,
   "metadata": {
    "collapsed": false
   },
   "outputs": [
    {
     "name": "stdout",
     "output_type": "stream",
     "text": [
      "Mapping 16 confluences and updating segment min/max elevations in Mat2...\n",
      "Done, see confluences attribute.\n"
     ]
    }
   ],
   "source": [
    "sfr.map_confluences()"
   ]
  },
  {
   "cell_type": "code",
   "execution_count": 7,
   "metadata": {
    "collapsed": false
   },
   "outputs": [
    {
     "data": {
      "text/html": [
       "<div style=\"max-height:1000px;max-width:1500px;overflow:auto;\">\n",
       "<table border=\"1\" class=\"dataframe\">\n",
       "  <thead>\n",
       "    <tr style=\"text-align: right;\">\n",
       "      <th></th>\n",
       "      <th>segment</th>\n",
       "      <th>upsegs</th>\n",
       "      <th>node</th>\n",
       "      <th>elev</th>\n",
       "    </tr>\n",
       "  </thead>\n",
       "  <tbody>\n",
       "    <tr>\n",
       "      <th>8 </th>\n",
       "      <td>  8</td>\n",
       "      <td>     [7, 11]</td>\n",
       "      <td> 926933</td>\n",
       "      <td> 1065.813721</td>\n",
       "    </tr>\n",
       "    <tr>\n",
       "      <th>9 </th>\n",
       "      <td>  9</td>\n",
       "      <td>     [6, 15]</td>\n",
       "      <td> 900265</td>\n",
       "      <td> 1063.773560</td>\n",
       "    </tr>\n",
       "    <tr>\n",
       "      <th>10</th>\n",
       "      <td> 10</td>\n",
       "      <td>         [9]</td>\n",
       "      <td> 902397</td>\n",
       "      <td> 1063.773560</td>\n",
       "    </tr>\n",
       "    <tr>\n",
       "      <th>11</th>\n",
       "      <td> 11</td>\n",
       "      <td>    [10, 17]</td>\n",
       "      <td> 926985</td>\n",
       "      <td> 1063.773560</td>\n",
       "    </tr>\n",
       "    <tr>\n",
       "      <th>13</th>\n",
       "      <td> 13</td>\n",
       "      <td>     [8, 16]</td>\n",
       "      <td> 934217</td>\n",
       "      <td> 1060.006348</td>\n",
       "    </tr>\n",
       "    <tr>\n",
       "      <th>20</th>\n",
       "      <td> 20</td>\n",
       "      <td>        [36]</td>\n",
       "      <td> 891221</td>\n",
       "      <td>  974.572754</td>\n",
       "    </tr>\n",
       "    <tr>\n",
       "      <th>21</th>\n",
       "      <td> 21</td>\n",
       "      <td>     [1, 40]</td>\n",
       "      <td> 607132</td>\n",
       "      <td> 1089.270000</td>\n",
       "    </tr>\n",
       "    <tr>\n",
       "      <th>22</th>\n",
       "      <td> 22</td>\n",
       "      <td>     [2, 30]</td>\n",
       "      <td> 600723</td>\n",
       "      <td> 1092.359741</td>\n",
       "    </tr>\n",
       "    <tr>\n",
       "      <th>23</th>\n",
       "      <td> 23</td>\n",
       "      <td>    [18, 38]</td>\n",
       "      <td> 743333</td>\n",
       "      <td> 1086.847656</td>\n",
       "    </tr>\n",
       "    <tr>\n",
       "      <th>24</th>\n",
       "      <td> 24</td>\n",
       "      <td>        [23]</td>\n",
       "      <td> 757449</td>\n",
       "      <td> 1028.642090</td>\n",
       "    </tr>\n",
       "    <tr>\n",
       "      <th>26</th>\n",
       "      <td> 26</td>\n",
       "      <td>    [25, 37]</td>\n",
       "      <td> 617836</td>\n",
       "      <td> 1089.350000</td>\n",
       "    </tr>\n",
       "    <tr>\n",
       "      <th>34</th>\n",
       "      <td> 34</td>\n",
       "      <td>     [5, 41]</td>\n",
       "      <td> 614606</td>\n",
       "      <td> 1086.590000</td>\n",
       "    </tr>\n",
       "    <tr>\n",
       "      <th>36</th>\n",
       "      <td> 36</td>\n",
       "      <td>    [35, 39]</td>\n",
       "      <td> 913595</td>\n",
       "      <td> 1025.981934</td>\n",
       "    </tr>\n",
       "    <tr>\n",
       "      <th>39</th>\n",
       "      <td> 39</td>\n",
       "      <td>    [27, 32]</td>\n",
       "      <td> 901798</td>\n",
       "      <td> 1025.981934</td>\n",
       "    </tr>\n",
       "    <tr>\n",
       "      <th>40</th>\n",
       "      <td> 40</td>\n",
       "      <td>     [3, 22]</td>\n",
       "      <td> 599642</td>\n",
       "      <td> 1089.660000</td>\n",
       "    </tr>\n",
       "    <tr>\n",
       "      <th>41</th>\n",
       "      <td> 41</td>\n",
       "      <td> [4, 21, 26]</td>\n",
       "      <td> 617832</td>\n",
       "      <td> 1086.590000</td>\n",
       "    </tr>\n",
       "  </tbody>\n",
       "</table>\n",
       "</div>"
      ],
      "text/plain": [
       "    segment       upsegs    node         elev\n",
       "8         8      [7, 11]  926933  1065.813721\n",
       "9         9      [6, 15]  900265  1063.773560\n",
       "10       10          [9]  902397  1063.773560\n",
       "11       11     [10, 17]  926985  1063.773560\n",
       "13       13      [8, 16]  934217  1060.006348\n",
       "20       20         [36]  891221   974.572754\n",
       "21       21      [1, 40]  607132  1089.270000\n",
       "22       22      [2, 30]  600723  1092.359741\n",
       "23       23     [18, 38]  743333  1086.847656\n",
       "24       24         [23]  757449  1028.642090\n",
       "26       26     [25, 37]  617836  1089.350000\n",
       "34       34      [5, 41]  614606  1086.590000\n",
       "36       36     [35, 39]  913595  1025.981934\n",
       "39       39     [27, 32]  901798  1025.981934\n",
       "40       40      [3, 22]  599642  1089.660000\n",
       "41       41  [4, 21, 26]  617832  1086.590000"
      ]
     },
     "execution_count": 7,
     "metadata": {},
     "output_type": "execute_result"
    }
   ],
   "source": [
    "sfr.confluences"
   ]
  },
  {
   "cell_type": "markdown",
   "metadata": {},
   "source": [
    "####Manually adjust some of the ditch starting (reach 1) elevations \n",
    "* to be consistent with the ditch being at least several feet below the land surface (from DEM)\n",
    "* and so that the ditch headwaters are only slightly above downstream elevation measurements"
   ]
  },
  {
   "cell_type": "code",
   "execution_count": 8,
   "metadata": {
    "collapsed": false
   },
   "outputs": [],
   "source": [
    "sfr.m2.loc[1, 'Max'] = 1090.1\n",
    "sfr.m2.loc[2, 'Max'] = 1093\n",
    "sfr.m2.loc[3, 'Max'] = 1092\n",
    "sfr.m2.loc[4, 'Max'] = 1089\n",
    "sfr.m2.loc[5, 'Max'] = 1089\n",
    "sfr.m2.loc[30, 'Max'] = 1099\n",
    "sfr.m2.loc[37, 'Max'] = 1091\n",
    "sfr.m2.loc[41, 'Min'] = 1085\n",
    "sfr.m2.loc[16, 'Min'] = sfr.m2.ix[16, 'Min'] -2\n",
    "sfr.m2.loc[16, 'Max'] = sfr.m2.ix[16, 'Max'] -2\n",
    "sfr.m2.loc[7, 'Max'] = sfr.m2.ix[7, 'Max'] -2\n",
    "sfr.m1.loc[sfr.m1.segment == 7, 'top_streambed'] = sfr.m1.loc[sfr.m1.segment == 7, 'top_streambed'] -2\n",
    "sfr.m1.loc[sfr.m1.segment == 7, 'landsurface'] = sfr.m1.loc[sfr.m1.segment == 7, 'landsurface'] -2\n",
    "\n",
    "sfr.m1.loc[sfr.m1.segment == 16, 'top_streambed'] = sfr.m1.ix[sfr.m1.segment == 16, 'top_streambed'].values -2\n",
    "sfr.m1.loc[sfr.m1.segment == 16, 'landsurface'] = sfr.m1.ix[sfr.m1.segment == 16, 'landsurface'].values -2"
   ]
  },
  {
   "cell_type": "code",
   "execution_count": 9,
   "metadata": {
    "collapsed": false
   },
   "outputs": [
    {
     "name": "stdout",
     "output_type": "stream",
     "text": [
      "Mapping 16 confluences and updating segment min/max elevations in Mat2...\n",
      "Done, see confluences attribute.\n"
     ]
    }
   ],
   "source": [
    "sfr.map_confluences()"
   ]
  },
  {
   "cell_type": "code",
   "execution_count": 10,
   "metadata": {
    "collapsed": false
   },
   "outputs": [
    {
     "data": {
      "text/html": [
       "<div style=\"max-height:1000px;max-width:1500px;overflow:auto;\">\n",
       "<table border=\"1\" class=\"dataframe\">\n",
       "  <thead>\n",
       "    <tr style=\"text-align: right;\">\n",
       "      <th></th>\n",
       "      <th>segment</th>\n",
       "      <th>upsegs</th>\n",
       "      <th>node</th>\n",
       "      <th>elev</th>\n",
       "    </tr>\n",
       "  </thead>\n",
       "  <tbody>\n",
       "    <tr>\n",
       "      <th>8 </th>\n",
       "      <td>  8</td>\n",
       "      <td>     [7, 11]</td>\n",
       "      <td> 926933</td>\n",
       "      <td> 1063.773560</td>\n",
       "    </tr>\n",
       "    <tr>\n",
       "      <th>9 </th>\n",
       "      <td>  9</td>\n",
       "      <td>     [6, 15]</td>\n",
       "      <td> 900265</td>\n",
       "      <td> 1063.773560</td>\n",
       "    </tr>\n",
       "    <tr>\n",
       "      <th>10</th>\n",
       "      <td> 10</td>\n",
       "      <td>         [9]</td>\n",
       "      <td> 902397</td>\n",
       "      <td> 1063.773560</td>\n",
       "    </tr>\n",
       "    <tr>\n",
       "      <th>11</th>\n",
       "      <td> 11</td>\n",
       "      <td>    [10, 17]</td>\n",
       "      <td> 926985</td>\n",
       "      <td> 1063.773560</td>\n",
       "    </tr>\n",
       "    <tr>\n",
       "      <th>13</th>\n",
       "      <td> 13</td>\n",
       "      <td>     [8, 16]</td>\n",
       "      <td> 934217</td>\n",
       "      <td> 1058.006348</td>\n",
       "    </tr>\n",
       "    <tr>\n",
       "      <th>20</th>\n",
       "      <td> 20</td>\n",
       "      <td>        [36]</td>\n",
       "      <td> 891221</td>\n",
       "      <td>  974.572754</td>\n",
       "    </tr>\n",
       "    <tr>\n",
       "      <th>21</th>\n",
       "      <td> 21</td>\n",
       "      <td>     [1, 40]</td>\n",
       "      <td> 607132</td>\n",
       "      <td> 1089.270000</td>\n",
       "    </tr>\n",
       "    <tr>\n",
       "      <th>22</th>\n",
       "      <td> 22</td>\n",
       "      <td>     [2, 30]</td>\n",
       "      <td> 600723</td>\n",
       "      <td> 1092.359741</td>\n",
       "    </tr>\n",
       "    <tr>\n",
       "      <th>23</th>\n",
       "      <td> 23</td>\n",
       "      <td>    [18, 38]</td>\n",
       "      <td> 743333</td>\n",
       "      <td> 1086.847656</td>\n",
       "    </tr>\n",
       "    <tr>\n",
       "      <th>24</th>\n",
       "      <td> 24</td>\n",
       "      <td>        [23]</td>\n",
       "      <td> 757449</td>\n",
       "      <td> 1028.642090</td>\n",
       "    </tr>\n",
       "    <tr>\n",
       "      <th>26</th>\n",
       "      <td> 26</td>\n",
       "      <td>    [25, 37]</td>\n",
       "      <td> 617836</td>\n",
       "      <td> 1089.350000</td>\n",
       "    </tr>\n",
       "    <tr>\n",
       "      <th>34</th>\n",
       "      <td> 34</td>\n",
       "      <td>     [5, 41]</td>\n",
       "      <td> 614606</td>\n",
       "      <td> 1085.000000</td>\n",
       "    </tr>\n",
       "    <tr>\n",
       "      <th>36</th>\n",
       "      <td> 36</td>\n",
       "      <td>    [35, 39]</td>\n",
       "      <td> 913595</td>\n",
       "      <td> 1025.981934</td>\n",
       "    </tr>\n",
       "    <tr>\n",
       "      <th>39</th>\n",
       "      <td> 39</td>\n",
       "      <td>    [27, 32]</td>\n",
       "      <td> 901798</td>\n",
       "      <td> 1025.981934</td>\n",
       "    </tr>\n",
       "    <tr>\n",
       "      <th>40</th>\n",
       "      <td> 40</td>\n",
       "      <td>     [3, 22]</td>\n",
       "      <td> 599642</td>\n",
       "      <td> 1089.660000</td>\n",
       "    </tr>\n",
       "    <tr>\n",
       "      <th>41</th>\n",
       "      <td> 41</td>\n",
       "      <td> [4, 21, 26]</td>\n",
       "      <td> 617832</td>\n",
       "      <td> 1086.590000</td>\n",
       "    </tr>\n",
       "  </tbody>\n",
       "</table>\n",
       "</div>"
      ],
      "text/plain": [
       "    segment       upsegs    node         elev\n",
       "8         8      [7, 11]  926933  1063.773560\n",
       "9         9      [6, 15]  900265  1063.773560\n",
       "10       10          [9]  902397  1063.773560\n",
       "11       11     [10, 17]  926985  1063.773560\n",
       "13       13      [8, 16]  934217  1058.006348\n",
       "20       20         [36]  891221   974.572754\n",
       "21       21      [1, 40]  607132  1089.270000\n",
       "22       22      [2, 30]  600723  1092.359741\n",
       "23       23     [18, 38]  743333  1086.847656\n",
       "24       24         [23]  757449  1028.642090\n",
       "26       26     [25, 37]  617836  1089.350000\n",
       "34       34      [5, 41]  614606  1085.000000\n",
       "36       36     [35, 39]  913595  1025.981934\n",
       "39       39     [27, 32]  901798  1025.981934\n",
       "40       40      [3, 22]  599642  1089.660000\n",
       "41       41  [4, 21, 26]  617832  1086.590000"
      ]
     },
     "execution_count": 10,
     "metadata": {},
     "output_type": "execute_result"
    }
   ],
   "source": [
    "sfr.confluences"
   ]
  },
  {
   "cell_type": "code",
   "execution_count": 11,
   "metadata": {
    "collapsed": false
   },
   "outputs": [
    {
     "data": {
      "text/html": [
       "<div style=\"max-height:1000px;max-width:1500px;overflow:auto;\">\n",
       "<table border=\"1\" class=\"dataframe\">\n",
       "  <thead>\n",
       "    <tr style=\"text-align: right;\">\n",
       "      <th></th>\n",
       "      <th>Min</th>\n",
       "      <th>Max</th>\n",
       "    </tr>\n",
       "  </thead>\n",
       "  <tbody>\n",
       "    <tr>\n",
       "      <th>1 </th>\n",
       "      <td> 1089.270000</td>\n",
       "      <td> 1090.100000</td>\n",
       "    </tr>\n",
       "    <tr>\n",
       "      <th>2 </th>\n",
       "      <td> 1092.359741</td>\n",
       "      <td> 1093.000000</td>\n",
       "    </tr>\n",
       "    <tr>\n",
       "      <th>3 </th>\n",
       "      <td> 1089.660000</td>\n",
       "      <td> 1092.000000</td>\n",
       "    </tr>\n",
       "    <tr>\n",
       "      <th>4 </th>\n",
       "      <td> 1086.590000</td>\n",
       "      <td> 1089.000000</td>\n",
       "    </tr>\n",
       "    <tr>\n",
       "      <th>5 </th>\n",
       "      <td> 1085.000000</td>\n",
       "      <td> 1089.000000</td>\n",
       "    </tr>\n",
       "    <tr>\n",
       "      <th>6 </th>\n",
       "      <td> 1063.773560</td>\n",
       "      <td> 1088.265991</td>\n",
       "    </tr>\n",
       "    <tr>\n",
       "      <th>7 </th>\n",
       "      <td> 1063.773560</td>\n",
       "      <td> 1068.215332</td>\n",
       "    </tr>\n",
       "    <tr>\n",
       "      <th>8 </th>\n",
       "      <td> 1058.006348</td>\n",
       "      <td> 1063.773560</td>\n",
       "    </tr>\n",
       "    <tr>\n",
       "      <th>9 </th>\n",
       "      <td> 1063.773560</td>\n",
       "      <td> 1063.773560</td>\n",
       "    </tr>\n",
       "    <tr>\n",
       "      <th>10</th>\n",
       "      <td> 1063.773560</td>\n",
       "      <td> 1063.773560</td>\n",
       "    </tr>\n",
       "    <tr>\n",
       "      <th>11</th>\n",
       "      <td> 1063.773560</td>\n",
       "      <td> 1063.773560</td>\n",
       "    </tr>\n",
       "    <tr>\n",
       "      <th>12</th>\n",
       "      <td> 1051.460938</td>\n",
       "      <td> 1055.201172</td>\n",
       "    </tr>\n",
       "    <tr>\n",
       "      <th>13</th>\n",
       "      <td> 1044.870239</td>\n",
       "      <td> 1058.006348</td>\n",
       "    </tr>\n",
       "    <tr>\n",
       "      <th>14</th>\n",
       "      <td> 1044.400513</td>\n",
       "      <td> 1044.400513</td>\n",
       "    </tr>\n",
       "    <tr>\n",
       "      <th>15</th>\n",
       "      <td> 1063.773560</td>\n",
       "      <td> 1079.933350</td>\n",
       "    </tr>\n",
       "    <tr>\n",
       "      <th>16</th>\n",
       "      <td> 1058.006348</td>\n",
       "      <td> 1068.039551</td>\n",
       "    </tr>\n",
       "    <tr>\n",
       "      <th>17</th>\n",
       "      <td> 1063.773560</td>\n",
       "      <td> 1074.679321</td>\n",
       "    </tr>\n",
       "    <tr>\n",
       "      <th>18</th>\n",
       "      <td> 1086.847656</td>\n",
       "      <td> 1096.028687</td>\n",
       "    </tr>\n",
       "    <tr>\n",
       "      <th>19</th>\n",
       "      <td> 1053.970581</td>\n",
       "      <td> 1106.770386</td>\n",
       "    </tr>\n",
       "    <tr>\n",
       "      <th>20</th>\n",
       "      <td>  964.641602</td>\n",
       "      <td>  974.572754</td>\n",
       "    </tr>\n",
       "    <tr>\n",
       "      <th>21</th>\n",
       "      <td> 1086.590000</td>\n",
       "      <td> 1089.270000</td>\n",
       "    </tr>\n",
       "    <tr>\n",
       "      <th>22</th>\n",
       "      <td> 1089.660000</td>\n",
       "      <td> 1092.359741</td>\n",
       "    </tr>\n",
       "    <tr>\n",
       "      <th>23</th>\n",
       "      <td> 1028.642090</td>\n",
       "      <td> 1086.847656</td>\n",
       "    </tr>\n",
       "    <tr>\n",
       "      <th>24</th>\n",
       "      <td> 1028.669922</td>\n",
       "      <td> 1028.642090</td>\n",
       "    </tr>\n",
       "    <tr>\n",
       "      <th>25</th>\n",
       "      <td> 1089.350000</td>\n",
       "      <td> 1090.419678</td>\n",
       "    </tr>\n",
       "    <tr>\n",
       "      <th>26</th>\n",
       "      <td> 1086.590000</td>\n",
       "      <td> 1089.350000</td>\n",
       "    </tr>\n",
       "    <tr>\n",
       "      <th>27</th>\n",
       "      <td> 1025.981934</td>\n",
       "      <td> 1082.923950</td>\n",
       "    </tr>\n",
       "    <tr>\n",
       "      <th>28</th>\n",
       "      <td> 1040.782349</td>\n",
       "      <td> 1090.524292</td>\n",
       "    </tr>\n",
       "    <tr>\n",
       "      <th>29</th>\n",
       "      <td> 1129.878540</td>\n",
       "      <td> 1143.299438</td>\n",
       "    </tr>\n",
       "    <tr>\n",
       "      <th>30</th>\n",
       "      <td> 1092.359741</td>\n",
       "      <td> 1099.000000</td>\n",
       "    </tr>\n",
       "    <tr>\n",
       "      <th>31</th>\n",
       "      <td> 1073.899902</td>\n",
       "      <td> 1129.943115</td>\n",
       "    </tr>\n",
       "    <tr>\n",
       "      <th>32</th>\n",
       "      <td> 1025.981934</td>\n",
       "      <td> 1112.125488</td>\n",
       "    </tr>\n",
       "    <tr>\n",
       "      <th>33</th>\n",
       "      <td> 1032.175537</td>\n",
       "      <td> 1085.141846</td>\n",
       "    </tr>\n",
       "    <tr>\n",
       "      <th>34</th>\n",
       "      <td> 1039.713623</td>\n",
       "      <td> 1085.000000</td>\n",
       "    </tr>\n",
       "    <tr>\n",
       "      <th>35</th>\n",
       "      <td> 1025.981934</td>\n",
       "      <td> 1056.814575</td>\n",
       "    </tr>\n",
       "    <tr>\n",
       "      <th>36</th>\n",
       "      <td>  974.572754</td>\n",
       "      <td> 1025.981934</td>\n",
       "    </tr>\n",
       "    <tr>\n",
       "      <th>37</th>\n",
       "      <td> 1089.350000</td>\n",
       "      <td> 1091.000000</td>\n",
       "    </tr>\n",
       "    <tr>\n",
       "      <th>38</th>\n",
       "      <td> 1086.847656</td>\n",
       "      <td> 1146.514282</td>\n",
       "    </tr>\n",
       "    <tr>\n",
       "      <th>39</th>\n",
       "      <td> 1025.981934</td>\n",
       "      <td> 1025.981934</td>\n",
       "    </tr>\n",
       "    <tr>\n",
       "      <th>40</th>\n",
       "      <td> 1089.270000</td>\n",
       "      <td> 1089.660000</td>\n",
       "    </tr>\n",
       "    <tr>\n",
       "      <th>41</th>\n",
       "      <td> 1085.000000</td>\n",
       "      <td> 1086.590000</td>\n",
       "    </tr>\n",
       "  </tbody>\n",
       "</table>\n",
       "</div>"
      ],
      "text/plain": [
       "            Min          Max\n",
       "1   1089.270000  1090.100000\n",
       "2   1092.359741  1093.000000\n",
       "3   1089.660000  1092.000000\n",
       "4   1086.590000  1089.000000\n",
       "5   1085.000000  1089.000000\n",
       "6   1063.773560  1088.265991\n",
       "7   1063.773560  1068.215332\n",
       "8   1058.006348  1063.773560\n",
       "9   1063.773560  1063.773560\n",
       "10  1063.773560  1063.773560\n",
       "11  1063.773560  1063.773560\n",
       "12  1051.460938  1055.201172\n",
       "13  1044.870239  1058.006348\n",
       "14  1044.400513  1044.400513\n",
       "15  1063.773560  1079.933350\n",
       "16  1058.006348  1068.039551\n",
       "17  1063.773560  1074.679321\n",
       "18  1086.847656  1096.028687\n",
       "19  1053.970581  1106.770386\n",
       "20   964.641602   974.572754\n",
       "21  1086.590000  1089.270000\n",
       "22  1089.660000  1092.359741\n",
       "23  1028.642090  1086.847656\n",
       "24  1028.669922  1028.642090\n",
       "25  1089.350000  1090.419678\n",
       "26  1086.590000  1089.350000\n",
       "27  1025.981934  1082.923950\n",
       "28  1040.782349  1090.524292\n",
       "29  1129.878540  1143.299438\n",
       "30  1092.359741  1099.000000\n",
       "31  1073.899902  1129.943115\n",
       "32  1025.981934  1112.125488\n",
       "33  1032.175537  1085.141846\n",
       "34  1039.713623  1085.000000\n",
       "35  1025.981934  1056.814575\n",
       "36   974.572754  1025.981934\n",
       "37  1089.350000  1091.000000\n",
       "38  1086.847656  1146.514282\n",
       "39  1025.981934  1025.981934\n",
       "40  1089.270000  1089.660000\n",
       "41  1085.000000  1086.590000"
      ]
     },
     "execution_count": 11,
     "metadata": {},
     "output_type": "execute_result"
    }
   ],
   "source": [
    "sfr.m2[['Min', 'Max']]"
   ]
  },
  {
   "cell_type": "markdown",
   "metadata": {},
   "source": [
    "####Smooth reach elevations in segment interiors\n",
    "* using field measurements and minimum elevation values from DEM"
   ]
  },
  {
   "cell_type": "code",
   "execution_count": 12,
   "metadata": {
    "collapsed": false
   },
   "outputs": [
    {
     "name": "stdout",
     "output_type": "stream",
     "text": [
      "\n",
      "Smoothing segment interiors...\n",
      "\n",
      "starting from elevations in m1.landsurface\n",
      "calculating slopes...\n",
      "Done, see smooth_segment_interiors.txt for report.\n"
     ]
    }
   ],
   "source": [
    "sfr.smooth_interior_elevations()"
   ]
  },
  {
   "cell_type": "markdown",
   "metadata": {},
   "source": [
    "####The outsegs table allows complete stream profiles to be produced from headwaters to outlet\n",
    "(see complete_profiles.pdf)  \n",
    "* include profiles of the minimum elevations sampled from the DEM, which were saved to the \"landsurface\" column in Mat1 (sfr.m1 attribute)"
   ]
  },
  {
   "cell_type": "code",
   "execution_count": 16,
   "metadata": {
    "collapsed": false
   },
   "outputs": [
    {
     "name": "stdout",
     "output_type": "stream",
     "text": [
      "listing unique segment sequences...\n"
     ]
    }
   ],
   "source": [
    "sfr.plot_stream_profiles(add_profiles={'Minimum DEM elevation': 'landsurface'})"
   ]
  },
  {
   "cell_type": "markdown",
   "metadata": {},
   "source": [
    "####Use the outseg information to check the routing  \n",
    "* sfr segments are colored by outlet"
   ]
  },
  {
   "cell_type": "code",
   "execution_count": 17,
   "metadata": {
    "collapsed": false
   },
   "outputs": [
    {
     "name": "stdout",
     "output_type": "stream",
     "text": [
      "Done\n"
     ]
    },
    {
     "data": {
      "image/png": "[encoded data removed]",
      "text/plain": [
       "<matplotlib.figure.Figure at 0x1efefb00>"
      ]
     },
     "metadata": {},
     "output_type": "display_data"
    }
   ],
   "source": [
    "sfr.plot_routing(outpdf='LPR_routing.pdf')"
   ]
  },
  {
   "cell_type": "markdown",
   "metadata": {},
   "source": [
    "####Estimate stream widths \n",
    "using the cumulative lengths in each cell, and starting arbolate sum values specified in Mat2, in the column 'in_arbolate' (in km, which the unit used in NHD)"
   ]
  },
  {
   "cell_type": "code",
   "execution_count": 18,
   "metadata": {
    "collapsed": false
   },
   "outputs": [
    {
     "name": "stdout",
     "output_type": "stream",
     "text": [
      "estimating stream widths...\n",
      "Done\n"
     ]
    }
   ],
   "source": [
    "sfr.estimate_stream_widths()"
   ]
  },
  {
   "cell_type": "markdown",
   "metadata": {},
   "source": [
    "####Consolidate SFR conductances for model cells with multiple SFR reaches\n",
    "total conductance for collocated reaches; put all conductance in widest reach (largest arbolate sum),  \n",
    "set conductance in other reaches close to 0 via. streambed K"
   ]
  },
  {
   "cell_type": "code",
   "execution_count": 19,
   "metadata": {
    "collapsed": false
   },
   "outputs": [
    {
     "name": "stdout",
     "output_type": "stream",
     "text": [
      "Assigning total SFR conductance to dominant reach in cells with multiple reaches...\n"
     ]
    }
   ],
   "source": [
    "sfr.consolidate_conductance()"
   ]
  },
  {
   "cell_type": "markdown",
   "metadata": {},
   "source": [
    "###Reset the model top elevations so that they coincide with the SFR streambed top at the locations of SFR cells  \n",
    "* enforce that streambed thickness be less than minimum thickness for layer 1 (to avoid MODFLOW altitude errors)\n",
    "* update the dis file for the sfr object  \n"
   ]
  },
  {
   "cell_type": "code",
   "execution_count": 23,
   "metadata": {
    "collapsed": false
   },
   "outputs": [
    {
     "name": "stdout",
     "output_type": "stream",
     "text": [
      "\n",
      " not valid, workspace-folder was changed to D:\\ATLData\\LittlePlover\\2_from_ALEAF_SFR\n",
      "\n"
     ]
    }
   ],
   "source": [
    "sfr.reset_model_top_2streambed(outdisfile='LPR_04_27_2015_adjusted_to_streambed.dis')"
   ]
  },
  {
   "cell_type": "markdown",
   "metadata": {},
   "source": [
    "###Run suite of diagnostics to check for common SFR problems  \n",
    "* the method below calls the **diagnostics.py** module"
   ]
  },
  {
   "cell_type": "code",
   "execution_count": 26,
   "metadata": {
    "collapsed": false
   },
   "outputs": [
    {
     "name": "stdout",
     "output_type": "stream",
     "text": [
      "Checking for continuity in segment and reach numbering...\n",
      "passed.\n",
      "\n",
      "Checking for circular routing...\n",
      "passed.\n",
      "\n",
      "Checking for model cells with multiple non-zero SFR conductances...\n",
      "passed.\n",
      "\n",
      "Checking Mat1 for downstream rises in streambed elevation...\n",
      "passed.\n",
      "\n",
      "Checking Mat1 for segments with reach 1 higher than last reach ...\n",
      "passed.\n",
      "\n",
      "Checking for MODFLOW altitude errors...\n",
      "passed.\n",
      "Need a shapefile of the model domain edge to check for interior outlets.\n"
     ]
    }
   ],
   "source": [
    "sfr.run_diagnostics()"
   ]
  },
  {
   "cell_type": "markdown",
   "metadata": {},
   "source": [
    "####Write a shapefile for visualizing the SFR network####  "
   ]
  },
  {
   "cell_type": "code",
   "execution_count": 28,
   "metadata": {
    "collapsed": false
   },
   "outputs": [
    {
     "name": "stdout",
     "output_type": "stream",
     "text": [
      "writing SFRoutput/LPR_SFR_20150427.shp...\n"
     ]
    }
   ],
   "source": [
    "sfr.write_shapefile(xll=1795400, yll=1424400, outshp='SFRoutput/LPR_SFR_20150427.shp', prj='WTMft.prj')"
   ]
  },
  {
   "cell_type": "markdown",
   "metadata": {},
   "source": [
    "####Finally make an SFR package file, which can be used as-is, or imported into Groundwater Vistas:####"
   ]
  },
  {
   "cell_type": "code",
   "execution_count": 29,
   "metadata": {
    "collapsed": false
   },
   "outputs": [
    {
     "name": "stdout",
     "output_type": "stream",
     "text": [
      "Mat1 and 2 saved to LPR_SFR_20150427mat1.csv and LPR_SFR_20150427mat2.csv\n"
     ]
    }
   ],
   "source": [
    "sfr.write_tables(basename='LPR_SFR_20150427')"
   ]
  },
  {
   "cell_type": "code",
   "execution_count": 30,
   "metadata": {
    "collapsed": false
   },
   "outputs": [
    {
     "name": "stdout",
     "output_type": "stream",
     "text": [
      "writing LPR_SFR_20150427.sfr\n",
      "Done\n"
     ]
    }
   ],
   "source": [
    "sfr.write_sfr_package(basename='LPR_SFR_20150427')"
   ]
  }
 ],
 "metadata": {
  "kernelspec": {
   "display_name": "Python 2",
   "language": "python",
   "name": "python2"
  },
  "language_info": {
   "codemirror_mode": {
    "name": "ipython",
    "version": 2
   },
   "file_extension": ".py",
   "mimetype": "text/x-python",
   "name": "python",
   "nbconvert_exporter": "python",
   "pygments_lexer": "ipython2",
   "version": "2.7.8"
  }
 },
 "nbformat": 4,
 "nbformat_minor": 0
}
