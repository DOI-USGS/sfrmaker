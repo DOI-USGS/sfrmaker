{
 "metadata": {
  "name": "",
  "signature": "sha256:a919e95ef09da0d9744c3da28a5970e90105c24c032796f77cc24e2b192c162a"
 },
 "nbformat": 3,
 "nbformat_minor": 0,
 "worksheets": [
  {
   "cells": [
    {
     "cell_type": "markdown",
     "metadata": {},
     "source": [
      "###Example workflow for SFRmaker post-processing module\n",
      "Requires Mat1 and Mat2 tables, as produced by the methods in **sfr_classes.py** (e.g. via the example **main** scripts)  \n",
      "Also requires **flopy**, for reading the MODFLOW DIS file (https://github.com/modflowpy/flopy)"
     ]
    },
    {
     "cell_type": "code",
     "collapsed": false,
     "input": [
      "import sys\n",
      "#sys.path.append('../Documents/GitHub/SFR')\n",
      "sys.path.append('D:\\ATLData\\Documents\\GitHub\\SFR')\n",
      "import numpy as np\n",
      "import pandas as pd\n",
      "import matplotlib.pyplot as plt\n",
      "from postproc import *\n",
      "import sfr_plots\n",
      "\n",
      "%matplotlib inline"
     ],
     "language": "python",
     "metadata": {},
     "outputs": [],
     "prompt_number": 6
    },
    {
     "cell_type": "markdown",
     "metadata": {},
     "source": [
      "####Instantiate SFR object\n",
      "Inputs are:  \n",
      "* Mat1 and Mat2  \n",
      "* modflow working directory, modflow nam file, and modflow dis file (for **flopy**, which reads the dis file for information on the model grid)  \n",
      "* landsurface file- a text file with an nrows x ncolumns matrix of elevations from which to set the streambed top elevations. This can be generated using ArcMap, by computing the minimum DEM elevation in each grid cell using the **zonal statistics** feature  \n",
      "* origin of the model grid, in the same coordinate units as the dis file"
     ]
    },
    {
     "cell_type": "code",
     "collapsed": false,
     "input": [
      "sfr = SFRdata(Mat1='SFRoutput/Mat1.csv',Mat2='SFRoutput/Mat2_elevs_edited.csv',\n",
      "             mfpath='GWV', mfnam='LPR_PP2_1_12_15.nam', mfdis='LPR_PP2_1_12_15_adjusted_to_streambed.dis',\n",
      "             landsurfacefile='grid/10m_min_elevs.dat',\n",
      "             xll=1795400, yll=1424400)"
     ],
     "language": "python",
     "metadata": {},
     "outputs": [
      {
       "output_type": "stream",
       "stream": "stdout",
       "text": [
        "GWV\\LPR_PP2_1_12_15_adjusted_to_streambed.dis\n",
        "Parsing the namefile --> GWV\\LPR_PP2_1_12_15.nam\n",
        "Setting filehandles:\n",
        "Loading DIS file with 3 layers, 900 rows, 1070 columns, and 1 stress periods\n",
        "   loading laycbd...\n",
        "   loading delr...\n",
        "   loading delc...\n",
        "   loading top...\n",
        "   loading botm..."
       ]
      },
      {
       "output_type": "stream",
       "stream": "stdout",
       "text": [
        "\n",
        "   loading stress period data..."
       ]
      },
      {
       "output_type": "stream",
       "stream": "stdout",
       "text": [
        "\n"
       ]
      }
     ],
     "prompt_number": 7
    },
    {
     "cell_type": "markdown",
     "metadata": {},
     "source": [
      "####Incorporate field measurements of ditch elevation by replacing elevation values obtained from the DEM  \n",
      "* takes an input point shapefile of the measurements (in same coordinate system as model grid), attribute field with elevation must be specified\n",
      "* for each field measurement, the closest SFR cell within a distance of *distance_tol* (in this case 200 m) is established\n",
      "* the streambed top / land surface elevation at this SFR cell is replaced with the field value"
     ]
    },
    {
     "cell_type": "code",
     "collapsed": false,
     "input": [
      "sfr.incorporate_field_elevations(shpfile='shps/MNF_PKJ_ditch_elevs.shp', elevs_field='elev_ft', distance_tol=200)"
     ],
     "language": "python",
     "metadata": {},
     "outputs": [
      {
       "output_type": "stream",
       "stream": "stdout",
       "text": [
        "\n",
        "reading shps/MNF_PKJ_ditch_elevs.shp...\n",
        "\r",
        "1% \r",
        "3% \r",
        "4% \r",
        "6% \r",
        "7% \r",
        "9% \r",
        "10% \r",
        "12% \r",
        "13% \r",
        "15% \r",
        "16% \r",
        "18% \r",
        "19% \r",
        "21% \r",
        "22% \r",
        "24% \r",
        "25% \r",
        "27% \r",
        "28% \r",
        "30% \r",
        "31% \r",
        "33% \r",
        "34% \r",
        "36% \r",
        "37% \r",
        "39% \r",
        "40% \r",
        "42% \r",
        "43% \r",
        "45% \r",
        "46% \r",
        "48% \r",
        "50% \r",
        "51% \r",
        "53% \r",
        "54% \r",
        "56% \r",
        "57% \r",
        "59% \r",
        "60% \r",
        "62% \r",
        "63% \r",
        "65% \r",
        "66% \r",
        "68% \r",
        "69% \r",
        "71% \r",
        "72% \r",
        "74% \r",
        "75% \r",
        "77% \r",
        "78% \r",
        "80% \r",
        "81% \r",
        "83% \r",
        "84% \r",
        "86% \r",
        "87% \r",
        "89% \r",
        "90% \r",
        "92% \r",
        "93% \r",
        "95% \r",
        "96% \r",
        "98% \r",
        "100% \r",
        "100% --> building dataframe... (may take a while for large shapefiles)\n",
        "closest Mat1 ind: 41"
       ]
      },
      {
       "output_type": "stream",
       "stream": "stdout",
       "text": [
        "\n",
        "distance: 126.977510078\n",
        "closest Mat1 ind: 2713\n",
        "distance: 24.6291777946\n",
        "closest Mat1 ind: 42\n",
        "distance: 56.5534143998\n",
        "closest Mat1 ind: 42\n",
        "distance: 40.7593393242\n",
        "closest Mat1 ind: 42\n",
        "distance: 39.6567232388\n",
        "closest Mat1 ind: 3316\n",
        "distance: 56.1653235545\n",
        "closest Mat1 ind: 3316\n",
        "distance: 54.7114544585\n",
        "closest Mat1 ind: 1504\n",
        "distance: 33.497389153\n",
        "closest Mat1 ind: 1504\n",
        "distance: 36.1311604904\n",
        "closest Mat1 ind: 1500\n",
        "distance: 59.3913040176\n",
        "closest Mat1 ind: 1500\n",
        "distance: 59.4964155291\n",
        "closest Mat1 ind: 25\n",
        "distance: 24.9846023066\n",
        "closest Mat1 ind: 2685\n",
        "distance: 167.667655112\n",
        "closest Mat1 ind: 2240\n",
        "distance: 9.45213976144\n",
        "closest Mat1 ind: 2239\n",
        "distance: 94.11354501\n",
        "closest Mat1 ind: 2225\n",
        "distance: 34.6587272922\n",
        "closest Mat1 ind: 2220\n",
        "distance: 55.1738030427\n",
        "closest Mat1 ind: 2220\n",
        "distance: 56.0118623345\n",
        "closest Mat1 ind: 19\n",
        "distance: 51.3552997557\n",
        "closest Mat1 ind: 32\n",
        "distance: 30.6607121203\n",
        "closest Mat1 ind: 32\n",
        "distance: 32.2623011815\n",
        "closest Mat1 ind: 18\n",
        "distance: 36.5239195806\n",
        "closest Mat1 ind: 18\n",
        "distance: 34.9611626567\n",
        "closest Mat1 ind: 2685\n",
        "distance: 67.5434544925\n",
        "closest Mat1 ind: 52\n",
        "distance: 24.7617442694\n",
        "closest Mat1 ind: 52\n",
        "distance: 26.0206363946\n",
        "closest Mat1 ind: 52\n",
        "distance: 47.9959391546\n",
        "closest Mat1 ind: 52\n",
        "distance: 47.392675125\n",
        "closest Mat1 ind: 2712\n",
        "distance: 51.3872816015\n",
        "closest Mat1 ind: 2712\n",
        "distance: 51.2333699905\n",
        "closest Mat1 ind: 2749\n",
        "distance: 62.8845924558\n",
        "closest Mat1 ind: 2750\n",
        "distance: 57.445407826\n",
        "closest Mat1 ind: 2832\n",
        "distance: 47.5481280162\n",
        "closest Mat1 ind: 2694\n",
        "distance: 35.933038048\n",
        "closest Mat1 ind: 2786\n",
        "distance: 23.866912706\n",
        "closest Mat1 ind: 2694\n",
        "distance: 34.9839282322\n",
        "closest Mat1 ind: 2678\n",
        "distance: 53.1551559142\n",
        "closest Mat1 ind: 2678\n",
        "distance: 52.9334239345\n",
        "closest Mat1 ind: 3323\n",
        "distance: 28.4342535589\n",
        "closest Mat1 ind: 3323\n",
        "distance: 28.0181272302\n",
        "closest Mat1 ind: 51\n",
        "distance: 25.4965614587\n",
        "closest Mat1 ind: 51\n",
        "distance: 24.225016348\n",
        "closest Mat1 ind: 3167\n",
        "distance: 33.0702302355\n",
        "closest Mat1 ind: 1882\n",
        "distance: 44.1771798431\n",
        "closest Mat1 ind: 1882\n",
        "distance: 43.4882491773\n",
        "closest Mat1 ind: 42\n",
        "distance: 63.7845813813\n",
        "closest Mat1 ind: 2718\n",
        "distance: 27.0752405937\n",
        "closest Mat1 ind: 2718\n",
        "distance: 29.7438424568\n",
        "closest Mat1 ind: 2766\n",
        "distance: 108.359060108\n",
        "closest Mat1 ind: 2766\n",
        "distance: 98.9826958983\n",
        "closest Mat1 ind: 2785\n",
        "distance: 65.3898243119\n",
        "closest Mat1 ind: 2785\n",
        "distance: 65.3068980148\n",
        "closest Mat1 ind: 2750\n",
        "distance: 51.1783884284\n",
        "closest Mat1 ind: 3323\n",
        "distance: 26.7411761663\n",
        "closest Mat1 ind: 1500\n",
        "distance: 59.4239984158\n",
        "closest Mat1 ind: 1508\n",
        "distance: 108.515799795\n",
        "closest Mat1 ind: 52"
       ]
      },
      {
       "output_type": "stream",
       "stream": "stdout",
       "text": [
        "\n",
        "distance: 28.4789340692\n",
        "closest Mat1 ind: 1864\n",
        "distance: 273.012652387\n",
        "closest Mat1 ind: 19\n",
        "distance: 402.345228524\n",
        "closest Mat1 ind: 2243\n",
        "distance: 17.0100465799\n",
        "closest Mat1 ind: 2231\n",
        "distance: 47.7888151975\n",
        "closest Mat1 ind: 2225\n",
        "distance: 21.471604587\n",
        "closest Mat1 ind: 2218\n",
        "distance: 130.99526021\n",
        "closest Mat1 ind: 40\n",
        "distance: 50.5711302002\n",
        "closest Mat1 ind: 40\n",
        "distance: 49.7891085596\n",
        "closest Mat1 ind: 42\n",
        "distance: 56.4168636055\n"
       ]
      }
     ],
     "prompt_number": 8
    },
    {
     "cell_type": "markdown",
     "metadata": {},
     "source": [
      "####The map_confluences method compiles a dataframe of all SFR confluences, with node, streambed elevations, and segments \n",
      "* Minimum and Maximum elevations for each segment are also written to Mat2. These are used as endpoints for the **smooth_interior_elevations()** method  \n",
      "* Elevation values in Mat2 are set to be consistent with the *lowest* value at each confluence"
     ]
    },
    {
     "cell_type": "code",
     "collapsed": false,
     "input": [
      "sfr.map_confluences()"
     ],
     "language": "python",
     "metadata": {},
     "outputs": [],
     "prompt_number": 9
    },
    {
     "cell_type": "code",
     "collapsed": false,
     "input": [
      "sfr.confluences"
     ],
     "language": "python",
     "metadata": {},
     "outputs": [
      {
       "html": [
        "<div style=\"max-height:1000px;max-width:1500px;overflow:auto;\">\n",
        "<table border=\"1\" class=\"dataframe\">\n",
        "  <thead>\n",
        "    <tr style=\"text-align: right;\">\n",
        "      <th></th>\n",
        "      <th>segment</th>\n",
        "      <th>upsegs</th>\n",
        "      <th>node</th>\n",
        "      <th>elev</th>\n",
        "    </tr>\n",
        "    <tr>\n",
        "      <th>segment</th>\n",
        "      <th></th>\n",
        "      <th></th>\n",
        "      <th></th>\n",
        "      <th></th>\n",
        "    </tr>\n",
        "  </thead>\n",
        "  <tbody>\n",
        "    <tr>\n",
        "      <th>8 </th>\n",
        "      <td>  8</td>\n",
        "      <td>     [7, 11]</td>\n",
        "      <td> 926933</td>\n",
        "      <td> 1063.00</td>\n",
        "    </tr>\n",
        "    <tr>\n",
        "      <th>9 </th>\n",
        "      <td>  9</td>\n",
        "      <td>     [6, 15]</td>\n",
        "      <td> 900265</td>\n",
        "      <td> 1063.77</td>\n",
        "    </tr>\n",
        "    <tr>\n",
        "      <th>10</th>\n",
        "      <td> 10</td>\n",
        "      <td>         [9]</td>\n",
        "      <td> 902397</td>\n",
        "      <td> 1063.70</td>\n",
        "    </tr>\n",
        "    <tr>\n",
        "      <th>11</th>\n",
        "      <td> 11</td>\n",
        "      <td>    [10, 17]</td>\n",
        "      <td> 926985</td>\n",
        "      <td> 1063.00</td>\n",
        "    </tr>\n",
        "    <tr>\n",
        "      <th>13</th>\n",
        "      <td> 13</td>\n",
        "      <td>     [8, 16]</td>\n",
        "      <td> 934217</td>\n",
        "      <td> 1060.00</td>\n",
        "    </tr>\n",
        "    <tr>\n",
        "      <th>20</th>\n",
        "      <td> 20</td>\n",
        "      <td>        [36]</td>\n",
        "      <td> 891221</td>\n",
        "      <td>  973.94</td>\n",
        "    </tr>\n",
        "    <tr>\n",
        "      <th>21</th>\n",
        "      <td> 21</td>\n",
        "      <td>     [1, 40]</td>\n",
        "      <td> 607132</td>\n",
        "      <td> 1089.27</td>\n",
        "    </tr>\n",
        "    <tr>\n",
        "      <th>22</th>\n",
        "      <td> 22</td>\n",
        "      <td>     [2, 30]</td>\n",
        "      <td> 600723</td>\n",
        "      <td> 1092.86</td>\n",
        "    </tr>\n",
        "    <tr>\n",
        "      <th>23</th>\n",
        "      <td> 23</td>\n",
        "      <td>    [18, 38]</td>\n",
        "      <td> 743333</td>\n",
        "      <td> 1086.85</td>\n",
        "    </tr>\n",
        "    <tr>\n",
        "      <th>24</th>\n",
        "      <td> 24</td>\n",
        "      <td>        [23]</td>\n",
        "      <td> 757449</td>\n",
        "      <td> 1028.64</td>\n",
        "    </tr>\n",
        "    <tr>\n",
        "      <th>26</th>\n",
        "      <td> 26</td>\n",
        "      <td>    [25, 37]</td>\n",
        "      <td> 617836</td>\n",
        "      <td> 1089.35</td>\n",
        "    </tr>\n",
        "    <tr>\n",
        "      <th>34</th>\n",
        "      <td> 34</td>\n",
        "      <td>     [5, 41]</td>\n",
        "      <td> 614606</td>\n",
        "      <td> 1088.55</td>\n",
        "    </tr>\n",
        "    <tr>\n",
        "      <th>36</th>\n",
        "      <td> 36</td>\n",
        "      <td>    [35, 39]</td>\n",
        "      <td> 913595</td>\n",
        "      <td> 1025.98</td>\n",
        "    </tr>\n",
        "    <tr>\n",
        "      <th>39</th>\n",
        "      <td> 39</td>\n",
        "      <td>    [27, 32]</td>\n",
        "      <td> 901798</td>\n",
        "      <td> 1025.98</td>\n",
        "    </tr>\n",
        "    <tr>\n",
        "      <th>40</th>\n",
        "      <td> 40</td>\n",
        "      <td>     [3, 22]</td>\n",
        "      <td> 599642</td>\n",
        "      <td> 1090.07</td>\n",
        "    </tr>\n",
        "    <tr>\n",
        "      <th>41</th>\n",
        "      <td> 41</td>\n",
        "      <td> [4, 21, 26]</td>\n",
        "      <td> 617832</td>\n",
        "      <td> 1088.55</td>\n",
        "    </tr>\n",
        "  </tbody>\n",
        "</table>\n",
        "</div>"
       ],
       "metadata": {},
       "output_type": "pyout",
       "prompt_number": 13,
       "text": [
        "         segment       upsegs    node     elev\n",
        "segment                                       \n",
        "8              8      [7, 11]  926933  1063.00\n",
        "9              9      [6, 15]  900265  1063.77\n",
        "10            10          [9]  902397  1063.70\n",
        "11            11     [10, 17]  926985  1063.00\n",
        "13            13      [8, 16]  934217  1060.00\n",
        "20            20         [36]  891221   973.94\n",
        "21            21      [1, 40]  607132  1089.27\n",
        "22            22      [2, 30]  600723  1092.86\n",
        "23            23     [18, 38]  743333  1086.85\n",
        "24            24         [23]  757449  1028.64\n",
        "26            26     [25, 37]  617836  1089.35\n",
        "34            34      [5, 41]  614606  1088.55\n",
        "36            36     [35, 39]  913595  1025.98\n",
        "39            39     [27, 32]  901798  1025.98\n",
        "40            40      [3, 22]  599642  1090.07\n",
        "41            41  [4, 21, 26]  617832  1088.55"
       ]
      }
     ],
     "prompt_number": 13
    },
    {
     "cell_type": "markdown",
     "metadata": {},
     "source": [
      "####Manual adjustments to segment end elevations in Mat2 can then be made (e.g. to honor qualitative field knowledge about the stream network)\n",
      "* in this case, some of the starting elevations for segments representing irrigation ditches were lowered so that the streambed elevations were a reasonable distance below landsurface (as represented in the DEM, which is too coarse in resolution to represent the ditch bottom elevations)"
     ]
    },
    {
     "cell_type": "code",
     "collapsed": false,
     "input": [
      "sfr.m2.loc[1, 'Max'] = 1090.1\n",
      "sfr.m2.loc[2, 'Max'] = 1093\n",
      "sfr.m2.loc[3, 'Max'] = 1092\n",
      "sfr.m2.loc[4, 'Max'] = 1089\n",
      "sfr.m2.loc[5, 'Max'] = 1089"
     ],
     "language": "python",
     "metadata": {},
     "outputs": [],
     "prompt_number": 11
    },
    {
     "cell_type": "code",
     "collapsed": false,
     "input": [
      "sfr.m2[['Min', 'Max']]"
     ],
     "language": "python",
     "metadata": {},
     "outputs": [
      {
       "html": [
        "<div style=\"max-height:1000px;max-width:1500px;overflow:auto;\">\n",
        "<table border=\"1\" class=\"dataframe\">\n",
        "  <thead>\n",
        "    <tr style=\"text-align: right;\">\n",
        "      <th></th>\n",
        "      <th>Min</th>\n",
        "      <th>Max</th>\n",
        "    </tr>\n",
        "    <tr>\n",
        "      <th>segment</th>\n",
        "      <th></th>\n",
        "      <th></th>\n",
        "    </tr>\n",
        "  </thead>\n",
        "  <tbody>\n",
        "    <tr>\n",
        "      <th>1 </th>\n",
        "      <td> 1089.27</td>\n",
        "      <td> 1090.10</td>\n",
        "    </tr>\n",
        "    <tr>\n",
        "      <th>2 </th>\n",
        "      <td> 1092.86</td>\n",
        "      <td> 1093.00</td>\n",
        "    </tr>\n",
        "    <tr>\n",
        "      <th>3 </th>\n",
        "      <td> 1090.07</td>\n",
        "      <td> 1092.00</td>\n",
        "    </tr>\n",
        "    <tr>\n",
        "      <th>4 </th>\n",
        "      <td> 1088.55</td>\n",
        "      <td> 1089.00</td>\n",
        "    </tr>\n",
        "    <tr>\n",
        "      <th>5 </th>\n",
        "      <td> 1088.55</td>\n",
        "      <td> 1089.00</td>\n",
        "    </tr>\n",
        "    <tr>\n",
        "      <th>6 </th>\n",
        "      <td> 1063.77</td>\n",
        "      <td> 1088.45</td>\n",
        "    </tr>\n",
        "    <tr>\n",
        "      <th>7 </th>\n",
        "      <td> 1063.00</td>\n",
        "      <td> 1070.23</td>\n",
        "    </tr>\n",
        "    <tr>\n",
        "      <th>8 </th>\n",
        "      <td> 1060.00</td>\n",
        "      <td> 1063.00</td>\n",
        "    </tr>\n",
        "    <tr>\n",
        "      <th>9 </th>\n",
        "      <td> 1063.70</td>\n",
        "      <td> 1063.77</td>\n",
        "    </tr>\n",
        "    <tr>\n",
        "      <th>10</th>\n",
        "      <td> 1063.00</td>\n",
        "      <td> 1063.70</td>\n",
        "    </tr>\n",
        "    <tr>\n",
        "      <th>11</th>\n",
        "      <td> 1063.00</td>\n",
        "      <td> 1063.00</td>\n",
        "    </tr>\n",
        "    <tr>\n",
        "      <th>12</th>\n",
        "      <td> 1051.46</td>\n",
        "      <td> 1055.28</td>\n",
        "    </tr>\n",
        "    <tr>\n",
        "      <th>13</th>\n",
        "      <td> 1044.79</td>\n",
        "      <td> 1060.00</td>\n",
        "    </tr>\n",
        "    <tr>\n",
        "      <th>14</th>\n",
        "      <td> 1044.40</td>\n",
        "      <td> 1044.40</td>\n",
        "    </tr>\n",
        "    <tr>\n",
        "      <th>15</th>\n",
        "      <td> 1063.77</td>\n",
        "      <td> 1079.93</td>\n",
        "    </tr>\n",
        "    <tr>\n",
        "      <th>16</th>\n",
        "      <td> 1060.00</td>\n",
        "      <td> 1070.06</td>\n",
        "    </tr>\n",
        "    <tr>\n",
        "      <th>17</th>\n",
        "      <td> 1063.00</td>\n",
        "      <td> 1066.00</td>\n",
        "    </tr>\n",
        "    <tr>\n",
        "      <th>18</th>\n",
        "      <td> 1086.85</td>\n",
        "      <td> 1095.98</td>\n",
        "    </tr>\n",
        "    <tr>\n",
        "      <th>19</th>\n",
        "      <td> 1053.97</td>\n",
        "      <td> 1106.77</td>\n",
        "    </tr>\n",
        "    <tr>\n",
        "      <th>20</th>\n",
        "      <td>  964.76</td>\n",
        "      <td>  973.94</td>\n",
        "    </tr>\n",
        "    <tr>\n",
        "      <th>21</th>\n",
        "      <td> 1088.55</td>\n",
        "      <td> 1089.27</td>\n",
        "    </tr>\n",
        "    <tr>\n",
        "      <th>22</th>\n",
        "      <td> 1090.07</td>\n",
        "      <td> 1092.86</td>\n",
        "    </tr>\n",
        "    <tr>\n",
        "      <th>23</th>\n",
        "      <td> 1028.64</td>\n",
        "      <td> 1086.85</td>\n",
        "    </tr>\n",
        "    <tr>\n",
        "      <th>24</th>\n",
        "      <td> 1028.64</td>\n",
        "      <td> 1028.64</td>\n",
        "    </tr>\n",
        "    <tr>\n",
        "      <th>25</th>\n",
        "      <td> 1089.35</td>\n",
        "      <td> 1090.42</td>\n",
        "    </tr>\n",
        "    <tr>\n",
        "      <th>26</th>\n",
        "      <td> 1088.55</td>\n",
        "      <td> 1089.35</td>\n",
        "    </tr>\n",
        "    <tr>\n",
        "      <th>27</th>\n",
        "      <td> 1025.98</td>\n",
        "      <td> 1083.38</td>\n",
        "    </tr>\n",
        "    <tr>\n",
        "      <th>28</th>\n",
        "      <td> 1040.78</td>\n",
        "      <td> 1090.35</td>\n",
        "    </tr>\n",
        "    <tr>\n",
        "      <th>29</th>\n",
        "      <td> 1129.87</td>\n",
        "      <td> 1143.30</td>\n",
        "    </tr>\n",
        "    <tr>\n",
        "      <th>30</th>\n",
        "      <td> 1092.86</td>\n",
        "      <td> 1104.41</td>\n",
        "    </tr>\n",
        "    <tr>\n",
        "      <th>31</th>\n",
        "      <td> 1073.90</td>\n",
        "      <td> 1129.87</td>\n",
        "    </tr>\n",
        "    <tr>\n",
        "      <th>32</th>\n",
        "      <td> 1025.98</td>\n",
        "      <td> 1115.50</td>\n",
        "    </tr>\n",
        "    <tr>\n",
        "      <th>33</th>\n",
        "      <td> 1033.24</td>\n",
        "      <td> 1085.50</td>\n",
        "    </tr>\n",
        "    <tr>\n",
        "      <th>34</th>\n",
        "      <td> 1039.71</td>\n",
        "      <td> 1088.55</td>\n",
        "    </tr>\n",
        "    <tr>\n",
        "      <th>35</th>\n",
        "      <td> 1025.98</td>\n",
        "      <td> 1056.48</td>\n",
        "    </tr>\n",
        "    <tr>\n",
        "      <th>36</th>\n",
        "      <td>  973.94</td>\n",
        "      <td> 1025.98</td>\n",
        "    </tr>\n",
        "    <tr>\n",
        "      <th>37</th>\n",
        "      <td> 1089.35</td>\n",
        "      <td> 1092.36</td>\n",
        "    </tr>\n",
        "    <tr>\n",
        "      <th>38</th>\n",
        "      <td> 1086.85</td>\n",
        "      <td> 1147.08</td>\n",
        "    </tr>\n",
        "    <tr>\n",
        "      <th>39</th>\n",
        "      <td> 1025.98</td>\n",
        "      <td> 1025.98</td>\n",
        "    </tr>\n",
        "    <tr>\n",
        "      <th>40</th>\n",
        "      <td> 1089.27</td>\n",
        "      <td> 1090.07</td>\n",
        "    </tr>\n",
        "    <tr>\n",
        "      <th>41</th>\n",
        "      <td> 1088.55</td>\n",
        "      <td> 1088.55</td>\n",
        "    </tr>\n",
        "  </tbody>\n",
        "</table>\n",
        "</div>"
       ],
       "metadata": {},
       "output_type": "pyout",
       "prompt_number": 14,
       "text": [
        "             Min      Max\n",
        "segment                  \n",
        "1        1089.27  1090.10\n",
        "2        1092.86  1093.00\n",
        "3        1090.07  1092.00\n",
        "4        1088.55  1089.00\n",
        "5        1088.55  1089.00\n",
        "6        1063.77  1088.45\n",
        "7        1063.00  1070.23\n",
        "8        1060.00  1063.00\n",
        "9        1063.70  1063.77\n",
        "10       1063.00  1063.70\n",
        "11       1063.00  1063.00\n",
        "12       1051.46  1055.28\n",
        "13       1044.79  1060.00\n",
        "14       1044.40  1044.40\n",
        "15       1063.77  1079.93\n",
        "16       1060.00  1070.06\n",
        "17       1063.00  1066.00\n",
        "18       1086.85  1095.98\n",
        "19       1053.97  1106.77\n",
        "20        964.76   973.94\n",
        "21       1088.55  1089.27\n",
        "22       1090.07  1092.86\n",
        "23       1028.64  1086.85\n",
        "24       1028.64  1028.64\n",
        "25       1089.35  1090.42\n",
        "26       1088.55  1089.35\n",
        "27       1025.98  1083.38\n",
        "28       1040.78  1090.35\n",
        "29       1129.87  1143.30\n",
        "30       1092.86  1104.41\n",
        "31       1073.90  1129.87\n",
        "32       1025.98  1115.50\n",
        "33       1033.24  1085.50\n",
        "34       1039.71  1088.55\n",
        "35       1025.98  1056.48\n",
        "36        973.94  1025.98\n",
        "37       1089.35  1092.36\n",
        "38       1086.85  1147.08\n",
        "39       1025.98  1025.98\n",
        "40       1089.27  1090.07\n",
        "41       1088.55  1088.55"
       ]
      }
     ],
     "prompt_number": 14
    },
    {
     "cell_type": "markdown",
     "metadata": {},
     "source": [
      "####Smooth reach elevations in segment interiors\n",
      "* using the updated end elevations in Mat2  \n",
      "* elevations from the *landsurface* file submitted above are used as a starting point  \n",
      "* streambed elevations are smoothed in the downstream direction, so that they descrease monotonically downstream"
     ]
    },
    {
     "cell_type": "code",
     "collapsed": false,
     "input": [
      "sfr.smooth_interior_elevations()"
     ],
     "language": "python",
     "metadata": {},
     "outputs": [
      {
       "output_type": "stream",
       "stream": "stdout",
       "text": [
        "\n",
        "Smoothing segment interiors...\n",
        "\n",
        "calculating slopes..."
       ]
      },
      {
       "output_type": "stream",
       "stream": "stdout",
       "text": [
        "\n",
        "Done, updated Mat1 saved to SFRoutput/Mat1_elevs.csv.\n",
        "see smooth_segment_interiors.txt for report."
       ]
      },
      {
       "output_type": "stream",
       "stream": "stdout",
       "text": [
        "\n"
       ]
      }
     ],
     "prompt_number": 12
    },
    {
     "cell_type": "markdown",
     "metadata": {},
     "source": [
      "####The outsegs table allows complete stream profiles to be produced from headwaters to outlet  \n",
      "* generates a list of unique stream profiles extending from each headwater to the outlets (e.g., profiles that are subsets of another profile are not plotted)  \n",
      "* the lists of segment sequences are generated using the **map_outsegs** method, which will not work with circular routing (instances where a segment is an upseg of its outlet), instead it will cease with an error message indicating the segment with the circular routing. In this case, the outseg information in Mat2 can be edited, and then Mat2 can be read back in; either by initializing a new SFR object as above, or directly via the pandas **read_csv()** method\n",
      "* the plotting may be prohibitively slow for large models with many headwater streams (very large PDFs may be generated); the approach probably needs some modifications to facilitate visualizing large stream networks  \n",
      "* profiles are plotted to complete_profiles.pdf"
     ]
    },
    {
     "cell_type": "code",
     "collapsed": false,
     "input": [
      "sfr.plot_stream_profiles(add_profiles={'Minimum DEM elevation': 'landsurface'})"
     ],
     "language": "python",
     "metadata": {},
     "outputs": [
      {
       "output_type": "stream",
       "stream": "stdout",
       "text": [
        "plotting segment sequences...\n",
        "[1, 21, 41, 34]\n",
        "[2, 22, 40, 21, 41, 34]"
       ]
      },
      {
       "output_type": "stream",
       "stream": "stdout",
       "text": [
        "\n",
        "[3, 40, 21, 41, 34]"
       ]
      },
      {
       "output_type": "stream",
       "stream": "stdout",
       "text": [
        "\n",
        "[4, 41, 34]"
       ]
      },
      {
       "output_type": "stream",
       "stream": "stdout",
       "text": [
        "\n",
        "[5, 34]"
       ]
      },
      {
       "output_type": "stream",
       "stream": "stdout",
       "text": [
        "\n",
        "[6, 9, 10, 11, 8, 13]"
       ]
      },
      {
       "output_type": "stream",
       "stream": "stdout",
       "text": [
        "\n",
        "[7, 8, 13]"
       ]
      },
      {
       "output_type": "stream",
       "stream": "stdout",
       "text": [
        "\n",
        "[12]"
       ]
      },
      {
       "output_type": "stream",
       "stream": "stdout",
       "text": [
        "\n",
        "[14]\n",
        "[15, 9, 10, 11, 8, 13]\n",
        "[16, 13]"
       ]
      },
      {
       "output_type": "stream",
       "stream": "stdout",
       "text": [
        "\n",
        "[17, 11, 8, 13]"
       ]
      },
      {
       "output_type": "stream",
       "stream": "stdout",
       "text": [
        "\n",
        "[18, 23, 24]"
       ]
      },
      {
       "output_type": "stream",
       "stream": "stdout",
       "text": [
        "\n",
        "[19]"
       ]
      },
      {
       "output_type": "stream",
       "stream": "stdout",
       "text": [
        "\n",
        "[25, 26, 41, 34]\n",
        "[27, 39, 36, 20]"
       ]
      },
      {
       "output_type": "stream",
       "stream": "stdout",
       "text": [
        "\n",
        "[28]"
       ]
      },
      {
       "output_type": "stream",
       "stream": "stdout",
       "text": [
        "\n",
        "[29]\n",
        "[30, 22, 40, 21, 41, 34]\n",
        "[31]"
       ]
      },
      {
       "output_type": "stream",
       "stream": "stdout",
       "text": [
        "\n",
        "[32, 39, 36, 20]\n",
        "[33]"
       ]
      },
      {
       "output_type": "stream",
       "stream": "stdout",
       "text": [
        "\n",
        "[35, 36, 20]\n",
        "[37, 26, 41, 34]"
       ]
      },
      {
       "output_type": "stream",
       "stream": "stdout",
       "text": [
        "\n",
        "[38, 23, 24]"
       ]
      },
      {
       "output_type": "stream",
       "stream": "stdout",
       "text": [
        "\n"
       ]
      }
     ],
     "prompt_number": 16
    },
    {
     "cell_type": "markdown",
     "metadata": {},
     "source": [
      "####Use the outseg information to check the routing  \n",
      "* the **plot_routing** method also uses the **map_outsegs** method; if plots of the streambed elevation profiles are not required, then this method can be run instead of **plot_stream_profiles**.  \n",
      "* in addition to being a check for circular routing, this method also assigns an outlet to each stream segment; this information is retained in Mat1, so that when a shapefile is written, the SFR cells can be displayed by outlet. This allows for easy detection of breaks in the routing.  \n",
      "* for quick and dirty inspection of routing (especially with small networks), a matrix of model cells colored by outlet (non-SFR cells are left as white) is put out to **`<basename>`_routing.pdf**"
     ]
    },
    {
     "cell_type": "code",
     "collapsed": false,
     "input": [
      "sfr.plot_routing(outpdf='LPR_routing.pdf')"
     ],
     "language": "python",
     "metadata": {},
     "outputs": [
      {
       "output_type": "stream",
       "stream": "stdout",
       "text": [
        "Done, Mat1 updated with outlet information; saved to SFRoutput/Mat1.csv.\n"
       ]
      },
      {
       "metadata": {},
       "output_type": "display_data",
       "png": "[encoded data removed]",
       "text": [
        "<matplotlib.figure.Figure at 0x1138a3c8>"
       ]
      }
     ],
     "prompt_number": 17
    },
    {
     "cell_type": "markdown",
     "metadata": {},
     "source": [
      "####Estimate stream widths \n",
      "If the segments in the initial Mat1 and Mat2 files were generated without using NHD, stream width can be estimated by computing arbolate sum within the SFR network  \n",
      "* starting arbolate sum values can be supplied in Mat2, in the column 'in_arbolate' (in km, which the unit used in NHD). This is analogous to supplying starting inflows in Mat2, for streams that originate outside of the model domain.\n"
     ]
    },
    {
     "cell_type": "code",
     "collapsed": false,
     "input": [
      "sfr.estimate_stream_widths(Mat2_out='SFRoutput/Mat2_arbolate.csv')"
     ],
     "language": "python",
     "metadata": {},
     "outputs": [
      {
       "output_type": "stream",
       "stream": "stdout",
       "text": [
        "estimating stream widths...\n",
        "Done, updated Mat1 saved to SFRoutput/Mat1.csv."
       ]
      },
      {
       "output_type": "stream",
       "stream": "stdout",
       "text": [
        "\n"
       ]
      }
     ],
     "prompt_number": 18
    },
    {
     "cell_type": "markdown",
     "metadata": {},
     "source": [
      "####Consolidate SFR conductances for model cells with multiple SFR reaches\n",
      "Multiple SFR reaches in a single MODFLOW cell result at confluences, where the starts and ends of individual linestrings in the GIS linework come together. These can lead to circular routing of water between the different reaches. This method assigns all SFR conductance to the widest SFR reach in each cell, by:  \n",
      "* totalling conductance for the collocated reaches  \n",
      "* assigning all of this conductance to widest reach (representing the largest arbolate sum) via the hydraulic conductivity parameter,  \n",
      "* setting conductance in other reaches close to 0 via. streambed K (and also setting the lengths of these reaches to 1)"
     ]
    },
    {
     "cell_type": "code",
     "collapsed": false,
     "input": [
      "sfr.consolidate_conductance()"
     ],
     "language": "python",
     "metadata": {},
     "outputs": [],
     "prompt_number": 19
    },
    {
     "cell_type": "markdown",
     "metadata": {},
     "source": [
      "###Reset the model top elevations so that they coincide with the SFR streambed top at the locations of SFR cells  \n",
      "This method basically puts all SFR reaches in Layer 1; an alternative is to run the **assign_layers** method within SFR classes; however this currently has not been integrated into the post-processing module\n",
      "**reset_model_top2streambed():**\n",
      "* updates the dis file for the sfr object  \n",
      "* enforces that streambed thickness be less than minimum thickness for layer 1 (to avoid MODFLOW altitude errors)\n"
     ]
    },
    {
     "cell_type": "code",
     "collapsed": false,
     "input": [
      "sfr.reset_model_top_2streambed(outdisfile='GWV/LPR_PP2_1_12_15_adjusted_to_streambed.dis')\n",
      "sfr.mfdis = 'GWV/LPR_PP2_1_12_15_adjusted_to_streambed.dis'"
     ],
     "language": "python",
     "metadata": {},
     "outputs": [],
     "prompt_number": 22
    },
    {
     "cell_type": "markdown",
     "metadata": {},
     "source": [
      "####Check to make sure minimum slope was honored\n",
      "(this will eventually be included as part of the diagnostics class)"
     ]
    },
    {
     "cell_type": "code",
     "collapsed": false,
     "input": [
      "sfr.m1.bed_slope.min()"
     ],
     "language": "python",
     "metadata": {},
     "outputs": [
      {
       "metadata": {},
       "output_type": "pyout",
       "prompt_number": 23,
       "text": [
        "0.0001"
       ]
      }
     ],
     "prompt_number": 23
    },
    {
     "cell_type": "markdown",
     "metadata": {},
     "source": [
      "###See the *RenumberSegments* example for writing output"
     ]
    }
   ],
   "metadata": {}
  }
 ]
}